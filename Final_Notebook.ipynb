{
 "cells": [
  {
   "cell_type": "markdown",
   "id": "d33d8ed3-782b-42d5-9101-280de15c6293",
   "metadata": {},
   "source": [
    "# Phase 3 Project Tanzanian Water Wells"
   ]
  },
  {
   "cell_type": "markdown",
   "id": "99191248-05d2-4033-ae47-5d3218d63e35",
   "metadata": {},
   "source": [
    "## Binary Logistic regression Model"
   ]
  },
  {
   "cell_type": "code",
   "execution_count": 127,
   "id": "332ff4d4-3c08-4c8a-84b2-f7897f5543eb",
   "metadata": {},
   "outputs": [],
   "source": [
    "import pandas as pd\n",
    "from sklearn.model_selection import train_test_split, GridSearchCV, cross_validate\n",
    "from sklearn.preprocessing import OneHotEncoder, StandardScaler, PolynomialFeatures\n",
    "from sklearn.impute import SimpleImputer\n",
    "from sklearn.compose import ColumnTransformer\n",
    "from sklearn.linear_model import LogisticRegression, Ridge\n",
    "from sklearn.pipeline import Pipeline\n",
    "from sklearn.metrics import log_loss, ConfusionMatrixDisplay, confusion_matrix\n",
    "from sklearn.metrics import accuracy_score, balanced_accuracy_score, classification_report, roc_curve\n",
    "import seaborn as sns\n",
    "from sklearn.dummy import DummyRegressor\n",
    "from sklearn.impute import SimpleImputer\n",
    "from imblearn.over_sampling import SMOTENC\n",
    "import matplotlib.pyplot as plt\n",
    "from sklearn.base import BaseEstimator, TransformerMixin"
   ]
  },
  {
   "cell_type": "code",
   "execution_count": 98,
   "id": "d9130f63-1a54-4356-812f-7f93fe33a061",
   "metadata": {},
   "outputs": [],
   "source": [
    "tz_data = pd.read_csv('tz_data.csv')"
   ]
  },
  {
   "cell_type": "code",
   "execution_count": 99,
   "id": "ba3a5b53-1a10-4e0f-a8d1-dd018d710064",
   "metadata": {
    "scrolled": true
   },
   "outputs": [
    {
     "data": {
      "text/html": [
       "<div>\n",
       "<style scoped>\n",
       "    .dataframe tbody tr th:only-of-type {\n",
       "        vertical-align: middle;\n",
       "    }\n",
       "\n",
       "    .dataframe tbody tr th {\n",
       "        vertical-align: top;\n",
       "    }\n",
       "\n",
       "    .dataframe thead th {\n",
       "        text-align: right;\n",
       "    }\n",
       "</style>\n",
       "<table border=\"1\" class=\"dataframe\">\n",
       "  <thead>\n",
       "    <tr style=\"text-align: right;\">\n",
       "      <th></th>\n",
       "      <th>id</th>\n",
       "      <th>amount_tsh</th>\n",
       "      <th>funder</th>\n",
       "      <th>gps_height</th>\n",
       "      <th>installer</th>\n",
       "      <th>longitude</th>\n",
       "      <th>latitude</th>\n",
       "      <th>basin</th>\n",
       "      <th>population</th>\n",
       "      <th>public_meeting</th>\n",
       "      <th>scheme_management</th>\n",
       "      <th>permit</th>\n",
       "      <th>construction_year</th>\n",
       "      <th>extraction_type_class</th>\n",
       "      <th>payment_type</th>\n",
       "      <th>quality_group</th>\n",
       "      <th>quantity_group</th>\n",
       "      <th>source</th>\n",
       "      <th>waterpoint_type_group</th>\n",
       "      <th>status_group</th>\n",
       "    </tr>\n",
       "  </thead>\n",
       "  <tbody>\n",
       "    <tr>\n",
       "      <th>0</th>\n",
       "      <td>69572</td>\n",
       "      <td>6000.0</td>\n",
       "      <td>other</td>\n",
       "      <td>1390</td>\n",
       "      <td>other</td>\n",
       "      <td>34.938093</td>\n",
       "      <td>-9.856322</td>\n",
       "      <td>Lake Nyasa</td>\n",
       "      <td>109</td>\n",
       "      <td>True</td>\n",
       "      <td>VWC</td>\n",
       "      <td>False</td>\n",
       "      <td>1999</td>\n",
       "      <td>gravity</td>\n",
       "      <td>annually</td>\n",
       "      <td>good</td>\n",
       "      <td>enough</td>\n",
       "      <td>spring</td>\n",
       "      <td>communal standpipe</td>\n",
       "      <td>2</td>\n",
       "    </tr>\n",
       "    <tr>\n",
       "      <th>1</th>\n",
       "      <td>8776</td>\n",
       "      <td>0.0</td>\n",
       "      <td>other</td>\n",
       "      <td>1399</td>\n",
       "      <td>other</td>\n",
       "      <td>34.698766</td>\n",
       "      <td>-2.147466</td>\n",
       "      <td>Lake Victoria</td>\n",
       "      <td>280</td>\n",
       "      <td>True</td>\n",
       "      <td>Other</td>\n",
       "      <td>True</td>\n",
       "      <td>2010</td>\n",
       "      <td>gravity</td>\n",
       "      <td>never pay</td>\n",
       "      <td>good</td>\n",
       "      <td>insufficient</td>\n",
       "      <td>rainwater harvesting</td>\n",
       "      <td>communal standpipe</td>\n",
       "      <td>2</td>\n",
       "    </tr>\n",
       "    <tr>\n",
       "      <th>2</th>\n",
       "      <td>34310</td>\n",
       "      <td>25.0</td>\n",
       "      <td>other</td>\n",
       "      <td>686</td>\n",
       "      <td>other</td>\n",
       "      <td>37.460664</td>\n",
       "      <td>-3.821329</td>\n",
       "      <td>Pangani</td>\n",
       "      <td>250</td>\n",
       "      <td>True</td>\n",
       "      <td>VWC</td>\n",
       "      <td>True</td>\n",
       "      <td>2009</td>\n",
       "      <td>gravity</td>\n",
       "      <td>per bucket</td>\n",
       "      <td>good</td>\n",
       "      <td>enough</td>\n",
       "      <td>dam</td>\n",
       "      <td>communal standpipe</td>\n",
       "      <td>2</td>\n",
       "    </tr>\n",
       "    <tr>\n",
       "      <th>3</th>\n",
       "      <td>67743</td>\n",
       "      <td>0.0</td>\n",
       "      <td>other</td>\n",
       "      <td>263</td>\n",
       "      <td>other</td>\n",
       "      <td>38.486161</td>\n",
       "      <td>-11.155298</td>\n",
       "      <td>Ruvuma / Southern Coast</td>\n",
       "      <td>58</td>\n",
       "      <td>True</td>\n",
       "      <td>VWC</td>\n",
       "      <td>True</td>\n",
       "      <td>1986</td>\n",
       "      <td>submersible</td>\n",
       "      <td>never pay</td>\n",
       "      <td>good</td>\n",
       "      <td>dry</td>\n",
       "      <td>machine dbh</td>\n",
       "      <td>communal standpipe</td>\n",
       "      <td>0</td>\n",
       "    </tr>\n",
       "    <tr>\n",
       "      <th>4</th>\n",
       "      <td>19728</td>\n",
       "      <td>0.0</td>\n",
       "      <td>other</td>\n",
       "      <td>0</td>\n",
       "      <td>other</td>\n",
       "      <td>31.130847</td>\n",
       "      <td>-1.825359</td>\n",
       "      <td>Lake Victoria</td>\n",
       "      <td>0</td>\n",
       "      <td>True</td>\n",
       "      <td>VWC</td>\n",
       "      <td>True</td>\n",
       "      <td>2000</td>\n",
       "      <td>gravity</td>\n",
       "      <td>never pay</td>\n",
       "      <td>good</td>\n",
       "      <td>seasonal</td>\n",
       "      <td>rainwater harvesting</td>\n",
       "      <td>communal standpipe</td>\n",
       "      <td>2</td>\n",
       "    </tr>\n",
       "    <tr>\n",
       "      <th>...</th>\n",
       "      <td>...</td>\n",
       "      <td>...</td>\n",
       "      <td>...</td>\n",
       "      <td>...</td>\n",
       "      <td>...</td>\n",
       "      <td>...</td>\n",
       "      <td>...</td>\n",
       "      <td>...</td>\n",
       "      <td>...</td>\n",
       "      <td>...</td>\n",
       "      <td>...</td>\n",
       "      <td>...</td>\n",
       "      <td>...</td>\n",
       "      <td>...</td>\n",
       "      <td>...</td>\n",
       "      <td>...</td>\n",
       "      <td>...</td>\n",
       "      <td>...</td>\n",
       "      <td>...</td>\n",
       "      <td>...</td>\n",
       "    </tr>\n",
       "    <tr>\n",
       "      <th>59395</th>\n",
       "      <td>60739</td>\n",
       "      <td>10.0</td>\n",
       "      <td>other</td>\n",
       "      <td>1210</td>\n",
       "      <td>other</td>\n",
       "      <td>37.169807</td>\n",
       "      <td>-3.253847</td>\n",
       "      <td>Pangani</td>\n",
       "      <td>125</td>\n",
       "      <td>True</td>\n",
       "      <td>Water Board</td>\n",
       "      <td>True</td>\n",
       "      <td>1999</td>\n",
       "      <td>gravity</td>\n",
       "      <td>per bucket</td>\n",
       "      <td>good</td>\n",
       "      <td>enough</td>\n",
       "      <td>spring</td>\n",
       "      <td>communal standpipe</td>\n",
       "      <td>2</td>\n",
       "    </tr>\n",
       "    <tr>\n",
       "      <th>59396</th>\n",
       "      <td>27263</td>\n",
       "      <td>4700.0</td>\n",
       "      <td>other</td>\n",
       "      <td>1212</td>\n",
       "      <td>other</td>\n",
       "      <td>35.249991</td>\n",
       "      <td>-9.070629</td>\n",
       "      <td>Rufiji</td>\n",
       "      <td>56</td>\n",
       "      <td>True</td>\n",
       "      <td>VWC</td>\n",
       "      <td>True</td>\n",
       "      <td>1996</td>\n",
       "      <td>gravity</td>\n",
       "      <td>annually</td>\n",
       "      <td>good</td>\n",
       "      <td>enough</td>\n",
       "      <td>river</td>\n",
       "      <td>communal standpipe</td>\n",
       "      <td>2</td>\n",
       "    </tr>\n",
       "    <tr>\n",
       "      <th>59397</th>\n",
       "      <td>37057</td>\n",
       "      <td>0.0</td>\n",
       "      <td>Government Of Tanzania</td>\n",
       "      <td>0</td>\n",
       "      <td>DWE</td>\n",
       "      <td>34.017087</td>\n",
       "      <td>-8.750434</td>\n",
       "      <td>Rufiji</td>\n",
       "      <td>0</td>\n",
       "      <td>True</td>\n",
       "      <td>VWC</td>\n",
       "      <td>False</td>\n",
       "      <td>2000</td>\n",
       "      <td>handpump</td>\n",
       "      <td>monthly</td>\n",
       "      <td>fluoride</td>\n",
       "      <td>enough</td>\n",
       "      <td>machine dbh</td>\n",
       "      <td>hand pump</td>\n",
       "      <td>2</td>\n",
       "    </tr>\n",
       "    <tr>\n",
       "      <th>59398</th>\n",
       "      <td>31282</td>\n",
       "      <td>0.0</td>\n",
       "      <td>other</td>\n",
       "      <td>0</td>\n",
       "      <td>other</td>\n",
       "      <td>35.861315</td>\n",
       "      <td>-6.378573</td>\n",
       "      <td>Rufiji</td>\n",
       "      <td>0</td>\n",
       "      <td>True</td>\n",
       "      <td>VWC</td>\n",
       "      <td>True</td>\n",
       "      <td>2000</td>\n",
       "      <td>handpump</td>\n",
       "      <td>never pay</td>\n",
       "      <td>good</td>\n",
       "      <td>insufficient</td>\n",
       "      <td>shallow well</td>\n",
       "      <td>hand pump</td>\n",
       "      <td>2</td>\n",
       "    </tr>\n",
       "    <tr>\n",
       "      <th>59399</th>\n",
       "      <td>26348</td>\n",
       "      <td>0.0</td>\n",
       "      <td>World Bank</td>\n",
       "      <td>191</td>\n",
       "      <td>other</td>\n",
       "      <td>38.104048</td>\n",
       "      <td>-6.747464</td>\n",
       "      <td>Wami / Ruvu</td>\n",
       "      <td>150</td>\n",
       "      <td>True</td>\n",
       "      <td>VWC</td>\n",
       "      <td>True</td>\n",
       "      <td>2002</td>\n",
       "      <td>handpump</td>\n",
       "      <td>on failure</td>\n",
       "      <td>salty</td>\n",
       "      <td>enough</td>\n",
       "      <td>shallow well</td>\n",
       "      <td>hand pump</td>\n",
       "      <td>2</td>\n",
       "    </tr>\n",
       "  </tbody>\n",
       "</table>\n",
       "<p>59400 rows × 20 columns</p>\n",
       "</div>"
      ],
      "text/plain": [
       "          id  amount_tsh                  funder  gps_height installer  \\\n",
       "0      69572      6000.0                   other        1390     other   \n",
       "1       8776         0.0                   other        1399     other   \n",
       "2      34310        25.0                   other         686     other   \n",
       "3      67743         0.0                   other         263     other   \n",
       "4      19728         0.0                   other           0     other   \n",
       "...      ...         ...                     ...         ...       ...   \n",
       "59395  60739        10.0                   other        1210     other   \n",
       "59396  27263      4700.0                   other        1212     other   \n",
       "59397  37057         0.0  Government Of Tanzania           0       DWE   \n",
       "59398  31282         0.0                   other           0     other   \n",
       "59399  26348         0.0              World Bank         191     other   \n",
       "\n",
       "       longitude   latitude                    basin  population  \\\n",
       "0      34.938093  -9.856322               Lake Nyasa         109   \n",
       "1      34.698766  -2.147466            Lake Victoria         280   \n",
       "2      37.460664  -3.821329                  Pangani         250   \n",
       "3      38.486161 -11.155298  Ruvuma / Southern Coast          58   \n",
       "4      31.130847  -1.825359            Lake Victoria           0   \n",
       "...          ...        ...                      ...         ...   \n",
       "59395  37.169807  -3.253847                  Pangani         125   \n",
       "59396  35.249991  -9.070629                   Rufiji          56   \n",
       "59397  34.017087  -8.750434                   Rufiji           0   \n",
       "59398  35.861315  -6.378573                   Rufiji           0   \n",
       "59399  38.104048  -6.747464              Wami / Ruvu         150   \n",
       "\n",
       "       public_meeting scheme_management  permit  construction_year  \\\n",
       "0                True               VWC   False               1999   \n",
       "1                True             Other    True               2010   \n",
       "2                True               VWC    True               2009   \n",
       "3                True               VWC    True               1986   \n",
       "4                True               VWC    True               2000   \n",
       "...               ...               ...     ...                ...   \n",
       "59395            True       Water Board    True               1999   \n",
       "59396            True               VWC    True               1996   \n",
       "59397            True               VWC   False               2000   \n",
       "59398            True               VWC    True               2000   \n",
       "59399            True               VWC    True               2002   \n",
       "\n",
       "      extraction_type_class payment_type quality_group quantity_group  \\\n",
       "0                   gravity     annually          good         enough   \n",
       "1                   gravity    never pay          good   insufficient   \n",
       "2                   gravity   per bucket          good         enough   \n",
       "3               submersible    never pay          good            dry   \n",
       "4                   gravity    never pay          good       seasonal   \n",
       "...                     ...          ...           ...            ...   \n",
       "59395               gravity   per bucket          good         enough   \n",
       "59396               gravity     annually          good         enough   \n",
       "59397              handpump      monthly      fluoride         enough   \n",
       "59398              handpump    never pay          good   insufficient   \n",
       "59399              handpump   on failure         salty         enough   \n",
       "\n",
       "                     source waterpoint_type_group  status_group  \n",
       "0                    spring    communal standpipe             2  \n",
       "1      rainwater harvesting    communal standpipe             2  \n",
       "2                       dam    communal standpipe             2  \n",
       "3               machine dbh    communal standpipe             0  \n",
       "4      rainwater harvesting    communal standpipe             2  \n",
       "...                     ...                   ...           ...  \n",
       "59395                spring    communal standpipe             2  \n",
       "59396                 river    communal standpipe             2  \n",
       "59397           machine dbh             hand pump             2  \n",
       "59398          shallow well             hand pump             2  \n",
       "59399          shallow well             hand pump             2  \n",
       "\n",
       "[59400 rows x 20 columns]"
      ]
     },
     "execution_count": 99,
     "metadata": {},
     "output_type": "execute_result"
    }
   ],
   "source": [
    "data = tz_data.copy()\n",
    "data"
   ]
  },
  {
   "cell_type": "code",
   "execution_count": 100,
   "id": "32b1faac-14fc-417c-a7ca-514d92ec365c",
   "metadata": {},
   "outputs": [],
   "source": [
    "data = data.drop('id', axis =1)"
   ]
  },
  {
   "cell_type": "code",
   "execution_count": 101,
   "id": "145ccc46-a9e9-441b-a8fa-1b00ad241545",
   "metadata": {},
   "outputs": [],
   "source": [
    "# Changing all T/F columns \n",
    "bool_columns = data.select_dtypes(include=bool).columns\n",
    "data[bool_columns] = data[bool_columns].astype(int)"
   ]
  },
  {
   "cell_type": "code",
   "execution_count": 102,
   "id": "994078bc-30b2-473c-a57f-2c8947f5594a",
   "metadata": {},
   "outputs": [
    {
     "name": "stdout",
     "output_type": "stream",
     "text": [
      "<class 'pandas.core.frame.DataFrame'>\n",
      "RangeIndex: 59400 entries, 0 to 59399\n",
      "Data columns (total 19 columns):\n",
      " #   Column                 Non-Null Count  Dtype  \n",
      "---  ------                 --------------  -----  \n",
      " 0   amount_tsh             59400 non-null  float64\n",
      " 1   funder                 59400 non-null  object \n",
      " 2   gps_height             59400 non-null  int64  \n",
      " 3   installer              59400 non-null  object \n",
      " 4   longitude              59400 non-null  float64\n",
      " 5   latitude               59400 non-null  float64\n",
      " 6   basin                  59400 non-null  object \n",
      " 7   population             59400 non-null  int64  \n",
      " 8   public_meeting         59400 non-null  int64  \n",
      " 9   scheme_management      59400 non-null  object \n",
      " 10  permit                 59400 non-null  int64  \n",
      " 11  construction_year      59400 non-null  int64  \n",
      " 12  extraction_type_class  59400 non-null  object \n",
      " 13  payment_type           59400 non-null  object \n",
      " 14  quality_group          59400 non-null  object \n",
      " 15  quantity_group         59400 non-null  object \n",
      " 16  source                 59400 non-null  object \n",
      " 17  waterpoint_type_group  59400 non-null  object \n",
      " 18  status_group           59400 non-null  int64  \n",
      "dtypes: float64(3), int64(6), object(10)\n",
      "memory usage: 8.6+ MB\n"
     ]
    }
   ],
   "source": [
    "data.info()"
   ]
  },
  {
   "cell_type": "markdown",
   "id": "e923bacc-439f-48cb-807b-be76caa98a26",
   "metadata": {},
   "source": [
    "# Target\n",
    ">- 0 = Non-functional\n",
    ">- 1 = Functional but needs repair\n",
    ">- 2 =  Functional\n",
    ">- Assigning new values those that are functional water pums as 1 and nun functioning as zero"
   ]
  },
  {
   "cell_type": "code",
   "execution_count": 103,
   "id": "b3ea7114-1dfd-4546-98bc-774b11946cce",
   "metadata": {},
   "outputs": [],
   "source": [
    "target_status = {0: 0, 1: 1, 2 : 1}\n",
    "data['status_group'] = data['status_group'].replace(target_status)"
   ]
  },
  {
   "cell_type": "code",
   "execution_count": 104,
   "id": "5a5dc3e7-d26e-4740-97fd-104297a25c84",
   "metadata": {},
   "outputs": [
    {
     "data": {
      "text/plain": [
       "status_group\n",
       "1    36576\n",
       "0    22824\n",
       "Name: count, dtype: int64"
      ]
     },
     "execution_count": 104,
     "metadata": {},
     "output_type": "execute_result"
    }
   ],
   "source": [
    "data['status_group'].value_counts()"
   ]
  },
  {
   "cell_type": "code",
   "execution_count": 105,
   "id": "d6dd5eca-ca10-4ae8-9c84-fe169f038461",
   "metadata": {},
   "outputs": [],
   "source": [
    "X = data.drop('status_group', axis=1)  \n",
    "y = data['status_group']"
   ]
  },
  {
   "cell_type": "code",
   "execution_count": 106,
   "id": "1ec1958a-9d61-4667-b7f4-e7aee4eec357",
   "metadata": {},
   "outputs": [],
   "source": [
    "X_train, X_test, y_train, y_test = train_test_split(X, y, test_size=0.33, random_state=42)"
   ]
  },
  {
   "cell_type": "markdown",
   "id": "613ff0a6-950b-4509-924c-b84e8fecaf76",
   "metadata": {},
   "source": [
    "# Processing \n",
    ">- setting the columns based on their features for pipeline modeling"
   ]
  },
  {
   "cell_type": "code",
   "execution_count": 107,
   "id": "ee8f52e3-54d3-4c73-8251-67d2908f6811",
   "metadata": {},
   "outputs": [],
   "source": [
    "cat_cols = ['funder', 'installer', 'basin', 'scheme_management', 'extraction_type_class', 'payment_type', 'quality_group', \n",
    "              'quantity_group', 'source', 'waterpoint_type_group']\n",
    "\n",
    "num_cols = ['amount_tsh', 'gps_height', 'longitude', 'latitude','population', 'construction_year']\n",
    "bin_cols = ['permit', 'public_meeting']"
   ]
  },
  {
   "cell_type": "code",
   "execution_count": 108,
   "id": "a9001299-ba6d-4618-ac64-2f902f6c1e61",
   "metadata": {},
   "outputs": [],
   "source": [
    "categorical_transformer = Pipeline(steps=[\n",
    "    ('imputer', SimpleImputer(strategy='most_frequent')),\n",
    "    ('encoder', OneHotEncoder())\n",
    "    \n",
    "])\n",
    "\n",
    "numerical_transformer = Pipeline(steps=[\n",
    "    ('imputer', SimpleImputer(strategy='median')),\n",
    "    ('poly',PolynomialFeatures()),\n",
    "    ('scaler', StandardScaler())\n",
    "])\n",
    "\n",
    "binary_transformer = Pipeline([\n",
    "    ('bin_impute', SimpleImputer(strategy='most_frequent'))\n",
    "])\n",
    "# smote = SMOTENC(categorical_features=cat_cols)"
   ]
  },
  {
   "cell_type": "code",
   "execution_count": 109,
   "id": "3aaca9a2-b109-4d3c-a3ed-9a7b273e9c4d",
   "metadata": {},
   "outputs": [],
   "source": [
    "preprocessor = ColumnTransformer(\n",
    "    transformers=[\n",
    "        ('cat', categorical_transformer, cat_cols),\n",
    "        ('num', numerical_transformer, num_cols),\n",
    "        ('bins',binary_transformer, bin_cols)\n",
    "    ])"
   ]
  },
  {
   "cell_type": "code",
   "execution_count": 64,
   "id": "095dd26b-c205-46bc-9dd7-c17ae6f35292",
   "metadata": {},
   "outputs": [],
   "source": [
    "# X_preprocessed = preprocessor.fit_transform(X)\n",
    "\n",
    "# # Apply SMOTENC to the categorical features\n",
    "# smote = SMOTENC(categorical_features=[X_preprocessed[:, i] for i in range(len(cat_cols))])\n",
    "# X_resampled, y_resampled = smote.fit_resample(X_preprocessed, y)"
   ]
  },
  {
   "cell_type": "markdown",
   "id": "bcf77aed-3207-47db-8494-16c3005e7349",
   "metadata": {},
   "source": [
    "## Logistic Regression"
   ]
  },
  {
   "cell_type": "code",
   "execution_count": 110,
   "id": "2d729060-bbaa-4a3d-be39-badd918b6d2b",
   "metadata": {},
   "outputs": [],
   "source": [
    "Model = Pipeline(steps=[\n",
    "    ('processes', CT),\n",
    "    ('classifier', LogisticRegression(solver='lbfgs', max_iter=10000, class_weight='balanced', random_state =42))\n",
    "])"
   ]
  },
  {
   "cell_type": "code",
   "execution_count": 111,
   "id": "1eb9ebfd-0055-41e0-88ae-ca11bce5d1cf",
   "metadata": {
    "scrolled": true
   },
   "outputs": [
    {
     "data": {
      "text/html": [
       "<style>#sk-container-id-1 {color: black;}#sk-container-id-1 pre{padding: 0;}#sk-container-id-1 div.sk-toggleable {background-color: white;}#sk-container-id-1 label.sk-toggleable__label {cursor: pointer;display: block;width: 100%;margin-bottom: 0;padding: 0.3em;box-sizing: border-box;text-align: center;}#sk-container-id-1 label.sk-toggleable__label-arrow:before {content: \"▸\";float: left;margin-right: 0.25em;color: #696969;}#sk-container-id-1 label.sk-toggleable__label-arrow:hover:before {color: black;}#sk-container-id-1 div.sk-estimator:hover label.sk-toggleable__label-arrow:before {color: black;}#sk-container-id-1 div.sk-toggleable__content {max-height: 0;max-width: 0;overflow: hidden;text-align: left;background-color: #f0f8ff;}#sk-container-id-1 div.sk-toggleable__content pre {margin: 0.2em;color: black;border-radius: 0.25em;background-color: #f0f8ff;}#sk-container-id-1 input.sk-toggleable__control:checked~div.sk-toggleable__content {max-height: 200px;max-width: 100%;overflow: auto;}#sk-container-id-1 input.sk-toggleable__control:checked~label.sk-toggleable__label-arrow:before {content: \"▾\";}#sk-container-id-1 div.sk-estimator input.sk-toggleable__control:checked~label.sk-toggleable__label {background-color: #d4ebff;}#sk-container-id-1 div.sk-label input.sk-toggleable__control:checked~label.sk-toggleable__label {background-color: #d4ebff;}#sk-container-id-1 input.sk-hidden--visually {border: 0;clip: rect(1px 1px 1px 1px);clip: rect(1px, 1px, 1px, 1px);height: 1px;margin: -1px;overflow: hidden;padding: 0;position: absolute;width: 1px;}#sk-container-id-1 div.sk-estimator {font-family: monospace;background-color: #f0f8ff;border: 1px dotted black;border-radius: 0.25em;box-sizing: border-box;margin-bottom: 0.5em;}#sk-container-id-1 div.sk-estimator:hover {background-color: #d4ebff;}#sk-container-id-1 div.sk-parallel-item::after {content: \"\";width: 100%;border-bottom: 1px solid gray;flex-grow: 1;}#sk-container-id-1 div.sk-label:hover label.sk-toggleable__label {background-color: #d4ebff;}#sk-container-id-1 div.sk-serial::before {content: \"\";position: absolute;border-left: 1px solid gray;box-sizing: border-box;top: 0;bottom: 0;left: 50%;z-index: 0;}#sk-container-id-1 div.sk-serial {display: flex;flex-direction: column;align-items: center;background-color: white;padding-right: 0.2em;padding-left: 0.2em;position: relative;}#sk-container-id-1 div.sk-item {position: relative;z-index: 1;}#sk-container-id-1 div.sk-parallel {display: flex;align-items: stretch;justify-content: center;background-color: white;position: relative;}#sk-container-id-1 div.sk-item::before, #sk-container-id-1 div.sk-parallel-item::before {content: \"\";position: absolute;border-left: 1px solid gray;box-sizing: border-box;top: 0;bottom: 0;left: 50%;z-index: -1;}#sk-container-id-1 div.sk-parallel-item {display: flex;flex-direction: column;z-index: 1;position: relative;background-color: white;}#sk-container-id-1 div.sk-parallel-item:first-child::after {align-self: flex-end;width: 50%;}#sk-container-id-1 div.sk-parallel-item:last-child::after {align-self: flex-start;width: 50%;}#sk-container-id-1 div.sk-parallel-item:only-child::after {width: 0;}#sk-container-id-1 div.sk-dashed-wrapped {border: 1px dashed gray;margin: 0 0.4em 0.5em 0.4em;box-sizing: border-box;padding-bottom: 0.4em;background-color: white;}#sk-container-id-1 div.sk-label label {font-family: monospace;font-weight: bold;display: inline-block;line-height: 1.2em;}#sk-container-id-1 div.sk-label-container {text-align: center;}#sk-container-id-1 div.sk-container {/* jupyter's `normalize.less` sets `[hidden] { display: none; }` but bootstrap.min.css set `[hidden] { display: none !important; }` so we also need the `!important` here to be able to override the default hidden behavior on the sphinx rendered scikit-learn.org. See: https://github.com/scikit-learn/scikit-learn/issues/21755 */display: inline-block !important;position: relative;}#sk-container-id-1 div.sk-text-repr-fallback {display: none;}</style><div id=\"sk-container-id-1\" class=\"sk-top-container\"><div class=\"sk-text-repr-fallback\"><pre>Pipeline(steps=[(&#x27;processes&#x27;,\n",
       "                 ColumnTransformer(transformers=[(&#x27;cat&#x27;,\n",
       "                                                  Pipeline(steps=[(&#x27;imputer&#x27;,\n",
       "                                                                   SimpleImputer(strategy=&#x27;most_frequent&#x27;)),\n",
       "                                                                  (&#x27;encoder&#x27;,\n",
       "                                                                   OneHotEncoder())]),\n",
       "                                                  [&#x27;funder&#x27;, &#x27;installer&#x27;,\n",
       "                                                   &#x27;basin&#x27;, &#x27;scheme_management&#x27;,\n",
       "                                                   &#x27;extraction_type_class&#x27;,\n",
       "                                                   &#x27;payment_type&#x27;,\n",
       "                                                   &#x27;quality_group&#x27;,\n",
       "                                                   &#x27;quantity_group&#x27;, &#x27;source&#x27;,\n",
       "                                                   &#x27;waterpoint_type_group&#x27;]),\n",
       "                                                 (&#x27;num&#x27;,\n",
       "                                                  Pipeline(steps=[(&#x27;im...\n",
       "                                                                   SimpleImputer(strategy=&#x27;median&#x27;)),\n",
       "                                                                  (&#x27;poly&#x27;,\n",
       "                                                                   PolynomialFeatures()),\n",
       "                                                                  (&#x27;scaler&#x27;,\n",
       "                                                                   StandardScaler())]),\n",
       "                                                  [&#x27;amount_tsh&#x27;, &#x27;gps_height&#x27;,\n",
       "                                                   &#x27;longitude&#x27;, &#x27;latitude&#x27;,\n",
       "                                                   &#x27;population&#x27;,\n",
       "                                                   &#x27;construction_year&#x27;]),\n",
       "                                                 (&#x27;bins&#x27;,\n",
       "                                                  Pipeline(steps=[(&#x27;bin_impute&#x27;,\n",
       "                                                                   SimpleImputer(strategy=&#x27;most_frequent&#x27;))]),\n",
       "                                                  [&#x27;permit&#x27;,\n",
       "                                                   &#x27;public_meeting&#x27;])])),\n",
       "                (&#x27;classifier&#x27;,\n",
       "                 LogisticRegression(class_weight=&#x27;balanced&#x27;, max_iter=10000,\n",
       "                                    random_state=42))])</pre><b>In a Jupyter environment, please rerun this cell to show the HTML representation or trust the notebook. <br />On GitHub, the HTML representation is unable to render, please try loading this page with nbviewer.org.</b></div><div class=\"sk-container\" hidden><div class=\"sk-item sk-dashed-wrapped\"><div class=\"sk-label-container\"><div class=\"sk-label sk-toggleable\"><input class=\"sk-toggleable__control sk-hidden--visually\" id=\"sk-estimator-id-1\" type=\"checkbox\" ><label for=\"sk-estimator-id-1\" class=\"sk-toggleable__label sk-toggleable__label-arrow\">Pipeline</label><div class=\"sk-toggleable__content\"><pre>Pipeline(steps=[(&#x27;processes&#x27;,\n",
       "                 ColumnTransformer(transformers=[(&#x27;cat&#x27;,\n",
       "                                                  Pipeline(steps=[(&#x27;imputer&#x27;,\n",
       "                                                                   SimpleImputer(strategy=&#x27;most_frequent&#x27;)),\n",
       "                                                                  (&#x27;encoder&#x27;,\n",
       "                                                                   OneHotEncoder())]),\n",
       "                                                  [&#x27;funder&#x27;, &#x27;installer&#x27;,\n",
       "                                                   &#x27;basin&#x27;, &#x27;scheme_management&#x27;,\n",
       "                                                   &#x27;extraction_type_class&#x27;,\n",
       "                                                   &#x27;payment_type&#x27;,\n",
       "                                                   &#x27;quality_group&#x27;,\n",
       "                                                   &#x27;quantity_group&#x27;, &#x27;source&#x27;,\n",
       "                                                   &#x27;waterpoint_type_group&#x27;]),\n",
       "                                                 (&#x27;num&#x27;,\n",
       "                                                  Pipeline(steps=[(&#x27;im...\n",
       "                                                                   SimpleImputer(strategy=&#x27;median&#x27;)),\n",
       "                                                                  (&#x27;poly&#x27;,\n",
       "                                                                   PolynomialFeatures()),\n",
       "                                                                  (&#x27;scaler&#x27;,\n",
       "                                                                   StandardScaler())]),\n",
       "                                                  [&#x27;amount_tsh&#x27;, &#x27;gps_height&#x27;,\n",
       "                                                   &#x27;longitude&#x27;, &#x27;latitude&#x27;,\n",
       "                                                   &#x27;population&#x27;,\n",
       "                                                   &#x27;construction_year&#x27;]),\n",
       "                                                 (&#x27;bins&#x27;,\n",
       "                                                  Pipeline(steps=[(&#x27;bin_impute&#x27;,\n",
       "                                                                   SimpleImputer(strategy=&#x27;most_frequent&#x27;))]),\n",
       "                                                  [&#x27;permit&#x27;,\n",
       "                                                   &#x27;public_meeting&#x27;])])),\n",
       "                (&#x27;classifier&#x27;,\n",
       "                 LogisticRegression(class_weight=&#x27;balanced&#x27;, max_iter=10000,\n",
       "                                    random_state=42))])</pre></div></div></div><div class=\"sk-serial\"><div class=\"sk-item sk-dashed-wrapped\"><div class=\"sk-label-container\"><div class=\"sk-label sk-toggleable\"><input class=\"sk-toggleable__control sk-hidden--visually\" id=\"sk-estimator-id-2\" type=\"checkbox\" ><label for=\"sk-estimator-id-2\" class=\"sk-toggleable__label sk-toggleable__label-arrow\">processes: ColumnTransformer</label><div class=\"sk-toggleable__content\"><pre>ColumnTransformer(transformers=[(&#x27;cat&#x27;,\n",
       "                                 Pipeline(steps=[(&#x27;imputer&#x27;,\n",
       "                                                  SimpleImputer(strategy=&#x27;most_frequent&#x27;)),\n",
       "                                                 (&#x27;encoder&#x27;, OneHotEncoder())]),\n",
       "                                 [&#x27;funder&#x27;, &#x27;installer&#x27;, &#x27;basin&#x27;,\n",
       "                                  &#x27;scheme_management&#x27;, &#x27;extraction_type_class&#x27;,\n",
       "                                  &#x27;payment_type&#x27;, &#x27;quality_group&#x27;,\n",
       "                                  &#x27;quantity_group&#x27;, &#x27;source&#x27;,\n",
       "                                  &#x27;waterpoint_type_group&#x27;]),\n",
       "                                (&#x27;num&#x27;,\n",
       "                                 Pipeline(steps=[(&#x27;imputer&#x27;,\n",
       "                                                  SimpleImputer(strategy=&#x27;median&#x27;)),\n",
       "                                                 (&#x27;poly&#x27;, PolynomialFeatures()),\n",
       "                                                 (&#x27;scaler&#x27;, StandardScaler())]),\n",
       "                                 [&#x27;amount_tsh&#x27;, &#x27;gps_height&#x27;, &#x27;longitude&#x27;,\n",
       "                                  &#x27;latitude&#x27;, &#x27;population&#x27;,\n",
       "                                  &#x27;construction_year&#x27;]),\n",
       "                                (&#x27;bins&#x27;,\n",
       "                                 Pipeline(steps=[(&#x27;bin_impute&#x27;,\n",
       "                                                  SimpleImputer(strategy=&#x27;most_frequent&#x27;))]),\n",
       "                                 [&#x27;permit&#x27;, &#x27;public_meeting&#x27;])])</pre></div></div></div><div class=\"sk-parallel\"><div class=\"sk-parallel-item\"><div class=\"sk-item\"><div class=\"sk-label-container\"><div class=\"sk-label sk-toggleable\"><input class=\"sk-toggleable__control sk-hidden--visually\" id=\"sk-estimator-id-3\" type=\"checkbox\" ><label for=\"sk-estimator-id-3\" class=\"sk-toggleable__label sk-toggleable__label-arrow\">cat</label><div class=\"sk-toggleable__content\"><pre>[&#x27;funder&#x27;, &#x27;installer&#x27;, &#x27;basin&#x27;, &#x27;scheme_management&#x27;, &#x27;extraction_type_class&#x27;, &#x27;payment_type&#x27;, &#x27;quality_group&#x27;, &#x27;quantity_group&#x27;, &#x27;source&#x27;, &#x27;waterpoint_type_group&#x27;]</pre></div></div></div><div class=\"sk-serial\"><div class=\"sk-item\"><div class=\"sk-serial\"><div class=\"sk-item\"><div class=\"sk-estimator sk-toggleable\"><input class=\"sk-toggleable__control sk-hidden--visually\" id=\"sk-estimator-id-4\" type=\"checkbox\" ><label for=\"sk-estimator-id-4\" class=\"sk-toggleable__label sk-toggleable__label-arrow\">SimpleImputer</label><div class=\"sk-toggleable__content\"><pre>SimpleImputer(strategy=&#x27;most_frequent&#x27;)</pre></div></div></div><div class=\"sk-item\"><div class=\"sk-estimator sk-toggleable\"><input class=\"sk-toggleable__control sk-hidden--visually\" id=\"sk-estimator-id-5\" type=\"checkbox\" ><label for=\"sk-estimator-id-5\" class=\"sk-toggleable__label sk-toggleable__label-arrow\">OneHotEncoder</label><div class=\"sk-toggleable__content\"><pre>OneHotEncoder()</pre></div></div></div></div></div></div></div></div><div class=\"sk-parallel-item\"><div class=\"sk-item\"><div class=\"sk-label-container\"><div class=\"sk-label sk-toggleable\"><input class=\"sk-toggleable__control sk-hidden--visually\" id=\"sk-estimator-id-6\" type=\"checkbox\" ><label for=\"sk-estimator-id-6\" class=\"sk-toggleable__label sk-toggleable__label-arrow\">num</label><div class=\"sk-toggleable__content\"><pre>[&#x27;amount_tsh&#x27;, &#x27;gps_height&#x27;, &#x27;longitude&#x27;, &#x27;latitude&#x27;, &#x27;population&#x27;, &#x27;construction_year&#x27;]</pre></div></div></div><div class=\"sk-serial\"><div class=\"sk-item\"><div class=\"sk-serial\"><div class=\"sk-item\"><div class=\"sk-estimator sk-toggleable\"><input class=\"sk-toggleable__control sk-hidden--visually\" id=\"sk-estimator-id-7\" type=\"checkbox\" ><label for=\"sk-estimator-id-7\" class=\"sk-toggleable__label sk-toggleable__label-arrow\">SimpleImputer</label><div class=\"sk-toggleable__content\"><pre>SimpleImputer(strategy=&#x27;median&#x27;)</pre></div></div></div><div class=\"sk-item\"><div class=\"sk-estimator sk-toggleable\"><input class=\"sk-toggleable__control sk-hidden--visually\" id=\"sk-estimator-id-8\" type=\"checkbox\" ><label for=\"sk-estimator-id-8\" class=\"sk-toggleable__label sk-toggleable__label-arrow\">PolynomialFeatures</label><div class=\"sk-toggleable__content\"><pre>PolynomialFeatures()</pre></div></div></div><div class=\"sk-item\"><div class=\"sk-estimator sk-toggleable\"><input class=\"sk-toggleable__control sk-hidden--visually\" id=\"sk-estimator-id-9\" type=\"checkbox\" ><label for=\"sk-estimator-id-9\" class=\"sk-toggleable__label sk-toggleable__label-arrow\">StandardScaler</label><div class=\"sk-toggleable__content\"><pre>StandardScaler()</pre></div></div></div></div></div></div></div></div><div class=\"sk-parallel-item\"><div class=\"sk-item\"><div class=\"sk-label-container\"><div class=\"sk-label sk-toggleable\"><input class=\"sk-toggleable__control sk-hidden--visually\" id=\"sk-estimator-id-10\" type=\"checkbox\" ><label for=\"sk-estimator-id-10\" class=\"sk-toggleable__label sk-toggleable__label-arrow\">bins</label><div class=\"sk-toggleable__content\"><pre>[&#x27;permit&#x27;, &#x27;public_meeting&#x27;]</pre></div></div></div><div class=\"sk-serial\"><div class=\"sk-item\"><div class=\"sk-serial\"><div class=\"sk-item\"><div class=\"sk-estimator sk-toggleable\"><input class=\"sk-toggleable__control sk-hidden--visually\" id=\"sk-estimator-id-11\" type=\"checkbox\" ><label for=\"sk-estimator-id-11\" class=\"sk-toggleable__label sk-toggleable__label-arrow\">SimpleImputer</label><div class=\"sk-toggleable__content\"><pre>SimpleImputer(strategy=&#x27;most_frequent&#x27;)</pre></div></div></div></div></div></div></div></div></div></div><div class=\"sk-item\"><div class=\"sk-estimator sk-toggleable\"><input class=\"sk-toggleable__control sk-hidden--visually\" id=\"sk-estimator-id-12\" type=\"checkbox\" ><label for=\"sk-estimator-id-12\" class=\"sk-toggleable__label sk-toggleable__label-arrow\">LogisticRegression</label><div class=\"sk-toggleable__content\"><pre>LogisticRegression(class_weight=&#x27;balanced&#x27;, max_iter=10000, random_state=42)</pre></div></div></div></div></div></div></div>"
      ],
      "text/plain": [
       "Pipeline(steps=[('processes',\n",
       "                 ColumnTransformer(transformers=[('cat',\n",
       "                                                  Pipeline(steps=[('imputer',\n",
       "                                                                   SimpleImputer(strategy='most_frequent')),\n",
       "                                                                  ('encoder',\n",
       "                                                                   OneHotEncoder())]),\n",
       "                                                  ['funder', 'installer',\n",
       "                                                   'basin', 'scheme_management',\n",
       "                                                   'extraction_type_class',\n",
       "                                                   'payment_type',\n",
       "                                                   'quality_group',\n",
       "                                                   'quantity_group', 'source',\n",
       "                                                   'waterpoint_type_group']),\n",
       "                                                 ('num',\n",
       "                                                  Pipeline(steps=[('im...\n",
       "                                                                   SimpleImputer(strategy='median')),\n",
       "                                                                  ('poly',\n",
       "                                                                   PolynomialFeatures()),\n",
       "                                                                  ('scaler',\n",
       "                                                                   StandardScaler())]),\n",
       "                                                  ['amount_tsh', 'gps_height',\n",
       "                                                   'longitude', 'latitude',\n",
       "                                                   'population',\n",
       "                                                   'construction_year']),\n",
       "                                                 ('bins',\n",
       "                                                  Pipeline(steps=[('bin_impute',\n",
       "                                                                   SimpleImputer(strategy='most_frequent'))]),\n",
       "                                                  ['permit',\n",
       "                                                   'public_meeting'])])),\n",
       "                ('classifier',\n",
       "                 LogisticRegression(class_weight='balanced', max_iter=10000,\n",
       "                                    random_state=42))])"
      ]
     },
     "execution_count": 111,
     "metadata": {},
     "output_type": "execute_result"
    }
   ],
   "source": [
    "Model.fit(X_train, y_train)"
   ]
  },
  {
   "cell_type": "code",
   "execution_count": 113,
   "id": "6b565b69-b8d6-415c-af48-cf22e80e19dd",
   "metadata": {},
   "outputs": [
    {
     "data": {
      "text/plain": [
       "0.78373285089703"
      ]
     },
     "execution_count": 113,
     "metadata": {},
     "output_type": "execute_result"
    }
   ],
   "source": [
    "Model.score(X_train, y_train)"
   ]
  },
  {
   "cell_type": "code",
   "execution_count": 114,
   "id": "4f74ed3d-f099-4408-95b9-06cd741e3c3e",
   "metadata": {},
   "outputs": [
    {
     "data": {
      "text/plain": [
       "0.7846648301193756"
      ]
     },
     "execution_count": 114,
     "metadata": {},
     "output_type": "execute_result"
    }
   ],
   "source": [
    "Model.score(X_test, y_test)"
   ]
  },
  {
   "cell_type": "code",
   "execution_count": 116,
   "id": "e0efd40a-ca15-451d-8bc1-c85d557f0ff6",
   "metadata": {},
   "outputs": [],
   "source": [
    "y_pred = Model.predict(X_test)"
   ]
  },
  {
   "cell_type": "code",
   "execution_count": 118,
   "id": "adc3e66a-32c6-4471-951e-d231af3e9c9e",
   "metadata": {},
   "outputs": [
    {
     "name": "stdout",
     "output_type": "stream",
     "text": [
      "Accuracy:\n",
      "Train Accuracy: 0.78373285089703\n",
      "Test Accuracy: 0.7846648301193756\n",
      "\n",
      "Balanced Accuracy:\n",
      "Train Accuracy: 0.7649107919354521\n",
      "Test Accuracy: 0.764434091783553\n"
     ]
    }
   ],
   "source": [
    "y_train_pred = Model.predict(X_train)\n",
    "y_test_pred = Model.predict(X_test)\n",
    "\n",
    "print(\"Accuracy:\")\n",
    "train_accuracy = accuracy_score(y_train, y_train_pred)\n",
    "print(\"Train Accuracy:\", train_accuracy)\n",
    "\n",
    "test_accuracy = accuracy_score(y_test, y_test_pred)\n",
    "print(\"Test Accuracy:\", test_accuracy)\n",
    "\n",
    "print(\"\\nBalanced Accuracy:\")\n",
    "train_accuracy = balanced_accuracy_score(y_train, y_train_pred)\n",
    "print(\"Train Accuracy:\", train_accuracy)\n",
    "\n",
    "test_accuracy = balanced_accuracy_score(y_test, y_test_pred)\n",
    "print(\"Test Accuracy:\", test_accuracy)"
   ]
  },
  {
   "cell_type": "code",
   "execution_count": 128,
   "id": "38ff9ace-8711-4889-88e8-ee02050bbf4c",
   "metadata": {
    "scrolled": true
   },
   "outputs": [
    {
     "name": "stdout",
     "output_type": "stream",
     "text": [
      "              precision    recall  f1-score   support\n",
      "\n",
      "           0       0.73      0.68      0.71      7458\n",
      "           1       0.81      0.85      0.83     12144\n",
      "\n",
      "    accuracy                           0.78     19602\n",
      "   macro avg       0.77      0.76      0.77     19602\n",
      "weighted avg       0.78      0.78      0.78     19602\n",
      "\n"
     ]
    },
    {
     "data": {
      "image/png": "[encoded data removed]",
      "text/plain": [
       "<Figure size 640x480 with 2 Axes>"
      ]
     },
     "metadata": {},
     "output_type": "display_data"
    }
   ],
   "source": [
    "print(classification_report(y_test, y_pred)) \n",
    "cm = confusion_matrix(y_test, y_test_pred)\n",
    "disp = ConfusionMatrixDisplay(confusion_matrix=cm)\n",
    "disp.plot()\n",
    "plt.show()"
   ]
  },
  {
   "cell_type": "code",
   "execution_count": 129,
   "id": "ed5d9bc4-877e-4bd3-8315-3c9e4a6b4b3f",
   "metadata": {},
   "outputs": [
    {
     "name": "stdout",
     "output_type": "stream",
     "text": [
      "Train Log Loss: 0.4713760287816769\n",
      "Test Log Loss: 0.47167308675498126\n"
     ]
    }
   ],
   "source": [
    "from sklearn.metrics import log_loss\n",
    "\n",
    "y_train_pred_proba = Model.predict_proba(X_train)\n",
    "y_test_pred_proba = Model.predict_proba(X_test)\n",
    "\n",
    "train_log_loss = log_loss(y_train, y_train_pred_proba)\n",
    "print(\"Train Log Loss:\", train_log_loss)\n",
    "\n",
    "test_log_loss = log_loss(y_test, y_test_pred_proba)\n",
    "print(\"Test Log Loss:\", test_log_loss)"
   ]
  },
  {
   "cell_type": "code",
   "execution_count": 131,
   "id": "daba64fe-e1a9-4880-a849-faa98ab6776c",
   "metadata": {},
   "outputs": [
    {
     "data": {
      "text/plain": [
       "Text(0.5, 0, 'False Positive Rate')"
      ]
     },
     "execution_count": 131,
     "metadata": {},
     "output_type": "execute_result"
    },
    {
     "data": {
      "image/png": "[encoded data removed]",
      "text/plain": [
       "<Figure size 640x480 with 1 Axes>"
      ]
     },
     "metadata": {},
     "output_type": "display_data"
    }
   ],
   "source": [
    "probs = Model.predict_proba(X_test)[:, 1]\n",
    "\n",
    "# Calculate the false positive rate and true positive rate\n",
    "fpr, tpr, thresholds = roc_curve(y_test, probs)\n",
    "\n",
    "plt.plot(fpr, tpr)\n",
    "plt.plot([0, 1], [0, 1], linestyle='--')  # Random guess line\n",
    "plt.xlabel('False Positive Rate')"
   ]
  },
  {
   "cell_type": "code",
   "execution_count": 133,
   "id": "442c8b47-2629-4845-b8c6-dda707ea6101",
   "metadata": {},
   "outputs": [],
   "source": [
    "param_grid = {\n",
    "    'classifier__C': [0.1, 1, 10],\n",
    "    'classifier__penalty': ['l2', 'l1'],\n",
    "    \"max_features\": ['sqrt', 'log2'],\n",
    "}"
   ]
  },
  {
   "cell_type": "code",
   "execution_count": 355,
   "id": "87576561-c2d7-4d47-ada9-cf3096a1d9bc",
   "metadata": {
    "scrolled": true
   },
   "outputs": [],
   "source": [
    "# grid_search = GridSearchCV(pipeline, param_grid, cv= 5, n_jobs=-1, scoring='roc_auc')"
   ]
  },
  {
   "cell_type": "code",
   "execution_count": 356,
   "id": "ceaeec31-1670-49be-9ee4-cb509b0ae480",
   "metadata": {
    "scrolled": true
   },
   "outputs": [],
   "source": [
    "# grid_search.fit(X_train, y_train)"
   ]
  },
  {
   "cell_type": "code",
   "execution_count": 357,
   "id": "5f13b96a-f477-4310-b18a-8ccaeb4c96ab",
   "metadata": {},
   "outputs": [
    {
     "ename": "AttributeError",
     "evalue": "'GridSearchCV' object has no attribute 'best_estimator_'",
     "output_type": "error",
     "traceback": [
      "\u001b[0;31m---------------------------------------------------------------------------\u001b[0m",
      "\u001b[0;31mAttributeError\u001b[0m                            Traceback (most recent call last)",
      "Cell \u001b[0;32mIn[357], line 1\u001b[0m\n\u001b[0;32m----> 1\u001b[0m best_model \u001b[38;5;241m=\u001b[39m \u001b[43mgrid_search\u001b[49m\u001b[38;5;241;43m.\u001b[39;49m\u001b[43mbest_estimator_\u001b[49m\n\u001b[1;32m      2\u001b[0m best_params \u001b[38;5;241m=\u001b[39m grid_search\u001b[38;5;241m.\u001b[39mbest_params_\n",
      "\u001b[0;31mAttributeError\u001b[0m: 'GridSearchCV' object has no attribute 'best_estimator_'"
     ]
    }
   ],
   "source": [
    "best_model = grid_search.best_estimator_\n",
    "best_params = grid_search.best_params_"
   ]
  },
  {
   "cell_type": "code",
   "execution_count": 134,
   "id": "8670c1a2-8eae-445e-a183-cb78c85ad254",
   "metadata": {},
   "outputs": [
    {
     "ename": "NameError",
     "evalue": "name 'best_model' is not defined",
     "output_type": "error",
     "traceback": [
      "\u001b[0;31m---------------------------------------------------------------------------\u001b[0m",
      "\u001b[0;31mNameError\u001b[0m                                 Traceback (most recent call last)",
      "Cell \u001b[0;32mIn[134], line 1\u001b[0m\n\u001b[0;32m----> 1\u001b[0m y_pred \u001b[38;5;241m=\u001b[39m \u001b[43mbest_model\u001b[49m\u001b[38;5;241m.\u001b[39mpredict(X_test)\n",
      "\u001b[0;31mNameError\u001b[0m: name 'best_model' is not defined"
     ]
    }
   ],
   "source": [
    "y_pred = best_model.predict(X_test)"
   ]
  },
  {
   "cell_type": "code",
   "execution_count": 135,
   "id": "13181edb-1a2f-4728-8a2f-c4efe3ad13d3",
   "metadata": {},
   "outputs": [
    {
     "name": "stdout",
     "output_type": "stream",
     "text": [
      "[0 1]\n"
     ]
    }
   ],
   "source": [
    "import numpy as np\n",
    "\n",
    "unique_values = np.unique(y_train)\n",
    "print(unique_values)"
   ]
  },
  {
   "cell_type": "code",
   "execution_count": 136,
   "id": "b44ab738-2737-4c3a-a0d7-17a4b698a859",
   "metadata": {},
   "outputs": [
    {
     "data": {
      "text/plain": [
       "0.7846648301193756"
      ]
     },
     "execution_count": 136,
     "metadata": {},
     "output_type": "execute_result"
    }
   ],
   "source": [
    "from sklearn.metrics import accuracy_score\n",
    "accuracy = accuracy_score(y_test, y_pred)\n",
    "accuracy"
   ]
  },
  {
   "cell_type": "code",
   "execution_count": null,
   "id": "5c6989b6-00a4-42d5-b3e0-d27b8aab5344",
   "metadata": {},
   "outputs": [],
   "source": []
  },
  {
   "cell_type": "code",
   "execution_count": 137,
   "id": "9444287e-3c14-4b66-83e4-8c41b3fc0a74",
   "metadata": {},
   "outputs": [
    {
     "ename": "NameError",
     "evalue": "name 'best_model' is not defined",
     "output_type": "error",
     "traceback": [
      "\u001b[0;31m---------------------------------------------------------------------------\u001b[0m",
      "\u001b[0;31mNameError\u001b[0m                                 Traceback (most recent call last)",
      "Cell \u001b[0;32mIn[137], line 1\u001b[0m\n\u001b[0;32m----> 1\u001b[0m y_train_pred \u001b[38;5;241m=\u001b[39m \u001b[43mbest_model\u001b[49m\u001b[38;5;241m.\u001b[39mpredict(X_train)\n\u001b[1;32m      2\u001b[0m y_test_pred \u001b[38;5;241m=\u001b[39m best_model\u001b[38;5;241m.\u001b[39mpredict(X_test)\n\u001b[1;32m      4\u001b[0m \u001b[38;5;28mprint\u001b[39m(\u001b[38;5;124m\"\u001b[39m\u001b[38;5;124mAccuracy:\u001b[39m\u001b[38;5;124m\"\u001b[39m)\n",
      "\u001b[0;31mNameError\u001b[0m: name 'best_model' is not defined"
     ]
    }
   ],
   "source": [
    "y_train_pred = best_model.predict(X_train)\n",
    "y_test_pred = best_model.predict(X_test)\n",
    "\n",
    "print(\"Accuracy:\")\n",
    "train_accuracy = accuracy_score(y_train, y_train_pred)\n",
    "print(\"Train Accuracy:\", train_accuracy)\n",
    "\n",
    "test_accuracy = accuracy_score(y_test, y_test_pred)\n",
    "print(\"Test Accuracy:\", test_accuracy)\n",
    "\n",
    "print(\"\\nBalanced Accuracy:\")\n",
    "train_accuracy = balanced_accuracy_score(y_train, y_train_pred)\n",
    "print(\"Train Accuracy:\", train_accuracy)\n",
    "\n",
    "test_accuracy = balanced_accuracy_score(y_test, y_test_pred)\n",
    "print(\"Test Accuracy:\", test_accuracy)"
   ]
  },
  {
   "cell_type": "code",
   "execution_count": 138,
   "id": "fa81e785-57e7-4159-82c4-2793a9ee2d60",
   "metadata": {},
   "outputs": [],
   "source": [
    "data_results = pd.DataFrame(columns=[\"Model\", \"test_acc\",\n",
    "                                   'train_acc', 'info', 'param'])"
   ]
  },
  {
   "cell_type": "code",
   "execution_count": 139,
   "id": "c0523bc2-53f9-45ce-9ca4-291bf7602d5f",
   "metadata": {},
   "outputs": [],
   "source": [
    "results_1 = pd.DataFrame({       \n",
    "     \"Model\": ['LogisticRegression'],\n",
    "      \"test_acc\": [0.5], \n",
    "       'train__acc' : [0.5],\n",
    "               'info' : ['DummyModel']\n",
    "})\n",
    "data_results = pd.concat([data_results, results_1], ignore_index =True)"
   ]
  },
  {
   "cell_type": "code",
   "execution_count": 140,
   "id": "89df8865-bb40-461c-bb05-5747aaf974fa",
   "metadata": {},
   "outputs": [],
   "source": [
    "results_2 = pd.DataFrame({       \n",
    "     \"Model\": ['LogisticRegression'],\n",
    "      \"test_acc\": [0.738], \n",
    "       'train_acc' : [0.737],\n",
    "               'info' : ['fsm_pipeline'],\n",
    "})\n",
    "data_results = pd.concat([data_results, results_2], ignore_index =True)"
   ]
  },
  {
   "cell_type": "code",
   "execution_count": 141,
   "id": "cf79ede4-fe8c-49ca-aad5-7daa23b76c95",
   "metadata": {},
   "outputs": [],
   "source": [
    "results_3 = pd.DataFrame({       \n",
    "     \"Model\": ['LogisticRegression'],\n",
    "      \"test_acc\": [0.764], \n",
    "       'train__acc' : [0.764],\n",
    "               'info' : ['with funder'],\n",
    "})\n",
    "data_results = pd.concat([data_results, results_3], ignore_index =True)"
   ]
  },
  {
   "cell_type": "code",
   "execution_count": null,
   "id": "d9a735b8-ce58-4ecc-87cd-9671a0008544",
   "metadata": {},
   "outputs": [],
   "source": [
    "results_4 = pd.DataFrame({       \n",
    "     \"Model\": ['LogisticRegression'],\n",
    "      \"test_balanced_acc\": [0.511], \n",
    "       'train_balanced_acc' : [0.510],\n",
    "               'info' : ['fsm'],\n",
    "})\n",
    "data_results = pd.concat([data_results, results_4], ignore_index =True)"
   ]
  },
  {
   "cell_type": "code",
   "execution_count": null,
   "id": "c4c8aa91-9bac-4909-bfff-18310d5ba744",
   "metadata": {},
   "outputs": [],
   "source": [
    "import sklearn\n",
    "print(sklearn.__version__)"
   ]
  },
  {
   "cell_type": "code",
   "execution_count": null,
   "id": "b948273b-9001-4ef7-aede-aaf91768f152",
   "metadata": {},
   "outputs": [],
   "source": [
    "data_results"
   ]
  },
  {
   "cell_type": "code",
   "execution_count": 142,
   "id": "0db75ab7-37bb-45c5-819a-04e4184442a2",
   "metadata": {
    "scrolled": true
   },
   "outputs": [
    {
     "name": "stdout",
     "output_type": "stream",
     "text": [
      "              precision    recall  f1-score   support\n",
      "\n",
      "           0       0.73      0.68      0.71      7458\n",
      "           1       0.81      0.85      0.83     12144\n",
      "\n",
      "    accuracy                           0.78     19602\n",
      "   macro avg       0.77      0.76      0.77     19602\n",
      "weighted avg       0.78      0.78      0.78     19602\n",
      "\n"
     ]
    },
    {
     "data": {
      "image/png": "[encoded data removed]",
      "text/plain": [
       "<Figure size 640x480 with 2 Axes>"
      ]
     },
     "metadata": {},
     "output_type": "display_data"
    }
   ],
   "source": [
    "from sklearn.metrics import confusion_matrix, ConfusionMatrixDisplay\n",
    "import matplotlib.pyplot as plt\n",
    "\n",
    "print(classification_report(y_test, y_pred)) \n",
    "cm = confusion_matrix(y_test, y_test_pred)\n",
    "disp = ConfusionMatrixDisplay(confusion_matrix=cm)\n",
    "disp.plot()\n",
    "plt.show()"
   ]
  },
  {
   "cell_type": "markdown",
   "id": "74330f6c-c4f4-47d4-930a-f01f5a4b27fc",
   "metadata": {},
   "source": [
    "# Logistic regression With SMOTE\n",
    ">- model performed well on training and the test, but the balanced accuracy is much lower meaning there's huge class imbalance\n",
    ">- Below is the model with SMOTE"
   ]
  },
  {
   "cell_type": "code",
   "execution_count": null,
   "id": "fc8196d6-2177-44d8-b92d-fe6693aeb332",
   "metadata": {},
   "outputs": [],
   "source": [
    "# class SMOTETransformer(BaseEstimator, TransformerMixin):\n",
    "#     def __init__(self, **kwargs):\n",
    "#         self.kwargs = kwargs\n",
    "\n",
    "#     def fit(self, X, y):\n",
    "#         self.smote = SMOTE(**self.kwargs)\n",
    "#         return self\n",
    "\n",
    "#     def transform(self, X, y=None):\n",
    "#         return self.smote.fit_resample(X, y)"
   ]
  },
  {
   "cell_type": "code",
   "execution_count": null,
   "id": "5597c0c9-2eb3-4d55-bcc8-feac74c9a38d",
   "metadata": {},
   "outputs": [],
   "source": [
    "# smote_transformer = SMOTETransformer(sampling_strategy=0.5, k_neighbors=5)\n",
    "# X_train_resampled, y_train_resampled = smote_transformer.fit_transform(X_train_sm, y_train_sm)"
   ]
  },
  {
   "cell_type": "code",
   "execution_count": null,
   "id": "08645fdc-1ed9-4813-902b-fe980bae9925",
   "metadata": {},
   "outputs": [],
   "source": []
  }
 ],
 "metadata": {
  "kernelspec": {
   "display_name": "Python 3 (ipykernel)",
   "language": "python",
   "name": "python3"
  },
  "language_info": {
   "codemirror_mode": {
    "name": "ipython",
    "version": 3
   },
   "file_extension": ".py",
   "mimetype": "text/x-python",
   "name": "python",
   "nbconvert_exporter": "python",
   "pygments_lexer": "ipython3",
   "version": "3.9.16"
  }
 },
 "nbformat": 4,
 "nbformat_minor": 5
}
