{
 "cells": [
  {
   "cell_type": "markdown",
   "id": "4438898e-e750-47f3-9510-e7871d49bec8",
   "metadata": {},
   "source": [
    "# Baseline Binary Logistic regression Model\n",
    "\n",
    "\n"
   ]
  },
  {
   "cell_type": "code",
   "execution_count": 329,
   "id": "3066d05a-03bd-4a10-88f1-9e15cf290966",
   "metadata": {},
   "outputs": [],
   "source": [
    "import pandas as pd   \n",
    "import numpy as np \n",
    "from sklearn.model_selection import train_test_split, cross_val_score\n",
    "from sklearn.preprocessing import OneHotEncoder, StandardScaler, RobustScaler\n",
    "from sklearn.dummy import DummyClassifier\n",
    "from sklearn.linear_model import LogisticRegression\n",
    "from sklearn.metrics import accuracy_score, recall_score, f1_score, precision_score\n",
    "from sklearn.metrics import log_loss"
   ]
  },
  {
   "cell_type": "code",
   "execution_count": 330,
   "id": "70240fe5-aeb7-4db8-97f1-7d620555795c",
   "metadata": {},
   "outputs": [],
   "source": [
    "tz_data = pd.read_csv('tz_data.csv')"
   ]
  },
  {
   "cell_type": "code",
   "execution_count": 331,
   "id": "0116b146-155d-4c9f-a672-7a21b30384fc",
   "metadata": {
    "scrolled": true
   },
   "outputs": [
    {
     "name": "stdout",
     "output_type": "stream",
     "text": [
      "<class 'pandas.core.frame.DataFrame'>\n",
      "RangeIndex: 59400 entries, 0 to 59399\n",
      "Data columns (total 20 columns):\n",
      " #   Column                 Non-Null Count  Dtype  \n",
      "---  ------                 --------------  -----  \n",
      " 0   id                     59400 non-null  int64  \n",
      " 1   amount_tsh             59400 non-null  float64\n",
      " 2   funder                 59400 non-null  object \n",
      " 3   gps_height             59400 non-null  int64  \n",
      " 4   installer              59400 non-null  object \n",
      " 5   longitude              59400 non-null  float64\n",
      " 6   latitude               59400 non-null  float64\n",
      " 7   basin                  59400 non-null  object \n",
      " 8   population             59400 non-null  int64  \n",
      " 9   public_meeting         59400 non-null  bool   \n",
      " 10  scheme_management      59400 non-null  object \n",
      " 11  permit                 59400 non-null  bool   \n",
      " 12  construction_year      59400 non-null  int64  \n",
      " 13  extraction_type_class  59400 non-null  object \n",
      " 14  payment_type           59400 non-null  object \n",
      " 15  quality_group          59400 non-null  object \n",
      " 16  quantity_group         59400 non-null  object \n",
      " 17  source                 59400 non-null  object \n",
      " 18  waterpoint_type_group  59400 non-null  object \n",
      " 19  status_group           59400 non-null  int64  \n",
      "dtypes: bool(2), float64(3), int64(5), object(10)\n",
      "memory usage: 8.3+ MB\n"
     ]
    }
   ],
   "source": [
    "tz_data.info()"
   ]
  },
  {
   "cell_type": "code",
   "execution_count": 332,
   "id": "3c6b5eb9-f21d-468b-b0e0-bbd0055ff347",
   "metadata": {},
   "outputs": [
    {
     "data": {
      "text/html": [
       "<div>\n",
       "<style scoped>\n",
       "    .dataframe tbody tr th:only-of-type {\n",
       "        vertical-align: middle;\n",
       "    }\n",
       "\n",
       "    .dataframe tbody tr th {\n",
       "        vertical-align: top;\n",
       "    }\n",
       "\n",
       "    .dataframe thead th {\n",
       "        text-align: right;\n",
       "    }\n",
       "</style>\n",
       "<table border=\"1\" class=\"dataframe\">\n",
       "  <thead>\n",
       "    <tr style=\"text-align: right;\">\n",
       "      <th></th>\n",
       "      <th>id</th>\n",
       "      <th>amount_tsh</th>\n",
       "      <th>funder</th>\n",
       "      <th>gps_height</th>\n",
       "      <th>installer</th>\n",
       "      <th>longitude</th>\n",
       "      <th>latitude</th>\n",
       "      <th>basin</th>\n",
       "      <th>population</th>\n",
       "      <th>public_meeting</th>\n",
       "      <th>scheme_management</th>\n",
       "      <th>permit</th>\n",
       "      <th>construction_year</th>\n",
       "      <th>extraction_type_class</th>\n",
       "      <th>payment_type</th>\n",
       "      <th>quality_group</th>\n",
       "      <th>quantity_group</th>\n",
       "      <th>source</th>\n",
       "      <th>waterpoint_type_group</th>\n",
       "      <th>status_group</th>\n",
       "    </tr>\n",
       "  </thead>\n",
       "  <tbody>\n",
       "    <tr>\n",
       "      <th>0</th>\n",
       "      <td>69572</td>\n",
       "      <td>6000.0</td>\n",
       "      <td>other</td>\n",
       "      <td>1390</td>\n",
       "      <td>other</td>\n",
       "      <td>34.938093</td>\n",
       "      <td>-9.856322</td>\n",
       "      <td>Lake Nyasa</td>\n",
       "      <td>109</td>\n",
       "      <td>True</td>\n",
       "      <td>VWC</td>\n",
       "      <td>False</td>\n",
       "      <td>1999</td>\n",
       "      <td>gravity</td>\n",
       "      <td>annually</td>\n",
       "      <td>good</td>\n",
       "      <td>enough</td>\n",
       "      <td>spring</td>\n",
       "      <td>communal standpipe</td>\n",
       "      <td>2</td>\n",
       "    </tr>\n",
       "    <tr>\n",
       "      <th>1</th>\n",
       "      <td>8776</td>\n",
       "      <td>0.0</td>\n",
       "      <td>other</td>\n",
       "      <td>1399</td>\n",
       "      <td>other</td>\n",
       "      <td>34.698766</td>\n",
       "      <td>-2.147466</td>\n",
       "      <td>Lake Victoria</td>\n",
       "      <td>280</td>\n",
       "      <td>True</td>\n",
       "      <td>other</td>\n",
       "      <td>True</td>\n",
       "      <td>2010</td>\n",
       "      <td>gravity</td>\n",
       "      <td>never pay</td>\n",
       "      <td>good</td>\n",
       "      <td>insufficient</td>\n",
       "      <td>rainwater harvesting</td>\n",
       "      <td>communal standpipe</td>\n",
       "      <td>2</td>\n",
       "    </tr>\n",
       "    <tr>\n",
       "      <th>2</th>\n",
       "      <td>34310</td>\n",
       "      <td>25.0</td>\n",
       "      <td>other</td>\n",
       "      <td>686</td>\n",
       "      <td>other</td>\n",
       "      <td>37.460664</td>\n",
       "      <td>-3.821329</td>\n",
       "      <td>Pangani</td>\n",
       "      <td>250</td>\n",
       "      <td>True</td>\n",
       "      <td>VWC</td>\n",
       "      <td>True</td>\n",
       "      <td>2009</td>\n",
       "      <td>gravity</td>\n",
       "      <td>per bucket</td>\n",
       "      <td>good</td>\n",
       "      <td>enough</td>\n",
       "      <td>dam</td>\n",
       "      <td>communal standpipe</td>\n",
       "      <td>2</td>\n",
       "    </tr>\n",
       "    <tr>\n",
       "      <th>3</th>\n",
       "      <td>67743</td>\n",
       "      <td>0.0</td>\n",
       "      <td>other</td>\n",
       "      <td>263</td>\n",
       "      <td>other</td>\n",
       "      <td>38.486161</td>\n",
       "      <td>-11.155298</td>\n",
       "      <td>Ruvuma / Southern Coast</td>\n",
       "      <td>58</td>\n",
       "      <td>True</td>\n",
       "      <td>VWC</td>\n",
       "      <td>True</td>\n",
       "      <td>1986</td>\n",
       "      <td>submersible</td>\n",
       "      <td>never pay</td>\n",
       "      <td>good</td>\n",
       "      <td>dry</td>\n",
       "      <td>machine dbh</td>\n",
       "      <td>communal standpipe</td>\n",
       "      <td>0</td>\n",
       "    </tr>\n",
       "    <tr>\n",
       "      <th>4</th>\n",
       "      <td>19728</td>\n",
       "      <td>0.0</td>\n",
       "      <td>other</td>\n",
       "      <td>0</td>\n",
       "      <td>other</td>\n",
       "      <td>31.130847</td>\n",
       "      <td>-1.825359</td>\n",
       "      <td>Lake Victoria</td>\n",
       "      <td>0</td>\n",
       "      <td>True</td>\n",
       "      <td>VWC</td>\n",
       "      <td>True</td>\n",
       "      <td>2000</td>\n",
       "      <td>gravity</td>\n",
       "      <td>never pay</td>\n",
       "      <td>good</td>\n",
       "      <td>seasonal</td>\n",
       "      <td>rainwater harvesting</td>\n",
       "      <td>communal standpipe</td>\n",
       "      <td>2</td>\n",
       "    </tr>\n",
       "    <tr>\n",
       "      <th>...</th>\n",
       "      <td>...</td>\n",
       "      <td>...</td>\n",
       "      <td>...</td>\n",
       "      <td>...</td>\n",
       "      <td>...</td>\n",
       "      <td>...</td>\n",
       "      <td>...</td>\n",
       "      <td>...</td>\n",
       "      <td>...</td>\n",
       "      <td>...</td>\n",
       "      <td>...</td>\n",
       "      <td>...</td>\n",
       "      <td>...</td>\n",
       "      <td>...</td>\n",
       "      <td>...</td>\n",
       "      <td>...</td>\n",
       "      <td>...</td>\n",
       "      <td>...</td>\n",
       "      <td>...</td>\n",
       "      <td>...</td>\n",
       "    </tr>\n",
       "    <tr>\n",
       "      <th>59395</th>\n",
       "      <td>60739</td>\n",
       "      <td>10.0</td>\n",
       "      <td>other</td>\n",
       "      <td>1210</td>\n",
       "      <td>other</td>\n",
       "      <td>37.169807</td>\n",
       "      <td>-3.253847</td>\n",
       "      <td>Pangani</td>\n",
       "      <td>125</td>\n",
       "      <td>True</td>\n",
       "      <td>Water Board</td>\n",
       "      <td>True</td>\n",
       "      <td>1999</td>\n",
       "      <td>gravity</td>\n",
       "      <td>per bucket</td>\n",
       "      <td>good</td>\n",
       "      <td>enough</td>\n",
       "      <td>spring</td>\n",
       "      <td>communal standpipe</td>\n",
       "      <td>2</td>\n",
       "    </tr>\n",
       "    <tr>\n",
       "      <th>59396</th>\n",
       "      <td>27263</td>\n",
       "      <td>4700.0</td>\n",
       "      <td>other</td>\n",
       "      <td>1212</td>\n",
       "      <td>other</td>\n",
       "      <td>35.249991</td>\n",
       "      <td>-9.070629</td>\n",
       "      <td>Rufiji</td>\n",
       "      <td>56</td>\n",
       "      <td>True</td>\n",
       "      <td>VWC</td>\n",
       "      <td>True</td>\n",
       "      <td>1996</td>\n",
       "      <td>gravity</td>\n",
       "      <td>annually</td>\n",
       "      <td>good</td>\n",
       "      <td>enough</td>\n",
       "      <td>river</td>\n",
       "      <td>communal standpipe</td>\n",
       "      <td>2</td>\n",
       "    </tr>\n",
       "    <tr>\n",
       "      <th>59397</th>\n",
       "      <td>37057</td>\n",
       "      <td>0.0</td>\n",
       "      <td>Government Of Tanzania</td>\n",
       "      <td>0</td>\n",
       "      <td>DWE</td>\n",
       "      <td>34.017087</td>\n",
       "      <td>-8.750434</td>\n",
       "      <td>Rufiji</td>\n",
       "      <td>0</td>\n",
       "      <td>True</td>\n",
       "      <td>VWC</td>\n",
       "      <td>False</td>\n",
       "      <td>2000</td>\n",
       "      <td>handpump</td>\n",
       "      <td>monthly</td>\n",
       "      <td>fluoride</td>\n",
       "      <td>enough</td>\n",
       "      <td>machine dbh</td>\n",
       "      <td>hand pump</td>\n",
       "      <td>2</td>\n",
       "    </tr>\n",
       "    <tr>\n",
       "      <th>59398</th>\n",
       "      <td>31282</td>\n",
       "      <td>0.0</td>\n",
       "      <td>other</td>\n",
       "      <td>0</td>\n",
       "      <td>other</td>\n",
       "      <td>35.861315</td>\n",
       "      <td>-6.378573</td>\n",
       "      <td>Rufiji</td>\n",
       "      <td>0</td>\n",
       "      <td>True</td>\n",
       "      <td>VWC</td>\n",
       "      <td>True</td>\n",
       "      <td>2000</td>\n",
       "      <td>handpump</td>\n",
       "      <td>never pay</td>\n",
       "      <td>good</td>\n",
       "      <td>insufficient</td>\n",
       "      <td>shallow well</td>\n",
       "      <td>hand pump</td>\n",
       "      <td>2</td>\n",
       "    </tr>\n",
       "    <tr>\n",
       "      <th>59399</th>\n",
       "      <td>26348</td>\n",
       "      <td>0.0</td>\n",
       "      <td>World Bank</td>\n",
       "      <td>191</td>\n",
       "      <td>other</td>\n",
       "      <td>38.104048</td>\n",
       "      <td>-6.747464</td>\n",
       "      <td>Wami / Ruvu</td>\n",
       "      <td>150</td>\n",
       "      <td>True</td>\n",
       "      <td>VWC</td>\n",
       "      <td>True</td>\n",
       "      <td>2002</td>\n",
       "      <td>handpump</td>\n",
       "      <td>on failure</td>\n",
       "      <td>salty</td>\n",
       "      <td>enough</td>\n",
       "      <td>shallow well</td>\n",
       "      <td>hand pump</td>\n",
       "      <td>2</td>\n",
       "    </tr>\n",
       "  </tbody>\n",
       "</table>\n",
       "<p>59400 rows × 20 columns</p>\n",
       "</div>"
      ],
      "text/plain": [
       "          id  amount_tsh                  funder  gps_height installer  \\\n",
       "0      69572      6000.0                   other        1390     other   \n",
       "1       8776         0.0                   other        1399     other   \n",
       "2      34310        25.0                   other         686     other   \n",
       "3      67743         0.0                   other         263     other   \n",
       "4      19728         0.0                   other           0     other   \n",
       "...      ...         ...                     ...         ...       ...   \n",
       "59395  60739        10.0                   other        1210     other   \n",
       "59396  27263      4700.0                   other        1212     other   \n",
       "59397  37057         0.0  Government Of Tanzania           0       DWE   \n",
       "59398  31282         0.0                   other           0     other   \n",
       "59399  26348         0.0              World Bank         191     other   \n",
       "\n",
       "       longitude   latitude                    basin  population  \\\n",
       "0      34.938093  -9.856322               Lake Nyasa         109   \n",
       "1      34.698766  -2.147466            Lake Victoria         280   \n",
       "2      37.460664  -3.821329                  Pangani         250   \n",
       "3      38.486161 -11.155298  Ruvuma / Southern Coast          58   \n",
       "4      31.130847  -1.825359            Lake Victoria           0   \n",
       "...          ...        ...                      ...         ...   \n",
       "59395  37.169807  -3.253847                  Pangani         125   \n",
       "59396  35.249991  -9.070629                   Rufiji          56   \n",
       "59397  34.017087  -8.750434                   Rufiji           0   \n",
       "59398  35.861315  -6.378573                   Rufiji           0   \n",
       "59399  38.104048  -6.747464              Wami / Ruvu         150   \n",
       "\n",
       "       public_meeting scheme_management  permit  construction_year  \\\n",
       "0                True               VWC   False               1999   \n",
       "1                True             other    True               2010   \n",
       "2                True               VWC    True               2009   \n",
       "3                True               VWC    True               1986   \n",
       "4                True               VWC    True               2000   \n",
       "...               ...               ...     ...                ...   \n",
       "59395            True       Water Board    True               1999   \n",
       "59396            True               VWC    True               1996   \n",
       "59397            True               VWC   False               2000   \n",
       "59398            True               VWC    True               2000   \n",
       "59399            True               VWC    True               2002   \n",
       "\n",
       "      extraction_type_class payment_type quality_group quantity_group  \\\n",
       "0                   gravity     annually          good         enough   \n",
       "1                   gravity    never pay          good   insufficient   \n",
       "2                   gravity   per bucket          good         enough   \n",
       "3               submersible    never pay          good            dry   \n",
       "4                   gravity    never pay          good       seasonal   \n",
       "...                     ...          ...           ...            ...   \n",
       "59395               gravity   per bucket          good         enough   \n",
       "59396               gravity     annually          good         enough   \n",
       "59397              handpump      monthly      fluoride         enough   \n",
       "59398              handpump    never pay          good   insufficient   \n",
       "59399              handpump   on failure         salty         enough   \n",
       "\n",
       "                     source waterpoint_type_group  status_group  \n",
       "0                    spring    communal standpipe             2  \n",
       "1      rainwater harvesting    communal standpipe             2  \n",
       "2                       dam    communal standpipe             2  \n",
       "3               machine dbh    communal standpipe             0  \n",
       "4      rainwater harvesting    communal standpipe             2  \n",
       "...                     ...                   ...           ...  \n",
       "59395                spring    communal standpipe             2  \n",
       "59396                 river    communal standpipe             2  \n",
       "59397           machine dbh             hand pump             2  \n",
       "59398          shallow well             hand pump             2  \n",
       "59399          shallow well             hand pump             2  \n",
       "\n",
       "[59400 rows x 20 columns]"
      ]
     },
     "execution_count": 332,
     "metadata": {},
     "output_type": "execute_result"
    }
   ],
   "source": [
    "data = tz_data.copy()\n",
    "data"
   ]
  },
  {
   "cell_type": "code",
   "execution_count": 333,
   "id": "5a3d51f7-5a03-429c-a212-267931a8f44a",
   "metadata": {},
   "outputs": [],
   "source": [
    "data['permit'] = data['permit'].astype(int)"
   ]
  },
  {
   "cell_type": "code",
   "execution_count": 334,
   "id": "4bc9c8dc-a23b-43e6-ae9d-813b6526a01a",
   "metadata": {},
   "outputs": [],
   "source": [
    "data['public_meeting'] = data['public_meeting'].astype(int)"
   ]
  },
  {
   "cell_type": "code",
   "execution_count": 335,
   "id": "c5d0c7aa-0d12-4fee-882e-d28e356ffef7",
   "metadata": {},
   "outputs": [],
   "source": [
    "data = data.drop('id', axis =1)"
   ]
  },
  {
   "cell_type": "code",
   "execution_count": null,
   "id": "72af1501-3df9-4a0e-84e8-e6eb6e515fc4",
   "metadata": {},
   "outputs": [],
   "source": []
  },
  {
   "cell_type": "code",
   "execution_count": 336,
   "id": "4f0e6d0a-6db3-4fd8-9a79-63df434b5d1a",
   "metadata": {},
   "outputs": [],
   "source": [
    "cat_cols = ['funder', 'installer', 'basin', 'scheme_management', 'extraction_type_class', 'payment_type', 'quality_group', \n",
    "              'quantity_group', 'source', 'waterpoint_type_group']\n",
    "\n",
    "num_cols = ['amount_tsh', 'gps_height', 'longitude', 'population', 'public_meeting']"
   ]
  },
  {
   "cell_type": "code",
   "execution_count": 337,
   "id": "b65a1688-4467-4806-ad55-a4ab5481aa46",
   "metadata": {},
   "outputs": [],
   "source": [
    "data = pd.get_dummies(data, columns = dummy_cols)"
   ]
  },
  {
   "cell_type": "code",
   "execution_count": 338,
   "id": "9a1d6aa8-4144-42bc-9b0a-798f56a9edb8",
   "metadata": {
    "scrolled": true
   },
   "outputs": [
    {
     "name": "stdout",
     "output_type": "stream",
     "text": [
      "<class 'pandas.core.frame.DataFrame'>\n",
      "RangeIndex: 59400 entries, 0 to 59399\n",
      "Data columns (total 76 columns):\n",
      " #   Column                                    Non-Null Count  Dtype  \n",
      "---  ------                                    --------------  -----  \n",
      " 0   amount_tsh                                59400 non-null  float64\n",
      " 1   gps_height                                59400 non-null  int64  \n",
      " 2   longitude                                 59400 non-null  float64\n",
      " 3   latitude                                  59400 non-null  float64\n",
      " 4   population                                59400 non-null  int64  \n",
      " 5   public_meeting                            59400 non-null  int64  \n",
      " 6   permit                                    59400 non-null  int64  \n",
      " 7   construction_year                         59400 non-null  int64  \n",
      " 8   status_group                              59400 non-null  int64  \n",
      " 9   funder_Danida                             59400 non-null  bool   \n",
      " 10  funder_Government Of Tanzania             59400 non-null  bool   \n",
      " 11  funder_Hesawa                             59400 non-null  bool   \n",
      " 12  funder_Rwssp                              59400 non-null  bool   \n",
      " 13  funder_World Bank                         59400 non-null  bool   \n",
      " 14  funder_other                              59400 non-null  bool   \n",
      " 15  installer_Commu                           59400 non-null  bool   \n",
      " 16  installer_DANIDA                          59400 non-null  bool   \n",
      " 17  installer_DWE                             59400 non-null  bool   \n",
      " 18  installer_Government                      59400 non-null  bool   \n",
      " 19  installer_RWE                             59400 non-null  bool   \n",
      " 20  installer_other                           59400 non-null  bool   \n",
      " 21  basin_Internal                            59400 non-null  bool   \n",
      " 22  basin_Lake Nyasa                          59400 non-null  bool   \n",
      " 23  basin_Lake Rukwa                          59400 non-null  bool   \n",
      " 24  basin_Lake Tanganyika                     59400 non-null  bool   \n",
      " 25  basin_Lake Victoria                       59400 non-null  bool   \n",
      " 26  basin_Pangani                             59400 non-null  bool   \n",
      " 27  basin_Rufiji                              59400 non-null  bool   \n",
      " 28  basin_Ruvuma / Southern Coast             59400 non-null  bool   \n",
      " 29  basin_Wami / Ruvu                         59400 non-null  bool   \n",
      " 30  scheme_management_VWC                     59400 non-null  bool   \n",
      " 31  scheme_management_WUG                     59400 non-null  bool   \n",
      " 32  scheme_management_Water Board             59400 non-null  bool   \n",
      " 33  scheme_management_Water authority         59400 non-null  bool   \n",
      " 34  scheme_management_other                   59400 non-null  bool   \n",
      " 35  extraction_type_class_gravity             59400 non-null  bool   \n",
      " 36  extraction_type_class_handpump            59400 non-null  bool   \n",
      " 37  extraction_type_class_motorpump           59400 non-null  bool   \n",
      " 38  extraction_type_class_other               59400 non-null  bool   \n",
      " 39  extraction_type_class_rope pump           59400 non-null  bool   \n",
      " 40  extraction_type_class_submersible         59400 non-null  bool   \n",
      " 41  extraction_type_class_wind-powered        59400 non-null  bool   \n",
      " 42  payment_type_annually                     59400 non-null  bool   \n",
      " 43  payment_type_monthly                      59400 non-null  bool   \n",
      " 44  payment_type_never pay                    59400 non-null  bool   \n",
      " 45  payment_type_on failure                   59400 non-null  bool   \n",
      " 46  payment_type_other                        59400 non-null  bool   \n",
      " 47  payment_type_per bucket                   59400 non-null  bool   \n",
      " 48  payment_type_unknown                      59400 non-null  bool   \n",
      " 49  quality_group_colored                     59400 non-null  bool   \n",
      " 50  quality_group_fluoride                    59400 non-null  bool   \n",
      " 51  quality_group_good                        59400 non-null  bool   \n",
      " 52  quality_group_milky                       59400 non-null  bool   \n",
      " 53  quality_group_salty                       59400 non-null  bool   \n",
      " 54  quality_group_unknown                     59400 non-null  bool   \n",
      " 55  quantity_group_dry                        59400 non-null  bool   \n",
      " 56  quantity_group_enough                     59400 non-null  bool   \n",
      " 57  quantity_group_insufficient               59400 non-null  bool   \n",
      " 58  quantity_group_seasonal                   59400 non-null  bool   \n",
      " 59  quantity_group_unknown                    59400 non-null  bool   \n",
      " 60  source_dam                                59400 non-null  bool   \n",
      " 61  source_hand dtw                           59400 non-null  bool   \n",
      " 62  source_lake                               59400 non-null  bool   \n",
      " 63  source_machine dbh                        59400 non-null  bool   \n",
      " 64  source_other                              59400 non-null  bool   \n",
      " 65  source_rainwater harvesting               59400 non-null  bool   \n",
      " 66  source_river                              59400 non-null  bool   \n",
      " 67  source_shallow well                       59400 non-null  bool   \n",
      " 68  source_spring                             59400 non-null  bool   \n",
      " 69  source_unknown                            59400 non-null  bool   \n",
      " 70  waterpoint_type_group_cattle trough       59400 non-null  bool   \n",
      " 71  waterpoint_type_group_communal standpipe  59400 non-null  bool   \n",
      " 72  waterpoint_type_group_dam                 59400 non-null  bool   \n",
      " 73  waterpoint_type_group_hand pump           59400 non-null  bool   \n",
      " 74  waterpoint_type_group_improved spring     59400 non-null  bool   \n",
      " 75  waterpoint_type_group_other               59400 non-null  bool   \n",
      "dtypes: bool(67), float64(3), int64(6)\n",
      "memory usage: 7.9 MB\n"
     ]
    }
   ],
   "source": [
    "data.info()"
   ]
  },
  {
   "cell_type": "code",
   "execution_count": 339,
   "id": "9eaf6ab2-b621-426e-ab6c-1ebc5f839b7c",
   "metadata": {},
   "outputs": [],
   "source": [
    "bool_columns = data.select_dtypes(include=bool).columns\n",
    "data[bool_columns] = data[bool_columns].astype(int)"
   ]
  },
  {
   "cell_type": "markdown",
   "id": "cd6bcccc-91c0-4f58-a0c8-fb661a9d7fd2",
   "metadata": {},
   "source": [
    "# Target\n",
    ">- 0 = functional\n",
    ">- 1 = functional but needs repair\n",
    ">- 2 =  non functional\n",
    ">- 0 and 1 will now be functional water pumps and 1 representing functional water pumps"
   ]
  },
  {
   "cell_type": "code",
   "execution_count": 340,
   "id": "0e3fb829-3e82-4b2e-b33e-2c37a1e31336",
   "metadata": {},
   "outputs": [],
   "source": [
    "target_status = {0: 1, 1: 1, 2 : 0}\n",
    "data['status_group'] = data['status_group'].replace(target_status)"
   ]
  },
  {
   "cell_type": "code",
   "execution_count": 341,
   "id": "7ff4136e-a731-4687-85ea-e3e188cc3806",
   "metadata": {},
   "outputs": [],
   "source": [
    "X = data.drop('status_group', axis=1)  \n",
    "y = data['status_group'] "
   ]
  },
  {
   "cell_type": "code",
   "execution_count": 342,
   "id": "fd4a0b8c-5597-4ab1-b91f-398c99008740",
   "metadata": {},
   "outputs": [
    {
     "data": {
      "text/plain": [
       "status_group\n",
       "0    32259\n",
       "1    27141\n",
       "Name: count, dtype: int64"
      ]
     },
     "execution_count": 342,
     "metadata": {},
     "output_type": "execute_result"
    }
   ],
   "source": [
    "data['status_group'].value_counts()"
   ]
  },
  {
   "cell_type": "code",
   "execution_count": 343,
   "id": "0093e0a8-8e64-4fc0-9daf-b8d9912e6176",
   "metadata": {},
   "outputs": [
    {
     "name": "stdout",
     "output_type": "stream",
     "text": [
      "status_group\n",
      "0    0.543081\n",
      "1    0.456919\n",
      "Name: proportion, dtype: float64\n"
     ]
    }
   ],
   "source": [
    "print(data[\"status_group\"].value_counts(normalize=True))"
   ]
  },
  {
   "cell_type": "markdown",
   "id": "f5bde31e-64a0-41c6-923c-0f914a556da7",
   "metadata": {},
   "source": [
    "# Dummy"
   ]
  },
  {
   "cell_type": "code",
   "execution_count": 344,
   "id": "a43d387c-9e50-48f7-b083-60c67943ecae",
   "metadata": {},
   "outputs": [],
   "source": [
    "X_train, X_test, y_train, y_test = train_test_split(X, y, test_size=0.33, random_state=42)"
   ]
  },
  {
   "cell_type": "code",
   "execution_count": 345,
   "id": "74513b5a-23a3-4149-8ddd-bf34898e9bad",
   "metadata": {},
   "outputs": [],
   "source": [
    "scaler = StandardScaler()\n",
    "X_train_scaled = scaler.fit_transform(X_train)\n",
    "X_test_scaled = scaler.transform(X_test)"
   ]
  },
  {
   "cell_type": "code",
   "execution_count": 346,
   "id": "910bd213-1e54-423e-bf31-cedc65aca418",
   "metadata": {},
   "outputs": [
    {
     "name": "stdout",
     "output_type": "stream",
     "text": [
      "Confusion matrix, without normalization\n",
      "[[10719     0]\n",
      " [ 8883     0]]\n",
      "Normalized confusion matrix\n",
      "[[1. 0.]\n",
      " [1. 0.]]\n"
     ]
    },
    {
     "data": {
      "image/png": "[encoded data removed]",
      "text/plain": [
       "<Figure size 640x480 with 2 Axes>"
      ]
     },
     "metadata": {},
     "output_type": "display_data"
    },
    {
     "data": {
      "image/png": "[encoded data removed]",
      "text/plain": [
       "<Figure size 640x480 with 2 Axes>"
      ]
     },
     "metadata": {},
     "output_type": "display_data"
    }
   ],
   "source": [
    "confusion_matrix_options = [(\"Confusion matrix, without normalization\", None),\n",
    "                            (\"Normalized confusion matrix\", 'true')]\n",
    "\n",
    "# Iterate over the options and display the confusion matrix for each\n",
    "for title, normalize in confusion_matrix_options:\n",
    "    # Create a dummy classifier with a constant prediction of 1\n",
    "    dummy_clf = DummyClassifier(strategy='most_frequent').fit(X_train, y_train)\n",
    "    \n",
    "    # Generate the confusion matrix display using the dummy classifier\n",
    "    disp = ConfusionMatrixDisplay.from_estimator(dummy_clf, X_test, y_test, normalize=normalize)\n",
    "      \n",
    "    # Set the title of the confusion matrix display\n",
    "    disp.ax_.set_title(title)\n",
    "\n",
    "    # Print the title and the confusion matrix\n",
    "    print(title)\n",
    "    print(disp.confusion_matrix)\n",
    "\n",
    "# Show the plot with all the confusion matrices\n",
    "plt.show()"
   ]
  },
  {
   "cell_type": "code",
   "execution_count": 347,
   "id": "61e777bf-a4bd-4696-852d-18f85ada0f55",
   "metadata": {},
   "outputs": [],
   "source": [
    "dummy_model = DummyClassifier(strategy='most_frequent').fit(X_train, y_train)"
   ]
  },
  {
   "cell_type": "code",
   "execution_count": 348,
   "id": "40eccd5c-bde8-4fb4-ab2b-61e7c0e5cbfd",
   "metadata": {
    "scrolled": true
   },
   "outputs": [
    {
     "data": {
      "text/plain": [
       "0.541233227800392"
      ]
     },
     "execution_count": 348,
     "metadata": {},
     "output_type": "execute_result"
    }
   ],
   "source": [
    "dummy_model.score(X_train, y_train)"
   ]
  },
  {
   "cell_type": "code",
   "execution_count": 349,
   "id": "75d076be-63cb-4041-bc6c-4bef7ed345c9",
   "metadata": {},
   "outputs": [
    {
     "data": {
      "text/plain": [
       "0.546831955922865"
      ]
     },
     "execution_count": 349,
     "metadata": {},
     "output_type": "execute_result"
    }
   ],
   "source": [
    "dummy_model.score(X_test, y_test)"
   ]
  },
  {
   "cell_type": "code",
   "execution_count": 350,
   "id": "ba78e8be-9b6e-4e8c-af19-726b6e4ee332",
   "metadata": {},
   "outputs": [
    {
     "data": {
      "text/plain": [
       "status_group\n",
       "0    0.541233\n",
       "1    0.458767\n",
       "Name: proportion, dtype: float64"
      ]
     },
     "execution_count": 350,
     "metadata": {},
     "output_type": "execute_result"
    }
   ],
   "source": [
    "y_train.value_counts(normalize=True)"
   ]
  },
  {
   "cell_type": "code",
   "execution_count": 351,
   "id": "c9da85e4-2d3e-473f-8785-482916049589",
   "metadata": {},
   "outputs": [
    {
     "data": {
      "text/plain": [
       "0.7444648505254566"
      ]
     },
     "execution_count": 351,
     "metadata": {},
     "output_type": "execute_result"
    }
   ],
   "source": [
    "dummy_accuracy = accuracy_score(y_test, y_pred)\n",
    "dummy_accuracy"
   ]
  },
  {
   "cell_type": "code",
   "execution_count": 352,
   "id": "28f192e4-0471-41fd-abcd-cb28b20f8e82",
   "metadata": {},
   "outputs": [
    {
     "data": {
      "text/plain": [
       "array([0.87153652, 0.59112912])"
      ]
     },
     "execution_count": 352,
     "metadata": {},
     "output_type": "execute_result"
    }
   ],
   "source": [
    "dummy_recall = recall_score(y_test, y_pred, average=None)\n",
    "dummy_recall"
   ]
  },
  {
   "cell_type": "code",
   "execution_count": 353,
   "id": "5a4b83d0-6e5a-46fa-968d-84a77a67c937",
   "metadata": {},
   "outputs": [
    {
     "data": {
      "text/plain": [
       "array([0.7200555 , 0.79224502])"
      ]
     },
     "execution_count": 353,
     "metadata": {},
     "output_type": "execute_result"
    }
   ],
   "source": [
    "dummy_precision = precision_score(y_test, y_pred, average=None)\n",
    "dummy_precision"
   ]
  },
  {
   "cell_type": "code",
   "execution_count": 354,
   "id": "b660840d-dbf1-45ea-8e4e-9d463acbc99f",
   "metadata": {},
   "outputs": [
    {
     "data": {
      "text/plain": [
       "array([0.78858735, 0.67706789])"
      ]
     },
     "execution_count": 354,
     "metadata": {},
     "output_type": "execute_result"
    }
   ],
   "source": [
    "dummy_f1 = f1_score(y_test, y_pred, average=None)\n",
    "dummy_f1"
   ]
  },
  {
   "cell_type": "markdown",
   "id": "cda43793-27ad-42bd-a48b-179e7f9dfd50",
   "metadata": {},
   "source": [
    "# Model Evaluation"
   ]
  },
  {
   "cell_type": "code",
   "execution_count": 355,
   "id": "08b71163-ec97-45c2-8980-12802ac9ef44",
   "metadata": {
    "scrolled": true
   },
   "outputs": [
    {
     "data": {
      "text/plain": [
       "array([0.54120603, 0.54120603, 0.54120603, 0.54127403, 0.54127403])"
      ]
     },
     "execution_count": 355,
     "metadata": {},
     "output_type": "execute_result"
    }
   ],
   "source": [
    "cv_results = cross_val_score(dummy_model, X_train, y_train, cv=5)\n",
    "\n",
    "cv_results"
   ]
  },
  {
   "cell_type": "code",
   "execution_count": 356,
   "id": "b7b90188-40d8-40c6-80a8-d5c8005d0bae",
   "metadata": {},
   "outputs": [],
   "source": [
    "class ModelWithCV():\n",
    "    '''Structure to save the model and more easily see its cross-validation'''\n",
    "    \n",
    "    def __init__(self, model, model_name, X, y, cv_now=True):\n",
    "        self.model = model\n",
    "        self.name = model_name\n",
    "        self.X = X\n",
    "        self.y = y\n",
    "        # For CV results\n",
    "        self.cv_results = None\n",
    "        self.cv_mean = None\n",
    "        self.cv_std = None\n",
    "        #\n",
    "        if cv_now:\n",
    "            self.cross_validate()\n",
    "        \n",
    "    def cross_validate(self, X=None, y=None, cv=5):\n",
    "        '''\n",
    "        Perform cross-validation and store the results.\n",
    "        \n",
    "        Args: \n",
    "          X:\n",
    "            Optional; Training data to perform CV on. Otherwise use X from object\n",
    "          y:\n",
    "            Optional; Training data to perform CV on. Otherwise use y from object\n",
    "          cv:\n",
    "            Optional; Number of folds for CV (default is 5)  \n",
    "        '''\n",
    "        \n",
    "        cv_X = X if X is not None else self.X\n",
    "        cv_y = y if y is not None else self.y\n",
    "\n",
    "        self.cv_results = cross_val_score(self.model, cv_X, cv_y, cv=cv)\n",
    "        self.cv_mean = np.mean(self.cv_results)\n",
    "        self.cv_std = np.std(self.cv_results)\n",
    "\n",
    "        \n",
    "    def print_cv_summary(self):\n",
    "        if self.cv_results is not None:\n",
    "            cv_summary = (\n",
    "            f'''CV Results for `{self.name}` model:\n",
    "                Mean Accuracy: {self.cv_mean:.5f}\n",
    "                Standard Deviation: {self.cv_std:.5f}\n",
    "            ''')\n",
    "            print(cv_summary)\n",
    "        else:\n",
    "            print(\"No cross-validation results available.\")\n",
    "\n",
    "        \n",
    "    def plot_cv(self, ax):\n",
    "        '''\n",
    "        Plot the cross-validation values using the array of results and given \n",
    "        Axis for plotting.\n",
    "        '''\n",
    "        if self.cv_results is not None:\n",
    "            ax.set_title(f'CV Results for `{self.name}` Model')\n",
    "            sns.violinplot(y=self.cv_results, ax=ax, bw=.4)\n",
    "            sns.swarmplot(\n",
    "                    y=self.cv_results,\n",
    "                    color='orange',\n",
    "                    size=10,\n",
    "                    alpha= 0.8,\n",
    "                    ax=ax\n",
    "            )\n",
    "        else:\n",
    "            ax.set_title(\"No cross-validation results available.\")\n",
    "\n",
    "        return ax"
   ]
  },
  {
   "cell_type": "code",
   "execution_count": 357,
   "id": "a62c1446-7319-4bb2-869d-a263532c432c",
   "metadata": {},
   "outputs": [],
   "source": [
    "dummy_model_results = ModelWithCV(\n",
    "    model=dummy_model,\n",
    "    model_name = 'Dummy',\n",
    "    X=X_train,\n",
    "    y=y_train\n",
    ")"
   ]
  },
  {
   "cell_type": "code",
   "execution_count": 358,
   "id": "0963b252-37da-4cea-9770-bc55388b5267",
   "metadata": {},
   "outputs": [
    {
     "name": "stdout",
     "output_type": "stream",
     "text": [
      "CV Results for `Dummy` model:\n",
      "                Mean Accuracy: 0.54123\n",
      "                Standard Deviation: 0.00003\n",
      "            \n"
     ]
    },
    {
     "data": {
      "image/png": "[encoded data removed]",
      "text/plain": [
       "<Figure size 640x480 with 1 Axes>"
      ]
     },
     "metadata": {},
     "output_type": "display_data"
    }
   ],
   "source": [
    "import matplotlib.pyplot as plt\n",
    "import seaborn as sns\n",
    "%matplotlib inline\n",
    "\n",
    "fig, ax = plt.subplots()\n",
    "\n",
    "ax = dummy_model_results.plot_cv(ax)\n",
    "plt.tight_layout();\n",
    "\n",
    "dummy_model_results.print_cv_summary()"
   ]
  },
  {
   "cell_type": "markdown",
   "id": "da45c67f-62bd-445e-86ce-1c7bd7dff2b8",
   "metadata": {},
   "source": [
    "# LogisticRegression"
   ]
  },
  {
   "cell_type": "code",
   "execution_count": 360,
   "id": "c1f38f10-ddad-4121-97cc-2e92033e7f56",
   "metadata": {},
   "outputs": [],
   "source": [
    "scaler = StandardScaler()\n",
    "X_train_scaled = scaler.fit_transform(X_train)\n",
    "X_test_scaled = scaler.transform(X_test)"
   ]
  },
  {
   "cell_type": "code",
   "execution_count": 361,
   "id": "7f207a86-9139-48a1-b43a-8c4e22a26df3",
   "metadata": {},
   "outputs": [
    {
     "data": {
      "image/png": "[encoded data removed]",
      "text/plain": [
       "<Figure size 640x480 with 2 Axes>"
      ]
     },
     "metadata": {},
     "output_type": "display_data"
    }
   ],
   "source": [
    "from sklearn.linear_model import LogisticRegression\n",
    "\n",
    "# Instantiate the model\n",
    "baseline_model = LogisticRegression(random_state=42, max_iter=10000)\n",
    "\n",
    "# Fit the model on the scaled data\n",
    "baseline_model.fit(X_train_scaled, y_train)\n",
    "\n",
    "ConfusionMatrixDisplay.from_estimator(model, X_train_scaled, y_train);"
   ]
  },
  {
   "cell_type": "code",
   "execution_count": 362,
   "id": "9b7969e5-dc4b-4424-9131-4c2ad3d555d5",
   "metadata": {
    "scrolled": true
   },
   "outputs": [
    {
     "data": {
      "text/plain": [
       "0.5091332570889694"
      ]
     },
     "execution_count": 362,
     "metadata": {},
     "output_type": "execute_result"
    }
   ],
   "source": [
    "baseline_neg_log_loss_cv = cross_val_score(estimator=baseline_model, X=X_train_scaled, y=y_train, scoring=\"neg_log_loss\")\n",
    "\n",
    "baseline_log_loss = -(baseline_neg_log_loss_cv.mean())\n",
    "baseline_log_loss"
   ]
  },
  {
   "cell_type": "code",
   "execution_count": 363,
   "id": "789aee79-7bf8-4a75-8355-bb2631638269",
   "metadata": {},
   "outputs": [
    {
     "data": {
      "text/plain": [
       "16.535630523606734"
      ]
     },
     "execution_count": 363,
     "metadata": {},
     "output_type": "execute_result"
    }
   ],
   "source": [
    "log_loss(y_train, np.zeros(len(y_train)))"
   ]
  },
  {
   "cell_type": "code",
   "execution_count": 365,
   "id": "dba149c2-a7c2-478e-924b-8c465f3d94ff",
   "metadata": {},
   "outputs": [
    {
     "data": {
      "text/plain": [
       "array([0.74543947, 0.74038896, 0.7394844 ])"
      ]
     },
     "execution_count": 365,
     "metadata": {},
     "output_type": "execute_result"
    }
   ],
   "source": [
    "cv_scores = cross_val_score(baseline_model, X_train_scaled, y_train, cv=3)\n",
    "cv_scores"
   ]
  },
  {
   "cell_type": "code",
   "execution_count": 366,
   "id": "d27acae6-e97b-4fd0-b4b9-ec83642909df",
   "metadata": {},
   "outputs": [
    {
     "data": {
      "text/plain": [
       "0.7311498826650342"
      ]
     },
     "execution_count": 366,
     "metadata": {},
     "output_type": "execute_result"
    }
   ],
   "source": [
    "model_accuracy = accuracy_score(y_test, model.predict(X_test_scaled))\n",
    "model_recall = recall_score(y_test, model.predict(X_test_scaled))\n",
    "model_precision = precision_score(y_test, model.predict(X_test_scaled))\n",
    "model_f1 = f1_score(y_test, model.predict(X_test_scaled))\n",
    "model_accuracy"
   ]
  },
  {
   "cell_type": "code",
   "execution_count": null,
   "id": "bfc32561-74be-47e4-852a-712357963576",
   "metadata": {},
   "outputs": [],
   "source": []
  },
  {
   "cell_type": "code",
   "execution_count": null,
   "id": "a4c0dd22-0ea6-4082-b6dd-fe54f6feb978",
   "metadata": {},
   "outputs": [],
   "source": []
  },
  {
   "cell_type": "code",
   "execution_count": null,
   "id": "78248aa0-4ddc-4e60-841c-10e77ee7339e",
   "metadata": {},
   "outputs": [],
   "source": []
  }
 ],
 "metadata": {
  "kernelspec": {
   "display_name": "Python 3 (ipykernel)",
   "language": "python",
   "name": "python3"
  },
  "language_info": {
   "codemirror_mode": {
    "name": "ipython",
    "version": 3
   },
   "file_extension": ".py",
   "mimetype": "text/x-python",
   "name": "python",
   "nbconvert_exporter": "python",
   "pygments_lexer": "ipython3",
   "version": "3.9.16"
  }
 },
 "nbformat": 4,
 "nbformat_minor": 5
}
