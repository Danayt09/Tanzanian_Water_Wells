{
 "cells": [
  {
   "cell_type": "markdown",
   "id": "d33d8ed3-782b-42d5-9101-280de15c6293",
   "metadata": {},
   "source": [
    "# Phase 3 Project Tanzanian Water Wells"
   ]
  },
  {
   "cell_type": "markdown",
   "id": "99191248-05d2-4033-ae47-5d3218d63e35",
   "metadata": {},
   "source": [
    "## Binary Logistic regression Model"
   ]
  },
  {
   "cell_type": "code",
   "execution_count": 38,
   "id": "332ff4d4-3c08-4c8a-84b2-f7897f5543eb",
   "metadata": {},
   "outputs": [],
   "source": [
    "import pandas as pd\n",
    "from sklearn.model_selection import train_test_split, GridSearchCV, cross_validate, cross_val_score\n",
    "from sklearn.preprocessing import OneHotEncoder, StandardScaler, PolynomialFeatures\n",
    "from sklearn.impute import SimpleImputer\n",
    "from sklearn.compose import ColumnTransformer\n",
    "from sklearn.linear_model import LogisticRegression, Ridge\n",
    "from sklearn.pipeline import Pipeline\n",
    "from sklearn.metrics import log_loss, ConfusionMatrixDisplay, confusion_matrix\n",
    "from sklearn.metrics import accuracy_score, balanced_accuracy_score, classification_report, roc_curve\n",
    "import seaborn as sns\n",
    "from sklearn.dummy import DummyClassifier\n",
    "from sklearn.impute import SimpleImputer\n",
    "from imblearn.over_sampling import SMOTE\n",
    "import matplotlib.pyplot as plt\n",
    "from sklearn.base import BaseEstimator, TransformerMixin\n",
    "from imblearn.pipeline import Pipeline as ImPipeline"
   ]
  },
  {
   "cell_type": "code",
   "execution_count": 39,
   "id": "d9130f63-1a54-4356-812f-7f93fe33a061",
   "metadata": {},
   "outputs": [],
   "source": [
    "tz_data = pd.read_csv('train_data.csv')"
   ]
  },
  {
   "cell_type": "markdown",
   "id": "a5d2fae9-a858-4870-9ab7-0a85e9a679d6",
   "metadata": {},
   "source": [
    ">- Please refer to the EDA notebook for the cleaning process towards the final data."
   ]
  },
  {
   "cell_type": "code",
   "execution_count": 40,
   "id": "ba3a5b53-1a10-4e0f-a8d1-dd018d710064",
   "metadata": {
    "scrolled": true
   },
   "outputs": [],
   "source": [
    "data = tz_data.copy()"
   ]
  },
  {
   "cell_type": "code",
   "execution_count": 41,
   "id": "32b1faac-14fc-417c-a7ca-514d92ec365c",
   "metadata": {},
   "outputs": [],
   "source": [
    "# dropping more columns for modeling\n",
    "# Will be using age of well instead of constraction year for prediction\n",
    "# Data's record doesn't seem important for modeling and dropping it for now\n",
    "data = data.drop(['id', 'date_recorded', 'construction_year','recorded_by'], axis =1)"
   ]
  },
  {
   "cell_type": "code",
   "execution_count": 42,
   "id": "145ccc46-a9e9-441b-a8fa-1b00ad241545",
   "metadata": {},
   "outputs": [],
   "source": [
    "# Changing all T/F columns \n",
    "bool_columns = data.select_dtypes(include=bool).columns\n",
    "data[bool_columns] = data[bool_columns].astype(int)"
   ]
  },
  {
   "cell_type": "markdown",
   "id": "e923bacc-439f-48cb-807b-be76caa98a26",
   "metadata": {},
   "source": [
    "# Target\n",
    ">- 0 = Needs Repair\n",
    ">- 1 = Functional"
   ]
  },
  {
   "cell_type": "code",
   "execution_count": 43,
   "id": "5a5dc3e7-d26e-4740-97fd-104297a25c84",
   "metadata": {
    "scrolled": true
   },
   "outputs": [
    {
     "data": {
      "text/plain": [
       "status_group\n",
       "1    32259\n",
       "0    27141\n",
       "Name: count, dtype: int64"
      ]
     },
     "execution_count": 43,
     "metadata": {},
     "output_type": "execute_result"
    }
   ],
   "source": [
    "data['status_group'].value_counts()"
   ]
  },
  {
   "cell_type": "code",
   "execution_count": 44,
   "id": "d6dd5eca-ca10-4ae8-9c84-fe169f038461",
   "metadata": {},
   "outputs": [],
   "source": [
    "X = data.drop('status_group', axis=1)  \n",
    "y = data['status_group']"
   ]
  },
  {
   "cell_type": "code",
   "execution_count": 45,
   "id": "1ec1958a-9d61-4667-b7f4-e7aee4eec357",
   "metadata": {},
   "outputs": [],
   "source": [
    "X_train, X_test, y_train, y_test = train_test_split(X, y, test_size=0.33, random_state=42)"
   ]
  },
  {
   "cell_type": "code",
   "execution_count": 46,
   "id": "56237a10-0f73-4355-af9b-46e8cf8f3f67",
   "metadata": {},
   "outputs": [
    {
     "name": "stdout",
     "output_type": "stream",
     "text": [
      "<class 'pandas.core.frame.DataFrame'>\n",
      "RangeIndex: 59400 entries, 0 to 59399\n",
      "Data columns (total 18 columns):\n",
      " #   Column                 Non-Null Count  Dtype  \n",
      "---  ------                 --------------  -----  \n",
      " 0   funder                 59400 non-null  object \n",
      " 1   gps_height             59400 non-null  int64  \n",
      " 2   installer              59400 non-null  object \n",
      " 3   basin                  59400 non-null  object \n",
      " 4   region                 59400 non-null  object \n",
      " 5   population             59400 non-null  float64\n",
      " 6   public_meeting         59400 non-null  int64  \n",
      " 7   permit                 59400 non-null  int64  \n",
      " 8   extraction_type_class  59400 non-null  object \n",
      " 9   management_group       59400 non-null  object \n",
      " 10  payment                59400 non-null  object \n",
      " 11  water_quality          59400 non-null  object \n",
      " 12  quantity               59400 non-null  object \n",
      " 13  source                 59400 non-null  object \n",
      " 14  source_class           59400 non-null  object \n",
      " 15  waterpoint_type_group  59400 non-null  object \n",
      " 16  status_group           59400 non-null  int64  \n",
      " 17  age_of_well            59400 non-null  int64  \n",
      "dtypes: float64(1), int64(5), object(12)\n",
      "memory usage: 8.2+ MB\n"
     ]
    }
   ],
   "source": [
    "data.info()"
   ]
  },
  {
   "cell_type": "markdown",
   "id": "613ff0a6-950b-4509-924c-b84e8fecaf76",
   "metadata": {},
   "source": [
    "# Processing \n",
    ">- setting the columns based on their features for pipeline modeling"
   ]
  },
  {
   "cell_type": "code",
   "execution_count": 47,
   "id": "57f54eec-4968-4d53-afcb-bb51ade141c2",
   "metadata": {},
   "outputs": [],
   "source": [
    "cat_cols = ['installer', 'funder', 'basin', 'management_group', 'extraction_type_class', 'payment', 'water_quality', \n",
    "              'quantity', 'source', 'source_class', 'waterpoint_type_group', 'region']\n",
    "\n",
    "num_cols = ['gps_height', 'population', 'age_of_well']\n",
    "bin_cols = ['permit', 'public_meeting']"
   ]
  },
  {
   "cell_type": "code",
   "execution_count": 48,
   "id": "8f6db10b-9cd9-42fc-b55d-71debaed9b6a",
   "metadata": {},
   "outputs": [],
   "source": [
    "#A df to record results\n",
    "data_results = pd.DataFrame(columns=[\"Model\", 'va_score',\"test_balanced_acc\",\n",
    "                                   'train_balanced_acc', 'logloss','info','param'])"
   ]
  },
  {
   "cell_type": "markdown",
   "id": "a3dfbeb0-09c4-46fa-99d6-328bbf6f8b78",
   "metadata": {},
   "source": [
    ">- Transforming to a pipeline with OHE, scaler, imputer and polynomial features"
   ]
  },
  {
   "cell_type": "code",
   "execution_count": 49,
   "id": "35939be6-ad2d-4b2c-8a76-3f148299a9bd",
   "metadata": {},
   "outputs": [],
   "source": [
    "categorical_transformer = Pipeline(steps=[\n",
    "    ('imputer', SimpleImputer(strategy='most_frequent')),\n",
    "    ('encoder', OneHotEncoder())\n",
    "    \n",
    "])\n",
    "\n",
    "numerical_transformer = Pipeline(steps=[\n",
    "    ('imputer', SimpleImputer(strategy='median')),\n",
    "    ('poly',PolynomialFeatures()),\n",
    "    ('scaler', StandardScaler())\n",
    "])\n",
    "\n",
    "binary_transformer = Pipeline([\n",
    "    ('bin_impute', SimpleImputer(strategy='most_frequent'))\n",
    "])"
   ]
  },
  {
   "cell_type": "code",
   "execution_count": 50,
   "id": "3aaca9a2-b109-4d3c-a3ed-9a7b273e9c4d",
   "metadata": {},
   "outputs": [],
   "source": [
    "preprocessor = ColumnTransformer(\n",
    "    transformers=[\n",
    "        ('cat', categorical_transformer, cat_cols),\n",
    "        ('num', numerical_transformer, num_cols),\n",
    "        ('bins',binary_transformer, bin_cols)\n",
    "    ])"
   ]
  },
  {
   "cell_type": "markdown",
   "id": "20a18e59-ef7f-41c1-ac85-f495449a907a",
   "metadata": {},
   "source": [
    "# Dummy model\n",
    ">- Dummy classifier resulted with a 0.5 balanced accuracy score\n",
    ">- But similar results on test and train could mean the model is overly complex"
   ]
  },
  {
   "cell_type": "code",
   "execution_count": 51,
   "id": "2e967dc5-410a-4d19-a932-8aee4768dc40",
   "metadata": {},
   "outputs": [],
   "source": [
    "Dummy_model = Pipeline(steps=[\n",
    "    ('processes', preprocessor),\n",
    "    ('classifier',DummyClassifier(strategy='most_frequent', random_state=42))\n",
    "])"
   ]
  },
  {
   "cell_type": "code",
   "execution_count": 52,
   "id": "bfe53755-bbdb-425c-a5c8-f54bb1dca2cd",
   "metadata": {},
   "outputs": [],
   "source": [
    "X_train_dum, X_val, y_train_dum, y_val = train_test_split(X_train, y_train, test_size=0.2, random_state=42)"
   ]
  },
  {
   "cell_type": "code",
   "execution_count": 53,
   "id": "0e2df5be-3cf2-4175-963b-462b371cfb34",
   "metadata": {},
   "outputs": [
    {
     "data": {
      "text/html": [
       "<style>#sk-container-id-1 {color: black;}#sk-container-id-1 pre{padding: 0;}#sk-container-id-1 div.sk-toggleable {background-color: white;}#sk-container-id-1 label.sk-toggleable__label {cursor: pointer;display: block;width: 100%;margin-bottom: 0;padding: 0.3em;box-sizing: border-box;text-align: center;}#sk-container-id-1 label.sk-toggleable__label-arrow:before {content: \"▸\";float: left;margin-right: 0.25em;color: #696969;}#sk-container-id-1 label.sk-toggleable__label-arrow:hover:before {color: black;}#sk-container-id-1 div.sk-estimator:hover label.sk-toggleable__label-arrow:before {color: black;}#sk-container-id-1 div.sk-toggleable__content {max-height: 0;max-width: 0;overflow: hidden;text-align: left;background-color: #f0f8ff;}#sk-container-id-1 div.sk-toggleable__content pre {margin: 0.2em;color: black;border-radius: 0.25em;background-color: #f0f8ff;}#sk-container-id-1 input.sk-toggleable__control:checked~div.sk-toggleable__content {max-height: 200px;max-width: 100%;overflow: auto;}#sk-container-id-1 input.sk-toggleable__control:checked~label.sk-toggleable__label-arrow:before {content: \"▾\";}#sk-container-id-1 div.sk-estimator input.sk-toggleable__control:checked~label.sk-toggleable__label {background-color: #d4ebff;}#sk-container-id-1 div.sk-label input.sk-toggleable__control:checked~label.sk-toggleable__label {background-color: #d4ebff;}#sk-container-id-1 input.sk-hidden--visually {border: 0;clip: rect(1px 1px 1px 1px);clip: rect(1px, 1px, 1px, 1px);height: 1px;margin: -1px;overflow: hidden;padding: 0;position: absolute;width: 1px;}#sk-container-id-1 div.sk-estimator {font-family: monospace;background-color: #f0f8ff;border: 1px dotted black;border-radius: 0.25em;box-sizing: border-box;margin-bottom: 0.5em;}#sk-container-id-1 div.sk-estimator:hover {background-color: #d4ebff;}#sk-container-id-1 div.sk-parallel-item::after {content: \"\";width: 100%;border-bottom: 1px solid gray;flex-grow: 1;}#sk-container-id-1 div.sk-label:hover label.sk-toggleable__label {background-color: #d4ebff;}#sk-container-id-1 div.sk-serial::before {content: \"\";position: absolute;border-left: 1px solid gray;box-sizing: border-box;top: 0;bottom: 0;left: 50%;z-index: 0;}#sk-container-id-1 div.sk-serial {display: flex;flex-direction: column;align-items: center;background-color: white;padding-right: 0.2em;padding-left: 0.2em;position: relative;}#sk-container-id-1 div.sk-item {position: relative;z-index: 1;}#sk-container-id-1 div.sk-parallel {display: flex;align-items: stretch;justify-content: center;background-color: white;position: relative;}#sk-container-id-1 div.sk-item::before, #sk-container-id-1 div.sk-parallel-item::before {content: \"\";position: absolute;border-left: 1px solid gray;box-sizing: border-box;top: 0;bottom: 0;left: 50%;z-index: -1;}#sk-container-id-1 div.sk-parallel-item {display: flex;flex-direction: column;z-index: 1;position: relative;background-color: white;}#sk-container-id-1 div.sk-parallel-item:first-child::after {align-self: flex-end;width: 50%;}#sk-container-id-1 div.sk-parallel-item:last-child::after {align-self: flex-start;width: 50%;}#sk-container-id-1 div.sk-parallel-item:only-child::after {width: 0;}#sk-container-id-1 div.sk-dashed-wrapped {border: 1px dashed gray;margin: 0 0.4em 0.5em 0.4em;box-sizing: border-box;padding-bottom: 0.4em;background-color: white;}#sk-container-id-1 div.sk-label label {font-family: monospace;font-weight: bold;display: inline-block;line-height: 1.2em;}#sk-container-id-1 div.sk-label-container {text-align: center;}#sk-container-id-1 div.sk-container {/* jupyter's `normalize.less` sets `[hidden] { display: none; }` but bootstrap.min.css set `[hidden] { display: none !important; }` so we also need the `!important` here to be able to override the default hidden behavior on the sphinx rendered scikit-learn.org. See: https://github.com/scikit-learn/scikit-learn/issues/21755 */display: inline-block !important;position: relative;}#sk-container-id-1 div.sk-text-repr-fallback {display: none;}</style><div id=\"sk-container-id-1\" class=\"sk-top-container\"><div class=\"sk-text-repr-fallback\"><pre>Pipeline(steps=[(&#x27;processes&#x27;,\n",
       "                 ColumnTransformer(transformers=[(&#x27;cat&#x27;,\n",
       "                                                  Pipeline(steps=[(&#x27;imputer&#x27;,\n",
       "                                                                   SimpleImputer(strategy=&#x27;most_frequent&#x27;)),\n",
       "                                                                  (&#x27;encoder&#x27;,\n",
       "                                                                   OneHotEncoder())]),\n",
       "                                                  [&#x27;installer&#x27;, &#x27;funder&#x27;,\n",
       "                                                   &#x27;basin&#x27;, &#x27;management_group&#x27;,\n",
       "                                                   &#x27;extraction_type_class&#x27;,\n",
       "                                                   &#x27;payment&#x27;, &#x27;water_quality&#x27;,\n",
       "                                                   &#x27;quantity&#x27;, &#x27;source&#x27;,\n",
       "                                                   &#x27;source_class&#x27;,\n",
       "                                                   &#x27;waterpoint_type_group&#x27;,\n",
       "                                                   &#x27;region&#x27;]),\n",
       "                                                 (&#x27;num&#x27;,\n",
       "                                                  Pipeline(steps=[(&#x27;imputer&#x27;,\n",
       "                                                                   SimpleImputer(strategy=&#x27;median&#x27;)),\n",
       "                                                                  (&#x27;poly&#x27;,\n",
       "                                                                   PolynomialFeatures()),\n",
       "                                                                  (&#x27;scaler&#x27;,\n",
       "                                                                   StandardScaler())]),\n",
       "                                                  [&#x27;gps_height&#x27;, &#x27;population&#x27;,\n",
       "                                                   &#x27;age_of_well&#x27;]),\n",
       "                                                 (&#x27;bins&#x27;,\n",
       "                                                  Pipeline(steps=[(&#x27;bin_impute&#x27;,\n",
       "                                                                   SimpleImputer(strategy=&#x27;most_frequent&#x27;))]),\n",
       "                                                  [&#x27;permit&#x27;,\n",
       "                                                   &#x27;public_meeting&#x27;])])),\n",
       "                (&#x27;classifier&#x27;,\n",
       "                 DummyClassifier(random_state=42, strategy=&#x27;most_frequent&#x27;))])</pre><b>In a Jupyter environment, please rerun this cell to show the HTML representation or trust the notebook. <br />On GitHub, the HTML representation is unable to render, please try loading this page with nbviewer.org.</b></div><div class=\"sk-container\" hidden><div class=\"sk-item sk-dashed-wrapped\"><div class=\"sk-label-container\"><div class=\"sk-label sk-toggleable\"><input class=\"sk-toggleable__control sk-hidden--visually\" id=\"sk-estimator-id-1\" type=\"checkbox\" ><label for=\"sk-estimator-id-1\" class=\"sk-toggleable__label sk-toggleable__label-arrow\">Pipeline</label><div class=\"sk-toggleable__content\"><pre>Pipeline(steps=[(&#x27;processes&#x27;,\n",
       "                 ColumnTransformer(transformers=[(&#x27;cat&#x27;,\n",
       "                                                  Pipeline(steps=[(&#x27;imputer&#x27;,\n",
       "                                                                   SimpleImputer(strategy=&#x27;most_frequent&#x27;)),\n",
       "                                                                  (&#x27;encoder&#x27;,\n",
       "                                                                   OneHotEncoder())]),\n",
       "                                                  [&#x27;installer&#x27;, &#x27;funder&#x27;,\n",
       "                                                   &#x27;basin&#x27;, &#x27;management_group&#x27;,\n",
       "                                                   &#x27;extraction_type_class&#x27;,\n",
       "                                                   &#x27;payment&#x27;, &#x27;water_quality&#x27;,\n",
       "                                                   &#x27;quantity&#x27;, &#x27;source&#x27;,\n",
       "                                                   &#x27;source_class&#x27;,\n",
       "                                                   &#x27;waterpoint_type_group&#x27;,\n",
       "                                                   &#x27;region&#x27;]),\n",
       "                                                 (&#x27;num&#x27;,\n",
       "                                                  Pipeline(steps=[(&#x27;imputer&#x27;,\n",
       "                                                                   SimpleImputer(strategy=&#x27;median&#x27;)),\n",
       "                                                                  (&#x27;poly&#x27;,\n",
       "                                                                   PolynomialFeatures()),\n",
       "                                                                  (&#x27;scaler&#x27;,\n",
       "                                                                   StandardScaler())]),\n",
       "                                                  [&#x27;gps_height&#x27;, &#x27;population&#x27;,\n",
       "                                                   &#x27;age_of_well&#x27;]),\n",
       "                                                 (&#x27;bins&#x27;,\n",
       "                                                  Pipeline(steps=[(&#x27;bin_impute&#x27;,\n",
       "                                                                   SimpleImputer(strategy=&#x27;most_frequent&#x27;))]),\n",
       "                                                  [&#x27;permit&#x27;,\n",
       "                                                   &#x27;public_meeting&#x27;])])),\n",
       "                (&#x27;classifier&#x27;,\n",
       "                 DummyClassifier(random_state=42, strategy=&#x27;most_frequent&#x27;))])</pre></div></div></div><div class=\"sk-serial\"><div class=\"sk-item sk-dashed-wrapped\"><div class=\"sk-label-container\"><div class=\"sk-label sk-toggleable\"><input class=\"sk-toggleable__control sk-hidden--visually\" id=\"sk-estimator-id-2\" type=\"checkbox\" ><label for=\"sk-estimator-id-2\" class=\"sk-toggleable__label sk-toggleable__label-arrow\">processes: ColumnTransformer</label><div class=\"sk-toggleable__content\"><pre>ColumnTransformer(transformers=[(&#x27;cat&#x27;,\n",
       "                                 Pipeline(steps=[(&#x27;imputer&#x27;,\n",
       "                                                  SimpleImputer(strategy=&#x27;most_frequent&#x27;)),\n",
       "                                                 (&#x27;encoder&#x27;, OneHotEncoder())]),\n",
       "                                 [&#x27;installer&#x27;, &#x27;funder&#x27;, &#x27;basin&#x27;,\n",
       "                                  &#x27;management_group&#x27;, &#x27;extraction_type_class&#x27;,\n",
       "                                  &#x27;payment&#x27;, &#x27;water_quality&#x27;, &#x27;quantity&#x27;,\n",
       "                                  &#x27;source&#x27;, &#x27;source_class&#x27;,\n",
       "                                  &#x27;waterpoint_type_group&#x27;, &#x27;region&#x27;]),\n",
       "                                (&#x27;num&#x27;,\n",
       "                                 Pipeline(steps=[(&#x27;imputer&#x27;,\n",
       "                                                  SimpleImputer(strategy=&#x27;median&#x27;)),\n",
       "                                                 (&#x27;poly&#x27;, PolynomialFeatures()),\n",
       "                                                 (&#x27;scaler&#x27;, StandardScaler())]),\n",
       "                                 [&#x27;gps_height&#x27;, &#x27;population&#x27;, &#x27;age_of_well&#x27;]),\n",
       "                                (&#x27;bins&#x27;,\n",
       "                                 Pipeline(steps=[(&#x27;bin_impute&#x27;,\n",
       "                                                  SimpleImputer(strategy=&#x27;most_frequent&#x27;))]),\n",
       "                                 [&#x27;permit&#x27;, &#x27;public_meeting&#x27;])])</pre></div></div></div><div class=\"sk-parallel\"><div class=\"sk-parallel-item\"><div class=\"sk-item\"><div class=\"sk-label-container\"><div class=\"sk-label sk-toggleable\"><input class=\"sk-toggleable__control sk-hidden--visually\" id=\"sk-estimator-id-3\" type=\"checkbox\" ><label for=\"sk-estimator-id-3\" class=\"sk-toggleable__label sk-toggleable__label-arrow\">cat</label><div class=\"sk-toggleable__content\"><pre>[&#x27;installer&#x27;, &#x27;funder&#x27;, &#x27;basin&#x27;, &#x27;management_group&#x27;, &#x27;extraction_type_class&#x27;, &#x27;payment&#x27;, &#x27;water_quality&#x27;, &#x27;quantity&#x27;, &#x27;source&#x27;, &#x27;source_class&#x27;, &#x27;waterpoint_type_group&#x27;, &#x27;region&#x27;]</pre></div></div></div><div class=\"sk-serial\"><div class=\"sk-item\"><div class=\"sk-serial\"><div class=\"sk-item\"><div class=\"sk-estimator sk-toggleable\"><input class=\"sk-toggleable__control sk-hidden--visually\" id=\"sk-estimator-id-4\" type=\"checkbox\" ><label for=\"sk-estimator-id-4\" class=\"sk-toggleable__label sk-toggleable__label-arrow\">SimpleImputer</label><div class=\"sk-toggleable__content\"><pre>SimpleImputer(strategy=&#x27;most_frequent&#x27;)</pre></div></div></div><div class=\"sk-item\"><div class=\"sk-estimator sk-toggleable\"><input class=\"sk-toggleable__control sk-hidden--visually\" id=\"sk-estimator-id-5\" type=\"checkbox\" ><label for=\"sk-estimator-id-5\" class=\"sk-toggleable__label sk-toggleable__label-arrow\">OneHotEncoder</label><div class=\"sk-toggleable__content\"><pre>OneHotEncoder()</pre></div></div></div></div></div></div></div></div><div class=\"sk-parallel-item\"><div class=\"sk-item\"><div class=\"sk-label-container\"><div class=\"sk-label sk-toggleable\"><input class=\"sk-toggleable__control sk-hidden--visually\" id=\"sk-estimator-id-6\" type=\"checkbox\" ><label for=\"sk-estimator-id-6\" class=\"sk-toggleable__label sk-toggleable__label-arrow\">num</label><div class=\"sk-toggleable__content\"><pre>[&#x27;gps_height&#x27;, &#x27;population&#x27;, &#x27;age_of_well&#x27;]</pre></div></div></div><div class=\"sk-serial\"><div class=\"sk-item\"><div class=\"sk-serial\"><div class=\"sk-item\"><div class=\"sk-estimator sk-toggleable\"><input class=\"sk-toggleable__control sk-hidden--visually\" id=\"sk-estimator-id-7\" type=\"checkbox\" ><label for=\"sk-estimator-id-7\" class=\"sk-toggleable__label sk-toggleable__label-arrow\">SimpleImputer</label><div class=\"sk-toggleable__content\"><pre>SimpleImputer(strategy=&#x27;median&#x27;)</pre></div></div></div><div class=\"sk-item\"><div class=\"sk-estimator sk-toggleable\"><input class=\"sk-toggleable__control sk-hidden--visually\" id=\"sk-estimator-id-8\" type=\"checkbox\" ><label for=\"sk-estimator-id-8\" class=\"sk-toggleable__label sk-toggleable__label-arrow\">PolynomialFeatures</label><div class=\"sk-toggleable__content\"><pre>PolynomialFeatures()</pre></div></div></div><div class=\"sk-item\"><div class=\"sk-estimator sk-toggleable\"><input class=\"sk-toggleable__control sk-hidden--visually\" id=\"sk-estimator-id-9\" type=\"checkbox\" ><label for=\"sk-estimator-id-9\" class=\"sk-toggleable__label sk-toggleable__label-arrow\">StandardScaler</label><div class=\"sk-toggleable__content\"><pre>StandardScaler()</pre></div></div></div></div></div></div></div></div><div class=\"sk-parallel-item\"><div class=\"sk-item\"><div class=\"sk-label-container\"><div class=\"sk-label sk-toggleable\"><input class=\"sk-toggleable__control sk-hidden--visually\" id=\"sk-estimator-id-10\" type=\"checkbox\" ><label for=\"sk-estimator-id-10\" class=\"sk-toggleable__label sk-toggleable__label-arrow\">bins</label><div class=\"sk-toggleable__content\"><pre>[&#x27;permit&#x27;, &#x27;public_meeting&#x27;]</pre></div></div></div><div class=\"sk-serial\"><div class=\"sk-item\"><div class=\"sk-serial\"><div class=\"sk-item\"><div class=\"sk-estimator sk-toggleable\"><input class=\"sk-toggleable__control sk-hidden--visually\" id=\"sk-estimator-id-11\" type=\"checkbox\" ><label for=\"sk-estimator-id-11\" class=\"sk-toggleable__label sk-toggleable__label-arrow\">SimpleImputer</label><div class=\"sk-toggleable__content\"><pre>SimpleImputer(strategy=&#x27;most_frequent&#x27;)</pre></div></div></div></div></div></div></div></div></div></div><div class=\"sk-item\"><div class=\"sk-estimator sk-toggleable\"><input class=\"sk-toggleable__control sk-hidden--visually\" id=\"sk-estimator-id-12\" type=\"checkbox\" ><label for=\"sk-estimator-id-12\" class=\"sk-toggleable__label sk-toggleable__label-arrow\">DummyClassifier</label><div class=\"sk-toggleable__content\"><pre>DummyClassifier(random_state=42, strategy=&#x27;most_frequent&#x27;)</pre></div></div></div></div></div></div></div>"
      ],
      "text/plain": [
       "Pipeline(steps=[('processes',\n",
       "                 ColumnTransformer(transformers=[('cat',\n",
       "                                                  Pipeline(steps=[('imputer',\n",
       "                                                                   SimpleImputer(strategy='most_frequent')),\n",
       "                                                                  ('encoder',\n",
       "                                                                   OneHotEncoder())]),\n",
       "                                                  ['installer', 'funder',\n",
       "                                                   'basin', 'management_group',\n",
       "                                                   'extraction_type_class',\n",
       "                                                   'payment', 'water_quality',\n",
       "                                                   'quantity', 'source',\n",
       "                                                   'source_class',\n",
       "                                                   'waterpoint_type_group',\n",
       "                                                   'region']),\n",
       "                                                 ('num',\n",
       "                                                  Pipeline(steps=[('imputer',\n",
       "                                                                   SimpleImputer(strategy='median')),\n",
       "                                                                  ('poly',\n",
       "                                                                   PolynomialFeatures()),\n",
       "                                                                  ('scaler',\n",
       "                                                                   StandardScaler())]),\n",
       "                                                  ['gps_height', 'population',\n",
       "                                                   'age_of_well']),\n",
       "                                                 ('bins',\n",
       "                                                  Pipeline(steps=[('bin_impute',\n",
       "                                                                   SimpleImputer(strategy='most_frequent'))]),\n",
       "                                                  ['permit',\n",
       "                                                   'public_meeting'])])),\n",
       "                ('classifier',\n",
       "                 DummyClassifier(random_state=42, strategy='most_frequent'))])"
      ]
     },
     "execution_count": 53,
     "metadata": {},
     "output_type": "execute_result"
    }
   ],
   "source": [
    "Dummy_model.fit(X_train_dum, y_train_dum)"
   ]
  },
  {
   "cell_type": "code",
   "execution_count": 54,
   "id": "57664242-8230-4c73-ae7b-ea0aaa2b14c8",
   "metadata": {},
   "outputs": [
    {
     "data": {
      "text/plain": [
       "0.5430904522613065"
      ]
     },
     "execution_count": 54,
     "metadata": {},
     "output_type": "execute_result"
    }
   ],
   "source": [
    "validation_score = Dummy_model.score(X_val, y_val)\n",
    "validation_score"
   ]
  },
  {
   "cell_type": "code",
   "execution_count": 55,
   "id": "c6571ab0-f3c2-49a6-8670-58150d80c41b",
   "metadata": {},
   "outputs": [
    {
     "data": {
      "text/plain": [
       "16.535630449705295"
      ]
     },
     "execution_count": 55,
     "metadata": {},
     "output_type": "execute_result"
    }
   ],
   "source": [
    "baseline_neg_log_loss_cv = cross_val_score(estimator=Dummy_model, X=X_train, y=y_train, scoring=\"neg_log_loss\")\n",
    "\n",
    "baseline_log_loss = -(baseline_neg_log_loss_cv.mean())\n",
    "baseline_log_loss"
   ]
  },
  {
   "cell_type": "code",
   "execution_count": 56,
   "id": "e6dd7236-85ca-4292-884e-20618df62339",
   "metadata": {
    "scrolled": true
   },
   "outputs": [
    {
     "name": "stdout",
     "output_type": "stream",
     "text": [
      "Accuracy:\n",
      "Train Accuracy: 0.541233227800392\n",
      "Test Accuracy: 0.546831955922865\n",
      "\n",
      "Balanced Accuracy:\n",
      "Train Accuracy: 0.5\n",
      "Test Accuracy: 0.5\n"
     ]
    }
   ],
   "source": [
    "y_train_1 = Dummy_model.predict(X_train)\n",
    "y_test_pred1= Dummy_model.predict(X_test)\n",
    "\n",
    "print(\"Accuracy:\")\n",
    "train_accuracy = accuracy_score(y_train, y_train_1)\n",
    "print(\"Train Accuracy:\", train_accuracy)\n",
    "\n",
    "test_accuracy = accuracy_score(y_test, y_test_pred1)\n",
    "print(\"Test Accuracy:\", test_accuracy)\n",
    "\n",
    "print(\"\\nBalanced Accuracy:\")\n",
    "train_accuracy = balanced_accuracy_score(y_train, y_train_1)\n",
    "print(\"Train Accuracy:\", train_accuracy)\n",
    "\n",
    "test_accuracy = balanced_accuracy_score(y_test, y_test_pred1)\n",
    "print(\"Test Accuracy:\", test_accuracy)"
   ]
  },
  {
   "cell_type": "code",
   "execution_count": 57,
   "id": "06ffca07-2520-4f07-8aae-f838d0429c74",
   "metadata": {},
   "outputs": [
    {
     "name": "stdout",
     "output_type": "stream",
     "text": [
      "              precision    recall  f1-score   support\n",
      "\n",
      "           0       0.00      0.00      0.00      8883\n",
      "           1       0.55      1.00      0.71     10719\n",
      "\n",
      "    accuracy                           0.55     19602\n",
      "   macro avg       0.27      0.50      0.35     19602\n",
      "weighted avg       0.30      0.55      0.39     19602\n",
      "\n"
     ]
    },
    {
     "name": "stderr",
     "output_type": "stream",
     "text": [
      "/Users/danayt/anaconda3/envs/learn-env/lib/python3.9/site-packages/sklearn/metrics/_classification.py:1469: UndefinedMetricWarning: Precision and F-score are ill-defined and being set to 0.0 in labels with no predicted samples. Use `zero_division` parameter to control this behavior.\n",
      "  _warn_prf(average, modifier, msg_start, len(result))\n",
      "/Users/danayt/anaconda3/envs/learn-env/lib/python3.9/site-packages/sklearn/metrics/_classification.py:1469: UndefinedMetricWarning: Precision and F-score are ill-defined and being set to 0.0 in labels with no predicted samples. Use `zero_division` parameter to control this behavior.\n",
      "  _warn_prf(average, modifier, msg_start, len(result))\n",
      "/Users/danayt/anaconda3/envs/learn-env/lib/python3.9/site-packages/sklearn/metrics/_classification.py:1469: UndefinedMetricWarning: Precision and F-score are ill-defined and being set to 0.0 in labels with no predicted samples. Use `zero_division` parameter to control this behavior.\n",
      "  _warn_prf(average, modifier, msg_start, len(result))\n"
     ]
    },
    {
     "data": {
      "image/png": "[encoded data removed]",
      "text/plain": [
       "<Figure size 640x480 with 2 Axes>"
      ]
     },
     "metadata": {},
     "output_type": "display_data"
    }
   ],
   "source": [
    "print(classification_report(y_test, y_test_pred1)) \n",
    "cm = confusion_matrix(y_test, y_test_pred1)\n",
    "disp = ConfusionMatrixDisplay(confusion_matrix=cm)\n",
    "disp.plot()\n",
    "plt.show()"
   ]
  },
  {
   "cell_type": "code",
   "execution_count": 58,
   "id": "eba8bf00-8c1f-4fdd-9974-c17eb81bcc79",
   "metadata": {},
   "outputs": [
    {
     "data": {
      "text/plain": [
       "Text(0.5, 0, 'False Positive Rate')"
      ]
     },
     "execution_count": 58,
     "metadata": {},
     "output_type": "execute_result"
    },
    {
     "data": {
      "image/png": "[encoded data removed]",
      "text/plain": [
       "<Figure size 640x480 with 1 Axes>"
      ]
     },
     "metadata": {},
     "output_type": "display_data"
    }
   ],
   "source": [
    "probs = Dummy_model.predict_proba(X_test)[:, 1]\n",
    "\n",
    "# Calculate the false positive rate and true positive rate\n",
    "fpr, tpr, thresholds = roc_curve(y_test, probs)\n",
    "\n",
    "plt.plot(fpr, tpr)\n",
    "plt.plot([0, 1], [0, 1], linestyle='--')  # Random guess line\n",
    "plt.xlabel('False Positive Rate')"
   ]
  },
  {
   "cell_type": "code",
   "execution_count": 59,
   "id": "0937846b-5654-49a3-816b-b55174f214ab",
   "metadata": {},
   "outputs": [],
   "source": [
    "results_1 = pd.DataFrame({       \n",
    "     \"Model\": ['Dummyreggressor'],\n",
    "      \"test_balanced_acc\": [0.5], \n",
    "       'train_balanced_acc' : [0.5],\n",
    "    'logloss':[16.53],\n",
    "               'info' : ['baseline'],\n",
    "    'param':['Random_state=42, stg=Most_frequent']\n",
    "})\n",
    "data_results = pd.concat([data_results, results_1], ignore_index =True)"
   ]
  },
  {
   "cell_type": "markdown",
   "id": "bcf77aed-3207-47db-8494-16c3005e7349",
   "metadata": {},
   "source": [
    "## Logistic Regression fsm\n",
    ">- First simple model with random_state 42"
   ]
  },
  {
   "cell_type": "code",
   "execution_count": 60,
   "id": "2d729060-bbaa-4a3d-be39-badd918b6d2b",
   "metadata": {},
   "outputs": [],
   "source": [
    "Model_1 = Pipeline(steps=[\n",
    "    ('processes', preprocessor),\n",
    "    ('classifier', LogisticRegression(random_state =42))\n",
    "])"
   ]
  },
  {
   "cell_type": "code",
   "execution_count": 61,
   "id": "e91a933a-d68c-47dd-aa49-6c8cc35f5df3",
   "metadata": {},
   "outputs": [],
   "source": [
    "X_train_fsm, X_val_fsm, y_train_fsm, y_val_fsm = train_test_split(X_train, y_train, test_size=0.2, random_state=42)"
   ]
  },
  {
   "cell_type": "code",
   "execution_count": 62,
   "id": "a24be08f-7788-4266-b35f-22f4e990daab",
   "metadata": {},
   "outputs": [
    {
     "name": "stderr",
     "output_type": "stream",
     "text": [
      "/Users/danayt/anaconda3/envs/learn-env/lib/python3.9/site-packages/sklearn/linear_model/_logistic.py:460: ConvergenceWarning: lbfgs failed to converge (status=1):\n",
      "STOP: TOTAL NO. of ITERATIONS REACHED LIMIT.\n",
      "\n",
      "Increase the number of iterations (max_iter) or scale the data as shown in:\n",
      "    https://scikit-learn.org/stable/modules/preprocessing.html\n",
      "Please also refer to the documentation for alternative solver options:\n",
      "    https://scikit-learn.org/stable/modules/linear_model.html#logistic-regression\n",
      "  n_iter_i = _check_optimize_result(\n"
     ]
    },
    {
     "data": {
      "text/html": [
       "<style>#sk-container-id-2 {color: black;}#sk-container-id-2 pre{padding: 0;}#sk-container-id-2 div.sk-toggleable {background-color: white;}#sk-container-id-2 label.sk-toggleable__label {cursor: pointer;display: block;width: 100%;margin-bottom: 0;padding: 0.3em;box-sizing: border-box;text-align: center;}#sk-container-id-2 label.sk-toggleable__label-arrow:before {content: \"▸\";float: left;margin-right: 0.25em;color: #696969;}#sk-container-id-2 label.sk-toggleable__label-arrow:hover:before {color: black;}#sk-container-id-2 div.sk-estimator:hover label.sk-toggleable__label-arrow:before {color: black;}#sk-container-id-2 div.sk-toggleable__content {max-height: 0;max-width: 0;overflow: hidden;text-align: left;background-color: #f0f8ff;}#sk-container-id-2 div.sk-toggleable__content pre {margin: 0.2em;color: black;border-radius: 0.25em;background-color: #f0f8ff;}#sk-container-id-2 input.sk-toggleable__control:checked~div.sk-toggleable__content {max-height: 200px;max-width: 100%;overflow: auto;}#sk-container-id-2 input.sk-toggleable__control:checked~label.sk-toggleable__label-arrow:before {content: \"▾\";}#sk-container-id-2 div.sk-estimator input.sk-toggleable__control:checked~label.sk-toggleable__label {background-color: #d4ebff;}#sk-container-id-2 div.sk-label input.sk-toggleable__control:checked~label.sk-toggleable__label {background-color: #d4ebff;}#sk-container-id-2 input.sk-hidden--visually {border: 0;clip: rect(1px 1px 1px 1px);clip: rect(1px, 1px, 1px, 1px);height: 1px;margin: -1px;overflow: hidden;padding: 0;position: absolute;width: 1px;}#sk-container-id-2 div.sk-estimator {font-family: monospace;background-color: #f0f8ff;border: 1px dotted black;border-radius: 0.25em;box-sizing: border-box;margin-bottom: 0.5em;}#sk-container-id-2 div.sk-estimator:hover {background-color: #d4ebff;}#sk-container-id-2 div.sk-parallel-item::after {content: \"\";width: 100%;border-bottom: 1px solid gray;flex-grow: 1;}#sk-container-id-2 div.sk-label:hover label.sk-toggleable__label {background-color: #d4ebff;}#sk-container-id-2 div.sk-serial::before {content: \"\";position: absolute;border-left: 1px solid gray;box-sizing: border-box;top: 0;bottom: 0;left: 50%;z-index: 0;}#sk-container-id-2 div.sk-serial {display: flex;flex-direction: column;align-items: center;background-color: white;padding-right: 0.2em;padding-left: 0.2em;position: relative;}#sk-container-id-2 div.sk-item {position: relative;z-index: 1;}#sk-container-id-2 div.sk-parallel {display: flex;align-items: stretch;justify-content: center;background-color: white;position: relative;}#sk-container-id-2 div.sk-item::before, #sk-container-id-2 div.sk-parallel-item::before {content: \"\";position: absolute;border-left: 1px solid gray;box-sizing: border-box;top: 0;bottom: 0;left: 50%;z-index: -1;}#sk-container-id-2 div.sk-parallel-item {display: flex;flex-direction: column;z-index: 1;position: relative;background-color: white;}#sk-container-id-2 div.sk-parallel-item:first-child::after {align-self: flex-end;width: 50%;}#sk-container-id-2 div.sk-parallel-item:last-child::after {align-self: flex-start;width: 50%;}#sk-container-id-2 div.sk-parallel-item:only-child::after {width: 0;}#sk-container-id-2 div.sk-dashed-wrapped {border: 1px dashed gray;margin: 0 0.4em 0.5em 0.4em;box-sizing: border-box;padding-bottom: 0.4em;background-color: white;}#sk-container-id-2 div.sk-label label {font-family: monospace;font-weight: bold;display: inline-block;line-height: 1.2em;}#sk-container-id-2 div.sk-label-container {text-align: center;}#sk-container-id-2 div.sk-container {/* jupyter's `normalize.less` sets `[hidden] { display: none; }` but bootstrap.min.css set `[hidden] { display: none !important; }` so we also need the `!important` here to be able to override the default hidden behavior on the sphinx rendered scikit-learn.org. See: https://github.com/scikit-learn/scikit-learn/issues/21755 */display: inline-block !important;position: relative;}#sk-container-id-2 div.sk-text-repr-fallback {display: none;}</style><div id=\"sk-container-id-2\" class=\"sk-top-container\"><div class=\"sk-text-repr-fallback\"><pre>Pipeline(steps=[(&#x27;processes&#x27;,\n",
       "                 ColumnTransformer(transformers=[(&#x27;cat&#x27;,\n",
       "                                                  Pipeline(steps=[(&#x27;imputer&#x27;,\n",
       "                                                                   SimpleImputer(strategy=&#x27;most_frequent&#x27;)),\n",
       "                                                                  (&#x27;encoder&#x27;,\n",
       "                                                                   OneHotEncoder())]),\n",
       "                                                  [&#x27;installer&#x27;, &#x27;funder&#x27;,\n",
       "                                                   &#x27;basin&#x27;, &#x27;management_group&#x27;,\n",
       "                                                   &#x27;extraction_type_class&#x27;,\n",
       "                                                   &#x27;payment&#x27;, &#x27;water_quality&#x27;,\n",
       "                                                   &#x27;quantity&#x27;, &#x27;source&#x27;,\n",
       "                                                   &#x27;source_class&#x27;,\n",
       "                                                   &#x27;waterpoint_type_group&#x27;,\n",
       "                                                   &#x27;region&#x27;]),\n",
       "                                                 (&#x27;num&#x27;,\n",
       "                                                  Pipeline(steps=[(&#x27;imputer&#x27;,\n",
       "                                                                   SimpleImputer(strategy=&#x27;median&#x27;)),\n",
       "                                                                  (&#x27;poly&#x27;,\n",
       "                                                                   PolynomialFeatures()),\n",
       "                                                                  (&#x27;scaler&#x27;,\n",
       "                                                                   StandardScaler())]),\n",
       "                                                  [&#x27;gps_height&#x27;, &#x27;population&#x27;,\n",
       "                                                   &#x27;age_of_well&#x27;]),\n",
       "                                                 (&#x27;bins&#x27;,\n",
       "                                                  Pipeline(steps=[(&#x27;bin_impute&#x27;,\n",
       "                                                                   SimpleImputer(strategy=&#x27;most_frequent&#x27;))]),\n",
       "                                                  [&#x27;permit&#x27;,\n",
       "                                                   &#x27;public_meeting&#x27;])])),\n",
       "                (&#x27;classifier&#x27;, LogisticRegression(random_state=42))])</pre><b>In a Jupyter environment, please rerun this cell to show the HTML representation or trust the notebook. <br />On GitHub, the HTML representation is unable to render, please try loading this page with nbviewer.org.</b></div><div class=\"sk-container\" hidden><div class=\"sk-item sk-dashed-wrapped\"><div class=\"sk-label-container\"><div class=\"sk-label sk-toggleable\"><input class=\"sk-toggleable__control sk-hidden--visually\" id=\"sk-estimator-id-13\" type=\"checkbox\" ><label for=\"sk-estimator-id-13\" class=\"sk-toggleable__label sk-toggleable__label-arrow\">Pipeline</label><div class=\"sk-toggleable__content\"><pre>Pipeline(steps=[(&#x27;processes&#x27;,\n",
       "                 ColumnTransformer(transformers=[(&#x27;cat&#x27;,\n",
       "                                                  Pipeline(steps=[(&#x27;imputer&#x27;,\n",
       "                                                                   SimpleImputer(strategy=&#x27;most_frequent&#x27;)),\n",
       "                                                                  (&#x27;encoder&#x27;,\n",
       "                                                                   OneHotEncoder())]),\n",
       "                                                  [&#x27;installer&#x27;, &#x27;funder&#x27;,\n",
       "                                                   &#x27;basin&#x27;, &#x27;management_group&#x27;,\n",
       "                                                   &#x27;extraction_type_class&#x27;,\n",
       "                                                   &#x27;payment&#x27;, &#x27;water_quality&#x27;,\n",
       "                                                   &#x27;quantity&#x27;, &#x27;source&#x27;,\n",
       "                                                   &#x27;source_class&#x27;,\n",
       "                                                   &#x27;waterpoint_type_group&#x27;,\n",
       "                                                   &#x27;region&#x27;]),\n",
       "                                                 (&#x27;num&#x27;,\n",
       "                                                  Pipeline(steps=[(&#x27;imputer&#x27;,\n",
       "                                                                   SimpleImputer(strategy=&#x27;median&#x27;)),\n",
       "                                                                  (&#x27;poly&#x27;,\n",
       "                                                                   PolynomialFeatures()),\n",
       "                                                                  (&#x27;scaler&#x27;,\n",
       "                                                                   StandardScaler())]),\n",
       "                                                  [&#x27;gps_height&#x27;, &#x27;population&#x27;,\n",
       "                                                   &#x27;age_of_well&#x27;]),\n",
       "                                                 (&#x27;bins&#x27;,\n",
       "                                                  Pipeline(steps=[(&#x27;bin_impute&#x27;,\n",
       "                                                                   SimpleImputer(strategy=&#x27;most_frequent&#x27;))]),\n",
       "                                                  [&#x27;permit&#x27;,\n",
       "                                                   &#x27;public_meeting&#x27;])])),\n",
       "                (&#x27;classifier&#x27;, LogisticRegression(random_state=42))])</pre></div></div></div><div class=\"sk-serial\"><div class=\"sk-item sk-dashed-wrapped\"><div class=\"sk-label-container\"><div class=\"sk-label sk-toggleable\"><input class=\"sk-toggleable__control sk-hidden--visually\" id=\"sk-estimator-id-14\" type=\"checkbox\" ><label for=\"sk-estimator-id-14\" class=\"sk-toggleable__label sk-toggleable__label-arrow\">processes: ColumnTransformer</label><div class=\"sk-toggleable__content\"><pre>ColumnTransformer(transformers=[(&#x27;cat&#x27;,\n",
       "                                 Pipeline(steps=[(&#x27;imputer&#x27;,\n",
       "                                                  SimpleImputer(strategy=&#x27;most_frequent&#x27;)),\n",
       "                                                 (&#x27;encoder&#x27;, OneHotEncoder())]),\n",
       "                                 [&#x27;installer&#x27;, &#x27;funder&#x27;, &#x27;basin&#x27;,\n",
       "                                  &#x27;management_group&#x27;, &#x27;extraction_type_class&#x27;,\n",
       "                                  &#x27;payment&#x27;, &#x27;water_quality&#x27;, &#x27;quantity&#x27;,\n",
       "                                  &#x27;source&#x27;, &#x27;source_class&#x27;,\n",
       "                                  &#x27;waterpoint_type_group&#x27;, &#x27;region&#x27;]),\n",
       "                                (&#x27;num&#x27;,\n",
       "                                 Pipeline(steps=[(&#x27;imputer&#x27;,\n",
       "                                                  SimpleImputer(strategy=&#x27;median&#x27;)),\n",
       "                                                 (&#x27;poly&#x27;, PolynomialFeatures()),\n",
       "                                                 (&#x27;scaler&#x27;, StandardScaler())]),\n",
       "                                 [&#x27;gps_height&#x27;, &#x27;population&#x27;, &#x27;age_of_well&#x27;]),\n",
       "                                (&#x27;bins&#x27;,\n",
       "                                 Pipeline(steps=[(&#x27;bin_impute&#x27;,\n",
       "                                                  SimpleImputer(strategy=&#x27;most_frequent&#x27;))]),\n",
       "                                 [&#x27;permit&#x27;, &#x27;public_meeting&#x27;])])</pre></div></div></div><div class=\"sk-parallel\"><div class=\"sk-parallel-item\"><div class=\"sk-item\"><div class=\"sk-label-container\"><div class=\"sk-label sk-toggleable\"><input class=\"sk-toggleable__control sk-hidden--visually\" id=\"sk-estimator-id-15\" type=\"checkbox\" ><label for=\"sk-estimator-id-15\" class=\"sk-toggleable__label sk-toggleable__label-arrow\">cat</label><div class=\"sk-toggleable__content\"><pre>[&#x27;installer&#x27;, &#x27;funder&#x27;, &#x27;basin&#x27;, &#x27;management_group&#x27;, &#x27;extraction_type_class&#x27;, &#x27;payment&#x27;, &#x27;water_quality&#x27;, &#x27;quantity&#x27;, &#x27;source&#x27;, &#x27;source_class&#x27;, &#x27;waterpoint_type_group&#x27;, &#x27;region&#x27;]</pre></div></div></div><div class=\"sk-serial\"><div class=\"sk-item\"><div class=\"sk-serial\"><div class=\"sk-item\"><div class=\"sk-estimator sk-toggleable\"><input class=\"sk-toggleable__control sk-hidden--visually\" id=\"sk-estimator-id-16\" type=\"checkbox\" ><label for=\"sk-estimator-id-16\" class=\"sk-toggleable__label sk-toggleable__label-arrow\">SimpleImputer</label><div class=\"sk-toggleable__content\"><pre>SimpleImputer(strategy=&#x27;most_frequent&#x27;)</pre></div></div></div><div class=\"sk-item\"><div class=\"sk-estimator sk-toggleable\"><input class=\"sk-toggleable__control sk-hidden--visually\" id=\"sk-estimator-id-17\" type=\"checkbox\" ><label for=\"sk-estimator-id-17\" class=\"sk-toggleable__label sk-toggleable__label-arrow\">OneHotEncoder</label><div class=\"sk-toggleable__content\"><pre>OneHotEncoder()</pre></div></div></div></div></div></div></div></div><div class=\"sk-parallel-item\"><div class=\"sk-item\"><div class=\"sk-label-container\"><div class=\"sk-label sk-toggleable\"><input class=\"sk-toggleable__control sk-hidden--visually\" id=\"sk-estimator-id-18\" type=\"checkbox\" ><label for=\"sk-estimator-id-18\" class=\"sk-toggleable__label sk-toggleable__label-arrow\">num</label><div class=\"sk-toggleable__content\"><pre>[&#x27;gps_height&#x27;, &#x27;population&#x27;, &#x27;age_of_well&#x27;]</pre></div></div></div><div class=\"sk-serial\"><div class=\"sk-item\"><div class=\"sk-serial\"><div class=\"sk-item\"><div class=\"sk-estimator sk-toggleable\"><input class=\"sk-toggleable__control sk-hidden--visually\" id=\"sk-estimator-id-19\" type=\"checkbox\" ><label for=\"sk-estimator-id-19\" class=\"sk-toggleable__label sk-toggleable__label-arrow\">SimpleImputer</label><div class=\"sk-toggleable__content\"><pre>SimpleImputer(strategy=&#x27;median&#x27;)</pre></div></div></div><div class=\"sk-item\"><div class=\"sk-estimator sk-toggleable\"><input class=\"sk-toggleable__control sk-hidden--visually\" id=\"sk-estimator-id-20\" type=\"checkbox\" ><label for=\"sk-estimator-id-20\" class=\"sk-toggleable__label sk-toggleable__label-arrow\">PolynomialFeatures</label><div class=\"sk-toggleable__content\"><pre>PolynomialFeatures()</pre></div></div></div><div class=\"sk-item\"><div class=\"sk-estimator sk-toggleable\"><input class=\"sk-toggleable__control sk-hidden--visually\" id=\"sk-estimator-id-21\" type=\"checkbox\" ><label for=\"sk-estimator-id-21\" class=\"sk-toggleable__label sk-toggleable__label-arrow\">StandardScaler</label><div class=\"sk-toggleable__content\"><pre>StandardScaler()</pre></div></div></div></div></div></div></div></div><div class=\"sk-parallel-item\"><div class=\"sk-item\"><div class=\"sk-label-container\"><div class=\"sk-label sk-toggleable\"><input class=\"sk-toggleable__control sk-hidden--visually\" id=\"sk-estimator-id-22\" type=\"checkbox\" ><label for=\"sk-estimator-id-22\" class=\"sk-toggleable__label sk-toggleable__label-arrow\">bins</label><div class=\"sk-toggleable__content\"><pre>[&#x27;permit&#x27;, &#x27;public_meeting&#x27;]</pre></div></div></div><div class=\"sk-serial\"><div class=\"sk-item\"><div class=\"sk-serial\"><div class=\"sk-item\"><div class=\"sk-estimator sk-toggleable\"><input class=\"sk-toggleable__control sk-hidden--visually\" id=\"sk-estimator-id-23\" type=\"checkbox\" ><label for=\"sk-estimator-id-23\" class=\"sk-toggleable__label sk-toggleable__label-arrow\">SimpleImputer</label><div class=\"sk-toggleable__content\"><pre>SimpleImputer(strategy=&#x27;most_frequent&#x27;)</pre></div></div></div></div></div></div></div></div></div></div><div class=\"sk-item\"><div class=\"sk-estimator sk-toggleable\"><input class=\"sk-toggleable__control sk-hidden--visually\" id=\"sk-estimator-id-24\" type=\"checkbox\" ><label for=\"sk-estimator-id-24\" class=\"sk-toggleable__label sk-toggleable__label-arrow\">LogisticRegression</label><div class=\"sk-toggleable__content\"><pre>LogisticRegression(random_state=42)</pre></div></div></div></div></div></div></div>"
      ],
      "text/plain": [
       "Pipeline(steps=[('processes',\n",
       "                 ColumnTransformer(transformers=[('cat',\n",
       "                                                  Pipeline(steps=[('imputer',\n",
       "                                                                   SimpleImputer(strategy='most_frequent')),\n",
       "                                                                  ('encoder',\n",
       "                                                                   OneHotEncoder())]),\n",
       "                                                  ['installer', 'funder',\n",
       "                                                   'basin', 'management_group',\n",
       "                                                   'extraction_type_class',\n",
       "                                                   'payment', 'water_quality',\n",
       "                                                   'quantity', 'source',\n",
       "                                                   'source_class',\n",
       "                                                   'waterpoint_type_group',\n",
       "                                                   'region']),\n",
       "                                                 ('num',\n",
       "                                                  Pipeline(steps=[('imputer',\n",
       "                                                                   SimpleImputer(strategy='median')),\n",
       "                                                                  ('poly',\n",
       "                                                                   PolynomialFeatures()),\n",
       "                                                                  ('scaler',\n",
       "                                                                   StandardScaler())]),\n",
       "                                                  ['gps_height', 'population',\n",
       "                                                   'age_of_well']),\n",
       "                                                 ('bins',\n",
       "                                                  Pipeline(steps=[('bin_impute',\n",
       "                                                                   SimpleImputer(strategy='most_frequent'))]),\n",
       "                                                  ['permit',\n",
       "                                                   'public_meeting'])])),\n",
       "                ('classifier', LogisticRegression(random_state=42))])"
      ]
     },
     "execution_count": 62,
     "metadata": {},
     "output_type": "execute_result"
    }
   ],
   "source": [
    "Model_1.fit(X_train_fsm, y_train_fsm)"
   ]
  },
  {
   "cell_type": "markdown",
   "id": "fc2f82ab-359c-418d-a9e6-fff37ff81bb9",
   "metadata": {},
   "source": [
    ">- Cross validating before applying to the test values to see performance"
   ]
  },
  {
   "cell_type": "code",
   "execution_count": 63,
   "id": "4c882034-985a-436d-a86d-67e3aefd2306",
   "metadata": {},
   "outputs": [
    {
     "data": {
      "text/plain": [
       "0.7484924623115577"
      ]
     },
     "execution_count": 63,
     "metadata": {},
     "output_type": "execute_result"
    }
   ],
   "source": [
    "validation_score = Model_1.score(X_val_fsm, y_val_fsm)\n",
    "validation_score"
   ]
  },
  {
   "cell_type": "code",
   "execution_count": 64,
   "id": "adc3e66a-32c6-4471-951e-d231af3e9c9e",
   "metadata": {
    "scrolled": true
   },
   "outputs": [
    {
     "name": "stdout",
     "output_type": "stream",
     "text": [
      "Accuracy:\n",
      "Train Accuracy: 0.7486557113422785\n",
      "Test Accuracy: 0.7501275380063259\n",
      "\n",
      "Balanced Accuracy:\n",
      "Train Accuracy: 0.7383787119989528\n",
      "Test Accuracy: 0.7382652342189295\n"
     ]
    }
   ],
   "source": [
    "y_train_2 = Model_1.predict(X_train)\n",
    "y_test_pred2= Model_1.predict(X_test)\n",
    "\n",
    "print(\"Accuracy:\")\n",
    "train_accuracy = accuracy_score(y_train, y_train_2)\n",
    "print(\"Train Accuracy:\", train_accuracy)\n",
    "\n",
    "test_accuracy = accuracy_score(y_test, y_test_pred2)\n",
    "print(\"Test Accuracy:\", test_accuracy)\n",
    "\n",
    "print(\"\\nBalanced Accuracy:\")\n",
    "train_accuracy = balanced_accuracy_score(y_train, y_train_2)\n",
    "print(\"Train Accuracy:\", train_accuracy)\n",
    "\n",
    "test_accuracy = balanced_accuracy_score(y_test, y_test_pred2)\n",
    "print(\"Test Accuracy:\", test_accuracy)"
   ]
  },
  {
   "cell_type": "code",
   "execution_count": 65,
   "id": "38ff9ace-8711-4889-88e8-ee02050bbf4c",
   "metadata": {
    "scrolled": true
   },
   "outputs": [
    {
     "name": "stdout",
     "output_type": "stream",
     "text": [
      "              precision    recall  f1-score   support\n",
      "\n",
      "           0       0.79      0.61      0.69      8883\n",
      "           1       0.73      0.86      0.79     10719\n",
      "\n",
      "    accuracy                           0.75     19602\n",
      "   macro avg       0.76      0.74      0.74     19602\n",
      "weighted avg       0.76      0.75      0.74     19602\n",
      "\n"
     ]
    },
    {
     "data": {
      "image/png": "[encoded data removed]",
      "text/plain": [
       "<Figure size 640x480 with 2 Axes>"
      ]
     },
     "metadata": {},
     "output_type": "display_data"
    }
   ],
   "source": [
    "print(classification_report(y_test, y_test_pred2)) \n",
    "cm = confusion_matrix(y_test, y_test_pred2)\n",
    "disp = ConfusionMatrixDisplay(confusion_matrix=cm)\n",
    "disp.plot()\n",
    "plt.show()"
   ]
  },
  {
   "cell_type": "code",
   "execution_count": 66,
   "id": "3035568c-5419-4970-ae5f-608c10cdbfa7",
   "metadata": {},
   "outputs": [
    {
     "data": {
      "text/plain": [
       "Text(0.5, 0, 'False Positive Rate')"
      ]
     },
     "execution_count": 66,
     "metadata": {},
     "output_type": "execute_result"
    },
    {
     "data": {
      "image/png": "[encoded data removed]",
      "text/plain": [
       "<Figure size 640x480 with 1 Axes>"
      ]
     },
     "metadata": {},
     "output_type": "display_data"
    }
   ],
   "source": [
    "probs = Model_1.predict_proba(X_test)[:, 1]\n",
    "\n",
    "# Calculate the false positive rate and true positive rate\n",
    "fpr, tpr, thresholds = roc_curve(y_test, probs)\n",
    "\n",
    "plt.plot(fpr, tpr)\n",
    "plt.plot([0, 1], [0, 1], linestyle='--')  # Random guess line\n",
    "plt.xlabel('False Positive Rate')"
   ]
  },
  {
   "cell_type": "code",
   "execution_count": 67,
   "id": "3203f067-1158-4229-9b10-574aadd4414f",
   "metadata": {},
   "outputs": [],
   "source": [
    "results_2 = pd.DataFrame({       \n",
    "     \"Model\": ['LogisticRegression'],\n",
    "      \"test_balanced_acc\": [0.739], \n",
    "       'train_balanced_acc' : [0.738],\n",
    "    'logloss':[0.50],\n",
    "               'info' : ['fsm'],\n",
    "    'param':['Random_state=42']\n",
    "})\n",
    "data_results = pd.concat([data_results, results_2], ignore_index =True)"
   ]
  },
  {
   "cell_type": "markdown",
   "id": "7d712306-f2d7-4d45-8d40-ef7aeda4b14f",
   "metadata": {},
   "source": [
    "# Grid Search\n",
    "### Tuning our first model to get the best results with Grid search"
   ]
  },
  {
   "cell_type": "code",
   "execution_count": 68,
   "id": "442c8b47-2629-4845-b8c6-dda707ea6101",
   "metadata": {},
   "outputs": [],
   "source": [
    "param_grid = {\n",
    "    'classifier__C': [0.0001,0.001,0.1, 1, 10],\n",
    "    'classifier__penalty': ['l2', 'l1', 'elasticnet'],\n",
    "    'classifier__solver':['lbfgs', 'liblinear'],\n",
    "    'classifier__max_iter': [100, 1000, 10000],  \n",
    "}"
   ]
  },
  {
   "cell_type": "code",
   "execution_count": 69,
   "id": "87576561-c2d7-4d47-ada9-cf3096a1d9bc",
   "metadata": {
    "scrolled": true
   },
   "outputs": [],
   "source": [
    "grid_search_fsm = GridSearchCV(Model_1, param_grid, cv= 5, verbose = 2, n_jobs=-1)"
   ]
  },
  {
   "cell_type": "code",
   "execution_count": 70,
   "id": "ceaeec31-1670-49be-9ee4-cb509b0ae480",
   "metadata": {
    "scrolled": true
   },
   "outputs": [
    {
     "name": "stdout",
     "output_type": "stream",
     "text": [
      "Fitting 5 folds for each of 90 candidates, totalling 450 fits\n"
     ]
    },
    {
     "name": "stderr",
     "output_type": "stream",
     "text": [
      "/Users/danayt/anaconda3/envs/learn-env/lib/python3.9/site-packages/sklearn/linear_model/_logistic.py:460: ConvergenceWarning: lbfgs failed to converge (status=1):\n",
      "STOP: TOTAL NO. of ITERATIONS REACHED LIMIT.\n",
      "\n",
      "Increase the number of iterations (max_iter) or scale the data as shown in:\n",
      "    https://scikit-learn.org/stable/modules/preprocessing.html\n",
      "Please also refer to the documentation for alternative solver options:\n",
      "    https://scikit-learn.org/stable/modules/linear_model.html#logistic-regression\n",
      "  n_iter_i = _check_optimize_result(\n",
      "/Users/danayt/anaconda3/envs/learn-env/lib/python3.9/site-packages/sklearn/linear_model/_logistic.py:460: ConvergenceWarning: lbfgs failed to converge (status=1):\n",
      "STOP: TOTAL NO. of ITERATIONS REACHED LIMIT.\n",
      "\n",
      "Increase the number of iterations (max_iter) or scale the data as shown in:\n",
      "    https://scikit-learn.org/stable/modules/preprocessing.html\n",
      "Please also refer to the documentation for alternative solver options:\n",
      "    https://scikit-learn.org/stable/modules/linear_model.html#logistic-regression\n",
      "  n_iter_i = _check_optimize_result(\n",
      "/Users/danayt/anaconda3/envs/learn-env/lib/python3.9/site-packages/sklearn/linear_model/_logistic.py:460: ConvergenceWarning: lbfgs failed to converge (status=1):\n",
      "STOP: TOTAL NO. of ITERATIONS REACHED LIMIT.\n",
      "\n",
      "Increase the number of iterations (max_iter) or scale the data as shown in:\n",
      "    https://scikit-learn.org/stable/modules/preprocessing.html\n",
      "Please also refer to the documentation for alternative solver options:\n",
      "    https://scikit-learn.org/stable/modules/linear_model.html#logistic-regression\n",
      "  n_iter_i = _check_optimize_result(\n",
      "/Users/danayt/anaconda3/envs/learn-env/lib/python3.9/site-packages/sklearn/linear_model/_logistic.py:460: ConvergenceWarning: lbfgs failed to converge (status=1):\n",
      "STOP: TOTAL NO. of ITERATIONS REACHED LIMIT.\n",
      "\n",
      "Increase the number of iterations (max_iter) or scale the data as shown in:\n",
      "    https://scikit-learn.org/stable/modules/preprocessing.html\n",
      "Please also refer to the documentation for alternative solver options:\n",
      "    https://scikit-learn.org/stable/modules/linear_model.html#logistic-regression\n",
      "  n_iter_i = _check_optimize_result(\n",
      "/Users/danayt/anaconda3/envs/learn-env/lib/python3.9/site-packages/sklearn/linear_model/_logistic.py:460: ConvergenceWarning: lbfgs failed to converge (status=1):\n",
      "STOP: TOTAL NO. of ITERATIONS REACHED LIMIT.\n",
      "\n",
      "Increase the number of iterations (max_iter) or scale the data as shown in:\n",
      "    https://scikit-learn.org/stable/modules/preprocessing.html\n",
      "Please also refer to the documentation for alternative solver options:\n",
      "    https://scikit-learn.org/stable/modules/linear_model.html#logistic-regression\n",
      "  n_iter_i = _check_optimize_result(\n",
      "/Users/danayt/anaconda3/envs/learn-env/lib/python3.9/site-packages/sklearn/linear_model/_logistic.py:460: ConvergenceWarning: lbfgs failed to converge (status=1):\n",
      "STOP: TOTAL NO. of ITERATIONS REACHED LIMIT.\n",
      "\n",
      "Increase the number of iterations (max_iter) or scale the data as shown in:\n",
      "    https://scikit-learn.org/stable/modules/preprocessing.html\n",
      "Please also refer to the documentation for alternative solver options:\n",
      "    https://scikit-learn.org/stable/modules/linear_model.html#logistic-regression\n",
      "  n_iter_i = _check_optimize_result(\n",
      "/Users/danayt/anaconda3/envs/learn-env/lib/python3.9/site-packages/sklearn/linear_model/_logistic.py:460: ConvergenceWarning: lbfgs failed to converge (status=1):\n",
      "STOP: TOTAL NO. of ITERATIONS REACHED LIMIT.\n",
      "\n",
      "Increase the number of iterations (max_iter) or scale the data as shown in:\n",
      "    https://scikit-learn.org/stable/modules/preprocessing.html\n",
      "Please also refer to the documentation for alternative solver options:\n",
      "    https://scikit-learn.org/stable/modules/linear_model.html#logistic-regression\n",
      "  n_iter_i = _check_optimize_result(\n",
      "/Users/danayt/anaconda3/envs/learn-env/lib/python3.9/site-packages/sklearn/linear_model/_logistic.py:460: ConvergenceWarning: lbfgs failed to converge (status=1):\n",
      "STOP: TOTAL NO. of ITERATIONS REACHED LIMIT.\n",
      "\n",
      "Increase the number of iterations (max_iter) or scale the data as shown in:\n",
      "    https://scikit-learn.org/stable/modules/preprocessing.html\n",
      "Please also refer to the documentation for alternative solver options:\n",
      "    https://scikit-learn.org/stable/modules/linear_model.html#logistic-regression\n",
      "  n_iter_i = _check_optimize_result(\n",
      "/Users/danayt/anaconda3/envs/learn-env/lib/python3.9/site-packages/sklearn/linear_model/_logistic.py:460: ConvergenceWarning: lbfgs failed to converge (status=1):\n",
      "STOP: TOTAL NO. of ITERATIONS REACHED LIMIT.\n",
      "\n",
      "Increase the number of iterations (max_iter) or scale the data as shown in:\n",
      "    https://scikit-learn.org/stable/modules/preprocessing.html\n",
      "Please also refer to the documentation for alternative solver options:\n",
      "    https://scikit-learn.org/stable/modules/linear_model.html#logistic-regression\n",
      "  n_iter_i = _check_optimize_result(\n",
      "/Users/danayt/anaconda3/envs/learn-env/lib/python3.9/site-packages/sklearn/linear_model/_logistic.py:460: ConvergenceWarning: lbfgs failed to converge (status=1):\n",
      "STOP: TOTAL NO. of ITERATIONS REACHED LIMIT.\n",
      "\n",
      "Increase the number of iterations (max_iter) or scale the data as shown in:\n",
      "    https://scikit-learn.org/stable/modules/preprocessing.html\n",
      "Please also refer to the documentation for alternative solver options:\n",
      "    https://scikit-learn.org/stable/modules/linear_model.html#logistic-regression\n",
      "  n_iter_i = _check_optimize_result(\n",
      "/Users/danayt/anaconda3/envs/learn-env/lib/python3.9/site-packages/sklearn/linear_model/_logistic.py:460: ConvergenceWarning: lbfgs failed to converge (status=1):\n",
      "STOP: TOTAL NO. of ITERATIONS REACHED LIMIT.\n",
      "\n",
      "Increase the number of iterations (max_iter) or scale the data as shown in:\n",
      "    https://scikit-learn.org/stable/modules/preprocessing.html\n",
      "Please also refer to the documentation for alternative solver options:\n",
      "    https://scikit-learn.org/stable/modules/linear_model.html#logistic-regression\n",
      "  n_iter_i = _check_optimize_result(\n",
      "/Users/danayt/anaconda3/envs/learn-env/lib/python3.9/site-packages/sklearn/linear_model/_logistic.py:460: ConvergenceWarning: lbfgs failed to converge (status=1):\n",
      "STOP: TOTAL NO. of ITERATIONS REACHED LIMIT.\n",
      "\n",
      "Increase the number of iterations (max_iter) or scale the data as shown in:\n",
      "    https://scikit-learn.org/stable/modules/preprocessing.html\n",
      "Please also refer to the documentation for alternative solver options:\n",
      "    https://scikit-learn.org/stable/modules/linear_model.html#logistic-regression\n",
      "  n_iter_i = _check_optimize_result(\n",
      "/Users/danayt/anaconda3/envs/learn-env/lib/python3.9/site-packages/sklearn/linear_model/_logistic.py:460: ConvergenceWarning: lbfgs failed to converge (status=1):\n",
      "STOP: TOTAL NO. of ITERATIONS REACHED LIMIT.\n",
      "\n",
      "Increase the number of iterations (max_iter) or scale the data as shown in:\n",
      "    https://scikit-learn.org/stable/modules/preprocessing.html\n",
      "Please also refer to the documentation for alternative solver options:\n",
      "    https://scikit-learn.org/stable/modules/linear_model.html#logistic-regression\n",
      "  n_iter_i = _check_optimize_result(\n",
      "/Users/danayt/anaconda3/envs/learn-env/lib/python3.9/site-packages/sklearn/linear_model/_logistic.py:460: ConvergenceWarning: lbfgs failed to converge (status=1):\n",
      "STOP: TOTAL NO. of ITERATIONS REACHED LIMIT.\n",
      "\n",
      "Increase the number of iterations (max_iter) or scale the data as shown in:\n",
      "    https://scikit-learn.org/stable/modules/preprocessing.html\n",
      "Please also refer to the documentation for alternative solver options:\n",
      "    https://scikit-learn.org/stable/modules/linear_model.html#logistic-regression\n",
      "  n_iter_i = _check_optimize_result(\n",
      "/Users/danayt/anaconda3/envs/learn-env/lib/python3.9/site-packages/sklearn/linear_model/_logistic.py:460: ConvergenceWarning: lbfgs failed to converge (status=1):\n",
      "STOP: TOTAL NO. of ITERATIONS REACHED LIMIT.\n",
      "\n",
      "Increase the number of iterations (max_iter) or scale the data as shown in:\n",
      "    https://scikit-learn.org/stable/modules/preprocessing.html\n",
      "Please also refer to the documentation for alternative solver options:\n",
      "    https://scikit-learn.org/stable/modules/linear_model.html#logistic-regression\n",
      "  n_iter_i = _check_optimize_result(\n",
      "/Users/danayt/anaconda3/envs/learn-env/lib/python3.9/site-packages/sklearn/model_selection/_validation.py:425: FitFailedWarning: \n",
      "225 fits failed out of a total of 450.\n",
      "The score on these train-test partitions for these parameters will be set to nan.\n",
      "If these failures are not expected, you can try to debug them by setting error_score='raise'.\n",
      "\n",
      "Below are more details about the failures:\n",
      "--------------------------------------------------------------------------------\n",
      "75 fits failed with the following error:\n",
      "Traceback (most recent call last):\n",
      "  File \"/Users/danayt/anaconda3/envs/learn-env/lib/python3.9/site-packages/sklearn/model_selection/_validation.py\", line 729, in _fit_and_score\n",
      "    estimator.fit(X_train, y_train, **fit_params)\n",
      "  File \"/Users/danayt/anaconda3/envs/learn-env/lib/python3.9/site-packages/sklearn/base.py\", line 1152, in wrapper\n",
      "    return fit_method(estimator, *args, **kwargs)\n",
      "  File \"/Users/danayt/anaconda3/envs/learn-env/lib/python3.9/site-packages/sklearn/pipeline.py\", line 427, in fit\n",
      "    self._final_estimator.fit(Xt, y, **fit_params_last_step)\n",
      "  File \"/Users/danayt/anaconda3/envs/learn-env/lib/python3.9/site-packages/sklearn/base.py\", line 1152, in wrapper\n",
      "    return fit_method(estimator, *args, **kwargs)\n",
      "  File \"/Users/danayt/anaconda3/envs/learn-env/lib/python3.9/site-packages/sklearn/linear_model/_logistic.py\", line 1169, in fit\n",
      "    solver = _check_solver(self.solver, self.penalty, self.dual)\n",
      "  File \"/Users/danayt/anaconda3/envs/learn-env/lib/python3.9/site-packages/sklearn/linear_model/_logistic.py\", line 56, in _check_solver\n",
      "    raise ValueError(\n",
      "ValueError: Solver lbfgs supports only 'l2' or 'none' penalties, got l1 penalty.\n",
      "\n",
      "--------------------------------------------------------------------------------\n",
      "75 fits failed with the following error:\n",
      "Traceback (most recent call last):\n",
      "  File \"/Users/danayt/anaconda3/envs/learn-env/lib/python3.9/site-packages/sklearn/model_selection/_validation.py\", line 729, in _fit_and_score\n",
      "    estimator.fit(X_train, y_train, **fit_params)\n",
      "  File \"/Users/danayt/anaconda3/envs/learn-env/lib/python3.9/site-packages/sklearn/base.py\", line 1152, in wrapper\n",
      "    return fit_method(estimator, *args, **kwargs)\n",
      "  File \"/Users/danayt/anaconda3/envs/learn-env/lib/python3.9/site-packages/sklearn/pipeline.py\", line 427, in fit\n",
      "    self._final_estimator.fit(Xt, y, **fit_params_last_step)\n",
      "  File \"/Users/danayt/anaconda3/envs/learn-env/lib/python3.9/site-packages/sklearn/base.py\", line 1152, in wrapper\n",
      "    return fit_method(estimator, *args, **kwargs)\n",
      "  File \"/Users/danayt/anaconda3/envs/learn-env/lib/python3.9/site-packages/sklearn/linear_model/_logistic.py\", line 1169, in fit\n",
      "    solver = _check_solver(self.solver, self.penalty, self.dual)\n",
      "  File \"/Users/danayt/anaconda3/envs/learn-env/lib/python3.9/site-packages/sklearn/linear_model/_logistic.py\", line 56, in _check_solver\n",
      "    raise ValueError(\n",
      "ValueError: Solver lbfgs supports only 'l2' or 'none' penalties, got elasticnet penalty.\n",
      "\n",
      "--------------------------------------------------------------------------------\n",
      "75 fits failed with the following error:\n",
      "Traceback (most recent call last):\n",
      "  File \"/Users/danayt/anaconda3/envs/learn-env/lib/python3.9/site-packages/sklearn/model_selection/_validation.py\", line 729, in _fit_and_score\n",
      "    estimator.fit(X_train, y_train, **fit_params)\n",
      "  File \"/Users/danayt/anaconda3/envs/learn-env/lib/python3.9/site-packages/sklearn/base.py\", line 1152, in wrapper\n",
      "    return fit_method(estimator, *args, **kwargs)\n",
      "  File \"/Users/danayt/anaconda3/envs/learn-env/lib/python3.9/site-packages/sklearn/pipeline.py\", line 427, in fit\n",
      "    self._final_estimator.fit(Xt, y, **fit_params_last_step)\n",
      "  File \"/Users/danayt/anaconda3/envs/learn-env/lib/python3.9/site-packages/sklearn/base.py\", line 1152, in wrapper\n",
      "    return fit_method(estimator, *args, **kwargs)\n",
      "  File \"/Users/danayt/anaconda3/envs/learn-env/lib/python3.9/site-packages/sklearn/linear_model/_logistic.py\", line 1169, in fit\n",
      "    solver = _check_solver(self.solver, self.penalty, self.dual)\n",
      "  File \"/Users/danayt/anaconda3/envs/learn-env/lib/python3.9/site-packages/sklearn/linear_model/_logistic.py\", line 66, in _check_solver\n",
      "    raise ValueError(\n",
      "ValueError: Only 'saga' solver supports elasticnet penalty, got solver=liblinear.\n",
      "\n",
      "  warnings.warn(some_fits_failed_message, FitFailedWarning)\n",
      "/Users/danayt/anaconda3/envs/learn-env/lib/python3.9/site-packages/sklearn/model_selection/_search.py:979: UserWarning: One or more of the test scores are non-finite: [0.69862798 0.69807525        nan 0.45876677        nan        nan\n",
      " 0.69862798 0.69807525        nan 0.45876677        nan        nan\n",
      " 0.69862798 0.69807525        nan 0.45876677        nan        nan\n",
      " 0.732273   0.73021261        nan 0.67317447        nan        nan\n",
      " 0.732273   0.73021261        nan 0.67317447        nan        nan\n",
      " 0.732273   0.73021261        nan 0.67317447        nan        nan\n",
      " 0.74727369 0.74722345        nan 0.74636917        nan        nan\n",
      " 0.74719831 0.74722345        nan 0.74636917        nan        nan\n",
      " 0.74719831 0.74722345        nan 0.74636917        nan        nan\n",
      " 0.74749982 0.74772596        nan 0.74749983        nan        nan\n",
      " 0.74770084 0.74772596        nan 0.74749983        nan        nan\n",
      " 0.74770084 0.74772596        nan 0.74749983        nan        nan\n",
      " 0.74770084 0.7479521         nan 0.74772596        nan        nan\n",
      " 0.74792697 0.7479521         nan 0.74772596        nan        nan\n",
      " 0.74792697 0.7479521         nan 0.74772596        nan        nan]\n",
      "  warnings.warn(\n"
     ]
    },
    {
     "data": {
      "text/html": [
       "<style>#sk-container-id-3 {color: black;}#sk-container-id-3 pre{padding: 0;}#sk-container-id-3 div.sk-toggleable {background-color: white;}#sk-container-id-3 label.sk-toggleable__label {cursor: pointer;display: block;width: 100%;margin-bottom: 0;padding: 0.3em;box-sizing: border-box;text-align: center;}#sk-container-id-3 label.sk-toggleable__label-arrow:before {content: \"▸\";float: left;margin-right: 0.25em;color: #696969;}#sk-container-id-3 label.sk-toggleable__label-arrow:hover:before {color: black;}#sk-container-id-3 div.sk-estimator:hover label.sk-toggleable__label-arrow:before {color: black;}#sk-container-id-3 div.sk-toggleable__content {max-height: 0;max-width: 0;overflow: hidden;text-align: left;background-color: #f0f8ff;}#sk-container-id-3 div.sk-toggleable__content pre {margin: 0.2em;color: black;border-radius: 0.25em;background-color: #f0f8ff;}#sk-container-id-3 input.sk-toggleable__control:checked~div.sk-toggleable__content {max-height: 200px;max-width: 100%;overflow: auto;}#sk-container-id-3 input.sk-toggleable__control:checked~label.sk-toggleable__label-arrow:before {content: \"▾\";}#sk-container-id-3 div.sk-estimator input.sk-toggleable__control:checked~label.sk-toggleable__label {background-color: #d4ebff;}#sk-container-id-3 div.sk-label input.sk-toggleable__control:checked~label.sk-toggleable__label {background-color: #d4ebff;}#sk-container-id-3 input.sk-hidden--visually {border: 0;clip: rect(1px 1px 1px 1px);clip: rect(1px, 1px, 1px, 1px);height: 1px;margin: -1px;overflow: hidden;padding: 0;position: absolute;width: 1px;}#sk-container-id-3 div.sk-estimator {font-family: monospace;background-color: #f0f8ff;border: 1px dotted black;border-radius: 0.25em;box-sizing: border-box;margin-bottom: 0.5em;}#sk-container-id-3 div.sk-estimator:hover {background-color: #d4ebff;}#sk-container-id-3 div.sk-parallel-item::after {content: \"\";width: 100%;border-bottom: 1px solid gray;flex-grow: 1;}#sk-container-id-3 div.sk-label:hover label.sk-toggleable__label {background-color: #d4ebff;}#sk-container-id-3 div.sk-serial::before {content: \"\";position: absolute;border-left: 1px solid gray;box-sizing: border-box;top: 0;bottom: 0;left: 50%;z-index: 0;}#sk-container-id-3 div.sk-serial {display: flex;flex-direction: column;align-items: center;background-color: white;padding-right: 0.2em;padding-left: 0.2em;position: relative;}#sk-container-id-3 div.sk-item {position: relative;z-index: 1;}#sk-container-id-3 div.sk-parallel {display: flex;align-items: stretch;justify-content: center;background-color: white;position: relative;}#sk-container-id-3 div.sk-item::before, #sk-container-id-3 div.sk-parallel-item::before {content: \"\";position: absolute;border-left: 1px solid gray;box-sizing: border-box;top: 0;bottom: 0;left: 50%;z-index: -1;}#sk-container-id-3 div.sk-parallel-item {display: flex;flex-direction: column;z-index: 1;position: relative;background-color: white;}#sk-container-id-3 div.sk-parallel-item:first-child::after {align-self: flex-end;width: 50%;}#sk-container-id-3 div.sk-parallel-item:last-child::after {align-self: flex-start;width: 50%;}#sk-container-id-3 div.sk-parallel-item:only-child::after {width: 0;}#sk-container-id-3 div.sk-dashed-wrapped {border: 1px dashed gray;margin: 0 0.4em 0.5em 0.4em;box-sizing: border-box;padding-bottom: 0.4em;background-color: white;}#sk-container-id-3 div.sk-label label {font-family: monospace;font-weight: bold;display: inline-block;line-height: 1.2em;}#sk-container-id-3 div.sk-label-container {text-align: center;}#sk-container-id-3 div.sk-container {/* jupyter's `normalize.less` sets `[hidden] { display: none; }` but bootstrap.min.css set `[hidden] { display: none !important; }` so we also need the `!important` here to be able to override the default hidden behavior on the sphinx rendered scikit-learn.org. See: https://github.com/scikit-learn/scikit-learn/issues/21755 */display: inline-block !important;position: relative;}#sk-container-id-3 div.sk-text-repr-fallback {display: none;}</style><div id=\"sk-container-id-3\" class=\"sk-top-container\"><div class=\"sk-text-repr-fallback\"><pre>GridSearchCV(cv=5,\n",
       "             estimator=Pipeline(steps=[(&#x27;processes&#x27;,\n",
       "                                        ColumnTransformer(transformers=[(&#x27;cat&#x27;,\n",
       "                                                                         Pipeline(steps=[(&#x27;imputer&#x27;,\n",
       "                                                                                          SimpleImputer(strategy=&#x27;most_frequent&#x27;)),\n",
       "                                                                                         (&#x27;encoder&#x27;,\n",
       "                                                                                          OneHotEncoder())]),\n",
       "                                                                         [&#x27;installer&#x27;,\n",
       "                                                                          &#x27;funder&#x27;,\n",
       "                                                                          &#x27;basin&#x27;,\n",
       "                                                                          &#x27;management_group&#x27;,\n",
       "                                                                          &#x27;extraction_type_class&#x27;,\n",
       "                                                                          &#x27;payment&#x27;,\n",
       "                                                                          &#x27;water_quality&#x27;,\n",
       "                                                                          &#x27;quantity&#x27;,\n",
       "                                                                          &#x27;source&#x27;,\n",
       "                                                                          &#x27;source_class&#x27;,\n",
       "                                                                          &#x27;waterpoint_type_group...\n",
       "                                                                         Pipeline(steps=[(&#x27;bin_impute&#x27;,\n",
       "                                                                                          SimpleImputer(strategy=&#x27;most_frequent&#x27;))]),\n",
       "                                                                         [&#x27;permit&#x27;,\n",
       "                                                                          &#x27;public_meeting&#x27;])])),\n",
       "                                       (&#x27;classifier&#x27;,\n",
       "                                        LogisticRegression(random_state=42))]),\n",
       "             n_jobs=-1,\n",
       "             param_grid={&#x27;classifier__C&#x27;: [0.0001, 0.001, 0.1, 1, 10],\n",
       "                         &#x27;classifier__max_iter&#x27;: [100, 1000, 10000],\n",
       "                         &#x27;classifier__penalty&#x27;: [&#x27;l2&#x27;, &#x27;l1&#x27;, &#x27;elasticnet&#x27;],\n",
       "                         &#x27;classifier__solver&#x27;: [&#x27;lbfgs&#x27;, &#x27;liblinear&#x27;]},\n",
       "             verbose=2)</pre><b>In a Jupyter environment, please rerun this cell to show the HTML representation or trust the notebook. <br />On GitHub, the HTML representation is unable to render, please try loading this page with nbviewer.org.</b></div><div class=\"sk-container\" hidden><div class=\"sk-item sk-dashed-wrapped\"><div class=\"sk-label-container\"><div class=\"sk-label sk-toggleable\"><input class=\"sk-toggleable__control sk-hidden--visually\" id=\"sk-estimator-id-25\" type=\"checkbox\" ><label for=\"sk-estimator-id-25\" class=\"sk-toggleable__label sk-toggleable__label-arrow\">GridSearchCV</label><div class=\"sk-toggleable__content\"><pre>GridSearchCV(cv=5,\n",
       "             estimator=Pipeline(steps=[(&#x27;processes&#x27;,\n",
       "                                        ColumnTransformer(transformers=[(&#x27;cat&#x27;,\n",
       "                                                                         Pipeline(steps=[(&#x27;imputer&#x27;,\n",
       "                                                                                          SimpleImputer(strategy=&#x27;most_frequent&#x27;)),\n",
       "                                                                                         (&#x27;encoder&#x27;,\n",
       "                                                                                          OneHotEncoder())]),\n",
       "                                                                         [&#x27;installer&#x27;,\n",
       "                                                                          &#x27;funder&#x27;,\n",
       "                                                                          &#x27;basin&#x27;,\n",
       "                                                                          &#x27;management_group&#x27;,\n",
       "                                                                          &#x27;extraction_type_class&#x27;,\n",
       "                                                                          &#x27;payment&#x27;,\n",
       "                                                                          &#x27;water_quality&#x27;,\n",
       "                                                                          &#x27;quantity&#x27;,\n",
       "                                                                          &#x27;source&#x27;,\n",
       "                                                                          &#x27;source_class&#x27;,\n",
       "                                                                          &#x27;waterpoint_type_group...\n",
       "                                                                         Pipeline(steps=[(&#x27;bin_impute&#x27;,\n",
       "                                                                                          SimpleImputer(strategy=&#x27;most_frequent&#x27;))]),\n",
       "                                                                         [&#x27;permit&#x27;,\n",
       "                                                                          &#x27;public_meeting&#x27;])])),\n",
       "                                       (&#x27;classifier&#x27;,\n",
       "                                        LogisticRegression(random_state=42))]),\n",
       "             n_jobs=-1,\n",
       "             param_grid={&#x27;classifier__C&#x27;: [0.0001, 0.001, 0.1, 1, 10],\n",
       "                         &#x27;classifier__max_iter&#x27;: [100, 1000, 10000],\n",
       "                         &#x27;classifier__penalty&#x27;: [&#x27;l2&#x27;, &#x27;l1&#x27;, &#x27;elasticnet&#x27;],\n",
       "                         &#x27;classifier__solver&#x27;: [&#x27;lbfgs&#x27;, &#x27;liblinear&#x27;]},\n",
       "             verbose=2)</pre></div></div></div><div class=\"sk-parallel\"><div class=\"sk-parallel-item\"><div class=\"sk-item\"><div class=\"sk-label-container\"><div class=\"sk-label sk-toggleable\"><input class=\"sk-toggleable__control sk-hidden--visually\" id=\"sk-estimator-id-26\" type=\"checkbox\" ><label for=\"sk-estimator-id-26\" class=\"sk-toggleable__label sk-toggleable__label-arrow\">estimator: Pipeline</label><div class=\"sk-toggleable__content\"><pre>Pipeline(steps=[(&#x27;processes&#x27;,\n",
       "                 ColumnTransformer(transformers=[(&#x27;cat&#x27;,\n",
       "                                                  Pipeline(steps=[(&#x27;imputer&#x27;,\n",
       "                                                                   SimpleImputer(strategy=&#x27;most_frequent&#x27;)),\n",
       "                                                                  (&#x27;encoder&#x27;,\n",
       "                                                                   OneHotEncoder())]),\n",
       "                                                  [&#x27;installer&#x27;, &#x27;funder&#x27;,\n",
       "                                                   &#x27;basin&#x27;, &#x27;management_group&#x27;,\n",
       "                                                   &#x27;extraction_type_class&#x27;,\n",
       "                                                   &#x27;payment&#x27;, &#x27;water_quality&#x27;,\n",
       "                                                   &#x27;quantity&#x27;, &#x27;source&#x27;,\n",
       "                                                   &#x27;source_class&#x27;,\n",
       "                                                   &#x27;waterpoint_type_group&#x27;,\n",
       "                                                   &#x27;region&#x27;]),\n",
       "                                                 (&#x27;num&#x27;,\n",
       "                                                  Pipeline(steps=[(&#x27;imputer&#x27;,\n",
       "                                                                   SimpleImputer(strategy=&#x27;median&#x27;)),\n",
       "                                                                  (&#x27;poly&#x27;,\n",
       "                                                                   PolynomialFeatures()),\n",
       "                                                                  (&#x27;scaler&#x27;,\n",
       "                                                                   StandardScaler())]),\n",
       "                                                  [&#x27;gps_height&#x27;, &#x27;population&#x27;,\n",
       "                                                   &#x27;age_of_well&#x27;]),\n",
       "                                                 (&#x27;bins&#x27;,\n",
       "                                                  Pipeline(steps=[(&#x27;bin_impute&#x27;,\n",
       "                                                                   SimpleImputer(strategy=&#x27;most_frequent&#x27;))]),\n",
       "                                                  [&#x27;permit&#x27;,\n",
       "                                                   &#x27;public_meeting&#x27;])])),\n",
       "                (&#x27;classifier&#x27;, LogisticRegression(random_state=42))])</pre></div></div></div><div class=\"sk-serial\"><div class=\"sk-item\"><div class=\"sk-serial\"><div class=\"sk-item sk-dashed-wrapped\"><div class=\"sk-label-container\"><div class=\"sk-label sk-toggleable\"><input class=\"sk-toggleable__control sk-hidden--visually\" id=\"sk-estimator-id-27\" type=\"checkbox\" ><label for=\"sk-estimator-id-27\" class=\"sk-toggleable__label sk-toggleable__label-arrow\">processes: ColumnTransformer</label><div class=\"sk-toggleable__content\"><pre>ColumnTransformer(transformers=[(&#x27;cat&#x27;,\n",
       "                                 Pipeline(steps=[(&#x27;imputer&#x27;,\n",
       "                                                  SimpleImputer(strategy=&#x27;most_frequent&#x27;)),\n",
       "                                                 (&#x27;encoder&#x27;, OneHotEncoder())]),\n",
       "                                 [&#x27;installer&#x27;, &#x27;funder&#x27;, &#x27;basin&#x27;,\n",
       "                                  &#x27;management_group&#x27;, &#x27;extraction_type_class&#x27;,\n",
       "                                  &#x27;payment&#x27;, &#x27;water_quality&#x27;, &#x27;quantity&#x27;,\n",
       "                                  &#x27;source&#x27;, &#x27;source_class&#x27;,\n",
       "                                  &#x27;waterpoint_type_group&#x27;, &#x27;region&#x27;]),\n",
       "                                (&#x27;num&#x27;,\n",
       "                                 Pipeline(steps=[(&#x27;imputer&#x27;,\n",
       "                                                  SimpleImputer(strategy=&#x27;median&#x27;)),\n",
       "                                                 (&#x27;poly&#x27;, PolynomialFeatures()),\n",
       "                                                 (&#x27;scaler&#x27;, StandardScaler())]),\n",
       "                                 [&#x27;gps_height&#x27;, &#x27;population&#x27;, &#x27;age_of_well&#x27;]),\n",
       "                                (&#x27;bins&#x27;,\n",
       "                                 Pipeline(steps=[(&#x27;bin_impute&#x27;,\n",
       "                                                  SimpleImputer(strategy=&#x27;most_frequent&#x27;))]),\n",
       "                                 [&#x27;permit&#x27;, &#x27;public_meeting&#x27;])])</pre></div></div></div><div class=\"sk-parallel\"><div class=\"sk-parallel-item\"><div class=\"sk-item\"><div class=\"sk-label-container\"><div class=\"sk-label sk-toggleable\"><input class=\"sk-toggleable__control sk-hidden--visually\" id=\"sk-estimator-id-28\" type=\"checkbox\" ><label for=\"sk-estimator-id-28\" class=\"sk-toggleable__label sk-toggleable__label-arrow\">cat</label><div class=\"sk-toggleable__content\"><pre>[&#x27;installer&#x27;, &#x27;funder&#x27;, &#x27;basin&#x27;, &#x27;management_group&#x27;, &#x27;extraction_type_class&#x27;, &#x27;payment&#x27;, &#x27;water_quality&#x27;, &#x27;quantity&#x27;, &#x27;source&#x27;, &#x27;source_class&#x27;, &#x27;waterpoint_type_group&#x27;, &#x27;region&#x27;]</pre></div></div></div><div class=\"sk-serial\"><div class=\"sk-item\"><div class=\"sk-serial\"><div class=\"sk-item\"><div class=\"sk-estimator sk-toggleable\"><input class=\"sk-toggleable__control sk-hidden--visually\" id=\"sk-estimator-id-29\" type=\"checkbox\" ><label for=\"sk-estimator-id-29\" class=\"sk-toggleable__label sk-toggleable__label-arrow\">SimpleImputer</label><div class=\"sk-toggleable__content\"><pre>SimpleImputer(strategy=&#x27;most_frequent&#x27;)</pre></div></div></div><div class=\"sk-item\"><div class=\"sk-estimator sk-toggleable\"><input class=\"sk-toggleable__control sk-hidden--visually\" id=\"sk-estimator-id-30\" type=\"checkbox\" ><label for=\"sk-estimator-id-30\" class=\"sk-toggleable__label sk-toggleable__label-arrow\">OneHotEncoder</label><div class=\"sk-toggleable__content\"><pre>OneHotEncoder()</pre></div></div></div></div></div></div></div></div><div class=\"sk-parallel-item\"><div class=\"sk-item\"><div class=\"sk-label-container\"><div class=\"sk-label sk-toggleable\"><input class=\"sk-toggleable__control sk-hidden--visually\" id=\"sk-estimator-id-31\" type=\"checkbox\" ><label for=\"sk-estimator-id-31\" class=\"sk-toggleable__label sk-toggleable__label-arrow\">num</label><div class=\"sk-toggleable__content\"><pre>[&#x27;gps_height&#x27;, &#x27;population&#x27;, &#x27;age_of_well&#x27;]</pre></div></div></div><div class=\"sk-serial\"><div class=\"sk-item\"><div class=\"sk-serial\"><div class=\"sk-item\"><div class=\"sk-estimator sk-toggleable\"><input class=\"sk-toggleable__control sk-hidden--visually\" id=\"sk-estimator-id-32\" type=\"checkbox\" ><label for=\"sk-estimator-id-32\" class=\"sk-toggleable__label sk-toggleable__label-arrow\">SimpleImputer</label><div class=\"sk-toggleable__content\"><pre>SimpleImputer(strategy=&#x27;median&#x27;)</pre></div></div></div><div class=\"sk-item\"><div class=\"sk-estimator sk-toggleable\"><input class=\"sk-toggleable__control sk-hidden--visually\" id=\"sk-estimator-id-33\" type=\"checkbox\" ><label for=\"sk-estimator-id-33\" class=\"sk-toggleable__label sk-toggleable__label-arrow\">PolynomialFeatures</label><div class=\"sk-toggleable__content\"><pre>PolynomialFeatures()</pre></div></div></div><div class=\"sk-item\"><div class=\"sk-estimator sk-toggleable\"><input class=\"sk-toggleable__control sk-hidden--visually\" id=\"sk-estimator-id-34\" type=\"checkbox\" ><label for=\"sk-estimator-id-34\" class=\"sk-toggleable__label sk-toggleable__label-arrow\">StandardScaler</label><div class=\"sk-toggleable__content\"><pre>StandardScaler()</pre></div></div></div></div></div></div></div></div><div class=\"sk-parallel-item\"><div class=\"sk-item\"><div class=\"sk-label-container\"><div class=\"sk-label sk-toggleable\"><input class=\"sk-toggleable__control sk-hidden--visually\" id=\"sk-estimator-id-35\" type=\"checkbox\" ><label for=\"sk-estimator-id-35\" class=\"sk-toggleable__label sk-toggleable__label-arrow\">bins</label><div class=\"sk-toggleable__content\"><pre>[&#x27;permit&#x27;, &#x27;public_meeting&#x27;]</pre></div></div></div><div class=\"sk-serial\"><div class=\"sk-item\"><div class=\"sk-serial\"><div class=\"sk-item\"><div class=\"sk-estimator sk-toggleable\"><input class=\"sk-toggleable__control sk-hidden--visually\" id=\"sk-estimator-id-36\" type=\"checkbox\" ><label for=\"sk-estimator-id-36\" class=\"sk-toggleable__label sk-toggleable__label-arrow\">SimpleImputer</label><div class=\"sk-toggleable__content\"><pre>SimpleImputer(strategy=&#x27;most_frequent&#x27;)</pre></div></div></div></div></div></div></div></div></div></div><div class=\"sk-item\"><div class=\"sk-estimator sk-toggleable\"><input class=\"sk-toggleable__control sk-hidden--visually\" id=\"sk-estimator-id-37\" type=\"checkbox\" ><label for=\"sk-estimator-id-37\" class=\"sk-toggleable__label sk-toggleable__label-arrow\">LogisticRegression</label><div class=\"sk-toggleable__content\"><pre>LogisticRegression(random_state=42)</pre></div></div></div></div></div></div></div></div></div></div></div></div>"
      ],
      "text/plain": [
       "GridSearchCV(cv=5,\n",
       "             estimator=Pipeline(steps=[('processes',\n",
       "                                        ColumnTransformer(transformers=[('cat',\n",
       "                                                                         Pipeline(steps=[('imputer',\n",
       "                                                                                          SimpleImputer(strategy='most_frequent')),\n",
       "                                                                                         ('encoder',\n",
       "                                                                                          OneHotEncoder())]),\n",
       "                                                                         ['installer',\n",
       "                                                                          'funder',\n",
       "                                                                          'basin',\n",
       "                                                                          'management_group',\n",
       "                                                                          'extraction_type_class',\n",
       "                                                                          'payment',\n",
       "                                                                          'water_quality',\n",
       "                                                                          'quantity',\n",
       "                                                                          'source',\n",
       "                                                                          'source_class',\n",
       "                                                                          'waterpoint_type_group...\n",
       "                                                                         Pipeline(steps=[('bin_impute',\n",
       "                                                                                          SimpleImputer(strategy='most_frequent'))]),\n",
       "                                                                         ['permit',\n",
       "                                                                          'public_meeting'])])),\n",
       "                                       ('classifier',\n",
       "                                        LogisticRegression(random_state=42))]),\n",
       "             n_jobs=-1,\n",
       "             param_grid={'classifier__C': [0.0001, 0.001, 0.1, 1, 10],\n",
       "                         'classifier__max_iter': [100, 1000, 10000],\n",
       "                         'classifier__penalty': ['l2', 'l1', 'elasticnet'],\n",
       "                         'classifier__solver': ['lbfgs', 'liblinear']},\n",
       "             verbose=2)"
      ]
     },
     "execution_count": 70,
     "metadata": {},
     "output_type": "execute_result"
    }
   ],
   "source": [
    "grid_search_fsm.fit(X_train, y_train)"
   ]
  },
  {
   "cell_type": "code",
   "execution_count": 71,
   "id": "5f13b96a-f477-4310-b18a-8ccaeb4c96ab",
   "metadata": {},
   "outputs": [
    {
     "name": "stdout",
     "output_type": "stream",
     "text": [
      "best_params: {'classifier__C': 10, 'classifier__max_iter': 100, 'classifier__penalty': 'l2', 'classifier__solver': 'liblinear'}\n",
      "best_model: Pipeline(steps=[('processes',\n",
      "                 ColumnTransformer(transformers=[('cat',\n",
      "                                                  Pipeline(steps=[('imputer',\n",
      "                                                                   SimpleImputer(strategy='most_frequent')),\n",
      "                                                                  ('encoder',\n",
      "                                                                   OneHotEncoder())]),\n",
      "                                                  ['installer', 'funder',\n",
      "                                                   'basin', 'management_group',\n",
      "                                                   'extraction_type_class',\n",
      "                                                   'payment', 'water_quality',\n",
      "                                                   'quantity', 'source',\n",
      "                                                   'source_class',\n",
      "                                                   'waterpoint_type_group',\n",
      "                                                   'region']),\n",
      "                                                 ('num',\n",
      "                                                  Pipeline(steps=[('imputer',\n",
      "                                                                   SimpleImputer(strategy='median')),\n",
      "                                                                  ('poly',\n",
      "                                                                   PolynomialFeatures()),\n",
      "                                                                  ('scaler',\n",
      "                                                                   StandardScaler())]),\n",
      "                                                  ['gps_height', 'population',\n",
      "                                                   'age_of_well']),\n",
      "                                                 ('bins',\n",
      "                                                  Pipeline(steps=[('bin_impute',\n",
      "                                                                   SimpleImputer(strategy='most_frequent'))]),\n",
      "                                                  ['permit',\n",
      "                                                   'public_meeting'])])),\n",
      "                ('classifier',\n",
      "                 LogisticRegression(C=10, random_state=42,\n",
      "                                    solver='liblinear'))])\n"
     ]
    }
   ],
   "source": [
    "best_model_fsm = grid_search_fsm.best_estimator_\n",
    "best_params_fsm = grid_search_fsm.best_params_\n",
    "\n",
    "print(\"best_params:\", best_params_fsm)\n",
    "print(\"best_model:\", best_model_fsm)"
   ]
  },
  {
   "cell_type": "code",
   "execution_count": 72,
   "id": "6cc0bd53-707e-4198-9522-a14d4dad7ecb",
   "metadata": {},
   "outputs": [
    {
     "data": {
      "text/plain": [
       "0.7484924623115577"
      ]
     },
     "execution_count": 72,
     "metadata": {},
     "output_type": "execute_result"
    }
   ],
   "source": [
    "validation_score = best_model_fsm.score(X_val_fsm, y_val_fsm)\n",
    "validation_score"
   ]
  },
  {
   "cell_type": "code",
   "execution_count": 73,
   "id": "255a23d8-97a4-406a-babc-b019b7ede415",
   "metadata": {},
   "outputs": [
    {
     "data": {
      "text/plain": [
       "0.7481280466355094"
      ]
     },
     "execution_count": 73,
     "metadata": {},
     "output_type": "execute_result"
    }
   ],
   "source": [
    "validation_score = best_model_fsm.score(X_train, y_train)\n",
    "validation_score"
   ]
  },
  {
   "cell_type": "code",
   "execution_count": 74,
   "id": "8670c1a2-8eae-445e-a183-cb78c85ad254",
   "metadata": {},
   "outputs": [],
   "source": [
    "y_pred_gr = best_model_fsm.predict(X_test)"
   ]
  },
  {
   "cell_type": "code",
   "execution_count": 75,
   "id": "20177e88-86f5-463c-8b02-64042880b102",
   "metadata": {},
   "outputs": [
    {
     "name": "stdout",
     "output_type": "stream",
     "text": [
      "Accuracy:\n",
      "Train Accuracy: 0.7481280466355094\n",
      "Test Accuracy: 0.7512498724619937\n",
      "\n",
      "Balanced Accuracy:\n",
      "Train Accuracy: 0.7378119668838264\n",
      "Test Accuracy: 0.7394457077183911\n"
     ]
    }
   ],
   "source": [
    "y_train_gd = best_model_fsm.predict(X_train)\n",
    "y_test_pred_gd = best_model_fsm.predict(X_test)\n",
    "\n",
    "print(\"Accuracy:\")\n",
    "train_accuracy = accuracy_score(y_train, y_train_gd)\n",
    "print(\"Train Accuracy:\", train_accuracy)\n",
    "\n",
    "test_accuracy = accuracy_score(y_test, y_test_pred_gd)\n",
    "print(\"Test Accuracy:\", test_accuracy)\n",
    "\n",
    "print(\"\\nBalanced Accuracy:\")\n",
    "train_accuracy = balanced_accuracy_score(y_train, y_train_gd)\n",
    "print(\"Train Accuracy:\", train_accuracy)\n",
    "\n",
    "test_accuracy = balanced_accuracy_score(y_test, y_test_pred_gd)\n",
    "print(\"Test Accuracy:\", test_accuracy)"
   ]
  },
  {
   "cell_type": "code",
   "execution_count": 76,
   "id": "5c6989b6-00a4-42d5-b3e0-d27b8aab5344",
   "metadata": {},
   "outputs": [
    {
     "data": {
      "text/plain": [
       "0.5034203217769596"
      ]
     },
     "execution_count": 76,
     "metadata": {},
     "output_type": "execute_result"
    }
   ],
   "source": [
    "baseline_neg_log_loss_cv = cross_val_score(estimator=best_model_fsm, X=X_train, y=y_train, scoring=\"neg_log_loss\")\n",
    "\n",
    "baseline_log_loss = -(baseline_neg_log_loss_cv.mean())\n",
    "baseline_log_loss"
   ]
  },
  {
   "cell_type": "code",
   "execution_count": 77,
   "id": "913c8b11-7247-488e-96ce-34f554bdf1f6",
   "metadata": {},
   "outputs": [
    {
     "name": "stdout",
     "output_type": "stream",
     "text": [
      "              precision    recall  f1-score   support\n",
      "\n",
      "           0       0.79      0.61      0.69      8883\n",
      "           1       0.73      0.87      0.79     10719\n",
      "\n",
      "    accuracy                           0.75     19602\n",
      "   macro avg       0.76      0.74      0.74     19602\n",
      "weighted avg       0.76      0.75      0.75     19602\n",
      "\n"
     ]
    },
    {
     "data": {
      "image/png": "[encoded data removed]",
      "text/plain": [
       "<Figure size 640x480 with 2 Axes>"
      ]
     },
     "metadata": {},
     "output_type": "display_data"
    }
   ],
   "source": [
    "print(classification_report(y_test, y_test_pred_gd)) \n",
    "cm = confusion_matrix(y_test, y_test_pred_gd)\n",
    "disp = ConfusionMatrixDisplay(confusion_matrix=cm)\n",
    "disp.plot()\n",
    "plt.show()"
   ]
  },
  {
   "cell_type": "code",
   "execution_count": 78,
   "id": "d39b079f-3a5c-40fd-ad63-a2d4b4ef9b54",
   "metadata": {},
   "outputs": [
    {
     "data": {
      "text/plain": [
       "Text(0.5, 0, 'False Positive Rate')"
      ]
     },
     "execution_count": 78,
     "metadata": {},
     "output_type": "execute_result"
    },
    {
     "data": {
      "image/png": "[encoded data removed]",
      "text/plain": [
       "<Figure size 640x480 with 1 Axes>"
      ]
     },
     "metadata": {},
     "output_type": "display_data"
    }
   ],
   "source": [
    "probs = grid_search_fsm.predict_proba(X_test)[:, 1]\n",
    "\n",
    "# Calculate the false positive rate and true positive rate\n",
    "fpr, tpr, thresholds = roc_curve(y_test, probs)\n",
    "\n",
    "plt.plot(fpr, tpr)\n",
    "plt.plot([0, 1], [0, 1], linestyle='--')  # Random guess line\n",
    "plt.xlabel('False Positive Rate')"
   ]
  },
  {
   "cell_type": "code",
   "execution_count": 79,
   "id": "5a36c142-e4f7-4339-81bc-d2adf1efcfd6",
   "metadata": {},
   "outputs": [],
   "source": [
    "results_3 = pd.DataFrame({       \n",
    "     \"Model\": ['LogisticRegression'],\n",
    "      \"test_balanced_acc\": [0.739], \n",
    "       'train_balanced_acc' : [0.737],\n",
    "    'logloss':[0.50],\n",
    "               'info' : ['fsm_gr'],\n",
    "    'param':[best_params_fsm]\n",
    "})\n",
    "data_results = pd.concat([data_results, results_3], ignore_index =True)"
   ]
  },
  {
   "cell_type": "markdown",
   "id": "d7041fc3-54e2-4ca8-a2fd-f0b7eb6aed74",
   "metadata": {},
   "source": [
    ">- The best model with grid search from the first simple model is at accuracy of 0.739"
   ]
  },
  {
   "cell_type": "markdown",
   "id": "74330f6c-c4f4-47d4-930a-f01f5a4b27fc",
   "metadata": {},
   "source": [
    "# Logistic regression With SMOTE\n",
    ">- model performed well on training and the test, but the balanced accuracy is much lower meaning there's huge class imbalance\n",
    ">- Below is the model with SMOTE\n",
    ">- SMOTE model has more false predictions of non-functional wells and less false predictions of functional wells\n",
    ">>- Compared to the simple logistic regression\n",
    ">- Choosing a better model would require us identifying what our industry cares to reduce more\n",
    ">>- False postives or False negatives and which we want to minimize  "
   ]
  },
  {
   "cell_type": "code",
   "execution_count": 80,
   "id": "fc8196d6-2177-44d8-b92d-fe6693aeb332",
   "metadata": {},
   "outputs": [],
   "source": [
    "Smote_model = ImPipeline(steps=[\n",
    "    ('processes', preprocessor),\n",
    "    ('sm', SMOTE(random_state = 42, n_jobs =-1)),\n",
    "    ('classifier', LogisticRegression(class_weight='balanced', random_state =42))\n",
    "])"
   ]
  },
  {
   "cell_type": "code",
   "execution_count": 81,
   "id": "5597c0c9-2eb3-4d55-bcc8-feac74c9a38d",
   "metadata": {},
   "outputs": [],
   "source": [
    "best_param_sm = {\n",
    "    'classifier__C': [10],\n",
    "    'classifier__penalty': ['l2'],\n",
    "    'classifier__solver':['liblinear'],\n",
    "    'classifier__max_iter': [100],  \n",
    "}"
   ]
  },
  {
   "cell_type": "code",
   "execution_count": 82,
   "id": "08645fdc-1ed9-4813-902b-fe980bae9925",
   "metadata": {},
   "outputs": [],
   "source": [
    "grid_search_smote = GridSearchCV(Smote_model, best_param_sm, cv= 5, verbose = 2, n_jobs=-1)"
   ]
  },
  {
   "cell_type": "code",
   "execution_count": 83,
   "id": "568a71d4-1596-42cc-9472-92fd429ac5e9",
   "metadata": {
    "scrolled": true
   },
   "outputs": [
    {
     "name": "stdout",
     "output_type": "stream",
     "text": [
      "Fitting 5 folds for each of 1 candidates, totalling 5 fits\n"
     ]
    },
    {
     "name": "stderr",
     "output_type": "stream",
     "text": [
      "/Users/danayt/anaconda3/envs/learn-env/lib/python3.9/site-packages/imblearn/over_sampling/_smote/base.py:345: FutureWarning: The parameter `n_jobs` has been deprecated in 0.10 and will be removed in 0.12. You can pass an nearest neighbors estimator where `n_jobs` is already set instead.\n",
      "  warnings.warn(\n",
      "/Users/danayt/anaconda3/envs/learn-env/lib/python3.9/site-packages/imblearn/over_sampling/_smote/base.py:345: FutureWarning: The parameter `n_jobs` has been deprecated in 0.10 and will be removed in 0.12. You can pass an nearest neighbors estimator where `n_jobs` is already set instead.\n",
      "  warnings.warn(\n",
      "/Users/danayt/anaconda3/envs/learn-env/lib/python3.9/site-packages/imblearn/over_sampling/_smote/base.py:345: FutureWarning: The parameter `n_jobs` has been deprecated in 0.10 and will be removed in 0.12. You can pass an nearest neighbors estimator where `n_jobs` is already set instead.\n",
      "  warnings.warn(\n",
      "/Users/danayt/anaconda3/envs/learn-env/lib/python3.9/site-packages/imblearn/over_sampling/_smote/base.py:345: FutureWarning: The parameter `n_jobs` has been deprecated in 0.10 and will be removed in 0.12. You can pass an nearest neighbors estimator where `n_jobs` is already set instead.\n",
      "  warnings.warn(\n",
      "/Users/danayt/anaconda3/envs/learn-env/lib/python3.9/site-packages/imblearn/over_sampling/_smote/base.py:345: FutureWarning: The parameter `n_jobs` has been deprecated in 0.10 and will be removed in 0.12. You can pass an nearest neighbors estimator where `n_jobs` is already set instead.\n",
      "  warnings.warn(\n",
      "/Users/danayt/anaconda3/envs/learn-env/lib/python3.9/site-packages/imblearn/over_sampling/_smote/base.py:345: FutureWarning: The parameter `n_jobs` has been deprecated in 0.10 and will be removed in 0.12. You can pass an nearest neighbors estimator where `n_jobs` is already set instead.\n",
      "  warnings.warn(\n"
     ]
    },
    {
     "data": {
      "text/html": [
       "<style>#sk-container-id-4 {color: black;}#sk-container-id-4 pre{padding: 0;}#sk-container-id-4 div.sk-toggleable {background-color: white;}#sk-container-id-4 label.sk-toggleable__label {cursor: pointer;display: block;width: 100%;margin-bottom: 0;padding: 0.3em;box-sizing: border-box;text-align: center;}#sk-container-id-4 label.sk-toggleable__label-arrow:before {content: \"▸\";float: left;margin-right: 0.25em;color: #696969;}#sk-container-id-4 label.sk-toggleable__label-arrow:hover:before {color: black;}#sk-container-id-4 div.sk-estimator:hover label.sk-toggleable__label-arrow:before {color: black;}#sk-container-id-4 div.sk-toggleable__content {max-height: 0;max-width: 0;overflow: hidden;text-align: left;background-color: #f0f8ff;}#sk-container-id-4 div.sk-toggleable__content pre {margin: 0.2em;color: black;border-radius: 0.25em;background-color: #f0f8ff;}#sk-container-id-4 input.sk-toggleable__control:checked~div.sk-toggleable__content {max-height: 200px;max-width: 100%;overflow: auto;}#sk-container-id-4 input.sk-toggleable__control:checked~label.sk-toggleable__label-arrow:before {content: \"▾\";}#sk-container-id-4 div.sk-estimator input.sk-toggleable__control:checked~label.sk-toggleable__label {background-color: #d4ebff;}#sk-container-id-4 div.sk-label input.sk-toggleable__control:checked~label.sk-toggleable__label {background-color: #d4ebff;}#sk-container-id-4 input.sk-hidden--visually {border: 0;clip: rect(1px 1px 1px 1px);clip: rect(1px, 1px, 1px, 1px);height: 1px;margin: -1px;overflow: hidden;padding: 0;position: absolute;width: 1px;}#sk-container-id-4 div.sk-estimator {font-family: monospace;background-color: #f0f8ff;border: 1px dotted black;border-radius: 0.25em;box-sizing: border-box;margin-bottom: 0.5em;}#sk-container-id-4 div.sk-estimator:hover {background-color: #d4ebff;}#sk-container-id-4 div.sk-parallel-item::after {content: \"\";width: 100%;border-bottom: 1px solid gray;flex-grow: 1;}#sk-container-id-4 div.sk-label:hover label.sk-toggleable__label {background-color: #d4ebff;}#sk-container-id-4 div.sk-serial::before {content: \"\";position: absolute;border-left: 1px solid gray;box-sizing: border-box;top: 0;bottom: 0;left: 50%;z-index: 0;}#sk-container-id-4 div.sk-serial {display: flex;flex-direction: column;align-items: center;background-color: white;padding-right: 0.2em;padding-left: 0.2em;position: relative;}#sk-container-id-4 div.sk-item {position: relative;z-index: 1;}#sk-container-id-4 div.sk-parallel {display: flex;align-items: stretch;justify-content: center;background-color: white;position: relative;}#sk-container-id-4 div.sk-item::before, #sk-container-id-4 div.sk-parallel-item::before {content: \"\";position: absolute;border-left: 1px solid gray;box-sizing: border-box;top: 0;bottom: 0;left: 50%;z-index: -1;}#sk-container-id-4 div.sk-parallel-item {display: flex;flex-direction: column;z-index: 1;position: relative;background-color: white;}#sk-container-id-4 div.sk-parallel-item:first-child::after {align-self: flex-end;width: 50%;}#sk-container-id-4 div.sk-parallel-item:last-child::after {align-self: flex-start;width: 50%;}#sk-container-id-4 div.sk-parallel-item:only-child::after {width: 0;}#sk-container-id-4 div.sk-dashed-wrapped {border: 1px dashed gray;margin: 0 0.4em 0.5em 0.4em;box-sizing: border-box;padding-bottom: 0.4em;background-color: white;}#sk-container-id-4 div.sk-label label {font-family: monospace;font-weight: bold;display: inline-block;line-height: 1.2em;}#sk-container-id-4 div.sk-label-container {text-align: center;}#sk-container-id-4 div.sk-container {/* jupyter's `normalize.less` sets `[hidden] { display: none; }` but bootstrap.min.css set `[hidden] { display: none !important; }` so we also need the `!important` here to be able to override the default hidden behavior on the sphinx rendered scikit-learn.org. See: https://github.com/scikit-learn/scikit-learn/issues/21755 */display: inline-block !important;position: relative;}#sk-container-id-4 div.sk-text-repr-fallback {display: none;}</style><div id=\"sk-container-id-4\" class=\"sk-top-container\"><div class=\"sk-text-repr-fallback\"><pre>GridSearchCV(cv=5,\n",
       "             estimator=Pipeline(steps=[(&#x27;processes&#x27;,\n",
       "                                        ColumnTransformer(transformers=[(&#x27;cat&#x27;,\n",
       "                                                                         Pipeline(steps=[(&#x27;imputer&#x27;,\n",
       "                                                                                          SimpleImputer(strategy=&#x27;most_frequent&#x27;)),\n",
       "                                                                                         (&#x27;encoder&#x27;,\n",
       "                                                                                          OneHotEncoder())]),\n",
       "                                                                         [&#x27;installer&#x27;,\n",
       "                                                                          &#x27;funder&#x27;,\n",
       "                                                                          &#x27;basin&#x27;,\n",
       "                                                                          &#x27;management_group&#x27;,\n",
       "                                                                          &#x27;extraction_type_class&#x27;,\n",
       "                                                                          &#x27;payment&#x27;,\n",
       "                                                                          &#x27;water_quality&#x27;,\n",
       "                                                                          &#x27;quantity&#x27;,\n",
       "                                                                          &#x27;source&#x27;,\n",
       "                                                                          &#x27;source_class&#x27;,\n",
       "                                                                          &#x27;waterpoint_type_group...\n",
       "                                                                         Pipeline(steps=[(&#x27;bin_impute&#x27;,\n",
       "                                                                                          SimpleImputer(strategy=&#x27;most_frequent&#x27;))]),\n",
       "                                                                         [&#x27;permit&#x27;,\n",
       "                                                                          &#x27;public_meeting&#x27;])])),\n",
       "                                       (&#x27;sm&#x27;,\n",
       "                                        SMOTE(n_jobs=-1, random_state=42)),\n",
       "                                       (&#x27;classifier&#x27;,\n",
       "                                        LogisticRegression(class_weight=&#x27;balanced&#x27;,\n",
       "                                                           random_state=42))]),\n",
       "             n_jobs=-1,\n",
       "             param_grid={&#x27;classifier__C&#x27;: [10], &#x27;classifier__max_iter&#x27;: [100],\n",
       "                         &#x27;classifier__penalty&#x27;: [&#x27;l2&#x27;],\n",
       "                         &#x27;classifier__solver&#x27;: [&#x27;liblinear&#x27;]},\n",
       "             verbose=2)</pre><b>In a Jupyter environment, please rerun this cell to show the HTML representation or trust the notebook. <br />On GitHub, the HTML representation is unable to render, please try loading this page with nbviewer.org.</b></div><div class=\"sk-container\" hidden><div class=\"sk-item sk-dashed-wrapped\"><div class=\"sk-label-container\"><div class=\"sk-label sk-toggleable\"><input class=\"sk-toggleable__control sk-hidden--visually\" id=\"sk-estimator-id-38\" type=\"checkbox\" ><label for=\"sk-estimator-id-38\" class=\"sk-toggleable__label sk-toggleable__label-arrow\">GridSearchCV</label><div class=\"sk-toggleable__content\"><pre>GridSearchCV(cv=5,\n",
       "             estimator=Pipeline(steps=[(&#x27;processes&#x27;,\n",
       "                                        ColumnTransformer(transformers=[(&#x27;cat&#x27;,\n",
       "                                                                         Pipeline(steps=[(&#x27;imputer&#x27;,\n",
       "                                                                                          SimpleImputer(strategy=&#x27;most_frequent&#x27;)),\n",
       "                                                                                         (&#x27;encoder&#x27;,\n",
       "                                                                                          OneHotEncoder())]),\n",
       "                                                                         [&#x27;installer&#x27;,\n",
       "                                                                          &#x27;funder&#x27;,\n",
       "                                                                          &#x27;basin&#x27;,\n",
       "                                                                          &#x27;management_group&#x27;,\n",
       "                                                                          &#x27;extraction_type_class&#x27;,\n",
       "                                                                          &#x27;payment&#x27;,\n",
       "                                                                          &#x27;water_quality&#x27;,\n",
       "                                                                          &#x27;quantity&#x27;,\n",
       "                                                                          &#x27;source&#x27;,\n",
       "                                                                          &#x27;source_class&#x27;,\n",
       "                                                                          &#x27;waterpoint_type_group...\n",
       "                                                                         Pipeline(steps=[(&#x27;bin_impute&#x27;,\n",
       "                                                                                          SimpleImputer(strategy=&#x27;most_frequent&#x27;))]),\n",
       "                                                                         [&#x27;permit&#x27;,\n",
       "                                                                          &#x27;public_meeting&#x27;])])),\n",
       "                                       (&#x27;sm&#x27;,\n",
       "                                        SMOTE(n_jobs=-1, random_state=42)),\n",
       "                                       (&#x27;classifier&#x27;,\n",
       "                                        LogisticRegression(class_weight=&#x27;balanced&#x27;,\n",
       "                                                           random_state=42))]),\n",
       "             n_jobs=-1,\n",
       "             param_grid={&#x27;classifier__C&#x27;: [10], &#x27;classifier__max_iter&#x27;: [100],\n",
       "                         &#x27;classifier__penalty&#x27;: [&#x27;l2&#x27;],\n",
       "                         &#x27;classifier__solver&#x27;: [&#x27;liblinear&#x27;]},\n",
       "             verbose=2)</pre></div></div></div><div class=\"sk-parallel\"><div class=\"sk-parallel-item\"><div class=\"sk-item\"><div class=\"sk-label-container\"><div class=\"sk-label sk-toggleable\"><input class=\"sk-toggleable__control sk-hidden--visually\" id=\"sk-estimator-id-39\" type=\"checkbox\" ><label for=\"sk-estimator-id-39\" class=\"sk-toggleable__label sk-toggleable__label-arrow\">estimator: Pipeline</label><div class=\"sk-toggleable__content\"><pre>Pipeline(steps=[(&#x27;processes&#x27;,\n",
       "                 ColumnTransformer(transformers=[(&#x27;cat&#x27;,\n",
       "                                                  Pipeline(steps=[(&#x27;imputer&#x27;,\n",
       "                                                                   SimpleImputer(strategy=&#x27;most_frequent&#x27;)),\n",
       "                                                                  (&#x27;encoder&#x27;,\n",
       "                                                                   OneHotEncoder())]),\n",
       "                                                  [&#x27;installer&#x27;, &#x27;funder&#x27;,\n",
       "                                                   &#x27;basin&#x27;, &#x27;management_group&#x27;,\n",
       "                                                   &#x27;extraction_type_class&#x27;,\n",
       "                                                   &#x27;payment&#x27;, &#x27;water_quality&#x27;,\n",
       "                                                   &#x27;quantity&#x27;, &#x27;source&#x27;,\n",
       "                                                   &#x27;source_class&#x27;,\n",
       "                                                   &#x27;waterpoint_type_group&#x27;,\n",
       "                                                   &#x27;region&#x27;]),\n",
       "                                                 (&#x27;num&#x27;,\n",
       "                                                  Pipeline...\n",
       "                                                                   SimpleImputer(strategy=&#x27;median&#x27;)),\n",
       "                                                                  (&#x27;poly&#x27;,\n",
       "                                                                   PolynomialFeatures()),\n",
       "                                                                  (&#x27;scaler&#x27;,\n",
       "                                                                   StandardScaler())]),\n",
       "                                                  [&#x27;gps_height&#x27;, &#x27;population&#x27;,\n",
       "                                                   &#x27;age_of_well&#x27;]),\n",
       "                                                 (&#x27;bins&#x27;,\n",
       "                                                  Pipeline(steps=[(&#x27;bin_impute&#x27;,\n",
       "                                                                   SimpleImputer(strategy=&#x27;most_frequent&#x27;))]),\n",
       "                                                  [&#x27;permit&#x27;,\n",
       "                                                   &#x27;public_meeting&#x27;])])),\n",
       "                (&#x27;sm&#x27;, SMOTE(n_jobs=-1, random_state=42)),\n",
       "                (&#x27;classifier&#x27;,\n",
       "                 LogisticRegression(class_weight=&#x27;balanced&#x27;, random_state=42))])</pre></div></div></div><div class=\"sk-serial\"><div class=\"sk-item\"><div class=\"sk-serial\"><div class=\"sk-item sk-dashed-wrapped\"><div class=\"sk-label-container\"><div class=\"sk-label sk-toggleable\"><input class=\"sk-toggleable__control sk-hidden--visually\" id=\"sk-estimator-id-40\" type=\"checkbox\" ><label for=\"sk-estimator-id-40\" class=\"sk-toggleable__label sk-toggleable__label-arrow\">processes: ColumnTransformer</label><div class=\"sk-toggleable__content\"><pre>ColumnTransformer(transformers=[(&#x27;cat&#x27;,\n",
       "                                 Pipeline(steps=[(&#x27;imputer&#x27;,\n",
       "                                                  SimpleImputer(strategy=&#x27;most_frequent&#x27;)),\n",
       "                                                 (&#x27;encoder&#x27;, OneHotEncoder())]),\n",
       "                                 [&#x27;installer&#x27;, &#x27;funder&#x27;, &#x27;basin&#x27;,\n",
       "                                  &#x27;management_group&#x27;, &#x27;extraction_type_class&#x27;,\n",
       "                                  &#x27;payment&#x27;, &#x27;water_quality&#x27;, &#x27;quantity&#x27;,\n",
       "                                  &#x27;source&#x27;, &#x27;source_class&#x27;,\n",
       "                                  &#x27;waterpoint_type_group&#x27;, &#x27;region&#x27;]),\n",
       "                                (&#x27;num&#x27;,\n",
       "                                 Pipeline(steps=[(&#x27;imputer&#x27;,\n",
       "                                                  SimpleImputer(strategy=&#x27;median&#x27;)),\n",
       "                                                 (&#x27;poly&#x27;, PolynomialFeatures()),\n",
       "                                                 (&#x27;scaler&#x27;, StandardScaler())]),\n",
       "                                 [&#x27;gps_height&#x27;, &#x27;population&#x27;, &#x27;age_of_well&#x27;]),\n",
       "                                (&#x27;bins&#x27;,\n",
       "                                 Pipeline(steps=[(&#x27;bin_impute&#x27;,\n",
       "                                                  SimpleImputer(strategy=&#x27;most_frequent&#x27;))]),\n",
       "                                 [&#x27;permit&#x27;, &#x27;public_meeting&#x27;])])</pre></div></div></div><div class=\"sk-parallel\"><div class=\"sk-parallel-item\"><div class=\"sk-item\"><div class=\"sk-label-container\"><div class=\"sk-label sk-toggleable\"><input class=\"sk-toggleable__control sk-hidden--visually\" id=\"sk-estimator-id-41\" type=\"checkbox\" ><label for=\"sk-estimator-id-41\" class=\"sk-toggleable__label sk-toggleable__label-arrow\">cat</label><div class=\"sk-toggleable__content\"><pre>[&#x27;installer&#x27;, &#x27;funder&#x27;, &#x27;basin&#x27;, &#x27;management_group&#x27;, &#x27;extraction_type_class&#x27;, &#x27;payment&#x27;, &#x27;water_quality&#x27;, &#x27;quantity&#x27;, &#x27;source&#x27;, &#x27;source_class&#x27;, &#x27;waterpoint_type_group&#x27;, &#x27;region&#x27;]</pre></div></div></div><div class=\"sk-serial\"><div class=\"sk-item\"><div class=\"sk-serial\"><div class=\"sk-item\"><div class=\"sk-estimator sk-toggleable\"><input class=\"sk-toggleable__control sk-hidden--visually\" id=\"sk-estimator-id-42\" type=\"checkbox\" ><label for=\"sk-estimator-id-42\" class=\"sk-toggleable__label sk-toggleable__label-arrow\">SimpleImputer</label><div class=\"sk-toggleable__content\"><pre>SimpleImputer(strategy=&#x27;most_frequent&#x27;)</pre></div></div></div><div class=\"sk-item\"><div class=\"sk-estimator sk-toggleable\"><input class=\"sk-toggleable__control sk-hidden--visually\" id=\"sk-estimator-id-43\" type=\"checkbox\" ><label for=\"sk-estimator-id-43\" class=\"sk-toggleable__label sk-toggleable__label-arrow\">OneHotEncoder</label><div class=\"sk-toggleable__content\"><pre>OneHotEncoder()</pre></div></div></div></div></div></div></div></div><div class=\"sk-parallel-item\"><div class=\"sk-item\"><div class=\"sk-label-container\"><div class=\"sk-label sk-toggleable\"><input class=\"sk-toggleable__control sk-hidden--visually\" id=\"sk-estimator-id-44\" type=\"checkbox\" ><label for=\"sk-estimator-id-44\" class=\"sk-toggleable__label sk-toggleable__label-arrow\">num</label><div class=\"sk-toggleable__content\"><pre>[&#x27;gps_height&#x27;, &#x27;population&#x27;, &#x27;age_of_well&#x27;]</pre></div></div></div><div class=\"sk-serial\"><div class=\"sk-item\"><div class=\"sk-serial\"><div class=\"sk-item\"><div class=\"sk-estimator sk-toggleable\"><input class=\"sk-toggleable__control sk-hidden--visually\" id=\"sk-estimator-id-45\" type=\"checkbox\" ><label for=\"sk-estimator-id-45\" class=\"sk-toggleable__label sk-toggleable__label-arrow\">SimpleImputer</label><div class=\"sk-toggleable__content\"><pre>SimpleImputer(strategy=&#x27;median&#x27;)</pre></div></div></div><div class=\"sk-item\"><div class=\"sk-estimator sk-toggleable\"><input class=\"sk-toggleable__control sk-hidden--visually\" id=\"sk-estimator-id-46\" type=\"checkbox\" ><label for=\"sk-estimator-id-46\" class=\"sk-toggleable__label sk-toggleable__label-arrow\">PolynomialFeatures</label><div class=\"sk-toggleable__content\"><pre>PolynomialFeatures()</pre></div></div></div><div class=\"sk-item\"><div class=\"sk-estimator sk-toggleable\"><input class=\"sk-toggleable__control sk-hidden--visually\" id=\"sk-estimator-id-47\" type=\"checkbox\" ><label for=\"sk-estimator-id-47\" class=\"sk-toggleable__label sk-toggleable__label-arrow\">StandardScaler</label><div class=\"sk-toggleable__content\"><pre>StandardScaler()</pre></div></div></div></div></div></div></div></div><div class=\"sk-parallel-item\"><div class=\"sk-item\"><div class=\"sk-label-container\"><div class=\"sk-label sk-toggleable\"><input class=\"sk-toggleable__control sk-hidden--visually\" id=\"sk-estimator-id-48\" type=\"checkbox\" ><label for=\"sk-estimator-id-48\" class=\"sk-toggleable__label sk-toggleable__label-arrow\">bins</label><div class=\"sk-toggleable__content\"><pre>[&#x27;permit&#x27;, &#x27;public_meeting&#x27;]</pre></div></div></div><div class=\"sk-serial\"><div class=\"sk-item\"><div class=\"sk-serial\"><div class=\"sk-item\"><div class=\"sk-estimator sk-toggleable\"><input class=\"sk-toggleable__control sk-hidden--visually\" id=\"sk-estimator-id-49\" type=\"checkbox\" ><label for=\"sk-estimator-id-49\" class=\"sk-toggleable__label sk-toggleable__label-arrow\">SimpleImputer</label><div class=\"sk-toggleable__content\"><pre>SimpleImputer(strategy=&#x27;most_frequent&#x27;)</pre></div></div></div></div></div></div></div></div></div></div><div class=\"sk-item\"><div class=\"sk-estimator sk-toggleable\"><input class=\"sk-toggleable__control sk-hidden--visually\" id=\"sk-estimator-id-50\" type=\"checkbox\" ><label for=\"sk-estimator-id-50\" class=\"sk-toggleable__label sk-toggleable__label-arrow\">SMOTE</label><div class=\"sk-toggleable__content\"><pre>SMOTE(n_jobs=-1, random_state=42)</pre></div></div></div><div class=\"sk-item\"><div class=\"sk-estimator sk-toggleable\"><input class=\"sk-toggleable__control sk-hidden--visually\" id=\"sk-estimator-id-51\" type=\"checkbox\" ><label for=\"sk-estimator-id-51\" class=\"sk-toggleable__label sk-toggleable__label-arrow\">LogisticRegression</label><div class=\"sk-toggleable__content\"><pre>LogisticRegression(class_weight=&#x27;balanced&#x27;, random_state=42)</pre></div></div></div></div></div></div></div></div></div></div></div></div>"
      ],
      "text/plain": [
       "GridSearchCV(cv=5,\n",
       "             estimator=Pipeline(steps=[('processes',\n",
       "                                        ColumnTransformer(transformers=[('cat',\n",
       "                                                                         Pipeline(steps=[('imputer',\n",
       "                                                                                          SimpleImputer(strategy='most_frequent')),\n",
       "                                                                                         ('encoder',\n",
       "                                                                                          OneHotEncoder())]),\n",
       "                                                                         ['installer',\n",
       "                                                                          'funder',\n",
       "                                                                          'basin',\n",
       "                                                                          'management_group',\n",
       "                                                                          'extraction_type_class',\n",
       "                                                                          'payment',\n",
       "                                                                          'water_quality',\n",
       "                                                                          'quantity',\n",
       "                                                                          'source',\n",
       "                                                                          'source_class',\n",
       "                                                                          'waterpoint_type_group...\n",
       "                                                                         Pipeline(steps=[('bin_impute',\n",
       "                                                                                          SimpleImputer(strategy='most_frequent'))]),\n",
       "                                                                         ['permit',\n",
       "                                                                          'public_meeting'])])),\n",
       "                                       ('sm',\n",
       "                                        SMOTE(n_jobs=-1, random_state=42)),\n",
       "                                       ('classifier',\n",
       "                                        LogisticRegression(class_weight='balanced',\n",
       "                                                           random_state=42))]),\n",
       "             n_jobs=-1,\n",
       "             param_grid={'classifier__C': [10], 'classifier__max_iter': [100],\n",
       "                         'classifier__penalty': ['l2'],\n",
       "                         'classifier__solver': ['liblinear']},\n",
       "             verbose=2)"
      ]
     },
     "execution_count": 83,
     "metadata": {},
     "output_type": "execute_result"
    }
   ],
   "source": [
    "grid_search_smote.fit(X_train, y_train)"
   ]
  },
  {
   "cell_type": "code",
   "execution_count": 84,
   "id": "25c2b333-4ed6-49c7-a138-10df5115335f",
   "metadata": {},
   "outputs": [],
   "source": [
    "best_model_smote = grid_search_smote.best_estimator_"
   ]
  },
  {
   "cell_type": "code",
   "execution_count": 85,
   "id": "497e5ad0-a8cd-4915-abba-ff90157f40d3",
   "metadata": {},
   "outputs": [
    {
     "name": "stdout",
     "output_type": "stream",
     "text": [
      "Accuracy:\n",
      "Train Accuracy: 0.7466204331875974\n",
      "Test Accuracy: 0.7483930211202938\n",
      "\n",
      "Balanced Accuracy:\n",
      "Train Accuracy: 0.7393609120403892\n",
      "Test Accuracy: 0.7401982843860758\n"
     ]
    }
   ],
   "source": [
    "y_train_sm = grid_search_smote.predict(X_train)\n",
    "y_test_pred_sm= grid_search_smote.predict(X_test)\n",
    "\n",
    "print(\"Accuracy:\")\n",
    "train_accuracy = accuracy_score(y_train, y_train_sm)\n",
    "print(\"Train Accuracy:\", train_accuracy)\n",
    "\n",
    "test_accuracy = accuracy_score(y_test, y_test_pred_sm)\n",
    "print(\"Test Accuracy:\", test_accuracy)\n",
    "\n",
    "print(\"\\nBalanced Accuracy:\")\n",
    "train_accuracy = balanced_accuracy_score(y_train, y_train_sm)\n",
    "print(\"Train Accuracy:\", train_accuracy)\n",
    "\n",
    "test_accuracy = balanced_accuracy_score(y_test, y_test_pred_sm)\n",
    "print(\"Test Accuracy:\", test_accuracy)"
   ]
  },
  {
   "cell_type": "code",
   "execution_count": 86,
   "id": "ace319fb-1986-48fc-83bc-149355bd0350",
   "metadata": {},
   "outputs": [
    {
     "name": "stdout",
     "output_type": "stream",
     "text": [
      "              precision    recall  f1-score   support\n",
      "\n",
      "           0       0.76      0.65      0.70      8883\n",
      "           1       0.74      0.83      0.78     10719\n",
      "\n",
      "    accuracy                           0.75     19602\n",
      "   macro avg       0.75      0.74      0.74     19602\n",
      "weighted avg       0.75      0.75      0.75     19602\n",
      "\n"
     ]
    },
    {
     "data": {
      "image/png": "[encoded data removed]",
      "text/plain": [
       "<Figure size 640x480 with 2 Axes>"
      ]
     },
     "metadata": {},
     "output_type": "display_data"
    }
   ],
   "source": [
    "print(classification_report(y_test, y_test_pred_sm)) \n",
    "cm = confusion_matrix(y_test, y_test_pred_sm)\n",
    "disp = ConfusionMatrixDisplay(confusion_matrix=cm)\n",
    "disp.plot()\n",
    "plt.show()"
   ]
  },
  {
   "cell_type": "code",
   "execution_count": 87,
   "id": "8a6026f5-7287-4430-9b24-f30b32b297a0",
   "metadata": {},
   "outputs": [
    {
     "data": {
      "text/plain": [
       "Text(0.5, 0, 'False Positive Rate')"
      ]
     },
     "execution_count": 87,
     "metadata": {},
     "output_type": "execute_result"
    },
    {
     "data": {
      "image/png": "[encoded data removed]",
      "text/plain": [
       "<Figure size 640x480 with 1 Axes>"
      ]
     },
     "metadata": {},
     "output_type": "display_data"
    }
   ],
   "source": [
    "probs = grid_search_smote.predict_proba(X_test)[:, 1]\n",
    "\n",
    "# Calculate the false positive rate and true positive rate\n",
    "fpr, tpr, thresholds = roc_curve(y_test, probs)\n",
    "\n",
    "plt.plot(fpr, tpr)\n",
    "plt.plot([0, 1], [0, 1], linestyle='--')  # Random guess line\n",
    "plt.xlabel('False Positive Rate')"
   ]
  },
  {
   "cell_type": "code",
   "execution_count": 88,
   "id": "1b9ecdac-2720-4f9c-82b7-ccc198b871f2",
   "metadata": {},
   "outputs": [
    {
     "name": "stdout",
     "output_type": "stream",
     "text": [
      "Fitting 5 folds for each of 1 candidates, totalling 5 fits\n"
     ]
    },
    {
     "name": "stderr",
     "output_type": "stream",
     "text": [
      "/Users/danayt/anaconda3/envs/learn-env/lib/python3.9/site-packages/imblearn/over_sampling/_smote/base.py:345: FutureWarning: The parameter `n_jobs` has been deprecated in 0.10 and will be removed in 0.12. You can pass an nearest neighbors estimator where `n_jobs` is already set instead.\n",
      "  warnings.warn(\n",
      "/Users/danayt/anaconda3/envs/learn-env/lib/python3.9/site-packages/imblearn/over_sampling/_smote/base.py:345: FutureWarning: The parameter `n_jobs` has been deprecated in 0.10 and will be removed in 0.12. You can pass an nearest neighbors estimator where `n_jobs` is already set instead.\n",
      "  warnings.warn(\n",
      "/Users/danayt/anaconda3/envs/learn-env/lib/python3.9/site-packages/imblearn/over_sampling/_smote/base.py:345: FutureWarning: The parameter `n_jobs` has been deprecated in 0.10 and will be removed in 0.12. You can pass an nearest neighbors estimator where `n_jobs` is already set instead.\n",
      "  warnings.warn(\n",
      "/Users/danayt/anaconda3/envs/learn-env/lib/python3.9/site-packages/imblearn/over_sampling/_smote/base.py:345: FutureWarning: The parameter `n_jobs` has been deprecated in 0.10 and will be removed in 0.12. You can pass an nearest neighbors estimator where `n_jobs` is already set instead.\n",
      "  warnings.warn(\n",
      "/Users/danayt/anaconda3/envs/learn-env/lib/python3.9/site-packages/imblearn/over_sampling/_smote/base.py:345: FutureWarning: The parameter `n_jobs` has been deprecated in 0.10 and will be removed in 0.12. You can pass an nearest neighbors estimator where `n_jobs` is already set instead.\n",
      "  warnings.warn(\n",
      "/Users/danayt/anaconda3/envs/learn-env/lib/python3.9/site-packages/imblearn/over_sampling/_smote/base.py:345: FutureWarning: The parameter `n_jobs` has been deprecated in 0.10 and will be removed in 0.12. You can pass an nearest neighbors estimator where `n_jobs` is already set instead.\n",
      "  warnings.warn(\n"
     ]
    },
    {
     "name": "stdout",
     "output_type": "stream",
     "text": [
      "Fitting 5 folds for each of 1 candidates, totalling 5 fits\n"
     ]
    },
    {
     "name": "stderr",
     "output_type": "stream",
     "text": [
      "/Users/danayt/anaconda3/envs/learn-env/lib/python3.9/site-packages/imblearn/over_sampling/_smote/base.py:345: FutureWarning: The parameter `n_jobs` has been deprecated in 0.10 and will be removed in 0.12. You can pass an nearest neighbors estimator where `n_jobs` is already set instead.\n",
      "  warnings.warn(\n",
      "/Users/danayt/anaconda3/envs/learn-env/lib/python3.9/site-packages/imblearn/over_sampling/_smote/base.py:345: FutureWarning: The parameter `n_jobs` has been deprecated in 0.10 and will be removed in 0.12. You can pass an nearest neighbors estimator where `n_jobs` is already set instead.\n",
      "  warnings.warn(\n",
      "/Users/danayt/anaconda3/envs/learn-env/lib/python3.9/site-packages/imblearn/over_sampling/_smote/base.py:345: FutureWarning: The parameter `n_jobs` has been deprecated in 0.10 and will be removed in 0.12. You can pass an nearest neighbors estimator where `n_jobs` is already set instead.\n",
      "  warnings.warn(\n",
      "/Users/danayt/anaconda3/envs/learn-env/lib/python3.9/site-packages/imblearn/over_sampling/_smote/base.py:345: FutureWarning: The parameter `n_jobs` has been deprecated in 0.10 and will be removed in 0.12. You can pass an nearest neighbors estimator where `n_jobs` is already set instead.\n",
      "  warnings.warn(\n",
      "/Users/danayt/anaconda3/envs/learn-env/lib/python3.9/site-packages/imblearn/over_sampling/_smote/base.py:345: FutureWarning: The parameter `n_jobs` has been deprecated in 0.10 and will be removed in 0.12. You can pass an nearest neighbors estimator where `n_jobs` is already set instead.\n",
      "  warnings.warn(\n",
      "/Users/danayt/anaconda3/envs/learn-env/lib/python3.9/site-packages/imblearn/over_sampling/_smote/base.py:345: FutureWarning: The parameter `n_jobs` has been deprecated in 0.10 and will be removed in 0.12. You can pass an nearest neighbors estimator where `n_jobs` is already set instead.\n",
      "  warnings.warn(\n"
     ]
    },
    {
     "name": "stdout",
     "output_type": "stream",
     "text": [
      "Fitting 5 folds for each of 1 candidates, totalling 5 fits\n"
     ]
    },
    {
     "name": "stderr",
     "output_type": "stream",
     "text": [
      "/Users/danayt/anaconda3/envs/learn-env/lib/python3.9/site-packages/imblearn/over_sampling/_smote/base.py:345: FutureWarning: The parameter `n_jobs` has been deprecated in 0.10 and will be removed in 0.12. You can pass an nearest neighbors estimator where `n_jobs` is already set instead.\n",
      "  warnings.warn(\n",
      "/Users/danayt/anaconda3/envs/learn-env/lib/python3.9/site-packages/imblearn/over_sampling/_smote/base.py:345: FutureWarning: The parameter `n_jobs` has been deprecated in 0.10 and will be removed in 0.12. You can pass an nearest neighbors estimator where `n_jobs` is already set instead.\n",
      "  warnings.warn(\n",
      "/Users/danayt/anaconda3/envs/learn-env/lib/python3.9/site-packages/imblearn/over_sampling/_smote/base.py:345: FutureWarning: The parameter `n_jobs` has been deprecated in 0.10 and will be removed in 0.12. You can pass an nearest neighbors estimator where `n_jobs` is already set instead.\n",
      "  warnings.warn(\n",
      "/Users/danayt/anaconda3/envs/learn-env/lib/python3.9/site-packages/imblearn/over_sampling/_smote/base.py:345: FutureWarning: The parameter `n_jobs` has been deprecated in 0.10 and will be removed in 0.12. You can pass an nearest neighbors estimator where `n_jobs` is already set instead.\n",
      "  warnings.warn(\n",
      "/Users/danayt/anaconda3/envs/learn-env/lib/python3.9/site-packages/imblearn/over_sampling/_smote/base.py:345: FutureWarning: The parameter `n_jobs` has been deprecated in 0.10 and will be removed in 0.12. You can pass an nearest neighbors estimator where `n_jobs` is already set instead.\n",
      "  warnings.warn(\n",
      "/Users/danayt/anaconda3/envs/learn-env/lib/python3.9/site-packages/imblearn/over_sampling/_smote/base.py:345: FutureWarning: The parameter `n_jobs` has been deprecated in 0.10 and will be removed in 0.12. You can pass an nearest neighbors estimator where `n_jobs` is already set instead.\n",
      "  warnings.warn(\n"
     ]
    },
    {
     "name": "stdout",
     "output_type": "stream",
     "text": [
      "Fitting 5 folds for each of 1 candidates, totalling 5 fits\n"
     ]
    },
    {
     "name": "stderr",
     "output_type": "stream",
     "text": [
      "/Users/danayt/anaconda3/envs/learn-env/lib/python3.9/site-packages/imblearn/over_sampling/_smote/base.py:345: FutureWarning: The parameter `n_jobs` has been deprecated in 0.10 and will be removed in 0.12. You can pass an nearest neighbors estimator where `n_jobs` is already set instead.\n",
      "  warnings.warn(\n",
      "/Users/danayt/anaconda3/envs/learn-env/lib/python3.9/site-packages/imblearn/over_sampling/_smote/base.py:345: FutureWarning: The parameter `n_jobs` has been deprecated in 0.10 and will be removed in 0.12. You can pass an nearest neighbors estimator where `n_jobs` is already set instead.\n",
      "  warnings.warn(\n",
      "/Users/danayt/anaconda3/envs/learn-env/lib/python3.9/site-packages/imblearn/over_sampling/_smote/base.py:345: FutureWarning: The parameter `n_jobs` has been deprecated in 0.10 and will be removed in 0.12. You can pass an nearest neighbors estimator where `n_jobs` is already set instead.\n",
      "  warnings.warn(\n",
      "/Users/danayt/anaconda3/envs/learn-env/lib/python3.9/site-packages/imblearn/over_sampling/_smote/base.py:345: FutureWarning: The parameter `n_jobs` has been deprecated in 0.10 and will be removed in 0.12. You can pass an nearest neighbors estimator where `n_jobs` is already set instead.\n",
      "  warnings.warn(\n",
      "/Users/danayt/anaconda3/envs/learn-env/lib/python3.9/site-packages/imblearn/over_sampling/_smote/base.py:345: FutureWarning: The parameter `n_jobs` has been deprecated in 0.10 and will be removed in 0.12. You can pass an nearest neighbors estimator where `n_jobs` is already set instead.\n",
      "  warnings.warn(\n",
      "/Users/danayt/anaconda3/envs/learn-env/lib/python3.9/site-packages/imblearn/over_sampling/_smote/base.py:345: FutureWarning: The parameter `n_jobs` has been deprecated in 0.10 and will be removed in 0.12. You can pass an nearest neighbors estimator where `n_jobs` is already set instead.\n",
      "  warnings.warn(\n"
     ]
    },
    {
     "name": "stdout",
     "output_type": "stream",
     "text": [
      "Fitting 5 folds for each of 1 candidates, totalling 5 fits\n"
     ]
    },
    {
     "name": "stderr",
     "output_type": "stream",
     "text": [
      "/Users/danayt/anaconda3/envs/learn-env/lib/python3.9/site-packages/imblearn/over_sampling/_smote/base.py:345: FutureWarning: The parameter `n_jobs` has been deprecated in 0.10 and will be removed in 0.12. You can pass an nearest neighbors estimator where `n_jobs` is already set instead.\n",
      "  warnings.warn(\n",
      "/Users/danayt/anaconda3/envs/learn-env/lib/python3.9/site-packages/imblearn/over_sampling/_smote/base.py:345: FutureWarning: The parameter `n_jobs` has been deprecated in 0.10 and will be removed in 0.12. You can pass an nearest neighbors estimator where `n_jobs` is already set instead.\n",
      "  warnings.warn(\n",
      "/Users/danayt/anaconda3/envs/learn-env/lib/python3.9/site-packages/imblearn/over_sampling/_smote/base.py:345: FutureWarning: The parameter `n_jobs` has been deprecated in 0.10 and will be removed in 0.12. You can pass an nearest neighbors estimator where `n_jobs` is already set instead.\n",
      "  warnings.warn(\n",
      "/Users/danayt/anaconda3/envs/learn-env/lib/python3.9/site-packages/imblearn/over_sampling/_smote/base.py:345: FutureWarning: The parameter `n_jobs` has been deprecated in 0.10 and will be removed in 0.12. You can pass an nearest neighbors estimator where `n_jobs` is already set instead.\n",
      "  warnings.warn(\n",
      "/Users/danayt/anaconda3/envs/learn-env/lib/python3.9/site-packages/imblearn/over_sampling/_smote/base.py:345: FutureWarning: The parameter `n_jobs` has been deprecated in 0.10 and will be removed in 0.12. You can pass an nearest neighbors estimator where `n_jobs` is already set instead.\n",
      "  warnings.warn(\n",
      "/Users/danayt/anaconda3/envs/learn-env/lib/python3.9/site-packages/imblearn/over_sampling/_smote/base.py:345: FutureWarning: The parameter `n_jobs` has been deprecated in 0.10 and will be removed in 0.12. You can pass an nearest neighbors estimator where `n_jobs` is already set instead.\n",
      "  warnings.warn(\n"
     ]
    },
    {
     "data": {
      "text/plain": [
       "0.5058013053573036"
      ]
     },
     "execution_count": 88,
     "metadata": {},
     "output_type": "execute_result"
    }
   ],
   "source": [
    "baseline_neg_log_loss_cv = cross_val_score(estimator=grid_search_smote, X=X_train, y=y_train, scoring=\"neg_log_loss\")\n",
    "\n",
    "baseline_log_loss = -(baseline_neg_log_loss_cv.mean())\n",
    "baseline_log_loss"
   ]
  },
  {
   "cell_type": "code",
   "execution_count": 89,
   "id": "9830d223-f642-40e1-a3d0-e1217fcfa237",
   "metadata": {},
   "outputs": [],
   "source": [
    "results_4 = pd.DataFrame({       \n",
    "     \"Model\": ['LogisticRegression'],\n",
    "      \"test_balanced_acc\": [0.740], \n",
    "       'train_balanced_acc' : [0.739],\n",
    "    'logloss':[0.506],\n",
    "               'info' : ['smote'],\n",
    "    'param':[best_params_fsm]\n",
    "})\n",
    "data_results = pd.concat([data_results, results_4], ignore_index =True)"
   ]
  },
  {
   "cell_type": "code",
   "execution_count": 90,
   "id": "694378b4-8165-44a9-8071-63c0ba13010e",
   "metadata": {},
   "outputs": [
    {
     "name": "stdout",
     "output_type": "stream",
     "text": [
      "<class 'pandas.core.frame.DataFrame'>\n",
      "Index: 19602 entries, 2980 to 11286\n",
      "Data columns (total 17 columns):\n",
      " #   Column                 Non-Null Count  Dtype  \n",
      "---  ------                 --------------  -----  \n",
      " 0   funder                 19602 non-null  object \n",
      " 1   gps_height             19602 non-null  int64  \n",
      " 2   installer              19602 non-null  object \n",
      " 3   basin                  19602 non-null  object \n",
      " 4   region                 19602 non-null  object \n",
      " 5   population             19602 non-null  float64\n",
      " 6   public_meeting         19602 non-null  int64  \n",
      " 7   permit                 19602 non-null  int64  \n",
      " 8   extraction_type_class  19602 non-null  object \n",
      " 9   management_group       19602 non-null  object \n",
      " 10  payment                19602 non-null  object \n",
      " 11  water_quality          19602 non-null  object \n",
      " 12  quantity               19602 non-null  object \n",
      " 13  source                 19602 non-null  object \n",
      " 14  source_class           19602 non-null  object \n",
      " 15  waterpoint_type_group  19602 non-null  object \n",
      " 16  age_of_well            19602 non-null  int64  \n",
      "dtypes: float64(1), int64(4), object(12)\n",
      "memory usage: 2.7+ MB\n"
     ]
    }
   ],
   "source": [
    "X_test.info()"
   ]
  },
  {
   "cell_type": "code",
   "execution_count": 91,
   "id": "05d4a3fb-d9f3-42db-80dd-e4768fa387dd",
   "metadata": {},
   "outputs": [],
   "source": [
    "prediction_df = pd.DataFrame({'Predicted':y_test_pred_sm})"
   ]
  },
  {
   "cell_type": "code",
   "execution_count": null,
   "id": "4aa8a595-586f-4641-adbf-744f67668c30",
   "metadata": {},
   "outputs": [],
   "source": []
  },
  {
   "cell_type": "markdown",
   "id": "edfa8492-a803-4f4d-86df-651561d5b6d1",
   "metadata": {},
   "source": [
    "# The best parameters and SMOTE didn't improve our models performance \n",
    ">- Let's try seeing which columns have high correlation and reduce factors affecting it's performance"
   ]
  },
  {
   "cell_type": "code",
   "execution_count": 92,
   "id": "eee423a0-fb5a-4905-b9c3-59790c3a2a9d",
   "metadata": {},
   "outputs": [
    {
     "name": "stderr",
     "output_type": "stream",
     "text": [
      "/Users/danayt/anaconda3/envs/learn-env/lib/python3.9/site-packages/sklearn/linear_model/_logistic.py:460: ConvergenceWarning: lbfgs failed to converge (status=1):\n",
      "STOP: TOTAL NO. of ITERATIONS REACHED LIMIT.\n",
      "\n",
      "Increase the number of iterations (max_iter) or scale the data as shown in:\n",
      "    https://scikit-learn.org/stable/modules/preprocessing.html\n",
      "Please also refer to the documentation for alternative solver options:\n",
      "    https://scikit-learn.org/stable/modules/linear_model.html#logistic-regression\n",
      "  n_iter_i = _check_optimize_result(\n"
     ]
    },
    {
     "data": {
      "text/plain": [
       "array([[ 0.92251336,  0.115376  ,  0.11234234, -0.63945548, -0.41445189,\n",
       "         0.10110772, -0.36805206,  0.08510679, -0.06371694, -0.27992563,\n",
       "         0.13742101,  0.1333637 ,  0.25990598, -0.44277492,  0.01172679,\n",
       "         0.60172543, -0.23756456,  0.02809962, -0.34221448, -0.02473267,\n",
       "         0.00607476, -0.19839866, -0.01533624, -0.08980352,  0.39433258,\n",
       "        -0.37954519,  0.23544188, -0.33104576, -0.07779552,  0.83634959,\n",
       "        -0.41839769, -0.71864127,  0.68486167, -0.14707574, -0.32992104,\n",
       "        -0.55432917, -0.18778884,  0.2823386 ,  0.06953363,  0.55120606,\n",
       "         0.04687812, -0.37845841,  0.01844146,  0.35231715, -0.1823752 ,\n",
       "         0.86489682, -0.3087845 , -0.91511574, -3.21139036,  1.14991304,\n",
       "         0.68910081,  0.92441805,  0.27733845, -0.48303846, -0.77118278,\n",
       "        -0.86194884, -0.0805518 ,  0.59877834,  0.86878471,  0.19479783,\n",
       "        -0.06641118,  0.57988179, -0.14972962, -0.33826396, -0.28140477,\n",
       "         0.44904872,  0.80456767, -0.11550651,  0.0392935 , -0.23022568,\n",
       "         0.669586  , -1.33833498,  0.29339181,  0.2648742 ,  0.01722987,\n",
       "         0.61648435,  0.15278489, -0.83316947, -0.24686391, -0.47686655,\n",
       "         0.09859051, -0.19610711, -0.20137034, -0.07405226, -0.51571164,\n",
       "         0.67407139, -0.13803865, -0.43282826,  0.14598896,  0.28275016,\n",
       "         0.2163867 , -0.10050556,  0.2823409 ,  0.06065664,  0.07239621,\n",
       "        -0.30948938,  0.22944822,  0.34036953]])"
      ]
     },
     "execution_count": 92,
     "metadata": {},
     "output_type": "execute_result"
    }
   ],
   "source": [
    "# Preprocessing pipeline\n",
    "preprocessor = ColumnTransformer(\n",
    "    transformers=[\n",
    "        ('cat', OneHotEncoder(), cat_cols),\n",
    "        ('num', StandardScaler(), num_cols),\n",
    "        ('bin',SimpleImputer(), bin_cols)\n",
    "    ])\n",
    "\n",
    "# Fit and transform the data\n",
    "X_preprocessed = preprocessor.fit_transform(X_train)\n",
    "\n",
    "# Fit the linear regression model\n",
    "model = LogisticRegression()\n",
    "model.fit(X_preprocessed, y_train)\n",
    "\n",
    "# Get the coefficients\n",
    "coefficients = model.coef_\n",
    "coefficients"
   ]
  },
  {
   "cell_type": "code",
   "execution_count": 93,
   "id": "ee8ab0a8-8342-4b00-9e60-9190df08e55e",
   "metadata": {},
   "outputs": [
    {
     "data": {
      "text/html": [
       "<div>\n",
       "<style scoped>\n",
       "    .dataframe tbody tr th:only-of-type {\n",
       "        vertical-align: middle;\n",
       "    }\n",
       "\n",
       "    .dataframe tbody tr th {\n",
       "        vertical-align: top;\n",
       "    }\n",
       "\n",
       "    .dataframe thead th {\n",
       "        text-align: right;\n",
       "    }\n",
       "</style>\n",
       "<table border=\"1\" class=\"dataframe\">\n",
       "  <thead>\n",
       "    <tr style=\"text-align: right;\">\n",
       "      <th></th>\n",
       "      <th>Model</th>\n",
       "      <th>va_score</th>\n",
       "      <th>test_balanced_acc</th>\n",
       "      <th>train_balanced_acc</th>\n",
       "      <th>logloss</th>\n",
       "      <th>info</th>\n",
       "      <th>param</th>\n",
       "    </tr>\n",
       "  </thead>\n",
       "  <tbody>\n",
       "    <tr>\n",
       "      <th>0</th>\n",
       "      <td>Dummyreggressor</td>\n",
       "      <td>NaN</td>\n",
       "      <td>0.500</td>\n",
       "      <td>0.500</td>\n",
       "      <td>16.530</td>\n",
       "      <td>baseline</td>\n",
       "      <td>Random_state=42, stg=Most_frequent</td>\n",
       "    </tr>\n",
       "    <tr>\n",
       "      <th>1</th>\n",
       "      <td>LogisticRegression</td>\n",
       "      <td>NaN</td>\n",
       "      <td>0.739</td>\n",
       "      <td>0.738</td>\n",
       "      <td>0.500</td>\n",
       "      <td>fsm</td>\n",
       "      <td>Random_state=42</td>\n",
       "    </tr>\n",
       "    <tr>\n",
       "      <th>2</th>\n",
       "      <td>LogisticRegression</td>\n",
       "      <td>NaN</td>\n",
       "      <td>0.739</td>\n",
       "      <td>0.737</td>\n",
       "      <td>0.500</td>\n",
       "      <td>fsm_gr</td>\n",
       "      <td>{'classifier__C': 10, 'classifier__max_iter': ...</td>\n",
       "    </tr>\n",
       "    <tr>\n",
       "      <th>3</th>\n",
       "      <td>LogisticRegression</td>\n",
       "      <td>NaN</td>\n",
       "      <td>0.740</td>\n",
       "      <td>0.739</td>\n",
       "      <td>0.506</td>\n",
       "      <td>smote</td>\n",
       "      <td>{'classifier__C': 10, 'classifier__max_iter': ...</td>\n",
       "    </tr>\n",
       "  </tbody>\n",
       "</table>\n",
       "</div>"
      ],
      "text/plain": [
       "                Model va_score  test_balanced_acc  train_balanced_acc  \\\n",
       "0     Dummyreggressor      NaN              0.500               0.500   \n",
       "1  LogisticRegression      NaN              0.739               0.738   \n",
       "2  LogisticRegression      NaN              0.739               0.737   \n",
       "3  LogisticRegression      NaN              0.740               0.739   \n",
       "\n",
       "   logloss      info                                              param  \n",
       "0   16.530  baseline                 Random_state=42, stg=Most_frequent  \n",
       "1    0.500       fsm                                    Random_state=42  \n",
       "2    0.500    fsm_gr  {'classifier__C': 10, 'classifier__max_iter': ...  \n",
       "3    0.506     smote  {'classifier__C': 10, 'classifier__max_iter': ...  "
      ]
     },
     "execution_count": 93,
     "metadata": {},
     "output_type": "execute_result"
    },
    {
     "name": "stdout",
     "output_type": "stream",
     "text": [
      "[CV] END classifier__C=0.0001, classifier__max_iter=100, classifier__penalty=l2, classifier__solver=lbfgs; total time=   0.3s\n",
      "[CV] END classifier__C=0.0001, classifier__max_iter=100, classifier__penalty=l1, classifier__solver=lbfgs; total time=   0.2s\n",
      "[CV] END classifier__C=0.0001, classifier__max_iter=100, classifier__penalty=l1, classifier__solver=liblinear; total time=   0.2s\n",
      "[CV] END classifier__C=0.0001, classifier__max_iter=1000, classifier__penalty=l2, classifier__solver=lbfgs; total time=   0.2s\n",
      "[CV] END classifier__C=0.0001, classifier__max_iter=1000, classifier__penalty=l2, classifier__solver=liblinear; total time=   0.3s\n",
      "[CV] END classifier__C=0.0001, classifier__max_iter=1000, classifier__penalty=l1, classifier__solver=liblinear; total time=   0.2s\n",
      "[CV] END classifier__C=0.0001, classifier__max_iter=1000, classifier__penalty=elasticnet, classifier__solver=liblinear; total time=   0.2s\n",
      "[CV] END classifier__C=0.0001, classifier__max_iter=10000, classifier__penalty=l2, classifier__solver=lbfgs; total time=   0.2s\n",
      "[CV] END classifier__C=0.0001, classifier__max_iter=10000, classifier__penalty=l1, classifier__solver=lbfgs; total time=   0.2s\n",
      "[CV] END classifier__C=0.0001, classifier__max_iter=10000, classifier__penalty=l1, classifier__solver=liblinear; total time=   0.2s\n",
      "[CV] END classifier__C=0.0001, classifier__max_iter=10000, classifier__penalty=elasticnet, classifier__solver=liblinear; total time=   0.1s\n",
      "[CV] END classifier__C=0.001, classifier__max_iter=100, classifier__penalty=l2, classifier__solver=lbfgs; total time=   0.3s\n",
      "[CV] END classifier__C=0.001, classifier__max_iter=100, classifier__penalty=l1, classifier__solver=lbfgs; total time=   0.2s\n",
      "[CV] END classifier__C=0.001, classifier__max_iter=100, classifier__penalty=l1, classifier__solver=liblinear; total time=   0.3s\n",
      "[CV] END classifier__C=0.001, classifier__max_iter=1000, classifier__penalty=l2, classifier__solver=lbfgs; total time=   0.3s\n",
      "[CV] END classifier__C=0.001, classifier__max_iter=1000, classifier__penalty=l2, classifier__solver=liblinear; total time=   0.3s\n",
      "[CV] END classifier__C=0.001, classifier__max_iter=1000, classifier__penalty=l1, classifier__solver=liblinear; total time=   0.2s\n",
      "[CV] END classifier__C=0.001, classifier__max_iter=1000, classifier__penalty=elasticnet, classifier__solver=liblinear; total time=   0.1s\n",
      "[CV] END classifier__C=0.001, classifier__max_iter=10000, classifier__penalty=l2, classifier__solver=liblinear; total time=   0.4s\n",
      "[CV] END classifier__C=0.001, classifier__max_iter=10000, classifier__penalty=l1, classifier__solver=lbfgs; total time=   0.2s\n",
      "[CV] END classifier__C=0.001, classifier__max_iter=10000, classifier__penalty=elasticnet, classifier__solver=lbfgs; total time=   0.2s\n",
      "[CV] END classifier__C=0.001, classifier__max_iter=10000, classifier__penalty=elasticnet, classifier__solver=liblinear; total time=   0.1s\n",
      "[CV] END classifier__C=0.1, classifier__max_iter=100, classifier__penalty=l2, classifier__solver=lbfgs; total time=   0.6s\n",
      "[CV] END classifier__C=0.1, classifier__max_iter=100, classifier__penalty=l1, classifier__solver=lbfgs; total time=   0.2s\n",
      "[CV] END classifier__C=0.1, classifier__max_iter=100, classifier__penalty=l1, classifier__solver=liblinear; total time=   0.9s\n",
      "[CV] END classifier__C=0.1, classifier__max_iter=1000, classifier__penalty=l2, classifier__solver=liblinear; total time=   0.7s\n",
      "[CV] END classifier__C=0.1, classifier__max_iter=1000, classifier__penalty=l1, classifier__solver=lbfgs; total time=   0.2s\n",
      "[CV] END classifier__C=0.1, classifier__max_iter=1000, classifier__penalty=elasticnet, classifier__solver=lbfgs; total time=   0.2s\n",
      "[CV] END classifier__C=0.1, classifier__max_iter=1000, classifier__penalty=elasticnet, classifier__solver=lbfgs; total time=   0.1s\n",
      "[CV] END classifier__C=0.1, classifier__max_iter=1000, classifier__penalty=elasticnet, classifier__solver=liblinear; total time=   0.1s\n",
      "[CV] END classifier__C=0.1, classifier__max_iter=10000, classifier__penalty=l2, classifier__solver=lbfgs; total time=   0.7s\n",
      "[CV] END classifier__C=0.1, classifier__max_iter=10000, classifier__penalty=l2, classifier__solver=liblinear; total time=   0.3s\n",
      "[CV] END classifier__C=0.1, classifier__max_iter=10000, classifier__penalty=elasticnet, classifier__solver=lbfgs; total time=   0.2s\n",
      "[CV] END classifier__C=0.1, classifier__max_iter=10000, classifier__penalty=elasticnet, classifier__solver=lbfgs; total time=   0.2s\n",
      "[CV] END classifier__C=0.1, classifier__max_iter=10000, classifier__penalty=elasticnet, classifier__solver=liblinear; total time=   0.1s\n",
      "[CV] END classifier__C=1, classifier__max_iter=100, classifier__penalty=l2, classifier__solver=lbfgs; total time=   0.5s\n",
      "[CV] END classifier__C=1, classifier__max_iter=100, classifier__penalty=l2, classifier__solver=liblinear; total time=   0.6s\n",
      "[CV] END classifier__C=1, classifier__max_iter=100, classifier__penalty=elasticnet, classifier__solver=lbfgs; total time=   0.2s\n",
      "[CV] END classifier__C=1, classifier__max_iter=100, classifier__penalty=elasticnet, classifier__solver=lbfgs; total time=   0.2s\n",
      "[CV] END classifier__C=1, classifier__max_iter=100, classifier__penalty=elasticnet, classifier__solver=liblinear; total time=   0.2s\n",
      "[CV] END classifier__C=1, classifier__max_iter=1000, classifier__penalty=l2, classifier__solver=lbfgs; total time=   0.6s\n",
      "[CV] END classifier__C=1, classifier__max_iter=1000, classifier__penalty=l2, classifier__solver=lbfgs; total time=   0.7s\n",
      "[CV] END classifier__C=1, classifier__max_iter=1000, classifier__penalty=l2, classifier__solver=liblinear; total time=   0.7s\n",
      "[CV] END classifier__C=1, classifier__max_iter=1000, classifier__penalty=l1, classifier__solver=lbfgs; total time=   0.2s\n",
      "[CV] END classifier__C=1, classifier__max_iter=1000, classifier__penalty=l1, classifier__solver=lbfgs; total time=   0.2s\n",
      "[CV] END classifier__C=1, classifier__max_iter=1000, classifier__penalty=l1, classifier__solver=liblinear; total time=   3.4s\n",
      "[CV] END classifier__C=1, classifier__max_iter=10000, classifier__penalty=elasticnet, classifier__solver=lbfgs; total time=   0.2s\n",
      "[CV] END classifier__C=1, classifier__max_iter=10000, classifier__penalty=elasticnet, classifier__solver=liblinear; total time=   0.2s\n",
      "[CV] END classifier__C=1, classifier__max_iter=10000, classifier__penalty=elasticnet, classifier__solver=liblinear; total time=   0.2s\n",
      "[CV] END classifier__C=10, classifier__max_iter=100, classifier__penalty=l2, classifier__solver=lbfgs; total time=   0.5s\n",
      "[CV] END classifier__C=10, classifier__max_iter=100, classifier__penalty=l2, classifier__solver=lbfgs; total time=   0.6s\n",
      "[CV] END classifier__C=10, classifier__max_iter=100, classifier__penalty=l2, classifier__solver=liblinear; total time=   0.8s\n",
      "[CV] END classifier__C=10, classifier__max_iter=100, classifier__penalty=l1, classifier__solver=lbfgs; total time=   0.2s\n",
      "[CV] END classifier__C=10, classifier__max_iter=100, classifier__penalty=l1, classifier__solver=liblinear; total time=   3.4s\n",
      "[CV] END classifier__C=10, classifier__max_iter=1000, classifier__penalty=l1, classifier__solver=lbfgs; total time=   0.2s\n",
      "[CV] END classifier__C=10, classifier__max_iter=1000, classifier__penalty=l1, classifier__solver=lbfgs; total time=   0.2s\n",
      "[CV] END classifier__C=10, classifier__max_iter=1000, classifier__penalty=l1, classifier__solver=liblinear; total time=   3.4s\n",
      "[CV] END classifier__C=10, classifier__max_iter=10000, classifier__penalty=l2, classifier__solver=lbfgs; total time=   0.7s\n",
      "[CV] END classifier__C=10, classifier__max_iter=10000, classifier__penalty=l2, classifier__solver=liblinear; total time=   1.0s\n",
      "[CV] END classifier__C=10, classifier__max_iter=10000, classifier__penalty=l1, classifier__solver=lbfgs; total time=   0.2s\n",
      "[CV] END classifier__C=10, classifier__max_iter=10000, classifier__penalty=l1, classifier__solver=liblinear; total time=   2.6s\n",
      "[CV] END classifier__C=10, classifier__max_iter=100, classifier__penalty=l2, classifier__solver=liblinear; total time= 1.1min\n",
      "[CV] END classifier__C=10, classifier__max_iter=100, classifier__penalty=l2, classifier__solver=liblinear; total time=  44.5s\n",
      "[CV] END classifier__C=0.0001, classifier__max_iter=100, classifier__penalty=l2, classifier__solver=lbfgs; total time=   0.3s\n",
      "[CV] END classifier__C=0.0001, classifier__max_iter=100, classifier__penalty=l2, classifier__solver=liblinear; total time=   0.3s\n",
      "[CV] END classifier__C=0.0001, classifier__max_iter=100, classifier__penalty=elasticnet, classifier__solver=lbfgs; total time=   0.2s\n",
      "[CV] END classifier__C=0.0001, classifier__max_iter=100, classifier__penalty=elasticnet, classifier__solver=liblinear; total time=   0.2s\n",
      "[CV] END classifier__C=0.0001, classifier__max_iter=1000, classifier__penalty=l2, classifier__solver=liblinear; total time=   0.3s\n",
      "[CV] END classifier__C=0.0001, classifier__max_iter=1000, classifier__penalty=l1, classifier__solver=liblinear; total time=   0.2s\n",
      "[CV] END classifier__C=0.0001, classifier__max_iter=1000, classifier__penalty=elasticnet, classifier__solver=lbfgs; total time=   0.2s\n",
      "[CV] END classifier__C=0.0001, classifier__max_iter=10000, classifier__penalty=l2, classifier__solver=lbfgs; total time=   0.2s\n",
      "[CV] END classifier__C=0.0001, classifier__max_iter=10000, classifier__penalty=l2, classifier__solver=liblinear; total time=   0.3s\n",
      "[CV] END classifier__C=0.0001, classifier__max_iter=10000, classifier__penalty=l1, classifier__solver=liblinear; total time=   0.2s\n",
      "[CV] END classifier__C=0.0001, classifier__max_iter=10000, classifier__penalty=elasticnet, classifier__solver=liblinear; total time=   0.1s\n",
      "[CV] END classifier__C=0.001, classifier__max_iter=100, classifier__penalty=l2, classifier__solver=liblinear; total time=   0.3s\n",
      "[CV] END classifier__C=0.001, classifier__max_iter=100, classifier__penalty=l1, classifier__solver=lbfgs; total time=   0.2s\n",
      "[CV] END classifier__C=0.001, classifier__max_iter=100, classifier__penalty=elasticnet, classifier__solver=lbfgs; total time=   0.2s\n",
      "[CV] END classifier__C=0.001, classifier__max_iter=100, classifier__penalty=elasticnet, classifier__solver=liblinear; total time=   0.1s\n",
      "[CV] END classifier__C=0.001, classifier__max_iter=1000, classifier__penalty=l2, classifier__solver=liblinear; total time=   0.2s\n",
      "[CV] END classifier__C=0.001, classifier__max_iter=1000, classifier__penalty=l1, classifier__solver=lbfgs; total time=   0.2s\n",
      "[CV] END classifier__C=0.001, classifier__max_iter=1000, classifier__penalty=elasticnet, classifier__solver=lbfgs; total time=   0.2s\n",
      "[CV] END classifier__C=0.001, classifier__max_iter=1000, classifier__penalty=elasticnet, classifier__solver=liblinear; total time=   0.1s\n",
      "[CV] END classifier__C=0.001, classifier__max_iter=10000, classifier__penalty=l2, classifier__solver=lbfgs; total time=   0.4s\n",
      "[CV] END classifier__C=0.001, classifier__max_iter=10000, classifier__penalty=l1, classifier__solver=lbfgs; total time=   0.2s\n",
      "[CV] END classifier__C=0.001, classifier__max_iter=10000, classifier__penalty=l1, classifier__solver=liblinear; total time=   0.2s\n",
      "[CV] END classifier__C=0.001, classifier__max_iter=10000, classifier__penalty=elasticnet, classifier__solver=liblinear; total time=   0.2s\n",
      "[CV] END classifier__C=0.1, classifier__max_iter=100, classifier__penalty=l2, classifier__solver=liblinear; total time=   0.6s\n",
      "[CV] END classifier__C=0.1, classifier__max_iter=100, classifier__penalty=l1, classifier__solver=lbfgs; total time=   0.2s\n",
      "[CV] END classifier__C=0.1, classifier__max_iter=100, classifier__penalty=l1, classifier__solver=liblinear; total time=   0.8s\n",
      "[CV] END classifier__C=0.1, classifier__max_iter=1000, classifier__penalty=l2, classifier__solver=liblinear; total time=   0.6s\n",
      "[CV] END classifier__C=0.1, classifier__max_iter=1000, classifier__penalty=l2, classifier__solver=liblinear; total time=   0.5s\n",
      "[CV] END classifier__C=0.1, classifier__max_iter=1000, classifier__penalty=elasticnet, classifier__solver=lbfgs; total time=   0.2s\n",
      "[CV] END classifier__C=0.1, classifier__max_iter=1000, classifier__penalty=elasticnet, classifier__solver=liblinear; total time=   0.1s\n",
      "[CV] END classifier__C=0.1, classifier__max_iter=1000, classifier__penalty=elasticnet, classifier__solver=liblinear; total time=   0.2s\n",
      "[CV] END classifier__C=0.1, classifier__max_iter=10000, classifier__penalty=l2, classifier__solver=liblinear; total time=   0.6s\n",
      "[CV] END classifier__C=0.1, classifier__max_iter=10000, classifier__penalty=l2, classifier__solver=liblinear; total time=   0.5s\n",
      "[CV] END classifier__C=0.1, classifier__max_iter=10000, classifier__penalty=elasticnet, classifier__solver=lbfgs; total time=   0.1s\n",
      "[CV] END classifier__C=0.1, classifier__max_iter=10000, classifier__penalty=elasticnet, classifier__solver=liblinear; total time=   0.2s\n",
      "[CV] END classifier__C=0.1, classifier__max_iter=10000, classifier__penalty=elasticnet, classifier__solver=liblinear; total time=   0.1s\n",
      "[CV] END classifier__C=1, classifier__max_iter=100, classifier__penalty=l2, classifier__solver=lbfgs; total time=   0.6s\n",
      "[CV] END classifier__C=1, classifier__max_iter=100, classifier__penalty=l1, classifier__solver=lbfgs; total time=   0.2s\n",
      "[CV] END classifier__C=1, classifier__max_iter=100, classifier__penalty=l1, classifier__solver=liblinear; total time=   2.8s\n",
      "[CV] END classifier__C=1, classifier__max_iter=1000, classifier__penalty=l2, classifier__solver=liblinear; total time=   0.6s\n",
      "[CV] END classifier__C=1, classifier__max_iter=1000, classifier__penalty=elasticnet, classifier__solver=lbfgs; total time=   0.2s\n",
      "[CV] END classifier__C=1, classifier__max_iter=1000, classifier__penalty=elasticnet, classifier__solver=lbfgs; total time=   0.2s\n",
      "[CV] END classifier__C=1, classifier__max_iter=1000, classifier__penalty=elasticnet, classifier__solver=liblinear; total time=   0.2s\n",
      "[CV] END classifier__C=1, classifier__max_iter=1000, classifier__penalty=elasticnet, classifier__solver=liblinear; total time=   0.2s\n",
      "[CV] END classifier__C=1, classifier__max_iter=10000, classifier__penalty=l2, classifier__solver=lbfgs; total time=   0.9s\n",
      "[CV] END classifier__C=1, classifier__max_iter=10000, classifier__penalty=l2, classifier__solver=liblinear; total time=   0.7s\n",
      "[CV] END classifier__C=1, classifier__max_iter=10000, classifier__penalty=l2, classifier__solver=liblinear; total time=   0.7s\n",
      "[CV] END classifier__C=1, classifier__max_iter=10000, classifier__penalty=elasticnet, classifier__solver=lbfgs; total time=   0.2s\n",
      "[CV] END classifier__C=1, classifier__max_iter=10000, classifier__penalty=elasticnet, classifier__solver=lbfgs; total time=   0.2s\n",
      "[CV] END classifier__C=1, classifier__max_iter=10000, classifier__penalty=elasticnet, classifier__solver=liblinear; total time=   0.2s\n",
      "[CV] END classifier__C=10, classifier__max_iter=100, classifier__penalty=l2, classifier__solver=lbfgs; total time=   0.5s\n",
      "[CV] END classifier__C=10, classifier__max_iter=100, classifier__penalty=l2, classifier__solver=lbfgs; total time=   0.5s\n",
      "[CV] END classifier__C=10, classifier__max_iter=100, classifier__penalty=l2, classifier__solver=liblinear; total time=   1.0s\n",
      "[CV] END classifier__C=10, classifier__max_iter=100, classifier__penalty=l1, classifier__solver=lbfgs; total time=   0.2s\n",
      "[CV] END classifier__C=10, classifier__max_iter=100, classifier__penalty=l1, classifier__solver=liblinear; total time=   5.5s\n",
      "[CV] END classifier__C=10, classifier__max_iter=1000, classifier__penalty=elasticnet, classifier__solver=lbfgs; total time=   0.1s\n",
      "[CV] END classifier__C=10, classifier__max_iter=1000, classifier__penalty=elasticnet, classifier__solver=lbfgs; total time=   0.2s\n",
      "[CV] END classifier__C=10, classifier__max_iter=1000, classifier__penalty=elasticnet, classifier__solver=lbfgs; total time=   0.2s\n",
      "[CV] END classifier__C=10, classifier__max_iter=1000, classifier__penalty=elasticnet, classifier__solver=lbfgs; total time=   0.2s\n",
      "[CV] END classifier__C=10, classifier__max_iter=1000, classifier__penalty=elasticnet, classifier__solver=lbfgs; total time=   0.3s\n",
      "[CV] END classifier__C=10, classifier__max_iter=1000, classifier__penalty=elasticnet, classifier__solver=liblinear; total time=   0.2s\n",
      "[CV] END classifier__C=10, classifier__max_iter=1000, classifier__penalty=elasticnet, classifier__solver=liblinear; total time=   0.2s\n",
      "[CV] END classifier__C=10, classifier__max_iter=10000, classifier__penalty=l2, classifier__solver=lbfgs; total time=   1.1s\n",
      "[CV] END classifier__C=10, classifier__max_iter=10000, classifier__penalty=l2, classifier__solver=liblinear; total time=   0.9s\n",
      "[CV] END classifier__C=10, classifier__max_iter=10000, classifier__penalty=l1, classifier__solver=lbfgs; total time=   0.2s\n",
      "[CV] END classifier__C=10, classifier__max_iter=10000, classifier__penalty=l1, classifier__solver=lbfgs; total time=   0.2s\n",
      "[CV] END classifier__C=10, classifier__max_iter=10000, classifier__penalty=l1, classifier__solver=liblinear; total time=   2.8s\n",
      "[CV] END classifier__C=10, classifier__max_iter=100, classifier__penalty=l2, classifier__solver=liblinear; total time= 1.1min\n",
      "[CV] END classifier__C=10, classifier__max_iter=100, classifier__penalty=l2, classifier__solver=liblinear; total time=  44.5s\n",
      "[CV] END classifier__C=10, classifier__max_iter=100, classifier__penalty=l2, classifier__solver=liblinear; total time=  44.0s\n",
      "[CV] END classifier__C=10, classifier__max_iter=100, classifier__penalty=l2, classifier__solver=liblinear; total time=  43.8s\n",
      "[CV] END classifier__C=0.0001, classifier__max_iter=100, classifier__penalty=l2, classifier__solver=liblinear; total time=   0.3s\n",
      "[CV] END classifier__C=0.0001, classifier__max_iter=100, classifier__penalty=l1, classifier__solver=lbfgs; total time=   0.2s\n",
      "[CV] END classifier__C=0.0001, classifier__max_iter=100, classifier__penalty=l1, classifier__solver=liblinear; total time=   0.2s\n",
      "[CV] END classifier__C=0.0001, classifier__max_iter=100, classifier__penalty=elasticnet, classifier__solver=liblinear; total time=   0.2s\n",
      "[CV] END classifier__C=0.0001, classifier__max_iter=1000, classifier__penalty=l2, classifier__solver=liblinear; total time=   0.3s\n",
      "[CV] END classifier__C=0.0001, classifier__max_iter=1000, classifier__penalty=l1, classifier__solver=lbfgs; total time=   0.2s\n",
      "[CV] END classifier__C=0.0001, classifier__max_iter=1000, classifier__penalty=elasticnet, classifier__solver=lbfgs; total time=   0.2s\n",
      "[CV] END classifier__C=0.0001, classifier__max_iter=10000, classifier__penalty=l2, classifier__solver=lbfgs; total time=   0.2s\n",
      "[CV] END classifier__C=0.0001, classifier__max_iter=10000, classifier__penalty=l2, classifier__solver=liblinear; total time=   0.2s\n",
      "[CV] END classifier__C=0.0001, classifier__max_iter=10000, classifier__penalty=l1, classifier__solver=liblinear; total time=   0.2s\n",
      "[CV] END classifier__C=0.0001, classifier__max_iter=10000, classifier__penalty=elasticnet, classifier__solver=lbfgs; total time=   0.2s\n",
      "[CV] END classifier__C=0.001, classifier__max_iter=100, classifier__penalty=l2, classifier__solver=lbfgs; total time=   0.3s\n",
      "[CV] END classifier__C=0.001, classifier__max_iter=100, classifier__penalty=l2, classifier__solver=liblinear; total time=   0.3s\n",
      "[CV] END classifier__C=0.001, classifier__max_iter=100, classifier__penalty=elasticnet, classifier__solver=lbfgs; total time=   0.2s\n",
      "[CV] END classifier__C=0.001, classifier__max_iter=100, classifier__penalty=elasticnet, classifier__solver=liblinear; total time=   0.1s\n",
      "[CV] END classifier__C=0.001, classifier__max_iter=1000, classifier__penalty=l2, classifier__solver=liblinear; total time=   0.4s\n",
      "[CV] END classifier__C=0.001, classifier__max_iter=1000, classifier__penalty=l1, classifier__solver=lbfgs; total time=   0.2s\n",
      "[CV] END classifier__C=0.001, classifier__max_iter=1000, classifier__penalty=l1, classifier__solver=liblinear; total time=   0.2s\n",
      "[CV] END classifier__C=0.001, classifier__max_iter=10000, classifier__penalty=l2, classifier__solver=lbfgs; total time=   0.4s\n",
      "[CV] END classifier__C=0.001, classifier__max_iter=10000, classifier__penalty=l2, classifier__solver=liblinear; total time=   0.4s\n",
      "[CV] END classifier__C=0.001, classifier__max_iter=10000, classifier__penalty=l1, classifier__solver=liblinear; total time=   0.3s\n",
      "[CV] END classifier__C=0.1, classifier__max_iter=100, classifier__penalty=l2, classifier__solver=lbfgs; total time=   0.6s\n",
      "[CV] END classifier__C=0.1, classifier__max_iter=100, classifier__penalty=l2, classifier__solver=liblinear; total time=   0.5s\n",
      "[CV] END classifier__C=0.1, classifier__max_iter=100, classifier__penalty=elasticnet, classifier__solver=lbfgs; total time=   0.2s\n",
      "[CV] END classifier__C=0.1, classifier__max_iter=100, classifier__penalty=elasticnet, classifier__solver=liblinear; total time=   0.2s\n",
      "[CV] END classifier__C=0.1, classifier__max_iter=100, classifier__penalty=elasticnet, classifier__solver=liblinear; total time=   0.2s\n",
      "[CV] END classifier__C=0.1, classifier__max_iter=1000, classifier__penalty=l2, classifier__solver=liblinear; total time=   0.6s\n",
      "[CV] END classifier__C=0.1, classifier__max_iter=1000, classifier__penalty=l1, classifier__solver=lbfgs; total time=   0.2s\n",
      "[CV] END classifier__C=0.1, classifier__max_iter=1000, classifier__penalty=l1, classifier__solver=liblinear; total time=   0.9s\n",
      "[CV] END classifier__C=0.1, classifier__max_iter=10000, classifier__penalty=l2, classifier__solver=liblinear; total time=   0.7s\n",
      "[CV] END classifier__C=0.1, classifier__max_iter=10000, classifier__penalty=l1, classifier__solver=lbfgs; total time=   0.1s\n",
      "[CV] END classifier__C=0.1, classifier__max_iter=10000, classifier__penalty=l1, classifier__solver=liblinear; total time=   0.7s\n",
      "[CV] END classifier__C=1, classifier__max_iter=100, classifier__penalty=l2, classifier__solver=lbfgs; total time=   0.5s\n",
      "[CV] END classifier__C=1, classifier__max_iter=100, classifier__penalty=l1, classifier__solver=lbfgs; total time=   0.2s\n",
      "[CV] END classifier__C=1, classifier__max_iter=100, classifier__penalty=l1, classifier__solver=liblinear; total time=   2.9s\n",
      "[CV] END classifier__C=1, classifier__max_iter=1000, classifier__penalty=l2, classifier__solver=liblinear; total time=   0.6s\n",
      "[CV] END classifier__C=1, classifier__max_iter=1000, classifier__penalty=elasticnet, classifier__solver=lbfgs; total time=   0.2s\n",
      "[CV] END classifier__C=1, classifier__max_iter=1000, classifier__penalty=elasticnet, classifier__solver=liblinear; total time=   0.2s\n",
      "[CV] END classifier__C=1, classifier__max_iter=1000, classifier__penalty=elasticnet, classifier__solver=liblinear; total time=   0.1s\n",
      "[CV] END classifier__C=1, classifier__max_iter=10000, classifier__penalty=l2, classifier__solver=lbfgs; total time=   0.9s\n",
      "[CV] END classifier__C=1, classifier__max_iter=10000, classifier__penalty=l2, classifier__solver=lbfgs; total time=   0.9s\n",
      "[CV] END classifier__C=1, classifier__max_iter=10000, classifier__penalty=l1, classifier__solver=lbfgs; total time=   0.2s\n",
      "[CV] END classifier__C=1, classifier__max_iter=10000, classifier__penalty=l1, classifier__solver=lbfgs; total time=   0.2s\n",
      "[CV] END classifier__C=1, classifier__max_iter=10000, classifier__penalty=l1, classifier__solver=liblinear; total time=   3.1s\n",
      "[CV] END classifier__C=10, classifier__max_iter=100, classifier__penalty=l1, classifier__solver=lbfgs; total time=   0.2s\n",
      "[CV] END classifier__C=10, classifier__max_iter=100, classifier__penalty=l1, classifier__solver=liblinear; total time=   9.1s\n",
      "[CV] END classifier__C=10, classifier__max_iter=10000, classifier__penalty=l1, classifier__solver=lbfgs; total time=   0.2s\n",
      "[CV] END classifier__C=10, classifier__max_iter=10000, classifier__penalty=l1, classifier__solver=lbfgs; total time=   0.2s\n",
      "[CV] END classifier__C=10, classifier__max_iter=10000, classifier__penalty=l1, classifier__solver=liblinear; total time=   4.6s\n",
      "[CV] END classifier__C=10, classifier__max_iter=100, classifier__penalty=l2, classifier__solver=liblinear; total time= 1.1min\n",
      "[CV] END classifier__C=10, classifier__max_iter=100, classifier__penalty=l2, classifier__solver=liblinear; total time=  43.9s\n",
      "[CV] END classifier__C=0.0001, classifier__max_iter=100, classifier__penalty=l2, classifier__solver=lbfgs; total time=   0.3s\n",
      "[CV] END classifier__C=0.0001, classifier__max_iter=100, classifier__penalty=l1, classifier__solver=lbfgs; total time=   0.2s\n",
      "[CV] END classifier__C=0.0001, classifier__max_iter=100, classifier__penalty=elasticnet, classifier__solver=lbfgs; total time=   0.2s\n",
      "[CV] END classifier__C=0.0001, classifier__max_iter=100, classifier__penalty=elasticnet, classifier__solver=liblinear; total time=   0.2s\n",
      "[CV] END classifier__C=0.0001, classifier__max_iter=1000, classifier__penalty=l2, classifier__solver=lbfgs; total time=   0.3s\n",
      "[CV] END classifier__C=0.0001, classifier__max_iter=1000, classifier__penalty=l1, classifier__solver=lbfgs; total time=   0.2s\n",
      "[CV] END classifier__C=0.0001, classifier__max_iter=1000, classifier__penalty=l1, classifier__solver=liblinear; total time=   0.3s\n",
      "[CV] END classifier__C=0.0001, classifier__max_iter=1000, classifier__penalty=elasticnet, classifier__solver=liblinear; total time=   0.2s\n",
      "[CV] END classifier__C=0.0001, classifier__max_iter=10000, classifier__penalty=l2, classifier__solver=liblinear; total time=   0.3s\n",
      "[CV] END classifier__C=0.0001, classifier__max_iter=10000, classifier__penalty=l1, classifier__solver=liblinear; total time=   0.2s\n",
      "[CV] END classifier__C=0.0001, classifier__max_iter=10000, classifier__penalty=elasticnet, classifier__solver=lbfgs; total time=   0.2s\n",
      "[CV] END classifier__C=0.001, classifier__max_iter=100, classifier__penalty=l2, classifier__solver=lbfgs; total time=   0.3s\n",
      "[CV] END classifier__C=0.001, classifier__max_iter=100, classifier__penalty=l1, classifier__solver=lbfgs; total time=   0.2s\n",
      "[CV] END classifier__C=0.001, classifier__max_iter=100, classifier__penalty=l1, classifier__solver=liblinear; total time=   0.2s\n",
      "[CV] END classifier__C=0.001, classifier__max_iter=100, classifier__penalty=elasticnet, classifier__solver=liblinear; total time=   0.1s\n",
      "[CV] END classifier__C=0.001, classifier__max_iter=1000, classifier__penalty=l2, classifier__solver=liblinear; total time=   0.4s\n",
      "[CV] END classifier__C=0.001, classifier__max_iter=1000, classifier__penalty=l1, classifier__solver=liblinear; total time=   0.3s\n",
      "[CV] END classifier__C=0.001, classifier__max_iter=1000, classifier__penalty=elasticnet, classifier__solver=liblinear; total time=   0.1s\n",
      "[CV] END classifier__C=0.001, classifier__max_iter=10000, classifier__penalty=l2, classifier__solver=lbfgs; total time=   0.4s\n",
      "[CV] END classifier__C=0.001, classifier__max_iter=10000, classifier__penalty=l1, classifier__solver=lbfgs; total time=   0.2s\n",
      "[CV] END classifier__C=0.001, classifier__max_iter=10000, classifier__penalty=l1, classifier__solver=liblinear; total time=   0.2s\n",
      "[CV] END classifier__C=0.001, classifier__max_iter=10000, classifier__penalty=elasticnet, classifier__solver=lbfgs; total time=   0.2s\n",
      "[CV] END classifier__C=0.1, classifier__max_iter=100, classifier__penalty=l2, classifier__solver=lbfgs; total time=   0.6s\n",
      "[CV] END classifier__C=0.1, classifier__max_iter=100, classifier__penalty=l1, classifier__solver=lbfgs; total time=   0.2s\n",
      "[CV] END classifier__C=0.1, classifier__max_iter=100, classifier__penalty=l1, classifier__solver=liblinear; total time=   0.8s\n",
      "[CV] END classifier__C=0.1, classifier__max_iter=1000, classifier__penalty=l2, classifier__solver=lbfgs; total time=   0.8s\n",
      "[CV] END classifier__C=0.1, classifier__max_iter=1000, classifier__penalty=l1, classifier__solver=lbfgs; total time=   0.2s\n",
      "[CV] END classifier__C=0.1, classifier__max_iter=1000, classifier__penalty=l1, classifier__solver=liblinear; total time=   0.7s\n",
      "[CV] END classifier__C=0.1, classifier__max_iter=10000, classifier__penalty=l2, classifier__solver=lbfgs; total time=   0.8s\n",
      "[CV] END classifier__C=0.1, classifier__max_iter=10000, classifier__penalty=l1, classifier__solver=lbfgs; total time=   0.1s\n",
      "[CV] END classifier__C=0.1, classifier__max_iter=10000, classifier__penalty=l1, classifier__solver=liblinear; total time=   0.6s\n",
      "[CV] END classifier__C=1, classifier__max_iter=100, classifier__penalty=l2, classifier__solver=lbfgs; total time=   0.5s\n",
      "[CV] END classifier__C=1, classifier__max_iter=100, classifier__penalty=l1, classifier__solver=lbfgs; total time=   0.2s\n",
      "[CV] END classifier__C=1, classifier__max_iter=100, classifier__penalty=l1, classifier__solver=lbfgs; total time=   0.2s\n",
      "[CV] END classifier__C=1, classifier__max_iter=100, classifier__penalty=l1, classifier__solver=liblinear; total time=   3.3s\n",
      "[CV] END classifier__C=1, classifier__max_iter=1000, classifier__penalty=l1, classifier__solver=liblinear; total time=   2.5s\n",
      "[CV] END classifier__C=1, classifier__max_iter=10000, classifier__penalty=l2, classifier__solver=liblinear; total time=   0.7s\n",
      "[CV] END classifier__C=1, classifier__max_iter=10000, classifier__penalty=l1, classifier__solver=liblinear; total time=   2.5s\n",
      "[CV] END classifier__C=10, classifier__max_iter=100, classifier__penalty=l2, classifier__solver=liblinear; total time=   0.6s\n",
      "[CV] END classifier__C=10, classifier__max_iter=100, classifier__penalty=elasticnet, classifier__solver=lbfgs; total time=   0.2s\n",
      "[CV] END classifier__C=10, classifier__max_iter=100, classifier__penalty=elasticnet, classifier__solver=lbfgs; total time=   0.2s\n",
      "[CV] END classifier__C=10, classifier__max_iter=100, classifier__penalty=elasticnet, classifier__solver=lbfgs; total time=   0.2s\n",
      "[CV] END classifier__C=10, classifier__max_iter=100, classifier__penalty=elasticnet, classifier__solver=liblinear; total time=   0.2s\n",
      "[CV] END classifier__C=10, classifier__max_iter=1000, classifier__penalty=l2, classifier__solver=lbfgs; total time=   1.0s\n",
      "[CV] END classifier__C=10, classifier__max_iter=1000, classifier__penalty=l2, classifier__solver=lbfgs; total time=   0.7s\n",
      "[CV] END classifier__C=10, classifier__max_iter=1000, classifier__penalty=l2, classifier__solver=liblinear; total time=   1.0s\n",
      "[CV] END classifier__C=10, classifier__max_iter=1000, classifier__penalty=l1, classifier__solver=lbfgs; total time=   0.1s\n",
      "[CV] END classifier__C=10, classifier__max_iter=1000, classifier__penalty=l1, classifier__solver=liblinear; total time=   8.4s\n",
      "[CV] END classifier__C=10, classifier__max_iter=100, classifier__penalty=l2, classifier__solver=liblinear; total time=  44.4s\n",
      "[CV] END classifier__C=10, classifier__max_iter=100, classifier__penalty=l2, classifier__solver=liblinear; total time=  43.9s\n",
      "[CV] END classifier__C=10, classifier__max_iter=100, classifier__penalty=l2, classifier__solver=liblinear; total time=  43.9s\n",
      "[CV] END classifier__C=10, classifier__max_iter=100, classifier__penalty=l2, classifier__solver=liblinear; total time=  43.9s\n",
      "[CV] END classifier__C=10, classifier__max_iter=100, classifier__penalty=l2, classifier__solver=liblinear; total time=  44.1s\n",
      "[CV] END classifier__C=0.0001, classifier__max_iter=100, classifier__penalty=l2, classifier__solver=lbfgs; total time=   0.3s\n",
      "[CV] END classifier__C=0.0001, classifier__max_iter=100, classifier__penalty=l2, classifier__solver=liblinear; total time=   0.3s\n",
      "[CV] END classifier__C=0.0001, classifier__max_iter=100, classifier__penalty=elasticnet, classifier__solver=lbfgs; total time=   0.2s\n",
      "[CV] END classifier__C=0.0001, classifier__max_iter=100, classifier__penalty=elasticnet, classifier__solver=liblinear; total time=   0.2s\n",
      "[CV] END classifier__C=0.0001, classifier__max_iter=1000, classifier__penalty=l2, classifier__solver=liblinear; total time=   0.2s\n",
      "[CV] END classifier__C=0.0001, classifier__max_iter=1000, classifier__penalty=l1, classifier__solver=lbfgs; total time=   0.2s\n",
      "[CV] END classifier__C=0.0001, classifier__max_iter=1000, classifier__penalty=elasticnet, classifier__solver=lbfgs; total time=   0.2s\n",
      "[CV] END classifier__C=0.0001, classifier__max_iter=1000, classifier__penalty=elasticnet, classifier__solver=liblinear; total time=   0.1s\n",
      "[CV] END classifier__C=0.0001, classifier__max_iter=10000, classifier__penalty=l2, classifier__solver=liblinear; total time=   0.2s\n",
      "[CV] END classifier__C=0.0001, classifier__max_iter=10000, classifier__penalty=l1, classifier__solver=lbfgs; total time=   0.2s\n",
      "[CV] END classifier__C=0.0001, classifier__max_iter=10000, classifier__penalty=elasticnet, classifier__solver=lbfgs; total time=   0.2s\n",
      "[CV] END classifier__C=0.0001, classifier__max_iter=10000, classifier__penalty=elasticnet, classifier__solver=liblinear; total time=   0.1s\n",
      "[CV] END classifier__C=0.001, classifier__max_iter=100, classifier__penalty=l2, classifier__solver=liblinear; total time=   0.3s\n",
      "[CV] END classifier__C=0.001, classifier__max_iter=100, classifier__penalty=l1, classifier__solver=lbfgs; total time=   0.2s\n",
      "[CV] END classifier__C=0.001, classifier__max_iter=100, classifier__penalty=elasticnet, classifier__solver=lbfgs; total time=   0.2s\n",
      "[CV] END classifier__C=0.001, classifier__max_iter=100, classifier__penalty=elasticnet, classifier__solver=liblinear; total time=   0.1s\n",
      "[CV] END classifier__C=0.001, classifier__max_iter=1000, classifier__penalty=l2, classifier__solver=lbfgs; total time=   0.3s\n",
      "[CV] END classifier__C=0.001, classifier__max_iter=1000, classifier__penalty=l2, classifier__solver=liblinear; total time=   0.3s\n",
      "[CV] END classifier__C=0.001, classifier__max_iter=1000, classifier__penalty=elasticnet, classifier__solver=lbfgs; total time=   0.2s\n",
      "[CV] END classifier__C=0.001, classifier__max_iter=1000, classifier__penalty=elasticnet, classifier__solver=liblinear; total time=   0.1s\n",
      "[CV] END classifier__C=0.001, classifier__max_iter=10000, classifier__penalty=l2, classifier__solver=liblinear; total time=   0.4s\n",
      "[CV] END classifier__C=0.001, classifier__max_iter=10000, classifier__penalty=l1, classifier__solver=lbfgs; total time=   0.2s\n",
      "[CV] END classifier__C=0.001, classifier__max_iter=10000, classifier__penalty=elasticnet, classifier__solver=lbfgs; total time=   0.2s\n",
      "[CV] END classifier__C=0.001, classifier__max_iter=10000, classifier__penalty=elasticnet, classifier__solver=liblinear; total time=   0.1s\n",
      "[CV] END classifier__C=0.1, classifier__max_iter=100, classifier__penalty=l2, classifier__solver=liblinear; total time=   0.6s\n",
      "[CV] END classifier__C=0.1, classifier__max_iter=100, classifier__penalty=l1, classifier__solver=lbfgs; total time=   0.2s\n",
      "[CV] END classifier__C=0.1, classifier__max_iter=100, classifier__penalty=elasticnet, classifier__solver=lbfgs; total time=   0.2s\n",
      "[CV] END classifier__C=0.1, classifier__max_iter=100, classifier__penalty=elasticnet, classifier__solver=lbfgs; total time=   0.2s\n",
      "[CV] END classifier__C=0.1, classifier__max_iter=100, classifier__penalty=elasticnet, classifier__solver=liblinear; total time=   0.2s\n",
      "[CV] END classifier__C=0.1, classifier__max_iter=1000, classifier__penalty=l2, classifier__solver=lbfgs; total time=   0.7s\n",
      "[CV] END classifier__C=0.1, classifier__max_iter=1000, classifier__penalty=l2, classifier__solver=liblinear; total time=   0.4s\n",
      "[CV] END classifier__C=0.1, classifier__max_iter=1000, classifier__penalty=elasticnet, classifier__solver=lbfgs; total time=   0.2s\n",
      "[CV] END classifier__C=0.1, classifier__max_iter=1000, classifier__penalty=elasticnet, classifier__solver=lbfgs; total time=   0.2s\n",
      "[CV] END classifier__C=0.1, classifier__max_iter=1000, classifier__penalty=elasticnet, classifier__solver=liblinear; total time=   0.2s\n",
      "[CV] END classifier__C=0.1, classifier__max_iter=10000, classifier__penalty=l2, classifier__solver=lbfgs; total time=   0.7s\n",
      "[CV] END classifier__C=0.1, classifier__max_iter=10000, classifier__penalty=l1, classifier__solver=lbfgs; total time=   0.1s\n",
      "[CV] END classifier__C=0.1, classifier__max_iter=10000, classifier__penalty=l1, classifier__solver=liblinear; total time=   0.8s\n",
      "[CV] END classifier__C=1, classifier__max_iter=100, classifier__penalty=l2, classifier__solver=liblinear; total time=   0.7s\n",
      "[CV] END classifier__C=1, classifier__max_iter=100, classifier__penalty=l1, classifier__solver=liblinear; total time=   3.5s\n",
      "[CV] END classifier__C=1, classifier__max_iter=1000, classifier__penalty=elasticnet, classifier__solver=lbfgs; total time=   0.2s\n",
      "[CV] END classifier__C=1, classifier__max_iter=1000, classifier__penalty=elasticnet, classifier__solver=lbfgs; total time=   0.2s\n",
      "[CV] END classifier__C=1, classifier__max_iter=1000, classifier__penalty=elasticnet, classifier__solver=liblinear; total time=   0.2s\n",
      "[CV] END classifier__C=1, classifier__max_iter=10000, classifier__penalty=l2, classifier__solver=lbfgs; total time=   0.7s\n",
      "[CV] END classifier__C=1, classifier__max_iter=10000, classifier__penalty=l2, classifier__solver=lbfgs; total time=   0.7s\n",
      "[CV] END classifier__C=1, classifier__max_iter=10000, classifier__penalty=l2, classifier__solver=liblinear; total time=   0.7s\n",
      "[CV] END classifier__C=1, classifier__max_iter=10000, classifier__penalty=l1, classifier__solver=lbfgs; total time=   0.2s\n",
      "[CV] END classifier__C=1, classifier__max_iter=10000, classifier__penalty=l1, classifier__solver=liblinear; total time=   3.7s\n",
      "[CV] END classifier__C=10, classifier__max_iter=100, classifier__penalty=elasticnet, classifier__solver=lbfgs; total time=   0.2s\n",
      "[CV] END classifier__C=10, classifier__max_iter=100, classifier__penalty=elasticnet, classifier__solver=liblinear; total time=   0.2s\n",
      "[CV] END classifier__C=10, classifier__max_iter=100, classifier__penalty=elasticnet, classifier__solver=liblinear; total time=   0.2s\n",
      "[CV] END classifier__C=10, classifier__max_iter=1000, classifier__penalty=l2, classifier__solver=lbfgs; total time=   1.1s\n",
      "[CV] END classifier__C=10, classifier__max_iter=1000, classifier__penalty=l2, classifier__solver=liblinear; total time=   0.7s\n",
      "[CV] END classifier__C=10, classifier__max_iter=1000, classifier__penalty=l2, classifier__solver=liblinear; total time=   0.8s\n",
      "[CV] END classifier__C=10, classifier__max_iter=1000, classifier__penalty=l1, classifier__solver=liblinear; total time=   2.9s\n",
      "[CV] END classifier__C=10, classifier__max_iter=1000, classifier__penalty=elasticnet, classifier__solver=liblinear; total time=   0.2s\n",
      "[CV] END classifier__C=10, classifier__max_iter=10000, classifier__penalty=l2, classifier__solver=lbfgs; total time=   1.0s\n",
      "[CV] END classifier__C=10, classifier__max_iter=10000, classifier__penalty=l2, classifier__solver=liblinear; total time=   0.9s\n",
      "[CV] END classifier__C=10, classifier__max_iter=10000, classifier__penalty=l2, classifier__solver=liblinear; total time=   0.6s\n",
      "[CV] END classifier__C=10, classifier__max_iter=10000, classifier__penalty=elasticnet, classifier__solver=lbfgs; total time=   0.2s\n",
      "[CV] END classifier__C=10, classifier__max_iter=10000, classifier__penalty=elasticnet, classifier__solver=lbfgs; total time=   0.2s\n",
      "[CV] END classifier__C=10, classifier__max_iter=10000, classifier__penalty=elasticnet, classifier__solver=lbfgs; total time=   0.2s\n",
      "[CV] END classifier__C=10, classifier__max_iter=10000, classifier__penalty=elasticnet, classifier__solver=lbfgs; total time=   0.2s\n",
      "[CV] END classifier__C=10, classifier__max_iter=10000, classifier__penalty=elasticnet, classifier__solver=liblinear; total time=   0.2s\n",
      "[CV] END classifier__C=10, classifier__max_iter=10000, classifier__penalty=elasticnet, classifier__solver=liblinear; total time=   0.2s\n",
      "[CV] END classifier__C=10, classifier__max_iter=10000, classifier__penalty=elasticnet, classifier__solver=liblinear; total time=   0.2s\n",
      "[CV] END classifier__C=10, classifier__max_iter=100, classifier__penalty=l2, classifier__solver=liblinear; total time= 1.1min\n",
      "[CV] END classifier__C=10, classifier__max_iter=100, classifier__penalty=l2, classifier__solver=liblinear; total time=  44.2s\n",
      "[CV] END classifier__C=10, classifier__max_iter=100, classifier__penalty=l2, classifier__solver=liblinear; total time=  44.1s\n",
      "[CV] END classifier__C=10, classifier__max_iter=100, classifier__penalty=l2, classifier__solver=liblinear; total time=  43.9s\n",
      "[CV] END classifier__C=10, classifier__max_iter=100, classifier__penalty=l2, classifier__solver=liblinear; total time=  44.5s\n",
      "[CV] END classifier__C=0.0001, classifier__max_iter=100, classifier__penalty=l2, classifier__solver=liblinear; total time=   0.3s\n",
      "[CV] END classifier__C=0.0001, classifier__max_iter=100, classifier__penalty=l1, classifier__solver=liblinear; total time=   0.2s\n",
      "[CV] END classifier__C=0.0001, classifier__max_iter=100, classifier__penalty=elasticnet, classifier__solver=lbfgs; total time=   0.2s\n",
      "[CV] END classifier__C=0.0001, classifier__max_iter=1000, classifier__penalty=l2, classifier__solver=lbfgs; total time=   0.3s\n",
      "[CV] END classifier__C=0.0001, classifier__max_iter=1000, classifier__penalty=l1, classifier__solver=lbfgs; total time=   0.2s\n",
      "[CV] END classifier__C=0.0001, classifier__max_iter=1000, classifier__penalty=elasticnet, classifier__solver=lbfgs; total time=   0.2s\n",
      "[CV] END classifier__C=0.0001, classifier__max_iter=1000, classifier__penalty=elasticnet, classifier__solver=liblinear; total time=   0.1s\n",
      "[CV] END classifier__C=0.0001, classifier__max_iter=10000, classifier__penalty=l2, classifier__solver=liblinear; total time=   0.3s\n",
      "[CV] END classifier__C=0.0001, classifier__max_iter=10000, classifier__penalty=l1, classifier__solver=lbfgs; total time=   0.2s\n",
      "[CV] END classifier__C=0.0001, classifier__max_iter=10000, classifier__penalty=elasticnet, classifier__solver=lbfgs; total time=   0.2s\n",
      "[CV] END classifier__C=0.0001, classifier__max_iter=10000, classifier__penalty=elasticnet, classifier__solver=liblinear; total time=   0.1s\n",
      "[CV] END classifier__C=0.001, classifier__max_iter=100, classifier__penalty=l2, classifier__solver=liblinear; total time=   0.3s\n",
      "[CV] END classifier__C=0.001, classifier__max_iter=100, classifier__penalty=l1, classifier__solver=liblinear; total time=   0.3s\n",
      "[CV] END classifier__C=0.001, classifier__max_iter=100, classifier__penalty=elasticnet, classifier__solver=lbfgs; total time=   0.2s\n",
      "[CV] END classifier__C=0.001, classifier__max_iter=1000, classifier__penalty=l2, classifier__solver=lbfgs; total time=   0.4s\n",
      "[CV] END classifier__C=0.001, classifier__max_iter=1000, classifier__penalty=l1, classifier__solver=lbfgs; total time=   0.2s\n",
      "[CV] END classifier__C=0.001, classifier__max_iter=1000, classifier__penalty=elasticnet, classifier__solver=lbfgs; total time=   0.2s\n",
      "[CV] END classifier__C=0.001, classifier__max_iter=1000, classifier__penalty=elasticnet, classifier__solver=liblinear; total time=   0.2s\n",
      "[CV] END classifier__C=0.001, classifier__max_iter=10000, classifier__penalty=l2, classifier__solver=liblinear; total time=   0.3s\n",
      "[CV] END classifier__C=0.001, classifier__max_iter=10000, classifier__penalty=l1, classifier__solver=liblinear; total time=   0.2s\n",
      "[CV] END classifier__C=0.001, classifier__max_iter=10000, classifier__penalty=elasticnet, classifier__solver=lbfgs; total time=   0.2s\n",
      "[CV] END classifier__C=0.001, classifier__max_iter=10000, classifier__penalty=elasticnet, classifier__solver=liblinear; total time=   0.2s\n",
      "[CV] END classifier__C=0.1, classifier__max_iter=100, classifier__penalty=l2, classifier__solver=liblinear; total time=   0.6s\n",
      "[CV] END classifier__C=0.1, classifier__max_iter=100, classifier__penalty=l1, classifier__solver=liblinear; total time=   0.7s\n",
      "[CV] END classifier__C=0.1, classifier__max_iter=100, classifier__penalty=elasticnet, classifier__solver=liblinear; total time=   0.1s\n",
      "[CV] END classifier__C=0.1, classifier__max_iter=1000, classifier__penalty=l2, classifier__solver=lbfgs; total time=   0.8s\n",
      "[CV] END classifier__C=0.1, classifier__max_iter=1000, classifier__penalty=l1, classifier__solver=lbfgs; total time=   0.2s\n",
      "[CV] END classifier__C=0.1, classifier__max_iter=1000, classifier__penalty=l1, classifier__solver=liblinear; total time=   0.8s\n",
      "[CV] END classifier__C=0.1, classifier__max_iter=10000, classifier__penalty=l2, classifier__solver=lbfgs; total time=   0.8s\n",
      "[CV] END classifier__C=0.1, classifier__max_iter=10000, classifier__penalty=l1, classifier__solver=liblinear; total time=   0.6s\n",
      "[CV] END classifier__C=0.1, classifier__max_iter=10000, classifier__penalty=elasticnet, classifier__solver=liblinear; total time=   0.1s\n",
      "[CV] END classifier__C=1, classifier__max_iter=100, classifier__penalty=l2, classifier__solver=liblinear; total time=   0.8s\n",
      "[CV] END classifier__C=1, classifier__max_iter=100, classifier__penalty=l1, classifier__solver=liblinear; total time=   2.5s\n",
      "[CV] END classifier__C=1, classifier__max_iter=1000, classifier__penalty=l2, classifier__solver=liblinear; total time=   0.7s\n",
      "[CV] END classifier__C=1, classifier__max_iter=1000, classifier__penalty=l1, classifier__solver=liblinear; total time=   3.4s\n",
      "[CV] END classifier__C=1, classifier__max_iter=10000, classifier__penalty=elasticnet, classifier__solver=lbfgs; total time=   0.2s\n",
      "[CV] END classifier__C=1, classifier__max_iter=10000, classifier__penalty=elasticnet, classifier__solver=lbfgs; total time=   0.2s\n",
      "[CV] END classifier__C=1, classifier__max_iter=10000, classifier__penalty=elasticnet, classifier__solver=liblinear; total time=   0.2s\n",
      "[CV] END classifier__C=1, classifier__max_iter=10000, classifier__penalty=elasticnet, classifier__solver=liblinear; total time=   0.2s\n",
      "[CV] END classifier__C=10, classifier__max_iter=100, classifier__penalty=l2, classifier__solver=lbfgs; total time=   0.5s\n",
      "[CV] END classifier__C=10, classifier__max_iter=100, classifier__penalty=l2, classifier__solver=liblinear; total time=   0.7s\n",
      "[CV] END classifier__C=10, classifier__max_iter=100, classifier__penalty=l2, classifier__solver=liblinear; total time=   0.7s\n",
      "[CV] END classifier__C=10, classifier__max_iter=100, classifier__penalty=l1, classifier__solver=lbfgs; total time=   0.1s\n",
      "[CV] END classifier__C=10, classifier__max_iter=100, classifier__penalty=l1, classifier__solver=liblinear; total time=   6.4s\n",
      "[CV] END classifier__C=10, classifier__max_iter=1000, classifier__penalty=elasticnet, classifier__solver=liblinear; total time=   0.2s\n",
      "[CV] END classifier__C=10, classifier__max_iter=1000, classifier__penalty=elasticnet, classifier__solver=liblinear; total time=   0.2s\n",
      "[CV] END classifier__C=10, classifier__max_iter=10000, classifier__penalty=l2, classifier__solver=lbfgs; total time=   1.0s\n",
      "[CV] END classifier__C=10, classifier__max_iter=10000, classifier__penalty=l2, classifier__solver=lbfgs; total time=   0.9s\n",
      "[CV] END classifier__C=10, classifier__max_iter=10000, classifier__penalty=l2, classifier__solver=liblinear; total time=   0.6s\n",
      "[CV] END classifier__C=10, classifier__max_iter=10000, classifier__penalty=l1, classifier__solver=liblinear; total time=   4.1s\n",
      "[CV] END classifier__C=10, classifier__max_iter=100, classifier__penalty=l2, classifier__solver=liblinear; total time=  44.2s\n",
      "[CV] END classifier__C=10, classifier__max_iter=100, classifier__penalty=l2, classifier__solver=liblinear; total time=  44.1s\n",
      "[CV] END classifier__C=10, classifier__max_iter=100, classifier__penalty=l2, classifier__solver=liblinear; total time=  43.8s\n",
      "[CV] END classifier__C=10, classifier__max_iter=100, classifier__penalty=l2, classifier__solver=liblinear; total time=  43.6s\n",
      "[CV] END classifier__C=10, classifier__max_iter=100, classifier__penalty=l2, classifier__solver=liblinear; total time=  44.6s\n",
      "[CV] END classifier__C=0.0001, classifier__max_iter=100, classifier__penalty=l2, classifier__solver=liblinear; total time=   0.3s\n",
      "[CV] END classifier__C=0.0001, classifier__max_iter=100, classifier__penalty=l1, classifier__solver=lbfgs; total time=   0.2s\n",
      "[CV] END classifier__C=0.0001, classifier__max_iter=100, classifier__penalty=l1, classifier__solver=liblinear; total time=   0.3s\n",
      "[CV] END classifier__C=0.0001, classifier__max_iter=100, classifier__penalty=elasticnet, classifier__solver=lbfgs; total time=   0.1s\n",
      "[CV] END classifier__C=0.0001, classifier__max_iter=1000, classifier__penalty=l2, classifier__solver=lbfgs; total time=   0.3s\n",
      "[CV] END classifier__C=0.0001, classifier__max_iter=1000, classifier__penalty=l2, classifier__solver=liblinear; total time=   0.3s\n",
      "[CV] END classifier__C=0.0001, classifier__max_iter=1000, classifier__penalty=l1, classifier__solver=liblinear; total time=   0.3s\n",
      "[CV] END classifier__C=0.0001, classifier__max_iter=1000, classifier__penalty=elasticnet, classifier__solver=liblinear; total time=   0.2s\n",
      "[CV] END classifier__C=0.0001, classifier__max_iter=10000, classifier__penalty=l2, classifier__solver=lbfgs; total time=   0.3s\n",
      "[CV] END classifier__C=0.0001, classifier__max_iter=10000, classifier__penalty=l1, classifier__solver=lbfgs; total time=   0.2s\n",
      "[CV] END classifier__C=0.0001, classifier__max_iter=10000, classifier__penalty=elasticnet, classifier__solver=lbfgs; total time=   0.2s\n",
      "[CV] END classifier__C=0.001, classifier__max_iter=100, classifier__penalty=l2, classifier__solver=lbfgs; total time=   0.2s\n",
      "[CV] END classifier__C=0.001, classifier__max_iter=100, classifier__penalty=l2, classifier__solver=liblinear; total time=   0.3s\n",
      "[CV] END classifier__C=0.001, classifier__max_iter=100, classifier__penalty=l1, classifier__solver=liblinear; total time=   0.3s\n",
      "[CV] END classifier__C=0.001, classifier__max_iter=100, classifier__penalty=elasticnet, classifier__solver=liblinear; total time=   0.1s\n",
      "[CV] END classifier__C=0.001, classifier__max_iter=1000, classifier__penalty=l2, classifier__solver=lbfgs; total time=   0.3s\n",
      "[CV] END classifier__C=0.001, classifier__max_iter=1000, classifier__penalty=l1, classifier__solver=lbfgs; total time=   0.2s\n",
      "[CV] END classifier__C=0.001, classifier__max_iter=1000, classifier__penalty=l1, classifier__solver=liblinear; total time=   0.2s\n",
      "[CV] END classifier__C=0.001, classifier__max_iter=1000, classifier__penalty=elasticnet, classifier__solver=lbfgs; total time=   0.1s\n",
      "[CV] END classifier__C=0.001, classifier__max_iter=10000, classifier__penalty=l2, classifier__solver=lbfgs; total time=   0.4s\n",
      "[CV] END classifier__C=0.001, classifier__max_iter=10000, classifier__penalty=l1, classifier__solver=lbfgs; total time=   0.2s\n",
      "[CV] END classifier__C=0.001, classifier__max_iter=10000, classifier__penalty=l1, classifier__solver=liblinear; total time=   0.3s\n",
      "[CV] END classifier__C=0.001, classifier__max_iter=10000, classifier__penalty=elasticnet, classifier__solver=liblinear; total time=   0.2s\n",
      "[CV] END classifier__C=0.1, classifier__max_iter=100, classifier__penalty=l2, classifier__solver=lbfgs; total time=   0.5s\n",
      "[CV] END classifier__C=0.1, classifier__max_iter=100, classifier__penalty=l1, classifier__solver=lbfgs; total time=   0.1s\n",
      "[CV] END classifier__C=0.1, classifier__max_iter=100, classifier__penalty=l1, classifier__solver=liblinear; total time=   0.8s\n",
      "[CV] END classifier__C=0.1, classifier__max_iter=1000, classifier__penalty=l2, classifier__solver=lbfgs; total time=   0.7s\n",
      "[CV] END classifier__C=0.1, classifier__max_iter=1000, classifier__penalty=l1, classifier__solver=lbfgs; total time=   0.2s\n",
      "[CV] END classifier__C=0.1, classifier__max_iter=1000, classifier__penalty=l1, classifier__solver=liblinear; total time=   0.8s\n",
      "[CV] END classifier__C=0.1, classifier__max_iter=10000, classifier__penalty=l2, classifier__solver=liblinear; total time=   0.7s\n",
      "[CV] END classifier__C=0.1, classifier__max_iter=10000, classifier__penalty=l1, classifier__solver=lbfgs; total time=   0.2s\n",
      "[CV] END classifier__C=0.1, classifier__max_iter=10000, classifier__penalty=elasticnet, classifier__solver=lbfgs; total time=   0.2s\n",
      "[CV] END classifier__C=0.1, classifier__max_iter=10000, classifier__penalty=elasticnet, classifier__solver=lbfgs; total time=   0.2s\n",
      "[CV] END classifier__C=0.1, classifier__max_iter=10000, classifier__penalty=elasticnet, classifier__solver=liblinear; total time=   0.2s\n",
      "[CV] END classifier__C=1, classifier__max_iter=100, classifier__penalty=l2, classifier__solver=lbfgs; total time=   0.5s\n",
      "[CV] END classifier__C=1, classifier__max_iter=100, classifier__penalty=l2, classifier__solver=liblinear; total time=   0.5s\n",
      "[CV] END classifier__C=1, classifier__max_iter=100, classifier__penalty=elasticnet, classifier__solver=lbfgs; total time=   0.2s\n",
      "[CV] END classifier__C=1, classifier__max_iter=100, classifier__penalty=elasticnet, classifier__solver=liblinear; total time=   0.2s\n",
      "[CV] END classifier__C=1, classifier__max_iter=100, classifier__penalty=elasticnet, classifier__solver=liblinear; total time=   0.2s\n",
      "[CV] END classifier__C=1, classifier__max_iter=1000, classifier__penalty=l2, classifier__solver=lbfgs; total time=   0.9s\n",
      "[CV] END classifier__C=1, classifier__max_iter=1000, classifier__penalty=l2, classifier__solver=lbfgs; total time=   1.1s\n",
      "[CV] END classifier__C=1, classifier__max_iter=1000, classifier__penalty=l1, classifier__solver=lbfgs; total time=   0.2s\n",
      "[CV] END classifier__C=1, classifier__max_iter=1000, classifier__penalty=l1, classifier__solver=liblinear; total time=   2.8s\n",
      "[CV] END classifier__C=1, classifier__max_iter=10000, classifier__penalty=l1, classifier__solver=lbfgs; total time=   0.2s\n",
      "[CV] END classifier__C=1, classifier__max_iter=10000, classifier__penalty=l1, classifier__solver=lbfgs; total time=   0.2s\n",
      "[CV] END classifier__C=1, classifier__max_iter=10000, classifier__penalty=l1, classifier__solver=liblinear; total time=   2.9s\n",
      "[CV] END classifier__C=10, classifier__max_iter=100, classifier__penalty=l1, classifier__solver=lbfgs; total time=   0.2s\n",
      "[CV] END classifier__C=10, classifier__max_iter=100, classifier__penalty=l1, classifier__solver=liblinear; total time=   2.9s\n",
      "[CV] END classifier__C=10, classifier__max_iter=1000, classifier__penalty=l2, classifier__solver=liblinear; total time=   0.8s\n",
      "[CV] END classifier__C=10, classifier__max_iter=1000, classifier__penalty=l1, classifier__solver=lbfgs; total time=   0.2s\n",
      "[CV] END classifier__C=10, classifier__max_iter=1000, classifier__penalty=l1, classifier__solver=liblinear; total time=   6.3s\n",
      "[CV] END classifier__C=10, classifier__max_iter=10000, classifier__penalty=elasticnet, classifier__solver=lbfgs; total time=   0.2s\n",
      "[CV] END classifier__C=10, classifier__max_iter=10000, classifier__penalty=elasticnet, classifier__solver=liblinear; total time=   0.2s\n",
      "[CV] END classifier__C=10, classifier__max_iter=10000, classifier__penalty=elasticnet, classifier__solver=liblinear; total time=   0.2s\n",
      "[CV] END classifier__C=10, classifier__max_iter=100, classifier__penalty=l2, classifier__solver=liblinear; total time= 1.1min\n",
      "[CV] END classifier__C=10, classifier__max_iter=100, classifier__penalty=l2, classifier__solver=liblinear; total time=  44.3s\n",
      "[CV] END classifier__C=10, classifier__max_iter=100, classifier__penalty=l2, classifier__solver=liblinear; total time=  44.7s\n",
      "[CV] END classifier__C=0.0001, classifier__max_iter=100, classifier__penalty=l2, classifier__solver=lbfgs; total time=   0.3s\n",
      "[CV] END classifier__C=0.0001, classifier__max_iter=100, classifier__penalty=l1, classifier__solver=lbfgs; total time=   0.2s\n",
      "[CV] END classifier__C=0.0001, classifier__max_iter=100, classifier__penalty=l1, classifier__solver=liblinear; total time=   0.2s\n",
      "[CV] END classifier__C=0.0001, classifier__max_iter=100, classifier__penalty=elasticnet, classifier__solver=liblinear; total time=   0.2s\n",
      "[CV] END classifier__C=0.0001, classifier__max_iter=1000, classifier__penalty=l2, classifier__solver=lbfgs; total time=   0.2s\n",
      "[CV] END classifier__C=0.0001, classifier__max_iter=1000, classifier__penalty=l1, classifier__solver=lbfgs; total time=   0.2s\n",
      "[CV] END classifier__C=0.0001, classifier__max_iter=1000, classifier__penalty=l1, classifier__solver=liblinear; total time=   0.2s\n",
      "[CV] END classifier__C=0.0001, classifier__max_iter=1000, classifier__penalty=elasticnet, classifier__solver=lbfgs; total time=   0.2s\n",
      "[CV] END classifier__C=0.0001, classifier__max_iter=10000, classifier__penalty=l2, classifier__solver=lbfgs; total time=   0.2s\n",
      "[CV] END classifier__C=0.0001, classifier__max_iter=10000, classifier__penalty=l1, classifier__solver=lbfgs; total time=   0.2s\n",
      "[CV] END classifier__C=0.0001, classifier__max_iter=10000, classifier__penalty=l1, classifier__solver=liblinear; total time=   0.2s\n",
      "[CV] END classifier__C=0.0001, classifier__max_iter=10000, classifier__penalty=elasticnet, classifier__solver=liblinear; total time=   0.1s\n",
      "[CV] END classifier__C=0.001, classifier__max_iter=100, classifier__penalty=l2, classifier__solver=lbfgs; total time=   0.3s\n",
      "[CV] END classifier__C=0.001, classifier__max_iter=100, classifier__penalty=l1, classifier__solver=lbfgs; total time=   0.1s\n",
      "[CV] END classifier__C=0.001, classifier__max_iter=100, classifier__penalty=l1, classifier__solver=liblinear; total time=   0.3s\n",
      "[CV] END classifier__C=0.001, classifier__max_iter=100, classifier__penalty=elasticnet, classifier__solver=lbfgs; total time=   0.2s\n",
      "[CV] END classifier__C=0.001, classifier__max_iter=1000, classifier__penalty=l2, classifier__solver=lbfgs; total time=   0.3s\n",
      "[CV] END classifier__C=0.001, classifier__max_iter=1000, classifier__penalty=l1, classifier__solver=lbfgs; total time=   0.2s\n",
      "[CV] END classifier__C=0.001, classifier__max_iter=1000, classifier__penalty=l1, classifier__solver=liblinear; total time=   0.2s\n",
      "[CV] END classifier__C=0.001, classifier__max_iter=1000, classifier__penalty=elasticnet, classifier__solver=lbfgs; total time=   0.2s\n",
      "[CV] END classifier__C=0.001, classifier__max_iter=10000, classifier__penalty=l2, classifier__solver=lbfgs; total time=   0.4s\n",
      "[CV] END classifier__C=0.001, classifier__max_iter=10000, classifier__penalty=l2, classifier__solver=liblinear; total time=   0.3s\n",
      "[CV] END classifier__C=0.001, classifier__max_iter=10000, classifier__penalty=elasticnet, classifier__solver=lbfgs; total time=   0.2s\n",
      "[CV] END classifier__C=0.1, classifier__max_iter=100, classifier__penalty=l2, classifier__solver=lbfgs; total time=   0.6s\n",
      "[CV] END classifier__C=0.1, classifier__max_iter=100, classifier__penalty=l2, classifier__solver=liblinear; total time=   0.5s\n",
      "[CV] END classifier__C=0.1, classifier__max_iter=100, classifier__penalty=elasticnet, classifier__solver=lbfgs; total time=   0.2s\n",
      "[CV] END classifier__C=0.1, classifier__max_iter=100, classifier__penalty=elasticnet, classifier__solver=lbfgs; total time=   0.2s\n",
      "[CV] END classifier__C=0.1, classifier__max_iter=100, classifier__penalty=elasticnet, classifier__solver=liblinear; total time=   0.2s\n",
      "[CV] END classifier__C=0.1, classifier__max_iter=1000, classifier__penalty=l2, classifier__solver=lbfgs; total time=   0.9s\n",
      "[CV] END classifier__C=0.1, classifier__max_iter=1000, classifier__penalty=l1, classifier__solver=liblinear; total time=   0.6s\n",
      "[CV] END classifier__C=0.1, classifier__max_iter=1000, classifier__penalty=elasticnet, classifier__solver=liblinear; total time=   0.1s\n",
      "[CV] END classifier__C=0.1, classifier__max_iter=10000, classifier__penalty=l2, classifier__solver=lbfgs; total time=   0.7s\n",
      "[CV] END classifier__C=0.1, classifier__max_iter=10000, classifier__penalty=l1, classifier__solver=lbfgs; total time=   0.2s\n",
      "[CV] END classifier__C=0.1, classifier__max_iter=10000, classifier__penalty=l1, classifier__solver=liblinear; total time=   0.7s\n",
      "[CV] END classifier__C=1, classifier__max_iter=100, classifier__penalty=l2, classifier__solver=liblinear; total time=   0.7s\n",
      "[CV] END classifier__C=1, classifier__max_iter=100, classifier__penalty=l1, classifier__solver=lbfgs; total time=   0.1s\n",
      "[CV] END classifier__C=1, classifier__max_iter=100, classifier__penalty=elasticnet, classifier__solver=lbfgs; total time=   0.2s\n",
      "[CV] END classifier__C=1, classifier__max_iter=100, classifier__penalty=elasticnet, classifier__solver=lbfgs; total time=   0.2s\n",
      "[CV] END classifier__C=1, classifier__max_iter=100, classifier__penalty=elasticnet, classifier__solver=liblinear; total time=   0.2s\n",
      "[CV] END classifier__C=1, classifier__max_iter=100, classifier__penalty=elasticnet, classifier__solver=liblinear; total time=   0.2s\n",
      "[CV] END classifier__C=1, classifier__max_iter=1000, classifier__penalty=l2, classifier__solver=lbfgs; total time=   1.1s\n",
      "[CV] END classifier__C=1, classifier__max_iter=1000, classifier__penalty=l2, classifier__solver=liblinear; total time=   0.8s\n",
      "[CV] END classifier__C=1, classifier__max_iter=1000, classifier__penalty=l1, classifier__solver=lbfgs; total time=   0.2s\n",
      "[CV] END classifier__C=1, classifier__max_iter=1000, classifier__penalty=l1, classifier__solver=lbfgs; total time=   0.2s\n",
      "[CV] END classifier__C=1, classifier__max_iter=1000, classifier__penalty=l1, classifier__solver=liblinear; total time=   2.6s\n",
      "[CV] END classifier__C=1, classifier__max_iter=10000, classifier__penalty=l2, classifier__solver=liblinear; total time=   0.7s\n",
      "[CV] END classifier__C=1, classifier__max_iter=10000, classifier__penalty=l1, classifier__solver=liblinear; total time=   3.4s\n",
      "[CV] END classifier__C=10, classifier__max_iter=100, classifier__penalty=elasticnet, classifier__solver=lbfgs; total time=   0.2s\n",
      "[CV] END classifier__C=10, classifier__max_iter=100, classifier__penalty=elasticnet, classifier__solver=liblinear; total time=   0.2s\n",
      "[CV] END classifier__C=10, classifier__max_iter=100, classifier__penalty=elasticnet, classifier__solver=liblinear; total time=   0.2s\n",
      "[CV] END classifier__C=10, classifier__max_iter=1000, classifier__penalty=l2, classifier__solver=lbfgs; total time=   1.1s\n",
      "[CV] END classifier__C=10, classifier__max_iter=1000, classifier__penalty=l2, classifier__solver=lbfgs; total time=   0.7s\n",
      "[CV] END classifier__C=10, classifier__max_iter=1000, classifier__penalty=l2, classifier__solver=liblinear; total time=   0.9s\n",
      "[CV] END classifier__C=10, classifier__max_iter=1000, classifier__penalty=l1, classifier__solver=lbfgs; total time=   0.2s\n",
      "[CV] END classifier__C=10, classifier__max_iter=1000, classifier__penalty=l1, classifier__solver=liblinear; total time=   5.6s\n",
      "[CV] END classifier__C=10, classifier__max_iter=10000, classifier__penalty=l1, classifier__solver=liblinear; total time=   5.9s\n",
      "[CV] END classifier__C=10, classifier__max_iter=100, classifier__penalty=l2, classifier__solver=liblinear; total time=  44.4s\n",
      "[CV] END classifier__C=10, classifier__max_iter=100, classifier__penalty=l2, classifier__solver=liblinear; total time=  44.3s\n",
      "[CV] END classifier__C=10, classifier__max_iter=100, classifier__penalty=l2, classifier__solver=liblinear; total time=  43.7s\n",
      "[CV] END classifier__C=10, classifier__max_iter=100, classifier__penalty=l2, classifier__solver=liblinear; total time=  44.7s\n"
     ]
    }
   ],
   "source": [
    "data_results"
   ]
  },
  {
   "cell_type": "code",
   "execution_count": null,
   "id": "48fbc984-d3a8-4686-b6bb-a67d011036c9",
   "metadata": {},
   "outputs": [],
   "source": []
  }
 ],
 "metadata": {
  "kernelspec": {
   "display_name": "Python 3 (ipykernel)",
   "language": "python",
   "name": "python3"
  },
  "language_info": {
   "codemirror_mode": {
    "name": "ipython",
    "version": 3
   },
   "file_extension": ".py",
   "mimetype": "text/x-python",
   "name": "python",
   "nbconvert_exporter": "python",
   "pygments_lexer": "ipython3",
   "version": "3.9.16"
  }
 },
 "nbformat": 4,
 "nbformat_minor": 5
}
