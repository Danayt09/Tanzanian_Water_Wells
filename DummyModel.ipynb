{
 "cells": [
  {
   "cell_type": "markdown",
   "id": "4438898e-e750-47f3-9510-e7871d49bec8",
   "metadata": {},
   "source": [
    "# Baseline Binary Logistic regression Model\n"
   ]
  },
  {
   "cell_type": "code",
   "execution_count": 2,
   "id": "3066d05a-03bd-4a10-88f1-9e15cf290966",
   "metadata": {},
   "outputs": [],
   "source": [
    "import pandas as pd   \n",
    "import numpy as np \n",
    "import matplotlib.pyplot as plt\n",
    "from sklearn.model_selection import train_test_split, cross_val_score\n",
    "from sklearn.preprocessing import OneHotEncoder, StandardScaler, RobustScaler\n",
    "from sklearn.dummy import DummyClassifier\n",
    "from sklearn.linear_model import LogisticRegression\n",
    "from sklearn.metrics import accuracy_score, recall_score, f1_score, precision_score, balanced_accuracy_score\n",
    "from sklearn.metrics import log_loss, ConfusionMatrixDisplay, classification_report, roc_curve\n",
    "from sklearn.base import BaseEstimator, TransformerMixin\n",
    "from imblearn.over_sampling import SMOTE\n",
    "from sklearn.pipeline import Pipeline"
   ]
  },
  {
   "cell_type": "code",
   "execution_count": 4,
   "id": "70240fe5-aeb7-4db8-97f1-7d620555795c",
   "metadata": {},
   "outputs": [],
   "source": [
    "tz_data = pd.read_csv('final_data/tz_data.csv')"
   ]
  },
  {
   "cell_type": "code",
   "execution_count": 51,
   "id": "0116b146-155d-4c9f-a672-7a21b30384fc",
   "metadata": {
    "scrolled": true
   },
   "outputs": [
    {
     "name": "stdout",
     "output_type": "stream",
     "text": [
      "<class 'pandas.core.frame.DataFrame'>\n",
      "RangeIndex: 59400 entries, 0 to 59399\n",
      "Data columns (total 20 columns):\n",
      " #   Column                 Non-Null Count  Dtype  \n",
      "---  ------                 --------------  -----  \n",
      " 0   id                     59400 non-null  int64  \n",
      " 1   amount_tsh             59400 non-null  float64\n",
      " 2   funder                 59400 non-null  object \n",
      " 3   gps_height             59400 non-null  int64  \n",
      " 4   installer              59400 non-null  object \n",
      " 5   longitude              59400 non-null  float64\n",
      " 6   latitude               59400 non-null  float64\n",
      " 7   basin                  59400 non-null  object \n",
      " 8   population             59400 non-null  int64  \n",
      " 9   public_meeting         59400 non-null  bool   \n",
      " 10  scheme_management      59400 non-null  object \n",
      " 11  permit                 59400 non-null  bool   \n",
      " 12  construction_year      59400 non-null  int64  \n",
      " 13  extraction_type_class  59400 non-null  object \n",
      " 14  payment_type           59400 non-null  object \n",
      " 15  quality_group          59400 non-null  object \n",
      " 16  quantity_group         59400 non-null  object \n",
      " 17  source                 59400 non-null  object \n",
      " 18  waterpoint_type_group  59400 non-null  object \n",
      " 19  status_group           59400 non-null  int64  \n",
      "dtypes: bool(2), float64(3), int64(5), object(10)\n",
      "memory usage: 8.3+ MB\n"
     ]
    }
   ],
   "source": [
    "tz_data.info()"
   ]
  },
  {
   "cell_type": "code",
   "execution_count": 52,
   "id": "3c6b5eb9-f21d-468b-b0e0-bbd0055ff347",
   "metadata": {},
   "outputs": [
    {
     "data": {
      "text/html": [
       "<div>\n",
       "<style scoped>\n",
       "    .dataframe tbody tr th:only-of-type {\n",
       "        vertical-align: middle;\n",
       "    }\n",
       "\n",
       "    .dataframe tbody tr th {\n",
       "        vertical-align: top;\n",
       "    }\n",
       "\n",
       "    .dataframe thead th {\n",
       "        text-align: right;\n",
       "    }\n",
       "</style>\n",
       "<table border=\"1\" class=\"dataframe\">\n",
       "  <thead>\n",
       "    <tr style=\"text-align: right;\">\n",
       "      <th></th>\n",
       "      <th>id</th>\n",
       "      <th>amount_tsh</th>\n",
       "      <th>funder</th>\n",
       "      <th>gps_height</th>\n",
       "      <th>installer</th>\n",
       "      <th>longitude</th>\n",
       "      <th>latitude</th>\n",
       "      <th>basin</th>\n",
       "      <th>population</th>\n",
       "      <th>public_meeting</th>\n",
       "      <th>scheme_management</th>\n",
       "      <th>permit</th>\n",
       "      <th>construction_year</th>\n",
       "      <th>extraction_type_class</th>\n",
       "      <th>payment_type</th>\n",
       "      <th>quality_group</th>\n",
       "      <th>quantity_group</th>\n",
       "      <th>source</th>\n",
       "      <th>waterpoint_type_group</th>\n",
       "      <th>status_group</th>\n",
       "    </tr>\n",
       "  </thead>\n",
       "  <tbody>\n",
       "    <tr>\n",
       "      <th>0</th>\n",
       "      <td>69572</td>\n",
       "      <td>6000.0</td>\n",
       "      <td>other</td>\n",
       "      <td>1390</td>\n",
       "      <td>other</td>\n",
       "      <td>34.938093</td>\n",
       "      <td>-9.856322</td>\n",
       "      <td>Lake Nyasa</td>\n",
       "      <td>109</td>\n",
       "      <td>True</td>\n",
       "      <td>VWC</td>\n",
       "      <td>False</td>\n",
       "      <td>1999</td>\n",
       "      <td>gravity</td>\n",
       "      <td>annually</td>\n",
       "      <td>good</td>\n",
       "      <td>enough</td>\n",
       "      <td>spring</td>\n",
       "      <td>communal standpipe</td>\n",
       "      <td>2</td>\n",
       "    </tr>\n",
       "    <tr>\n",
       "      <th>1</th>\n",
       "      <td>8776</td>\n",
       "      <td>0.0</td>\n",
       "      <td>other</td>\n",
       "      <td>1399</td>\n",
       "      <td>other</td>\n",
       "      <td>34.698766</td>\n",
       "      <td>-2.147466</td>\n",
       "      <td>Lake Victoria</td>\n",
       "      <td>280</td>\n",
       "      <td>True</td>\n",
       "      <td>Other</td>\n",
       "      <td>True</td>\n",
       "      <td>2010</td>\n",
       "      <td>gravity</td>\n",
       "      <td>never pay</td>\n",
       "      <td>good</td>\n",
       "      <td>insufficient</td>\n",
       "      <td>rainwater harvesting</td>\n",
       "      <td>communal standpipe</td>\n",
       "      <td>2</td>\n",
       "    </tr>\n",
       "    <tr>\n",
       "      <th>2</th>\n",
       "      <td>34310</td>\n",
       "      <td>25.0</td>\n",
       "      <td>other</td>\n",
       "      <td>686</td>\n",
       "      <td>other</td>\n",
       "      <td>37.460664</td>\n",
       "      <td>-3.821329</td>\n",
       "      <td>Pangani</td>\n",
       "      <td>250</td>\n",
       "      <td>True</td>\n",
       "      <td>VWC</td>\n",
       "      <td>True</td>\n",
       "      <td>2009</td>\n",
       "      <td>gravity</td>\n",
       "      <td>per bucket</td>\n",
       "      <td>good</td>\n",
       "      <td>enough</td>\n",
       "      <td>dam</td>\n",
       "      <td>communal standpipe</td>\n",
       "      <td>2</td>\n",
       "    </tr>\n",
       "    <tr>\n",
       "      <th>3</th>\n",
       "      <td>67743</td>\n",
       "      <td>0.0</td>\n",
       "      <td>other</td>\n",
       "      <td>263</td>\n",
       "      <td>other</td>\n",
       "      <td>38.486161</td>\n",
       "      <td>-11.155298</td>\n",
       "      <td>Ruvuma / Southern Coast</td>\n",
       "      <td>58</td>\n",
       "      <td>True</td>\n",
       "      <td>VWC</td>\n",
       "      <td>True</td>\n",
       "      <td>1986</td>\n",
       "      <td>submersible</td>\n",
       "      <td>never pay</td>\n",
       "      <td>good</td>\n",
       "      <td>dry</td>\n",
       "      <td>machine dbh</td>\n",
       "      <td>communal standpipe</td>\n",
       "      <td>0</td>\n",
       "    </tr>\n",
       "    <tr>\n",
       "      <th>4</th>\n",
       "      <td>19728</td>\n",
       "      <td>0.0</td>\n",
       "      <td>other</td>\n",
       "      <td>0</td>\n",
       "      <td>other</td>\n",
       "      <td>31.130847</td>\n",
       "      <td>-1.825359</td>\n",
       "      <td>Lake Victoria</td>\n",
       "      <td>0</td>\n",
       "      <td>True</td>\n",
       "      <td>VWC</td>\n",
       "      <td>True</td>\n",
       "      <td>2000</td>\n",
       "      <td>gravity</td>\n",
       "      <td>never pay</td>\n",
       "      <td>good</td>\n",
       "      <td>seasonal</td>\n",
       "      <td>rainwater harvesting</td>\n",
       "      <td>communal standpipe</td>\n",
       "      <td>2</td>\n",
       "    </tr>\n",
       "    <tr>\n",
       "      <th>...</th>\n",
       "      <td>...</td>\n",
       "      <td>...</td>\n",
       "      <td>...</td>\n",
       "      <td>...</td>\n",
       "      <td>...</td>\n",
       "      <td>...</td>\n",
       "      <td>...</td>\n",
       "      <td>...</td>\n",
       "      <td>...</td>\n",
       "      <td>...</td>\n",
       "      <td>...</td>\n",
       "      <td>...</td>\n",
       "      <td>...</td>\n",
       "      <td>...</td>\n",
       "      <td>...</td>\n",
       "      <td>...</td>\n",
       "      <td>...</td>\n",
       "      <td>...</td>\n",
       "      <td>...</td>\n",
       "      <td>...</td>\n",
       "    </tr>\n",
       "    <tr>\n",
       "      <th>59395</th>\n",
       "      <td>60739</td>\n",
       "      <td>10.0</td>\n",
       "      <td>other</td>\n",
       "      <td>1210</td>\n",
       "      <td>other</td>\n",
       "      <td>37.169807</td>\n",
       "      <td>-3.253847</td>\n",
       "      <td>Pangani</td>\n",
       "      <td>125</td>\n",
       "      <td>True</td>\n",
       "      <td>Water Board</td>\n",
       "      <td>True</td>\n",
       "      <td>1999</td>\n",
       "      <td>gravity</td>\n",
       "      <td>per bucket</td>\n",
       "      <td>good</td>\n",
       "      <td>enough</td>\n",
       "      <td>spring</td>\n",
       "      <td>communal standpipe</td>\n",
       "      <td>2</td>\n",
       "    </tr>\n",
       "    <tr>\n",
       "      <th>59396</th>\n",
       "      <td>27263</td>\n",
       "      <td>4700.0</td>\n",
       "      <td>other</td>\n",
       "      <td>1212</td>\n",
       "      <td>other</td>\n",
       "      <td>35.249991</td>\n",
       "      <td>-9.070629</td>\n",
       "      <td>Rufiji</td>\n",
       "      <td>56</td>\n",
       "      <td>True</td>\n",
       "      <td>VWC</td>\n",
       "      <td>True</td>\n",
       "      <td>1996</td>\n",
       "      <td>gravity</td>\n",
       "      <td>annually</td>\n",
       "      <td>good</td>\n",
       "      <td>enough</td>\n",
       "      <td>river</td>\n",
       "      <td>communal standpipe</td>\n",
       "      <td>2</td>\n",
       "    </tr>\n",
       "    <tr>\n",
       "      <th>59397</th>\n",
       "      <td>37057</td>\n",
       "      <td>0.0</td>\n",
       "      <td>Government Of Tanzania</td>\n",
       "      <td>0</td>\n",
       "      <td>DWE</td>\n",
       "      <td>34.017087</td>\n",
       "      <td>-8.750434</td>\n",
       "      <td>Rufiji</td>\n",
       "      <td>0</td>\n",
       "      <td>True</td>\n",
       "      <td>VWC</td>\n",
       "      <td>False</td>\n",
       "      <td>2000</td>\n",
       "      <td>handpump</td>\n",
       "      <td>monthly</td>\n",
       "      <td>fluoride</td>\n",
       "      <td>enough</td>\n",
       "      <td>machine dbh</td>\n",
       "      <td>hand pump</td>\n",
       "      <td>2</td>\n",
       "    </tr>\n",
       "    <tr>\n",
       "      <th>59398</th>\n",
       "      <td>31282</td>\n",
       "      <td>0.0</td>\n",
       "      <td>other</td>\n",
       "      <td>0</td>\n",
       "      <td>other</td>\n",
       "      <td>35.861315</td>\n",
       "      <td>-6.378573</td>\n",
       "      <td>Rufiji</td>\n",
       "      <td>0</td>\n",
       "      <td>True</td>\n",
       "      <td>VWC</td>\n",
       "      <td>True</td>\n",
       "      <td>2000</td>\n",
       "      <td>handpump</td>\n",
       "      <td>never pay</td>\n",
       "      <td>good</td>\n",
       "      <td>insufficient</td>\n",
       "      <td>shallow well</td>\n",
       "      <td>hand pump</td>\n",
       "      <td>2</td>\n",
       "    </tr>\n",
       "    <tr>\n",
       "      <th>59399</th>\n",
       "      <td>26348</td>\n",
       "      <td>0.0</td>\n",
       "      <td>World Bank</td>\n",
       "      <td>191</td>\n",
       "      <td>other</td>\n",
       "      <td>38.104048</td>\n",
       "      <td>-6.747464</td>\n",
       "      <td>Wami / Ruvu</td>\n",
       "      <td>150</td>\n",
       "      <td>True</td>\n",
       "      <td>VWC</td>\n",
       "      <td>True</td>\n",
       "      <td>2002</td>\n",
       "      <td>handpump</td>\n",
       "      <td>on failure</td>\n",
       "      <td>salty</td>\n",
       "      <td>enough</td>\n",
       "      <td>shallow well</td>\n",
       "      <td>hand pump</td>\n",
       "      <td>2</td>\n",
       "    </tr>\n",
       "  </tbody>\n",
       "</table>\n",
       "<p>59400 rows × 20 columns</p>\n",
       "</div>"
      ],
      "text/plain": [
       "          id  amount_tsh                  funder  gps_height installer  \\\n",
       "0      69572      6000.0                   other        1390     other   \n",
       "1       8776         0.0                   other        1399     other   \n",
       "2      34310        25.0                   other         686     other   \n",
       "3      67743         0.0                   other         263     other   \n",
       "4      19728         0.0                   other           0     other   \n",
       "...      ...         ...                     ...         ...       ...   \n",
       "59395  60739        10.0                   other        1210     other   \n",
       "59396  27263      4700.0                   other        1212     other   \n",
       "59397  37057         0.0  Government Of Tanzania           0       DWE   \n",
       "59398  31282         0.0                   other           0     other   \n",
       "59399  26348         0.0              World Bank         191     other   \n",
       "\n",
       "       longitude   latitude                    basin  population  \\\n",
       "0      34.938093  -9.856322               Lake Nyasa         109   \n",
       "1      34.698766  -2.147466            Lake Victoria         280   \n",
       "2      37.460664  -3.821329                  Pangani         250   \n",
       "3      38.486161 -11.155298  Ruvuma / Southern Coast          58   \n",
       "4      31.130847  -1.825359            Lake Victoria           0   \n",
       "...          ...        ...                      ...         ...   \n",
       "59395  37.169807  -3.253847                  Pangani         125   \n",
       "59396  35.249991  -9.070629                   Rufiji          56   \n",
       "59397  34.017087  -8.750434                   Rufiji           0   \n",
       "59398  35.861315  -6.378573                   Rufiji           0   \n",
       "59399  38.104048  -6.747464              Wami / Ruvu         150   \n",
       "\n",
       "       public_meeting scheme_management  permit  construction_year  \\\n",
       "0                True               VWC   False               1999   \n",
       "1                True             Other    True               2010   \n",
       "2                True               VWC    True               2009   \n",
       "3                True               VWC    True               1986   \n",
       "4                True               VWC    True               2000   \n",
       "...               ...               ...     ...                ...   \n",
       "59395            True       Water Board    True               1999   \n",
       "59396            True               VWC    True               1996   \n",
       "59397            True               VWC   False               2000   \n",
       "59398            True               VWC    True               2000   \n",
       "59399            True               VWC    True               2002   \n",
       "\n",
       "      extraction_type_class payment_type quality_group quantity_group  \\\n",
       "0                   gravity     annually          good         enough   \n",
       "1                   gravity    never pay          good   insufficient   \n",
       "2                   gravity   per bucket          good         enough   \n",
       "3               submersible    never pay          good            dry   \n",
       "4                   gravity    never pay          good       seasonal   \n",
       "...                     ...          ...           ...            ...   \n",
       "59395               gravity   per bucket          good         enough   \n",
       "59396               gravity     annually          good         enough   \n",
       "59397              handpump      monthly      fluoride         enough   \n",
       "59398              handpump    never pay          good   insufficient   \n",
       "59399              handpump   on failure         salty         enough   \n",
       "\n",
       "                     source waterpoint_type_group  status_group  \n",
       "0                    spring    communal standpipe             2  \n",
       "1      rainwater harvesting    communal standpipe             2  \n",
       "2                       dam    communal standpipe             2  \n",
       "3               machine dbh    communal standpipe             0  \n",
       "4      rainwater harvesting    communal standpipe             2  \n",
       "...                     ...                   ...           ...  \n",
       "59395                spring    communal standpipe             2  \n",
       "59396                 river    communal standpipe             2  \n",
       "59397           machine dbh             hand pump             2  \n",
       "59398          shallow well             hand pump             2  \n",
       "59399          shallow well             hand pump             2  \n",
       "\n",
       "[59400 rows x 20 columns]"
      ]
     },
     "execution_count": 52,
     "metadata": {},
     "output_type": "execute_result"
    }
   ],
   "source": [
    "data = tz_data.copy()\n",
    "data"
   ]
  },
  {
   "cell_type": "code",
   "execution_count": 53,
   "id": "5a3d51f7-5a03-429c-a212-267931a8f44a",
   "metadata": {},
   "outputs": [],
   "source": [
    "data['permit'] = data['permit'].astype(int)"
   ]
  },
  {
   "cell_type": "code",
   "execution_count": 54,
   "id": "4bc9c8dc-a23b-43e6-ae9d-813b6526a01a",
   "metadata": {},
   "outputs": [],
   "source": [
    "data['public_meeting'] = data['public_meeting'].astype(int)"
   ]
  },
  {
   "cell_type": "code",
   "execution_count": 55,
   "id": "c5d0c7aa-0d12-4fee-882e-d28e356ffef7",
   "metadata": {},
   "outputs": [],
   "source": [
    "data = data.drop('id', axis =1)"
   ]
  },
  {
   "cell_type": "code",
   "execution_count": 56,
   "id": "72af1501-3df9-4a0e-84e8-e6eb6e515fc4",
   "metadata": {},
   "outputs": [
    {
     "data": {
      "text/plain": [
       "status_group\n",
       "2    32259\n",
       "0    22824\n",
       "1     4317\n",
       "Name: count, dtype: int64"
      ]
     },
     "execution_count": 56,
     "metadata": {},
     "output_type": "execute_result"
    }
   ],
   "source": [
    "data.status_group.value_counts()"
   ]
  },
  {
   "cell_type": "code",
   "execution_count": 57,
   "id": "4f0e6d0a-6db3-4fd8-9a79-63df434b5d1a",
   "metadata": {},
   "outputs": [],
   "source": [
    "cat_cols = ['funder', 'installer', 'basin', 'scheme_management', 'extraction_type_class', 'payment_type', 'quality_group', \n",
    "              'quantity_group', 'source', 'waterpoint_type_group']\n",
    "\n",
    "num_cols = ['amount_tsh', 'gps_height', 'longitude', 'population', 'public_meeting']"
   ]
  },
  {
   "cell_type": "code",
   "execution_count": 58,
   "id": "b65a1688-4467-4806-ad55-a4ab5481aa46",
   "metadata": {},
   "outputs": [],
   "source": [
    "data = pd.get_dummies(data, columns = cat_cols)"
   ]
  },
  {
   "cell_type": "code",
   "execution_count": 59,
   "id": "9eaf6ab2-b621-426e-ab6c-1ebc5f839b7c",
   "metadata": {},
   "outputs": [],
   "source": [
    "bool_columns = data.select_dtypes(include=bool).columns\n",
    "data[bool_columns] = data[bool_columns].astype(int)"
   ]
  },
  {
   "cell_type": "markdown",
   "id": "cd6bcccc-91c0-4f58-a0c8-fb661a9d7fd2",
   "metadata": {},
   "source": [
    "# Target\n",
    ">- 0 = Non-functional\n",
    ">- 1 = Functional but needs repair\n",
    ">- 2 =  Functional\n",
    ">- Grouping Non-functional and functional that needs repair as 0 and Functional as 1"
   ]
  },
  {
   "cell_type": "code",
   "execution_count": 60,
   "id": "0e3fb829-3e82-4b2e-b33e-2c37a1e31336",
   "metadata": {},
   "outputs": [],
   "source": [
    "target_status = {0: 0, 1:1 , 2 : 1}\n",
    "data['status_group'] = data['status_group'].replace(target_status)"
   ]
  },
  {
   "cell_type": "code",
   "execution_count": 61,
   "id": "4c452b6c-5c4f-431a-b0df-f54065f94108",
   "metadata": {},
   "outputs": [
    {
     "data": {
      "text/plain": [
       "status_group\n",
       "1    36576\n",
       "0    22824\n",
       "Name: count, dtype: int64"
      ]
     },
     "execution_count": 61,
     "metadata": {},
     "output_type": "execute_result"
    }
   ],
   "source": [
    "data['status_group'].value_counts()"
   ]
  },
  {
   "cell_type": "code",
   "execution_count": 62,
   "id": "7ff4136e-a731-4687-85ea-e3e188cc3806",
   "metadata": {},
   "outputs": [],
   "source": [
    "X = data.drop('status_group', axis=1)  \n",
    "y = data['status_group'] "
   ]
  },
  {
   "cell_type": "code",
   "execution_count": 63,
   "id": "fd4a0b8c-5597-4ab1-b91f-398c99008740",
   "metadata": {},
   "outputs": [
    {
     "data": {
      "text/plain": [
       "status_group\n",
       "1    36576\n",
       "0    22824\n",
       "Name: count, dtype: int64"
      ]
     },
     "execution_count": 63,
     "metadata": {},
     "output_type": "execute_result"
    }
   ],
   "source": [
    "data['status_group'].value_counts()"
   ]
  },
  {
   "cell_type": "code",
   "execution_count": 64,
   "id": "0093e0a8-8e64-4fc0-9daf-b8d9912e6176",
   "metadata": {},
   "outputs": [
    {
     "name": "stdout",
     "output_type": "stream",
     "text": [
      "status_group\n",
      "1    0.615758\n",
      "0    0.384242\n",
      "Name: proportion, dtype: float64\n"
     ]
    }
   ],
   "source": [
    "print(data[\"status_group\"].value_counts(normalize=True))"
   ]
  },
  {
   "cell_type": "markdown",
   "id": "f5bde31e-64a0-41c6-923c-0f914a556da7",
   "metadata": {},
   "source": [
    "# Dummy"
   ]
  },
  {
   "cell_type": "code",
   "execution_count": 65,
   "id": "a43d387c-9e50-48f7-b083-60c67943ecae",
   "metadata": {},
   "outputs": [],
   "source": [
    "X_train, X_test, y_train, y_test = train_test_split(X, y, test_size=0.33, random_state=42)"
   ]
  },
  {
   "cell_type": "code",
   "execution_count": 66,
   "id": "74513b5a-23a3-4149-8ddd-bf34898e9bad",
   "metadata": {},
   "outputs": [],
   "source": [
    "scaler = StandardScaler()\n",
    "X_train_scaled = scaler.fit_transform(X_train)\n",
    "X_test_scaled = scaler.transform(X_test)"
   ]
  },
  {
   "cell_type": "code",
   "execution_count": 67,
   "id": "910bd213-1e54-423e-bf31-cedc65aca418",
   "metadata": {},
   "outputs": [
    {
     "name": "stdout",
     "output_type": "stream",
     "text": [
      "Confusion matrix, without normalization\n",
      "[[    0  7458]\n",
      " [    0 12144]]\n",
      "Normalized confusion matrix\n",
      "[[0. 1.]\n",
      " [0. 1.]]\n"
     ]
    },
    {
     "data": {
      "image/png": "[encoded data removed]",
      "text/plain": [
       "<Figure size 640x480 with 2 Axes>"
      ]
     },
     "metadata": {},
     "output_type": "display_data"
    },
    {
     "data": {
      "image/png": "[encoded data removed]",
      "text/plain": [
       "<Figure size 640x480 with 2 Axes>"
      ]
     },
     "metadata": {},
     "output_type": "display_data"
    }
   ],
   "source": [
    "confusion_matrix_options = [(\"Confusion matrix, without normalization\", None),\n",
    "                            (\"Normalized confusion matrix\", 'true')]\n",
    "\n",
    "# Iterate over the options and display the confusion matrix for each\n",
    "for title, normalize in confusion_matrix_options:\n",
    "    # Create a dummy classifier with a constant prediction of 1\n",
    "    dummy_clf = DummyClassifier(strategy='most_frequent').fit(X_train, y_train)\n",
    "    \n",
    "    # Generate the confusion matrix display using the dummy classifier\n",
    "    disp = ConfusionMatrixDisplay.from_estimator(dummy_clf, X_test, y_test, normalize=normalize)\n",
    "      \n",
    "    # Set the title of the confusion matrix display\n",
    "    disp.ax_.set_title(title)\n",
    "\n",
    "    # Print the title and the confusion matrix\n",
    "    print(title)\n",
    "    print(disp.confusion_matrix)\n",
    "\n",
    "# Show the plot with all the confusion matrices\n",
    "plt.show()"
   ]
  },
  {
   "cell_type": "code",
   "execution_count": 68,
   "id": "61e777bf-a4bd-4696-852d-18f85ada0f55",
   "metadata": {},
   "outputs": [],
   "source": [
    "dummy_model = DummyClassifier(strategy='most_frequent').fit(X_train, y_train)"
   ]
  },
  {
   "cell_type": "code",
   "execution_count": 69,
   "id": "40eccd5c-bde8-4fb4-ab2b-61e7c0e5cbfd",
   "metadata": {
    "scrolled": true
   },
   "outputs": [
    {
     "data": {
      "text/plain": [
       "0.6139001959897482"
      ]
     },
     "execution_count": 69,
     "metadata": {},
     "output_type": "execute_result"
    }
   ],
   "source": [
    "dummy_model.score(X_train, y_train)"
   ]
  },
  {
   "cell_type": "code",
   "execution_count": 70,
   "id": "75d076be-63cb-4041-bc6c-4bef7ed345c9",
   "metadata": {},
   "outputs": [
    {
     "data": {
      "text/plain": [
       "0.6195286195286195"
      ]
     },
     "execution_count": 70,
     "metadata": {},
     "output_type": "execute_result"
    }
   ],
   "source": [
    "dummy_model.score(X_test, y_test)"
   ]
  },
  {
   "cell_type": "code",
   "execution_count": 71,
   "id": "2c3c7c4a-31af-49d8-8a75-e61894547a67",
   "metadata": {},
   "outputs": [],
   "source": [
    "y_pred = dummy_model.predict(X_test)"
   ]
  },
  {
   "cell_type": "code",
   "execution_count": 72,
   "id": "ba78e8be-9b6e-4e8c-af19-726b6e4ee332",
   "metadata": {},
   "outputs": [
    {
     "data": {
      "text/plain": [
       "status_group\n",
       "1    0.6139\n",
       "0    0.3861\n",
       "Name: proportion, dtype: float64"
      ]
     },
     "execution_count": 72,
     "metadata": {},
     "output_type": "execute_result"
    }
   ],
   "source": [
    "y_train.value_counts(normalize=True)"
   ]
  },
  {
   "cell_type": "code",
   "execution_count": 73,
   "id": "c9da85e4-2d3e-473f-8785-482916049589",
   "metadata": {},
   "outputs": [
    {
     "data": {
      "text/plain": [
       "0.6195286195286195"
      ]
     },
     "execution_count": 73,
     "metadata": {},
     "output_type": "execute_result"
    }
   ],
   "source": [
    "dummy_accuracy = accuracy_score(y_test, y_pred)\n",
    "dummy_accuracy"
   ]
  },
  {
   "cell_type": "code",
   "execution_count": 74,
   "id": "28f192e4-0471-41fd-abcd-cb28b20f8e82",
   "metadata": {},
   "outputs": [
    {
     "data": {
      "text/plain": [
       "array([0., 1.])"
      ]
     },
     "execution_count": 74,
     "metadata": {},
     "output_type": "execute_result"
    }
   ],
   "source": [
    "dummy_recall = recall_score(y_test, y_pred, average=None)\n",
    "dummy_recall"
   ]
  },
  {
   "cell_type": "code",
   "execution_count": 75,
   "id": "5a4b83d0-6e5a-46fa-968d-84a77a67c937",
   "metadata": {},
   "outputs": [
    {
     "name": "stderr",
     "output_type": "stream",
     "text": [
      "/Users/danayt/anaconda3/envs/learn-env/lib/python3.9/site-packages/sklearn/metrics/_classification.py:1469: UndefinedMetricWarning: Precision is ill-defined and being set to 0.0 in labels with no predicted samples. Use `zero_division` parameter to control this behavior.\n",
      "  _warn_prf(average, modifier, msg_start, len(result))\n"
     ]
    },
    {
     "data": {
      "text/plain": [
       "array([0.        , 0.61952862])"
      ]
     },
     "execution_count": 75,
     "metadata": {},
     "output_type": "execute_result"
    }
   ],
   "source": [
    "dummy_precision = precision_score(y_test, y_pred, average=None)\n",
    "dummy_precision"
   ]
  },
  {
   "cell_type": "code",
   "execution_count": 76,
   "id": "5b567246-082a-4c96-9f57-04fc39dee07d",
   "metadata": {},
   "outputs": [
    {
     "data": {
      "text/plain": [
       "Text(0.5, 0, 'False Positive Rate')"
      ]
     },
     "execution_count": 76,
     "metadata": {},
     "output_type": "execute_result"
    },
    {
     "data": {
      "image/png": "[encoded data removed]",
      "text/plain": [
       "<Figure size 640x480 with 1 Axes>"
      ]
     },
     "metadata": {},
     "output_type": "display_data"
    }
   ],
   "source": [
    "probs = dummy_model.predict_proba(X_test)[:, 1]\n",
    "\n",
    "# Calculate the false positive rate and true positive rate\n",
    "fpr, tpr, thresholds = roc_curve(y_test, probs)\n",
    "\n",
    "plt.plot(fpr, tpr)\n",
    "plt.plot([0, 1], [0, 1], linestyle='--')  # Random guess line\n",
    "plt.xlabel('False Positive Rate')"
   ]
  },
  {
   "cell_type": "code",
   "execution_count": 77,
   "id": "b660840d-dbf1-45ea-8e4e-9d463acbc99f",
   "metadata": {},
   "outputs": [
    {
     "data": {
      "text/plain": [
       "array([0.        , 0.76507277])"
      ]
     },
     "execution_count": 77,
     "metadata": {},
     "output_type": "execute_result"
    }
   ],
   "source": [
    "dummy_f1 = f1_score(y_test, y_pred, average=None)\n",
    "dummy_f1"
   ]
  },
  {
   "cell_type": "code",
   "execution_count": 78,
   "id": "79dc17e3-907d-470a-a1a1-ef65ad9ab9c2",
   "metadata": {},
   "outputs": [
    {
     "name": "stdout",
     "output_type": "stream",
     "text": [
      "Accuracy:\n",
      "Train Accuracy: 0.6139001959897482\n",
      "Test Accuracy: 0.6195286195286195\n",
      "\n",
      "Balanced Accuracy:\n",
      "Train Accuracy: 0.5\n",
      "Test Accuracy: 0.5\n"
     ]
    }
   ],
   "source": [
    "y_train_pred = dummy_model.predict(X_train)\n",
    "y_test_pred = dummy_model.predict(X_test)\n",
    "\n",
    "print(\"Accuracy:\")\n",
    "train_accuracy = accuracy_score(y_train, y_train_pred)\n",
    "print(\"Train Accuracy:\", train_accuracy)\n",
    "\n",
    "test_accuracy = accuracy_score(y_test, y_test_pred)\n",
    "print(\"Test Accuracy:\", test_accuracy)\n",
    "\n",
    "print(\"\\nBalanced Accuracy:\")\n",
    "train_accuracy = balanced_accuracy_score(y_train, y_train_pred)\n",
    "print(\"Train Accuracy:\", train_accuracy)\n",
    "\n",
    "test_accuracy = balanced_accuracy_score(y_test, y_test_pred)\n",
    "print(\"Test Accuracy:\", test_accuracy)"
   ]
  },
  {
   "cell_type": "markdown",
   "id": "cda43793-27ad-42bd-a48b-179e7f9dfd50",
   "metadata": {},
   "source": [
    "# Model Evaluation"
   ]
  },
  {
   "cell_type": "markdown",
   "id": "da45c67f-62bd-445e-86ce-1c7bd7dff2b8",
   "metadata": {},
   "source": [
    "# LogisticRegression"
   ]
  },
  {
   "cell_type": "code",
   "execution_count": 79,
   "id": "c1f38f10-ddad-4121-97cc-2e92033e7f56",
   "metadata": {},
   "outputs": [],
   "source": [
    "scaler = StandardScaler()\n",
    "X_train_scaled = scaler.fit_transform(X_train)\n",
    "X_test_scaled = scaler.transform(X_test)"
   ]
  },
  {
   "cell_type": "code",
   "execution_count": 80,
   "id": "7f207a86-9139-48a1-b43a-8c4e22a26df3",
   "metadata": {},
   "outputs": [
    {
     "data": {
      "image/png": "[encoded data removed]",
      "text/plain": [
       "<Figure size 640x480 with 2 Axes>"
      ]
     },
     "metadata": {},
     "output_type": "display_data"
    }
   ],
   "source": [
    "from sklearn.linear_model import LogisticRegression\n",
    "\n",
    "# Instantiate the model\n",
    "baseline_model = LogisticRegression(random_state=42, max_iter=10000)\n",
    "\n",
    "# Fit the model on the scaled data\n",
    "baseline_model.fit(X_train_scaled, y_train)\n",
    "\n",
    "ConfusionMatrixDisplay.from_estimator(baseline_model, X_train_scaled, y_train);"
   ]
  },
  {
   "cell_type": "code",
   "execution_count": 81,
   "id": "9b7969e5-dc4b-4424-9131-4c2ad3d555d5",
   "metadata": {
    "scrolled": true
   },
   "outputs": [
    {
     "data": {
      "text/plain": [
       "0.4596086441756679"
      ]
     },
     "execution_count": 81,
     "metadata": {},
     "output_type": "execute_result"
    }
   ],
   "source": [
    "baseline_neg_log_loss_cv = cross_val_score(estimator=baseline_model, X=X_train_scaled, y=y_train, scoring=\"neg_log_loss\")\n",
    "\n",
    "baseline_log_loss = -(baseline_neg_log_loss_cv.mean())\n",
    "baseline_log_loss"
   ]
  },
  {
   "cell_type": "code",
   "execution_count": 82,
   "id": "789aee79-7bf8-4a75-8355-bb2631638269",
   "metadata": {},
   "outputs": [
    {
     "data": {
      "text/plain": [
       "22.12720587976557"
      ]
     },
     "execution_count": 82,
     "metadata": {},
     "output_type": "execute_result"
    }
   ],
   "source": [
    "log_loss(y_train, np.zeros(len(y_train)))"
   ]
  },
  {
   "cell_type": "code",
   "execution_count": null,
   "id": "80ed51a9-c09b-44fb-885f-6473ed2138b7",
   "metadata": {},
   "outputs": [],
   "source": []
  }
 ],
 "metadata": {
  "kernelspec": {
   "display_name": "Python 3 (ipykernel)",
   "language": "python",
   "name": "python3"
  },
  "language_info": {
   "codemirror_mode": {
    "name": "ipython",
    "version": 3
   },
   "file_extension": ".py",
   "mimetype": "text/x-python",
   "name": "python",
   "nbconvert_exporter": "python",
   "pygments_lexer": "ipython3",
   "version": "3.9.16"
  }
 },
 "nbformat": 4,
 "nbformat_minor": 5
}
