{
 "cells": [
  {
   "cell_type": "code",
   "execution_count": 156,
   "id": "503bd803-df7a-495a-aee8-8f78e92dec0d",
   "metadata": {},
   "outputs": [],
   "source": [
    "import pandas as pd \n",
    "import numpy as np \n",
    "from sklearn.model_selection import train_test_split, GridSearchCV, cross_validate, cross_val_score\n",
    "from sklearn.preprocessing import OneHotEncoder, StandardScaler, PolynomialFeatures\n",
    "from sklearn.impute import SimpleImputer\n",
    "from sklearn.compose import ColumnTransformer, make_column_selector as selector\n",
    "from sklearn.linear_model import LogisticRegression, Ridge\n",
    "from sklearn.pipeline import Pipeline\n",
    "from sklearn.metrics import log_loss, ConfusionMatrixDisplay, confusion_matrix\n",
    "from sklearn.metrics import accuracy_score, balanced_accuracy_score, classification_report, roc_curve\n",
    "import seaborn as sns\n",
    "from sklearn.dummy import DummyClassifier\n",
    "from sklearn.impute import SimpleImputer\n",
    "from imblearn.over_sampling import SMOTE\n",
    "import matplotlib.pyplot as plt\n",
    "from sklearn.base import BaseEstimator, TransformerMixin\n",
    "from imblearn.pipeline import Pipeline as ImPipeline"
   ]
  },
  {
   "cell_type": "code",
   "execution_count": 157,
   "id": "f832f805-39db-4b5d-96da-80ccff5cc36b",
   "metadata": {},
   "outputs": [],
   "source": [
    "data = pd.read_csv('clean_data.csv')"
   ]
  },
  {
   "cell_type": "markdown",
   "id": "c8b33927-edb3-437d-8729-4b94935d045b",
   "metadata": {},
   "source": [
    ">- Please refer to the [EDA](https://github.com/Danayt09/Tanzanian_Water_Wells/blob/main/EDA.ipynb) notebook for the cleaning process towards the final data.\n",
    ">- Data had repetative columns with similar information and duplicated were removed\n",
    ">- Missing values were imputed with either median or mean for numeric columns and with frequent value for categorical"
   ]
  },
  {
   "cell_type": "code",
   "execution_count": 158,
   "id": "2b1fa996-8e07-4b75-9953-36ed20282045",
   "metadata": {},
   "outputs": [],
   "source": [
    "# constraction year and age of well are correlated and convey the same information\n",
    "#id will also not help our model's prediction so will drop it for now\n",
    "data = data.drop(['construction_year', 'id'], axis=1)"
   ]
  },
  {
   "cell_type": "code",
   "execution_count": 159,
   "id": "2d84bf09-51dd-4313-a7e6-8057ea40b62a",
   "metadata": {},
   "outputs": [
    {
     "data": {
      "text/plain": [
       "funder\n",
       "Others                    0.659356\n",
       "Government Of Tanzania    0.153539\n",
       "unknown                   0.076440\n",
       "Danida                    0.054074\n",
       "Hesawa                    0.033236\n",
       "World Bank                0.023356\n",
       "Name: proportion, dtype: float64"
      ]
     },
     "execution_count": 159,
     "metadata": {},
     "output_type": "execute_result"
    }
   ],
   "source": [
    "data.funder.value_counts(normalize=True)"
   ]
  },
  {
   "cell_type": "code",
   "execution_count": 160,
   "id": "5cbb5a16-03c5-4c49-b466-5ad64be784c6",
   "metadata": {
    "scrolled": true
   },
   "outputs": [
    {
     "data": {
      "text/plain": [
       "installer\n",
       "Others        0.573158\n",
       "DWE           0.282264\n",
       "unknown       0.076665\n",
       "Government    0.028999\n",
       "RWE           0.020508\n",
       "Community     0.018407\n",
       "Name: proportion, dtype: float64"
      ]
     },
     "execution_count": 160,
     "metadata": {},
     "output_type": "execute_result"
    }
   ],
   "source": [
    "data.installer.value_counts(normalize=True)"
   ]
  },
  {
   "cell_type": "code",
   "execution_count": 161,
   "id": "70c857a0-2eb4-47a5-8e72-56b1491a852e",
   "metadata": {},
   "outputs": [],
   "source": [
    "# More than 50% of funder and installer are grouped as others and this isn't helpful information for our model\n",
    "# I'll try the model with both and try removing them to see performance increase"
   ]
  },
  {
   "cell_type": "code",
   "execution_count": 162,
   "id": "188b8b95-bff7-4cb4-9bf5-63c060fd6829",
   "metadata": {},
   "outputs": [],
   "source": [
    "# Changing all T/F columns \n",
    "bool_columns = data.select_dtypes(include=bool).columns\n",
    "data[bool_columns] = data[bool_columns].astype(int)"
   ]
  },
  {
   "cell_type": "code",
   "execution_count": 163,
   "id": "74a3f84f-7e65-4317-91c1-127cad2a664f",
   "metadata": {},
   "outputs": [
    {
     "name": "stdout",
     "output_type": "stream",
     "text": [
      "<class 'pandas.core.frame.DataFrame'>\n",
      "RangeIndex: 57588 entries, 0 to 57587\n",
      "Data columns (total 19 columns):\n",
      " #   Column                 Non-Null Count  Dtype  \n",
      "---  ------                 --------------  -----  \n",
      " 0   funder                 57588 non-null  object \n",
      " 1   gps_height             57588 non-null  float64\n",
      " 2   installer              57588 non-null  object \n",
      " 3   longitude              57588 non-null  float64\n",
      " 4   latitude               57588 non-null  float64\n",
      " 5   basin                  57588 non-null  object \n",
      " 6   population             57588 non-null  float64\n",
      " 7   public_meeting         57588 non-null  int64  \n",
      " 8   permit                 57588 non-null  int64  \n",
      " 9   extraction_type_class  57588 non-null  object \n",
      " 10  management_group       57588 non-null  object \n",
      " 11  payment                57588 non-null  object \n",
      " 12  water_quality          57588 non-null  object \n",
      " 13  quantity               57588 non-null  object \n",
      " 14  source                 57588 non-null  object \n",
      " 15  source_class           57588 non-null  object \n",
      " 16  waterpoint_type_group  57588 non-null  object \n",
      " 17  status_group           57588 non-null  int64  \n",
      " 18  age_of_well            57588 non-null  int64  \n",
      "dtypes: float64(4), int64(4), object(11)\n",
      "memory usage: 8.3+ MB\n"
     ]
    }
   ],
   "source": [
    "data.info()"
   ]
  },
  {
   "cell_type": "markdown",
   "id": "02ce8d0a-bcb4-4de5-9884-edb251d0d9fa",
   "metadata": {
    "jp-MarkdownHeadingCollapsed": true
   },
   "source": [
    "# Preprocessing\n",
    "### Target \n",
    ">- 0 = Non functional\n",
    ">- 1 = Functional but needs repair\n",
    ">- 2 = Functional"
   ]
  },
  {
   "cell_type": "code",
   "execution_count": 164,
   "id": "1f84a98c-4d15-4538-ac53-c903a0fe3408",
   "metadata": {},
   "outputs": [
    {
     "data": {
      "text/plain": [
       "status_group\n",
       "2    0.545061\n",
       "0    0.386678\n",
       "1    0.068261\n",
       "Name: proportion, dtype: float64"
      ]
     },
     "execution_count": 164,
     "metadata": {},
     "output_type": "execute_result"
    }
   ],
   "source": [
    "data.status_group.value_counts(normalize=True)"
   ]
  },
  {
   "cell_type": "code",
   "execution_count": 165,
   "id": "54e37b34-fa34-4651-a7a0-15c442ba2556",
   "metadata": {},
   "outputs": [],
   "source": [
    "X= data.drop('status_group', axis =1)\n",
    "y= data['status_group']"
   ]
  },
  {
   "cell_type": "code",
   "execution_count": 166,
   "id": "c30feee8-b836-4773-9f08-c4d16921d809",
   "metadata": {},
   "outputs": [],
   "source": [
    "X_train, X_test, y_train, y_test = train_test_split(X,y, test_size = 0.2, random_state=42)"
   ]
  },
  {
   "cell_type": "markdown",
   "id": "a7ffc31f-1315-4a63-8337-7ca91f6b67b1",
   "metadata": {},
   "source": [
    ">- Seperating categorical, numeric and binary columns\n",
    ">- Have our columns pass through a transformer\n",
    ">- Impute missing values and one hot encode"
   ]
  },
  {
   "cell_type": "code",
   "execution_count": 167,
   "id": "bec43e13-0702-4d8d-993e-3def096a4427",
   "metadata": {},
   "outputs": [],
   "source": [
    "cat_cols = ['installer', 'funder', 'basin', 'management_group', 'extraction_type_class', 'payment', 'water_quality', \n",
    "              'quantity', 'source', 'source_class', 'waterpoint_type_group']\n",
    "\n",
    "num_cols = ['gps_height', 'population', 'age_of_well', 'permit', 'public_meeting']"
   ]
  },
  {
   "cell_type": "code",
   "execution_count": 168,
   "id": "6d774c26-d820-4e1b-bb73-bf4569cabcb8",
   "metadata": {},
   "outputs": [],
   "source": [
    "# A data frame to save results in\n",
    "results = pd.DataFrame(columns=[\"Model\", 'val_score',\"test_balanced_acc\",\n",
    "                                   'train_balanced_acc', 'logloss','info','param'])"
   ]
  },
  {
   "cell_type": "code",
   "execution_count": 169,
   "id": "884ee7ae-e39e-4b31-b00c-0f8854fe261d",
   "metadata": {},
   "outputs": [],
   "source": [
    "categorical_transformer = Pipeline(steps=[\n",
    "    ('imputer', SimpleImputer(strategy='most_frequent',add_indicator=True)),\n",
    "    ('encoder', OneHotEncoder(sparse=False, handle_unknown='ignore'))\n",
    "    \n",
    "])\n",
    "\n",
    "numerical_transformer = Pipeline(steps=[\n",
    "    ('imputer', SimpleImputer(add_indicator=True, strategy='median')),\n",
    "    ('scaler', StandardScaler())\n",
    "])"
   ]
  },
  {
   "cell_type": "code",
   "execution_count": 170,
   "id": "5eeeaeb7-dde8-48e8-8242-bb61af0dbdb5",
   "metadata": {},
   "outputs": [
    {
     "data": {
      "text/plain": [
       "['funder',\n",
       " 'installer',\n",
       " 'basin',\n",
       " 'extraction_type_class',\n",
       " 'management_group',\n",
       " 'payment',\n",
       " 'water_quality',\n",
       " 'quantity',\n",
       " 'source',\n",
       " 'source_class',\n",
       " 'waterpoint_type_group']"
      ]
     },
     "execution_count": 170,
     "metadata": {},
     "output_type": "execute_result"
    }
   ],
   "source": [
    "test = selector(dtype_include=object)\n",
    "test(X)"
   ]
  },
  {
   "cell_type": "code",
   "execution_count": 171,
   "id": "dc4fe07d-efa0-4b3c-afff-a44a34d56953",
   "metadata": {},
   "outputs": [
    {
     "data": {
      "text/plain": [
       "['gps_height',\n",
       " 'longitude',\n",
       " 'latitude',\n",
       " 'population',\n",
       " 'public_meeting',\n",
       " 'permit',\n",
       " 'age_of_well']"
      ]
     },
     "execution_count": 171,
     "metadata": {},
     "output_type": "execute_result"
    }
   ],
   "source": [
    "numtest = selector(dtype_include=np.number)\n",
    "numtest(X)"
   ]
  },
  {
   "cell_type": "code",
   "execution_count": 172,
   "id": "8eff7f7c-19b1-4e8f-8c0e-bede83e6c2dc",
   "metadata": {},
   "outputs": [],
   "source": [
    "CT = ColumnTransformer(\n",
    "    transformers=[\n",
    "        ('cat', categorical_transformer, cat_cols),\n",
    "        ('num', numerical_transformer, num_cols)\n",
    "    ], remainder='passthrough')"
   ]
  },
  {
   "cell_type": "markdown",
   "id": "411c826f-0b1b-4e96-a4aa-5d07007a66a0",
   "metadata": {
    "jp-MarkdownHeadingCollapsed": true
   },
   "source": [
    "# Baseline model using a dummyregressor\n",
    ">- Our baseline performed at 54% accuracy and 33% balanced accuracy\n",
    ">- This makes sence as we've huge class imbalance and it's predicting true for all majority class #2\n",
    ">- Next model will be Logistic regression"
   ]
  },
  {
   "cell_type": "code",
   "execution_count": 173,
   "id": "ec4fdd44-aa91-4b79-bb6b-71be852a2435",
   "metadata": {},
   "outputs": [],
   "source": [
    "dummy_model = Pipeline(steps=[\n",
    "    ('ct',CT),\n",
    "    ('dummy',DummyClassifier(strategy='most_frequent', random_state=42))\n",
    "]CT"
   ]
  },
  {
   "cell_type": "code",
   "execution_count": 174,
   "id": "34b95b78-eb14-456a-b46b-7dffcac50eeb",
   "metadata": {},
   "outputs": [
    {
     "name": "stderr",
     "output_type": "stream",
     "text": [
      "/Users/danayt/anaconda3/envs/learn-env/lib/python3.9/site-packages/sklearn/preprocessing/_encoders.py:975: FutureWarning: `sparse` was renamed to `sparse_output` in version 1.2 and will be removed in 1.4. `sparse_output` is ignored unless you leave `sparse` to its default value.\n",
      "  warnings.warn(\n"
     ]
    },
    {
     "data": {
      "text/html": [
       "<style>#sk-container-id-3 {color: black;}#sk-container-id-3 pre{padding: 0;}#sk-container-id-3 div.sk-toggleable {background-color: white;}#sk-container-id-3 label.sk-toggleable__label {cursor: pointer;display: block;width: 100%;margin-bottom: 0;padding: 0.3em;box-sizing: border-box;text-align: center;}#sk-container-id-3 label.sk-toggleable__label-arrow:before {content: \"▸\";float: left;margin-right: 0.25em;color: #696969;}#sk-container-id-3 label.sk-toggleable__label-arrow:hover:before {color: black;}#sk-container-id-3 div.sk-estimator:hover label.sk-toggleable__label-arrow:before {color: black;}#sk-container-id-3 div.sk-toggleable__content {max-height: 0;max-width: 0;overflow: hidden;text-align: left;background-color: #f0f8ff;}#sk-container-id-3 div.sk-toggleable__content pre {margin: 0.2em;color: black;border-radius: 0.25em;background-color: #f0f8ff;}#sk-container-id-3 input.sk-toggleable__control:checked~div.sk-toggleable__content {max-height: 200px;max-width: 100%;overflow: auto;}#sk-container-id-3 input.sk-toggleable__control:checked~label.sk-toggleable__label-arrow:before {content: \"▾\";}#sk-container-id-3 div.sk-estimator input.sk-toggleable__control:checked~label.sk-toggleable__label {background-color: #d4ebff;}#sk-container-id-3 div.sk-label input.sk-toggleable__control:checked~label.sk-toggleable__label {background-color: #d4ebff;}#sk-container-id-3 input.sk-hidden--visually {border: 0;clip: rect(1px 1px 1px 1px);clip: rect(1px, 1px, 1px, 1px);height: 1px;margin: -1px;overflow: hidden;padding: 0;position: absolute;width: 1px;}#sk-container-id-3 div.sk-estimator {font-family: monospace;background-color: #f0f8ff;border: 1px dotted black;border-radius: 0.25em;box-sizing: border-box;margin-bottom: 0.5em;}#sk-container-id-3 div.sk-estimator:hover {background-color: #d4ebff;}#sk-container-id-3 div.sk-parallel-item::after {content: \"\";width: 100%;border-bottom: 1px solid gray;flex-grow: 1;}#sk-container-id-3 div.sk-label:hover label.sk-toggleable__label {background-color: #d4ebff;}#sk-container-id-3 div.sk-serial::before {content: \"\";position: absolute;border-left: 1px solid gray;box-sizing: border-box;top: 0;bottom: 0;left: 50%;z-index: 0;}#sk-container-id-3 div.sk-serial {display: flex;flex-direction: column;align-items: center;background-color: white;padding-right: 0.2em;padding-left: 0.2em;position: relative;}#sk-container-id-3 div.sk-item {position: relative;z-index: 1;}#sk-container-id-3 div.sk-parallel {display: flex;align-items: stretch;justify-content: center;background-color: white;position: relative;}#sk-container-id-3 div.sk-item::before, #sk-container-id-3 div.sk-parallel-item::before {content: \"\";position: absolute;border-left: 1px solid gray;box-sizing: border-box;top: 0;bottom: 0;left: 50%;z-index: -1;}#sk-container-id-3 div.sk-parallel-item {display: flex;flex-direction: column;z-index: 1;position: relative;background-color: white;}#sk-container-id-3 div.sk-parallel-item:first-child::after {align-self: flex-end;width: 50%;}#sk-container-id-3 div.sk-parallel-item:last-child::after {align-self: flex-start;width: 50%;}#sk-container-id-3 div.sk-parallel-item:only-child::after {width: 0;}#sk-container-id-3 div.sk-dashed-wrapped {border: 1px dashed gray;margin: 0 0.4em 0.5em 0.4em;box-sizing: border-box;padding-bottom: 0.4em;background-color: white;}#sk-container-id-3 div.sk-label label {font-family: monospace;font-weight: bold;display: inline-block;line-height: 1.2em;}#sk-container-id-3 div.sk-label-container {text-align: center;}#sk-container-id-3 div.sk-container {/* jupyter's `normalize.less` sets `[hidden] { display: none; }` but bootstrap.min.css set `[hidden] { display: none !important; }` so we also need the `!important` here to be able to override the default hidden behavior on the sphinx rendered scikit-learn.org. See: https://github.com/scikit-learn/scikit-learn/issues/21755 */display: inline-block !important;position: relative;}#sk-container-id-3 div.sk-text-repr-fallback {display: none;}</style><div id=\"sk-container-id-3\" class=\"sk-top-container\"><div class=\"sk-text-repr-fallback\"><pre>Pipeline(steps=[(&#x27;ct&#x27;,\n",
       "                 ColumnTransformer(remainder=&#x27;passthrough&#x27;,\n",
       "                                   transformers=[(&#x27;cat&#x27;,\n",
       "                                                  Pipeline(steps=[(&#x27;imputer&#x27;,\n",
       "                                                                   SimpleImputer(add_indicator=True,\n",
       "                                                                                 strategy=&#x27;most_frequent&#x27;)),\n",
       "                                                                  (&#x27;encoder&#x27;,\n",
       "                                                                   OneHotEncoder(handle_unknown=&#x27;ignore&#x27;,\n",
       "                                                                                 sparse=False))]),\n",
       "                                                  [&#x27;installer&#x27;, &#x27;funder&#x27;,\n",
       "                                                   &#x27;basin&#x27;, &#x27;management_group&#x27;,\n",
       "                                                   &#x27;extraction_type_class&#x27;,\n",
       "                                                   &#x27;payment&#x27;, &#x27;water_quality&#x27;,\n",
       "                                                   &#x27;quantity&#x27;, &#x27;source&#x27;,\n",
       "                                                   &#x27;source_class&#x27;,\n",
       "                                                   &#x27;waterpoint_type_group&#x27;]),\n",
       "                                                 (&#x27;num&#x27;,\n",
       "                                                  Pipeline(steps=[(&#x27;imputer&#x27;,\n",
       "                                                                   SimpleImputer(add_indicator=True,\n",
       "                                                                                 strategy=&#x27;median&#x27;)),\n",
       "                                                                  (&#x27;scaler&#x27;,\n",
       "                                                                   StandardScaler())]),\n",
       "                                                  [&#x27;gps_height&#x27;, &#x27;population&#x27;,\n",
       "                                                   &#x27;age_of_well&#x27;, &#x27;permit&#x27;,\n",
       "                                                   &#x27;public_meeting&#x27;])])),\n",
       "                (&#x27;dummy&#x27;,\n",
       "                 DummyClassifier(random_state=42, strategy=&#x27;most_frequent&#x27;))])</pre><b>In a Jupyter environment, please rerun this cell to show the HTML representation or trust the notebook. <br />On GitHub, the HTML representation is unable to render, please try loading this page with nbviewer.org.</b></div><div class=\"sk-container\" hidden><div class=\"sk-item sk-dashed-wrapped\"><div class=\"sk-label-container\"><div class=\"sk-label sk-toggleable\"><input class=\"sk-toggleable__control sk-hidden--visually\" id=\"sk-estimator-id-23\" type=\"checkbox\" ><label for=\"sk-estimator-id-23\" class=\"sk-toggleable__label sk-toggleable__label-arrow\">Pipeline</label><div class=\"sk-toggleable__content\"><pre>Pipeline(steps=[(&#x27;ct&#x27;,\n",
       "                 ColumnTransformer(remainder=&#x27;passthrough&#x27;,\n",
       "                                   transformers=[(&#x27;cat&#x27;,\n",
       "                                                  Pipeline(steps=[(&#x27;imputer&#x27;,\n",
       "                                                                   SimpleImputer(add_indicator=True,\n",
       "                                                                                 strategy=&#x27;most_frequent&#x27;)),\n",
       "                                                                  (&#x27;encoder&#x27;,\n",
       "                                                                   OneHotEncoder(handle_unknown=&#x27;ignore&#x27;,\n",
       "                                                                                 sparse=False))]),\n",
       "                                                  [&#x27;installer&#x27;, &#x27;funder&#x27;,\n",
       "                                                   &#x27;basin&#x27;, &#x27;management_group&#x27;,\n",
       "                                                   &#x27;extraction_type_class&#x27;,\n",
       "                                                   &#x27;payment&#x27;, &#x27;water_quality&#x27;,\n",
       "                                                   &#x27;quantity&#x27;, &#x27;source&#x27;,\n",
       "                                                   &#x27;source_class&#x27;,\n",
       "                                                   &#x27;waterpoint_type_group&#x27;]),\n",
       "                                                 (&#x27;num&#x27;,\n",
       "                                                  Pipeline(steps=[(&#x27;imputer&#x27;,\n",
       "                                                                   SimpleImputer(add_indicator=True,\n",
       "                                                                                 strategy=&#x27;median&#x27;)),\n",
       "                                                                  (&#x27;scaler&#x27;,\n",
       "                                                                   StandardScaler())]),\n",
       "                                                  [&#x27;gps_height&#x27;, &#x27;population&#x27;,\n",
       "                                                   &#x27;age_of_well&#x27;, &#x27;permit&#x27;,\n",
       "                                                   &#x27;public_meeting&#x27;])])),\n",
       "                (&#x27;dummy&#x27;,\n",
       "                 DummyClassifier(random_state=42, strategy=&#x27;most_frequent&#x27;))])</pre></div></div></div><div class=\"sk-serial\"><div class=\"sk-item sk-dashed-wrapped\"><div class=\"sk-label-container\"><div class=\"sk-label sk-toggleable\"><input class=\"sk-toggleable__control sk-hidden--visually\" id=\"sk-estimator-id-24\" type=\"checkbox\" ><label for=\"sk-estimator-id-24\" class=\"sk-toggleable__label sk-toggleable__label-arrow\">ct: ColumnTransformer</label><div class=\"sk-toggleable__content\"><pre>ColumnTransformer(remainder=&#x27;passthrough&#x27;,\n",
       "                  transformers=[(&#x27;cat&#x27;,\n",
       "                                 Pipeline(steps=[(&#x27;imputer&#x27;,\n",
       "                                                  SimpleImputer(add_indicator=True,\n",
       "                                                                strategy=&#x27;most_frequent&#x27;)),\n",
       "                                                 (&#x27;encoder&#x27;,\n",
       "                                                  OneHotEncoder(handle_unknown=&#x27;ignore&#x27;,\n",
       "                                                                sparse=False))]),\n",
       "                                 [&#x27;installer&#x27;, &#x27;funder&#x27;, &#x27;basin&#x27;,\n",
       "                                  &#x27;management_group&#x27;, &#x27;extraction_type_class&#x27;,\n",
       "                                  &#x27;payment&#x27;, &#x27;water_quality&#x27;, &#x27;quantity&#x27;,\n",
       "                                  &#x27;source&#x27;, &#x27;source_class&#x27;,\n",
       "                                  &#x27;waterpoint_type_group&#x27;]),\n",
       "                                (&#x27;num&#x27;,\n",
       "                                 Pipeline(steps=[(&#x27;imputer&#x27;,\n",
       "                                                  SimpleImputer(add_indicator=True,\n",
       "                                                                strategy=&#x27;median&#x27;)),\n",
       "                                                 (&#x27;scaler&#x27;, StandardScaler())]),\n",
       "                                 [&#x27;gps_height&#x27;, &#x27;population&#x27;, &#x27;age_of_well&#x27;,\n",
       "                                  &#x27;permit&#x27;, &#x27;public_meeting&#x27;])])</pre></div></div></div><div class=\"sk-parallel\"><div class=\"sk-parallel-item\"><div class=\"sk-item\"><div class=\"sk-label-container\"><div class=\"sk-label sk-toggleable\"><input class=\"sk-toggleable__control sk-hidden--visually\" id=\"sk-estimator-id-25\" type=\"checkbox\" ><label for=\"sk-estimator-id-25\" class=\"sk-toggleable__label sk-toggleable__label-arrow\">cat</label><div class=\"sk-toggleable__content\"><pre>[&#x27;installer&#x27;, &#x27;funder&#x27;, &#x27;basin&#x27;, &#x27;management_group&#x27;, &#x27;extraction_type_class&#x27;, &#x27;payment&#x27;, &#x27;water_quality&#x27;, &#x27;quantity&#x27;, &#x27;source&#x27;, &#x27;source_class&#x27;, &#x27;waterpoint_type_group&#x27;]</pre></div></div></div><div class=\"sk-serial\"><div class=\"sk-item\"><div class=\"sk-serial\"><div class=\"sk-item\"><div class=\"sk-estimator sk-toggleable\"><input class=\"sk-toggleable__control sk-hidden--visually\" id=\"sk-estimator-id-26\" type=\"checkbox\" ><label for=\"sk-estimator-id-26\" class=\"sk-toggleable__label sk-toggleable__label-arrow\">SimpleImputer</label><div class=\"sk-toggleable__content\"><pre>SimpleImputer(add_indicator=True, strategy=&#x27;most_frequent&#x27;)</pre></div></div></div><div class=\"sk-item\"><div class=\"sk-estimator sk-toggleable\"><input class=\"sk-toggleable__control sk-hidden--visually\" id=\"sk-estimator-id-27\" type=\"checkbox\" ><label for=\"sk-estimator-id-27\" class=\"sk-toggleable__label sk-toggleable__label-arrow\">OneHotEncoder</label><div class=\"sk-toggleable__content\"><pre>OneHotEncoder(handle_unknown=&#x27;ignore&#x27;, sparse=False)</pre></div></div></div></div></div></div></div></div><div class=\"sk-parallel-item\"><div class=\"sk-item\"><div class=\"sk-label-container\"><div class=\"sk-label sk-toggleable\"><input class=\"sk-toggleable__control sk-hidden--visually\" id=\"sk-estimator-id-28\" type=\"checkbox\" ><label for=\"sk-estimator-id-28\" class=\"sk-toggleable__label sk-toggleable__label-arrow\">num</label><div class=\"sk-toggleable__content\"><pre>[&#x27;gps_height&#x27;, &#x27;population&#x27;, &#x27;age_of_well&#x27;, &#x27;permit&#x27;, &#x27;public_meeting&#x27;]</pre></div></div></div><div class=\"sk-serial\"><div class=\"sk-item\"><div class=\"sk-serial\"><div class=\"sk-item\"><div class=\"sk-estimator sk-toggleable\"><input class=\"sk-toggleable__control sk-hidden--visually\" id=\"sk-estimator-id-29\" type=\"checkbox\" ><label for=\"sk-estimator-id-29\" class=\"sk-toggleable__label sk-toggleable__label-arrow\">SimpleImputer</label><div class=\"sk-toggleable__content\"><pre>SimpleImputer(add_indicator=True, strategy=&#x27;median&#x27;)</pre></div></div></div><div class=\"sk-item\"><div class=\"sk-estimator sk-toggleable\"><input class=\"sk-toggleable__control sk-hidden--visually\" id=\"sk-estimator-id-30\" type=\"checkbox\" ><label for=\"sk-estimator-id-30\" class=\"sk-toggleable__label sk-toggleable__label-arrow\">StandardScaler</label><div class=\"sk-toggleable__content\"><pre>StandardScaler()</pre></div></div></div></div></div></div></div></div><div class=\"sk-parallel-item\"><div class=\"sk-item\"><div class=\"sk-label-container\"><div class=\"sk-label sk-toggleable\"><input class=\"sk-toggleable__control sk-hidden--visually\" id=\"sk-estimator-id-31\" type=\"checkbox\" ><label for=\"sk-estimator-id-31\" class=\"sk-toggleable__label sk-toggleable__label-arrow\">remainder</label><div class=\"sk-toggleable__content\"><pre>[&#x27;longitude&#x27;, &#x27;latitude&#x27;]</pre></div></div></div><div class=\"sk-serial\"><div class=\"sk-item\"><div class=\"sk-estimator sk-toggleable\"><input class=\"sk-toggleable__control sk-hidden--visually\" id=\"sk-estimator-id-32\" type=\"checkbox\" ><label for=\"sk-estimator-id-32\" class=\"sk-toggleable__label sk-toggleable__label-arrow\">passthrough</label><div class=\"sk-toggleable__content\"><pre>passthrough</pre></div></div></div></div></div></div></div></div><div class=\"sk-item\"><div class=\"sk-estimator sk-toggleable\"><input class=\"sk-toggleable__control sk-hidden--visually\" id=\"sk-estimator-id-33\" type=\"checkbox\" ><label for=\"sk-estimator-id-33\" class=\"sk-toggleable__label sk-toggleable__label-arrow\">DummyClassifier</label><div class=\"sk-toggleable__content\"><pre>DummyClassifier(random_state=42, strategy=&#x27;most_frequent&#x27;)</pre></div></div></div></div></div></div></div>"
      ],
      "text/plain": [
       "Pipeline(steps=[('ct',\n",
       "                 ColumnTransformer(remainder='passthrough',\n",
       "                                   transformers=[('cat',\n",
       "                                                  Pipeline(steps=[('imputer',\n",
       "                                                                   SimpleImputer(add_indicator=True,\n",
       "                                                                                 strategy='most_frequent')),\n",
       "                                                                  ('encoder',\n",
       "                                                                   OneHotEncoder(handle_unknown='ignore',\n",
       "                                                                                 sparse=False))]),\n",
       "                                                  ['installer', 'funder',\n",
       "                                                   'basin', 'management_group',\n",
       "                                                   'extraction_type_class',\n",
       "                                                   'payment', 'water_quality',\n",
       "                                                   'quantity', 'source',\n",
       "                                                   'source_class',\n",
       "                                                   'waterpoint_type_group']),\n",
       "                                                 ('num',\n",
       "                                                  Pipeline(steps=[('imputer',\n",
       "                                                                   SimpleImputer(add_indicator=True,\n",
       "                                                                                 strategy='median')),\n",
       "                                                                  ('scaler',\n",
       "                                                                   StandardScaler())]),\n",
       "                                                  ['gps_height', 'population',\n",
       "                                                   'age_of_well', 'permit',\n",
       "                                                   'public_meeting'])])),\n",
       "                ('dummy',\n",
       "                 DummyClassifier(random_state=42, strategy='most_frequent'))])"
      ]
     },
     "execution_count": 174,
     "metadata": {},
     "output_type": "execute_result"
    }
   ],
   "source": [
    "dummy_model.fit(X_train, y_train)"
   ]
  },
  {
   "cell_type": "code",
   "execution_count": 175,
   "id": "67476667-5381-473f-ad19-81e7b45c4d06",
   "metadata": {},
   "outputs": [
    {
     "name": "stderr",
     "output_type": "stream",
     "text": [
      "/Users/danayt/anaconda3/envs/learn-env/lib/python3.9/site-packages/sklearn/preprocessing/_encoders.py:975: FutureWarning: `sparse` was renamed to `sparse_output` in version 1.2 and will be removed in 1.4. `sparse_output` is ignored unless you leave `sparse` to its default value.\n",
      "  warnings.warn(\n",
      "/Users/danayt/anaconda3/envs/learn-env/lib/python3.9/site-packages/sklearn/preprocessing/_encoders.py:975: FutureWarning: `sparse` was renamed to `sparse_output` in version 1.2 and will be removed in 1.4. `sparse_output` is ignored unless you leave `sparse` to its default value.\n",
      "  warnings.warn(\n",
      "/Users/danayt/anaconda3/envs/learn-env/lib/python3.9/site-packages/sklearn/preprocessing/_encoders.py:975: FutureWarning: `sparse` was renamed to `sparse_output` in version 1.2 and will be removed in 1.4. `sparse_output` is ignored unless you leave `sparse` to its default value.\n",
      "  warnings.warn(\n",
      "/Users/danayt/anaconda3/envs/learn-env/lib/python3.9/site-packages/sklearn/preprocessing/_encoders.py:975: FutureWarning: `sparse` was renamed to `sparse_output` in version 1.2 and will be removed in 1.4. `sparse_output` is ignored unless you leave `sparse` to its default value.\n",
      "  warnings.warn(\n",
      "/Users/danayt/anaconda3/envs/learn-env/lib/python3.9/site-packages/sklearn/preprocessing/_encoders.py:975: FutureWarning: `sparse` was renamed to `sparse_output` in version 1.2 and will be removed in 1.4. `sparse_output` is ignored unless you leave `sparse` to its default value.\n",
      "  warnings.warn(\n"
     ]
    },
    {
     "data": {
      "text/plain": [
       "array([0.5444975 , 0.5444975 , 0.54460603, 0.54460603, 0.54460603])"
      ]
     },
     "execution_count": 175,
     "metadata": {},
     "output_type": "execute_result"
    }
   ],
   "source": [
    "dummy_cv = cross_val_score(dummy_model, X_train, y_train, cv=5)\n",
    "dummy_cv"
   ]
  },
  {
   "cell_type": "code",
   "execution_count": 176,
   "id": "bb7ce2b0-9f56-47ef-ad33-2c275761e193",
   "metadata": {},
   "outputs": [
    {
     "name": "stderr",
     "output_type": "stream",
     "text": [
      "/Users/danayt/anaconda3/envs/learn-env/lib/python3.9/site-packages/sklearn/preprocessing/_encoders.py:975: FutureWarning: `sparse` was renamed to `sparse_output` in version 1.2 and will be removed in 1.4. `sparse_output` is ignored unless you leave `sparse` to its default value.\n",
      "  warnings.warn(\n",
      "/Users/danayt/anaconda3/envs/learn-env/lib/python3.9/site-packages/sklearn/preprocessing/_encoders.py:975: FutureWarning: `sparse` was renamed to `sparse_output` in version 1.2 and will be removed in 1.4. `sparse_output` is ignored unless you leave `sparse` to its default value.\n",
      "  warnings.warn(\n",
      "/Users/danayt/anaconda3/envs/learn-env/lib/python3.9/site-packages/sklearn/preprocessing/_encoders.py:975: FutureWarning: `sparse` was renamed to `sparse_output` in version 1.2 and will be removed in 1.4. `sparse_output` is ignored unless you leave `sparse` to its default value.\n",
      "  warnings.warn(\n",
      "/Users/danayt/anaconda3/envs/learn-env/lib/python3.9/site-packages/sklearn/preprocessing/_encoders.py:975: FutureWarning: `sparse` was renamed to `sparse_output` in version 1.2 and will be removed in 1.4. `sparse_output` is ignored unless you leave `sparse` to its default value.\n",
      "  warnings.warn(\n",
      "/Users/danayt/anaconda3/envs/learn-env/lib/python3.9/site-packages/sklearn/preprocessing/_encoders.py:975: FutureWarning: `sparse` was renamed to `sparse_output` in version 1.2 and will be removed in 1.4. `sparse_output` is ignored unless you leave `sparse` to its default value.\n",
      "  warnings.warn(\n"
     ]
    },
    {
     "data": {
      "text/plain": [
       "16.41562698959097"
      ]
     },
     "execution_count": 176,
     "metadata": {},
     "output_type": "execute_result"
    }
   ],
   "source": [
    "baseline_logloss = -1*(cross_val_score(estimator=dummy_model, X=X_train, y=y_train, scoring=\"neg_log_loss\").mean())\n",
    "baseline_logloss"
   ]
  },
  {
   "cell_type": "code",
   "execution_count": 177,
   "id": "0f74bf67-1807-4500-87c1-864684d258a3",
   "metadata": {},
   "outputs": [
    {
     "name": "stdout",
     "output_type": "stream",
     "text": [
      "Accuracy:\n",
      "Train Accuracy: 0.5445626220968092\n",
      "Test Accuracy: 0.5470567806910922\n",
      "\n",
      "Balanced Accuracy:\n",
      "Train Accuracy: 0.3333333333333333\n",
      "Test Accuracy: 0.3333333333333333\n"
     ]
    }
   ],
   "source": [
    "y_train_1 = dummy_model.predict(X_train)\n",
    "y_test_pred1= dummy_model.predict(X_test)\n",
    "\n",
    "print(\"Accuracy:\")\n",
    "train_accuracy = accuracy_score(y_train, y_train_1)\n",
    "print(\"Train Accuracy:\", train_accuracy)\n",
    "\n",
    "test_accuracy = accuracy_score(y_test, y_test_pred1)\n",
    "print(\"Test Accuracy:\", test_accuracy)\n",
    "\n",
    "print(\"\\nBalanced Accuracy:\")\n",
    "train_accuracy = balanced_accuracy_score(y_train, y_train_1)\n",
    "print(\"Train Accuracy:\", train_accuracy)\n",
    "\n",
    "test_accuracy = balanced_accuracy_score(y_test, y_test_pred1)\n",
    "print(\"Test Accuracy:\", test_accuracy)"
   ]
  },
  {
   "cell_type": "code",
   "execution_count": 178,
   "id": "776427dd-0ade-44aa-887c-0ccfabcee191",
   "metadata": {},
   "outputs": [
    {
     "name": "stderr",
     "output_type": "stream",
     "text": [
      "/Users/danayt/anaconda3/envs/learn-env/lib/python3.9/site-packages/sklearn/metrics/_classification.py:1469: UndefinedMetricWarning: Precision and F-score are ill-defined and being set to 0.0 in labels with no predicted samples. Use `zero_division` parameter to control this behavior.\n",
      "  _warn_prf(average, modifier, msg_start, len(result))\n",
      "/Users/danayt/anaconda3/envs/learn-env/lib/python3.9/site-packages/sklearn/metrics/_classification.py:1469: UndefinedMetricWarning: Precision and F-score are ill-defined and being set to 0.0 in labels with no predicted samples. Use `zero_division` parameter to control this behavior.\n",
      "  _warn_prf(average, modifier, msg_start, len(result))\n",
      "/Users/danayt/anaconda3/envs/learn-env/lib/python3.9/site-packages/sklearn/metrics/_classification.py:1469: UndefinedMetricWarning: Precision and F-score are ill-defined and being set to 0.0 in labels with no predicted samples. Use `zero_division` parameter to control this behavior.\n",
      "  _warn_prf(average, modifier, msg_start, len(result))\n"
     ]
    },
    {
     "name": "stdout",
     "output_type": "stream",
     "text": [
      "              precision    recall  f1-score   support\n",
      "\n",
      "           0       0.00      0.00      0.00      4426\n",
      "           1       0.00      0.00      0.00       791\n",
      "           2       0.55      1.00      0.71      6301\n",
      "\n",
      "    accuracy                           0.55     11518\n",
      "   macro avg       0.18      0.33      0.24     11518\n",
      "weighted avg       0.30      0.55      0.39     11518\n",
      "\n"
     ]
    },
    {
     "data": {
      "image/png": "[encoded data removed]",
      "text/plain": [
       "<Figure size 640x480 with 2 Axes>"
      ]
     },
     "metadata": {},
     "output_type": "display_data"
    }
   ],
   "source": [
    "print(classification_report(y_test, y_test_pred1)) \n",
    "cm = confusion_matrix(y_test, y_test_pred1)\n",
    "disp = ConfusionMatrixDisplay(confusion_matrix=cm)\n",
    "disp.plot()\n",
    "plt.show()"
   ]
  },
  {
   "cell_type": "code",
   "execution_count": 184,
   "id": "f60ce3b7-e2cc-4568-acec-6157d433caa0",
   "metadata": {},
   "outputs": [],
   "source": [
    "#First model, baseline performance to record to our results table\n",
    "results_1 = pd.DataFrame({       \n",
    "     \"Model\": ['Dummyreggressor'],\n",
    "    \"val_score\": [0.54],\n",
    "      \"test_balanced_acc\": [0.33], \n",
    "       'train_balanced_acc' : [0.33],\n",
    "    'logloss':[16.42],\n",
    "               'info' : ['baseline'],\n",
    "    'param':['Random_state=42, stg=Most_frequent']\n",
    "})\n",
    "results = pd.concat([results, results_1], ignore_index =True)"
   ]
  },
  {
   "cell_type": "markdown",
   "id": "fc0334bf-f857-4e2f-b6c8-0194d84ee994",
   "metadata": {},
   "source": [
    "# Logistic Regression\n",
    ">- This model performed significantly better than our baseline\n",
    ">- But the balanced accuracy is still low, indicating our model is biased towards the majority class\n",
    ">- We'll try different parameters and see if we can improve performance as well as class imbalance\n",
    ">>-Train Accuracy: 0.7298241805947471\n",
    ">>-Test Accuracy: 0.7257336343115124\n",
    "\n",
    ">>-Train Accuracy: 0.5082261808855584\n",
    ">>-Test Accuracy: 0.5055801344470208"
   ]
  },
  {
   "cell_type": "code",
   "execution_count": 182,
   "id": "d71a7e65-4b4c-429d-8ae9-5c03c46b4a67",
   "metadata": {},
   "outputs": [],
   "source": [
    "lr1 = Pipeline(steps=[\n",
    "    ('ct', CT),\n",
    "    ('classifier', LogisticRegression(random_state =42, n_jobs=-1))\n",
    "])"
   ]
  },
  {
   "cell_type": "code",
   "execution_count": 183,
   "id": "41c777de-407f-4e65-8410-4c6d7cdce3af",
   "metadata": {},
   "outputs": [
    {
     "name": "stderr",
     "output_type": "stream",
     "text": [
      "/Users/danayt/anaconda3/envs/learn-env/lib/python3.9/site-packages/sklearn/preprocessing/_encoders.py:975: FutureWarning: `sparse` was renamed to `sparse_output` in version 1.2 and will be removed in 1.4. `sparse_output` is ignored unless you leave `sparse` to its default value.\n",
      "  warnings.warn(\n",
      "/Users/danayt/anaconda3/envs/learn-env/lib/python3.9/site-packages/sklearn/linear_model/_logistic.py:460: ConvergenceWarning: lbfgs failed to converge (status=1):\n",
      "STOP: TOTAL NO. of ITERATIONS REACHED LIMIT.\n",
      "\n",
      "Increase the number of iterations (max_iter) or scale the data as shown in:\n",
      "    https://scikit-learn.org/stable/modules/preprocessing.html\n",
      "Please also refer to the documentation for alternative solver options:\n",
      "    https://scikit-learn.org/stable/modules/linear_model.html#logistic-regression\n",
      "  n_iter_i = _check_optimize_result(\n"
     ]
    },
    {
     "data": {
      "text/html": [
       "<style>#sk-container-id-4 {color: black;}#sk-container-id-4 pre{padding: 0;}#sk-container-id-4 div.sk-toggleable {background-color: white;}#sk-container-id-4 label.sk-toggleable__label {cursor: pointer;display: block;width: 100%;margin-bottom: 0;padding: 0.3em;box-sizing: border-box;text-align: center;}#sk-container-id-4 label.sk-toggleable__label-arrow:before {content: \"▸\";float: left;margin-right: 0.25em;color: #696969;}#sk-container-id-4 label.sk-toggleable__label-arrow:hover:before {color: black;}#sk-container-id-4 div.sk-estimator:hover label.sk-toggleable__label-arrow:before {color: black;}#sk-container-id-4 div.sk-toggleable__content {max-height: 0;max-width: 0;overflow: hidden;text-align: left;background-color: #f0f8ff;}#sk-container-id-4 div.sk-toggleable__content pre {margin: 0.2em;color: black;border-radius: 0.25em;background-color: #f0f8ff;}#sk-container-id-4 input.sk-toggleable__control:checked~div.sk-toggleable__content {max-height: 200px;max-width: 100%;overflow: auto;}#sk-container-id-4 input.sk-toggleable__control:checked~label.sk-toggleable__label-arrow:before {content: \"▾\";}#sk-container-id-4 div.sk-estimator input.sk-toggleable__control:checked~label.sk-toggleable__label {background-color: #d4ebff;}#sk-container-id-4 div.sk-label input.sk-toggleable__control:checked~label.sk-toggleable__label {background-color: #d4ebff;}#sk-container-id-4 input.sk-hidden--visually {border: 0;clip: rect(1px 1px 1px 1px);clip: rect(1px, 1px, 1px, 1px);height: 1px;margin: -1px;overflow: hidden;padding: 0;position: absolute;width: 1px;}#sk-container-id-4 div.sk-estimator {font-family: monospace;background-color: #f0f8ff;border: 1px dotted black;border-radius: 0.25em;box-sizing: border-box;margin-bottom: 0.5em;}#sk-container-id-4 div.sk-estimator:hover {background-color: #d4ebff;}#sk-container-id-4 div.sk-parallel-item::after {content: \"\";width: 100%;border-bottom: 1px solid gray;flex-grow: 1;}#sk-container-id-4 div.sk-label:hover label.sk-toggleable__label {background-color: #d4ebff;}#sk-container-id-4 div.sk-serial::before {content: \"\";position: absolute;border-left: 1px solid gray;box-sizing: border-box;top: 0;bottom: 0;left: 50%;z-index: 0;}#sk-container-id-4 div.sk-serial {display: flex;flex-direction: column;align-items: center;background-color: white;padding-right: 0.2em;padding-left: 0.2em;position: relative;}#sk-container-id-4 div.sk-item {position: relative;z-index: 1;}#sk-container-id-4 div.sk-parallel {display: flex;align-items: stretch;justify-content: center;background-color: white;position: relative;}#sk-container-id-4 div.sk-item::before, #sk-container-id-4 div.sk-parallel-item::before {content: \"\";position: absolute;border-left: 1px solid gray;box-sizing: border-box;top: 0;bottom: 0;left: 50%;z-index: -1;}#sk-container-id-4 div.sk-parallel-item {display: flex;flex-direction: column;z-index: 1;position: relative;background-color: white;}#sk-container-id-4 div.sk-parallel-item:first-child::after {align-self: flex-end;width: 50%;}#sk-container-id-4 div.sk-parallel-item:last-child::after {align-self: flex-start;width: 50%;}#sk-container-id-4 div.sk-parallel-item:only-child::after {width: 0;}#sk-container-id-4 div.sk-dashed-wrapped {border: 1px dashed gray;margin: 0 0.4em 0.5em 0.4em;box-sizing: border-box;padding-bottom: 0.4em;background-color: white;}#sk-container-id-4 div.sk-label label {font-family: monospace;font-weight: bold;display: inline-block;line-height: 1.2em;}#sk-container-id-4 div.sk-label-container {text-align: center;}#sk-container-id-4 div.sk-container {/* jupyter's `normalize.less` sets `[hidden] { display: none; }` but bootstrap.min.css set `[hidden] { display: none !important; }` so we also need the `!important` here to be able to override the default hidden behavior on the sphinx rendered scikit-learn.org. See: https://github.com/scikit-learn/scikit-learn/issues/21755 */display: inline-block !important;position: relative;}#sk-container-id-4 div.sk-text-repr-fallback {display: none;}</style><div id=\"sk-container-id-4\" class=\"sk-top-container\"><div class=\"sk-text-repr-fallback\"><pre>Pipeline(steps=[(&#x27;ct&#x27;,\n",
       "                 ColumnTransformer(remainder=&#x27;passthrough&#x27;,\n",
       "                                   transformers=[(&#x27;cat&#x27;,\n",
       "                                                  Pipeline(steps=[(&#x27;imputer&#x27;,\n",
       "                                                                   SimpleImputer(add_indicator=True,\n",
       "                                                                                 strategy=&#x27;most_frequent&#x27;)),\n",
       "                                                                  (&#x27;encoder&#x27;,\n",
       "                                                                   OneHotEncoder(handle_unknown=&#x27;ignore&#x27;,\n",
       "                                                                                 sparse=False))]),\n",
       "                                                  [&#x27;installer&#x27;, &#x27;funder&#x27;,\n",
       "                                                   &#x27;basin&#x27;, &#x27;management_group&#x27;,\n",
       "                                                   &#x27;extraction_type_class&#x27;,\n",
       "                                                   &#x27;payment&#x27;, &#x27;water_quality&#x27;,\n",
       "                                                   &#x27;quantity&#x27;, &#x27;source&#x27;,\n",
       "                                                   &#x27;source_class&#x27;,\n",
       "                                                   &#x27;waterpoint_type_group&#x27;]),\n",
       "                                                 (&#x27;num&#x27;,\n",
       "                                                  Pipeline(steps=[(&#x27;imputer&#x27;,\n",
       "                                                                   SimpleImputer(add_indicator=True,\n",
       "                                                                                 strategy=&#x27;median&#x27;)),\n",
       "                                                                  (&#x27;scaler&#x27;,\n",
       "                                                                   StandardScaler())]),\n",
       "                                                  [&#x27;gps_height&#x27;, &#x27;population&#x27;,\n",
       "                                                   &#x27;age_of_well&#x27;, &#x27;permit&#x27;,\n",
       "                                                   &#x27;public_meeting&#x27;])])),\n",
       "                (&#x27;classifier&#x27;, LogisticRegression(n_jobs=-1, random_state=42))])</pre><b>In a Jupyter environment, please rerun this cell to show the HTML representation or trust the notebook. <br />On GitHub, the HTML representation is unable to render, please try loading this page with nbviewer.org.</b></div><div class=\"sk-container\" hidden><div class=\"sk-item sk-dashed-wrapped\"><div class=\"sk-label-container\"><div class=\"sk-label sk-toggleable\"><input class=\"sk-toggleable__control sk-hidden--visually\" id=\"sk-estimator-id-34\" type=\"checkbox\" ><label for=\"sk-estimator-id-34\" class=\"sk-toggleable__label sk-toggleable__label-arrow\">Pipeline</label><div class=\"sk-toggleable__content\"><pre>Pipeline(steps=[(&#x27;ct&#x27;,\n",
       "                 ColumnTransformer(remainder=&#x27;passthrough&#x27;,\n",
       "                                   transformers=[(&#x27;cat&#x27;,\n",
       "                                                  Pipeline(steps=[(&#x27;imputer&#x27;,\n",
       "                                                                   SimpleImputer(add_indicator=True,\n",
       "                                                                                 strategy=&#x27;most_frequent&#x27;)),\n",
       "                                                                  (&#x27;encoder&#x27;,\n",
       "                                                                   OneHotEncoder(handle_unknown=&#x27;ignore&#x27;,\n",
       "                                                                                 sparse=False))]),\n",
       "                                                  [&#x27;installer&#x27;, &#x27;funder&#x27;,\n",
       "                                                   &#x27;basin&#x27;, &#x27;management_group&#x27;,\n",
       "                                                   &#x27;extraction_type_class&#x27;,\n",
       "                                                   &#x27;payment&#x27;, &#x27;water_quality&#x27;,\n",
       "                                                   &#x27;quantity&#x27;, &#x27;source&#x27;,\n",
       "                                                   &#x27;source_class&#x27;,\n",
       "                                                   &#x27;waterpoint_type_group&#x27;]),\n",
       "                                                 (&#x27;num&#x27;,\n",
       "                                                  Pipeline(steps=[(&#x27;imputer&#x27;,\n",
       "                                                                   SimpleImputer(add_indicator=True,\n",
       "                                                                                 strategy=&#x27;median&#x27;)),\n",
       "                                                                  (&#x27;scaler&#x27;,\n",
       "                                                                   StandardScaler())]),\n",
       "                                                  [&#x27;gps_height&#x27;, &#x27;population&#x27;,\n",
       "                                                   &#x27;age_of_well&#x27;, &#x27;permit&#x27;,\n",
       "                                                   &#x27;public_meeting&#x27;])])),\n",
       "                (&#x27;classifier&#x27;, LogisticRegression(n_jobs=-1, random_state=42))])</pre></div></div></div><div class=\"sk-serial\"><div class=\"sk-item sk-dashed-wrapped\"><div class=\"sk-label-container\"><div class=\"sk-label sk-toggleable\"><input class=\"sk-toggleable__control sk-hidden--visually\" id=\"sk-estimator-id-35\" type=\"checkbox\" ><label for=\"sk-estimator-id-35\" class=\"sk-toggleable__label sk-toggleable__label-arrow\">ct: ColumnTransformer</label><div class=\"sk-toggleable__content\"><pre>ColumnTransformer(remainder=&#x27;passthrough&#x27;,\n",
       "                  transformers=[(&#x27;cat&#x27;,\n",
       "                                 Pipeline(steps=[(&#x27;imputer&#x27;,\n",
       "                                                  SimpleImputer(add_indicator=True,\n",
       "                                                                strategy=&#x27;most_frequent&#x27;)),\n",
       "                                                 (&#x27;encoder&#x27;,\n",
       "                                                  OneHotEncoder(handle_unknown=&#x27;ignore&#x27;,\n",
       "                                                                sparse=False))]),\n",
       "                                 [&#x27;installer&#x27;, &#x27;funder&#x27;, &#x27;basin&#x27;,\n",
       "                                  &#x27;management_group&#x27;, &#x27;extraction_type_class&#x27;,\n",
       "                                  &#x27;payment&#x27;, &#x27;water_quality&#x27;, &#x27;quantity&#x27;,\n",
       "                                  &#x27;source&#x27;, &#x27;source_class&#x27;,\n",
       "                                  &#x27;waterpoint_type_group&#x27;]),\n",
       "                                (&#x27;num&#x27;,\n",
       "                                 Pipeline(steps=[(&#x27;imputer&#x27;,\n",
       "                                                  SimpleImputer(add_indicator=True,\n",
       "                                                                strategy=&#x27;median&#x27;)),\n",
       "                                                 (&#x27;scaler&#x27;, StandardScaler())]),\n",
       "                                 [&#x27;gps_height&#x27;, &#x27;population&#x27;, &#x27;age_of_well&#x27;,\n",
       "                                  &#x27;permit&#x27;, &#x27;public_meeting&#x27;])])</pre></div></div></div><div class=\"sk-parallel\"><div class=\"sk-parallel-item\"><div class=\"sk-item\"><div class=\"sk-label-container\"><div class=\"sk-label sk-toggleable\"><input class=\"sk-toggleable__control sk-hidden--visually\" id=\"sk-estimator-id-36\" type=\"checkbox\" ><label for=\"sk-estimator-id-36\" class=\"sk-toggleable__label sk-toggleable__label-arrow\">cat</label><div class=\"sk-toggleable__content\"><pre>[&#x27;installer&#x27;, &#x27;funder&#x27;, &#x27;basin&#x27;, &#x27;management_group&#x27;, &#x27;extraction_type_class&#x27;, &#x27;payment&#x27;, &#x27;water_quality&#x27;, &#x27;quantity&#x27;, &#x27;source&#x27;, &#x27;source_class&#x27;, &#x27;waterpoint_type_group&#x27;]</pre></div></div></div><div class=\"sk-serial\"><div class=\"sk-item\"><div class=\"sk-serial\"><div class=\"sk-item\"><div class=\"sk-estimator sk-toggleable\"><input class=\"sk-toggleable__control sk-hidden--visually\" id=\"sk-estimator-id-37\" type=\"checkbox\" ><label for=\"sk-estimator-id-37\" class=\"sk-toggleable__label sk-toggleable__label-arrow\">SimpleImputer</label><div class=\"sk-toggleable__content\"><pre>SimpleImputer(add_indicator=True, strategy=&#x27;most_frequent&#x27;)</pre></div></div></div><div class=\"sk-item\"><div class=\"sk-estimator sk-toggleable\"><input class=\"sk-toggleable__control sk-hidden--visually\" id=\"sk-estimator-id-38\" type=\"checkbox\" ><label for=\"sk-estimator-id-38\" class=\"sk-toggleable__label sk-toggleable__label-arrow\">OneHotEncoder</label><div class=\"sk-toggleable__content\"><pre>OneHotEncoder(handle_unknown=&#x27;ignore&#x27;, sparse=False)</pre></div></div></div></div></div></div></div></div><div class=\"sk-parallel-item\"><div class=\"sk-item\"><div class=\"sk-label-container\"><div class=\"sk-label sk-toggleable\"><input class=\"sk-toggleable__control sk-hidden--visually\" id=\"sk-estimator-id-39\" type=\"checkbox\" ><label for=\"sk-estimator-id-39\" class=\"sk-toggleable__label sk-toggleable__label-arrow\">num</label><div class=\"sk-toggleable__content\"><pre>[&#x27;gps_height&#x27;, &#x27;population&#x27;, &#x27;age_of_well&#x27;, &#x27;permit&#x27;, &#x27;public_meeting&#x27;]</pre></div></div></div><div class=\"sk-serial\"><div class=\"sk-item\"><div class=\"sk-serial\"><div class=\"sk-item\"><div class=\"sk-estimator sk-toggleable\"><input class=\"sk-toggleable__control sk-hidden--visually\" id=\"sk-estimator-id-40\" type=\"checkbox\" ><label for=\"sk-estimator-id-40\" class=\"sk-toggleable__label sk-toggleable__label-arrow\">SimpleImputer</label><div class=\"sk-toggleable__content\"><pre>SimpleImputer(add_indicator=True, strategy=&#x27;median&#x27;)</pre></div></div></div><div class=\"sk-item\"><div class=\"sk-estimator sk-toggleable\"><input class=\"sk-toggleable__control sk-hidden--visually\" id=\"sk-estimator-id-41\" type=\"checkbox\" ><label for=\"sk-estimator-id-41\" class=\"sk-toggleable__label sk-toggleable__label-arrow\">StandardScaler</label><div class=\"sk-toggleable__content\"><pre>StandardScaler()</pre></div></div></div></div></div></div></div></div><div class=\"sk-parallel-item\"><div class=\"sk-item\"><div class=\"sk-label-container\"><div class=\"sk-label sk-toggleable\"><input class=\"sk-toggleable__control sk-hidden--visually\" id=\"sk-estimator-id-42\" type=\"checkbox\" ><label for=\"sk-estimator-id-42\" class=\"sk-toggleable__label sk-toggleable__label-arrow\">remainder</label><div class=\"sk-toggleable__content\"><pre>[&#x27;longitude&#x27;, &#x27;latitude&#x27;]</pre></div></div></div><div class=\"sk-serial\"><div class=\"sk-item\"><div class=\"sk-estimator sk-toggleable\"><input class=\"sk-toggleable__control sk-hidden--visually\" id=\"sk-estimator-id-43\" type=\"checkbox\" ><label for=\"sk-estimator-id-43\" class=\"sk-toggleable__label sk-toggleable__label-arrow\">passthrough</label><div class=\"sk-toggleable__content\"><pre>passthrough</pre></div></div></div></div></div></div></div></div><div class=\"sk-item\"><div class=\"sk-estimator sk-toggleable\"><input class=\"sk-toggleable__control sk-hidden--visually\" id=\"sk-estimator-id-44\" type=\"checkbox\" ><label for=\"sk-estimator-id-44\" class=\"sk-toggleable__label sk-toggleable__label-arrow\">LogisticRegression</label><div class=\"sk-toggleable__content\"><pre>LogisticRegression(n_jobs=-1, random_state=42)</pre></div></div></div></div></div></div></div>"
      ],
      "text/plain": [
       "Pipeline(steps=[('ct',\n",
       "                 ColumnTransformer(remainder='passthrough',\n",
       "                                   transformers=[('cat',\n",
       "                                                  Pipeline(steps=[('imputer',\n",
       "                                                                   SimpleImputer(add_indicator=True,\n",
       "                                                                                 strategy='most_frequent')),\n",
       "                                                                  ('encoder',\n",
       "                                                                   OneHotEncoder(handle_unknown='ignore',\n",
       "                                                                                 sparse=False))]),\n",
       "                                                  ['installer', 'funder',\n",
       "                                                   'basin', 'management_group',\n",
       "                                                   'extraction_type_class',\n",
       "                                                   'payment', 'water_quality',\n",
       "                                                   'quantity', 'source',\n",
       "                                                   'source_class',\n",
       "                                                   'waterpoint_type_group']),\n",
       "                                                 ('num',\n",
       "                                                  Pipeline(steps=[('imputer',\n",
       "                                                                   SimpleImputer(add_indicator=True,\n",
       "                                                                                 strategy='median')),\n",
       "                                                                  ('scaler',\n",
       "                                                                   StandardScaler())]),\n",
       "                                                  ['gps_height', 'population',\n",
       "                                                   'age_of_well', 'permit',\n",
       "                                                   'public_meeting'])])),\n",
       "                ('classifier', LogisticRegression(n_jobs=-1, random_state=42))])"
      ]
     },
     "execution_count": 183,
     "metadata": {},
     "output_type": "execute_result"
    }
   ],
   "source": [
    "lr1.fit(X_train, y_train)"
   ]
  },
  {
   "cell_type": "code",
   "execution_count": 185,
   "id": "d8151bab-f3ac-4c50-a03d-585f4b3e3a6f",
   "metadata": {},
   "outputs": [
    {
     "name": "stderr",
     "output_type": "stream",
     "text": [
      "/Users/danayt/anaconda3/envs/learn-env/lib/python3.9/site-packages/sklearn/preprocessing/_encoders.py:975: FutureWarning: `sparse` was renamed to `sparse_output` in version 1.2 and will be removed in 1.4. `sparse_output` is ignored unless you leave `sparse` to its default value.\n",
      "  warnings.warn(\n",
      "/Users/danayt/anaconda3/envs/learn-env/lib/python3.9/site-packages/sklearn/linear_model/_logistic.py:460: ConvergenceWarning: lbfgs failed to converge (status=1):\n",
      "STOP: TOTAL NO. of ITERATIONS REACHED LIMIT.\n",
      "\n",
      "Increase the number of iterations (max_iter) or scale the data as shown in:\n",
      "    https://scikit-learn.org/stable/modules/preprocessing.html\n",
      "Please also refer to the documentation for alternative solver options:\n",
      "    https://scikit-learn.org/stable/modules/linear_model.html#logistic-regression\n",
      "  n_iter_i = _check_optimize_result(\n",
      "/Users/danayt/anaconda3/envs/learn-env/lib/python3.9/site-packages/sklearn/preprocessing/_encoders.py:975: FutureWarning: `sparse` was renamed to `sparse_output` in version 1.2 and will be removed in 1.4. `sparse_output` is ignored unless you leave `sparse` to its default value.\n",
      "  warnings.warn(\n",
      "/Users/danayt/anaconda3/envs/learn-env/lib/python3.9/site-packages/sklearn/linear_model/_logistic.py:460: ConvergenceWarning: lbfgs failed to converge (status=1):\n",
      "STOP: TOTAL NO. of ITERATIONS REACHED LIMIT.\n",
      "\n",
      "Increase the number of iterations (max_iter) or scale the data as shown in:\n",
      "    https://scikit-learn.org/stable/modules/preprocessing.html\n",
      "Please also refer to the documentation for alternative solver options:\n",
      "    https://scikit-learn.org/stable/modules/linear_model.html#logistic-regression\n",
      "  n_iter_i = _check_optimize_result(\n",
      "/Users/danayt/anaconda3/envs/learn-env/lib/python3.9/site-packages/sklearn/preprocessing/_encoders.py:975: FutureWarning: `sparse` was renamed to `sparse_output` in version 1.2 and will be removed in 1.4. `sparse_output` is ignored unless you leave `sparse` to its default value.\n",
      "  warnings.warn(\n",
      "/Users/danayt/anaconda3/envs/learn-env/lib/python3.9/site-packages/sklearn/linear_model/_logistic.py:460: ConvergenceWarning: lbfgs failed to converge (status=1):\n",
      "STOP: TOTAL NO. of ITERATIONS REACHED LIMIT.\n",
      "\n",
      "Increase the number of iterations (max_iter) or scale the data as shown in:\n",
      "    https://scikit-learn.org/stable/modules/preprocessing.html\n",
      "Please also refer to the documentation for alternative solver options:\n",
      "    https://scikit-learn.org/stable/modules/linear_model.html#logistic-regression\n",
      "  n_iter_i = _check_optimize_result(\n",
      "/Users/danayt/anaconda3/envs/learn-env/lib/python3.9/site-packages/sklearn/preprocessing/_encoders.py:975: FutureWarning: `sparse` was renamed to `sparse_output` in version 1.2 and will be removed in 1.4. `sparse_output` is ignored unless you leave `sparse` to its default value.\n",
      "  warnings.warn(\n",
      "/Users/danayt/anaconda3/envs/learn-env/lib/python3.9/site-packages/sklearn/linear_model/_logistic.py:460: ConvergenceWarning: lbfgs failed to converge (status=1):\n",
      "STOP: TOTAL NO. of ITERATIONS REACHED LIMIT.\n",
      "\n",
      "Increase the number of iterations (max_iter) or scale the data as shown in:\n",
      "    https://scikit-learn.org/stable/modules/preprocessing.html\n",
      "Please also refer to the documentation for alternative solver options:\n",
      "    https://scikit-learn.org/stable/modules/linear_model.html#logistic-regression\n",
      "  n_iter_i = _check_optimize_result(\n",
      "/Users/danayt/anaconda3/envs/learn-env/lib/python3.9/site-packages/sklearn/preprocessing/_encoders.py:975: FutureWarning: `sparse` was renamed to `sparse_output` in version 1.2 and will be removed in 1.4. `sparse_output` is ignored unless you leave `sparse` to its default value.\n",
      "  warnings.warn(\n",
      "/Users/danayt/anaconda3/envs/learn-env/lib/python3.9/site-packages/sklearn/linear_model/_logistic.py:460: ConvergenceWarning: lbfgs failed to converge (status=1):\n",
      "STOP: TOTAL NO. of ITERATIONS REACHED LIMIT.\n",
      "\n",
      "Increase the number of iterations (max_iter) or scale the data as shown in:\n",
      "    https://scikit-learn.org/stable/modules/preprocessing.html\n",
      "Please also refer to the documentation for alternative solver options:\n",
      "    https://scikit-learn.org/stable/modules/linear_model.html#logistic-regression\n",
      "  n_iter_i = _check_optimize_result(\n"
     ]
    },
    {
     "data": {
      "text/plain": [
       "array([0.73138702, 0.72628609, 0.72357282, 0.72889082, 0.73464293])"
      ]
     },
     "execution_count": 185,
     "metadata": {},
     "output_type": "execute_result"
    }
   ],
   "source": [
    "lr1_cv = cross_val_score(lr1, X_train, y_train, cv=5)\n",
    "lr1_cv"
   ]
  },
  {
   "cell_type": "code",
   "execution_count": 188,
   "id": "42d5b169-9f71-44a0-b1e8-d685b70e5ae1",
   "metadata": {},
   "outputs": [
    {
     "name": "stderr",
     "output_type": "stream",
     "text": [
      "/Users/danayt/anaconda3/envs/learn-env/lib/python3.9/site-packages/sklearn/preprocessing/_encoders.py:975: FutureWarning: `sparse` was renamed to `sparse_output` in version 1.2 and will be removed in 1.4. `sparse_output` is ignored unless you leave `sparse` to its default value.\n",
      "  warnings.warn(\n",
      "/Users/danayt/anaconda3/envs/learn-env/lib/python3.9/site-packages/sklearn/linear_model/_logistic.py:460: ConvergenceWarning: lbfgs failed to converge (status=1):\n",
      "STOP: TOTAL NO. of ITERATIONS REACHED LIMIT.\n",
      "\n",
      "Increase the number of iterations (max_iter) or scale the data as shown in:\n",
      "    https://scikit-learn.org/stable/modules/preprocessing.html\n",
      "Please also refer to the documentation for alternative solver options:\n",
      "    https://scikit-learn.org/stable/modules/linear_model.html#logistic-regression\n",
      "  n_iter_i = _check_optimize_result(\n",
      "/Users/danayt/anaconda3/envs/learn-env/lib/python3.9/site-packages/sklearn/preprocessing/_encoders.py:975: FutureWarning: `sparse` was renamed to `sparse_output` in version 1.2 and will be removed in 1.4. `sparse_output` is ignored unless you leave `sparse` to its default value.\n",
      "  warnings.warn(\n",
      "/Users/danayt/anaconda3/envs/learn-env/lib/python3.9/site-packages/sklearn/linear_model/_logistic.py:460: ConvergenceWarning: lbfgs failed to converge (status=1):\n",
      "STOP: TOTAL NO. of ITERATIONS REACHED LIMIT.\n",
      "\n",
      "Increase the number of iterations (max_iter) or scale the data as shown in:\n",
      "    https://scikit-learn.org/stable/modules/preprocessing.html\n",
      "Please also refer to the documentation for alternative solver options:\n",
      "    https://scikit-learn.org/stable/modules/linear_model.html#logistic-regression\n",
      "  n_iter_i = _check_optimize_result(\n",
      "/Users/danayt/anaconda3/envs/learn-env/lib/python3.9/site-packages/sklearn/preprocessing/_encoders.py:975: FutureWarning: `sparse` was renamed to `sparse_output` in version 1.2 and will be removed in 1.4. `sparse_output` is ignored unless you leave `sparse` to its default value.\n",
      "  warnings.warn(\n",
      "/Users/danayt/anaconda3/envs/learn-env/lib/python3.9/site-packages/sklearn/linear_model/_logistic.py:460: ConvergenceWarning: lbfgs failed to converge (status=1):\n",
      "STOP: TOTAL NO. of ITERATIONS REACHED LIMIT.\n",
      "\n",
      "Increase the number of iterations (max_iter) or scale the data as shown in:\n",
      "    https://scikit-learn.org/stable/modules/preprocessing.html\n",
      "Please also refer to the documentation for alternative solver options:\n",
      "    https://scikit-learn.org/stable/modules/linear_model.html#logistic-regression\n",
      "  n_iter_i = _check_optimize_result(\n",
      "/Users/danayt/anaconda3/envs/learn-env/lib/python3.9/site-packages/sklearn/preprocessing/_encoders.py:975: FutureWarning: `sparse` was renamed to `sparse_output` in version 1.2 and will be removed in 1.4. `sparse_output` is ignored unless you leave `sparse` to its default value.\n",
      "  warnings.warn(\n",
      "/Users/danayt/anaconda3/envs/learn-env/lib/python3.9/site-packages/sklearn/linear_model/_logistic.py:460: ConvergenceWarning: lbfgs failed to converge (status=1):\n",
      "STOP: TOTAL NO. of ITERATIONS REACHED LIMIT.\n",
      "\n",
      "Increase the number of iterations (max_iter) or scale the data as shown in:\n",
      "    https://scikit-learn.org/stable/modules/preprocessing.html\n",
      "Please also refer to the documentation for alternative solver options:\n",
      "    https://scikit-learn.org/stable/modules/linear_model.html#logistic-regression\n",
      "  n_iter_i = _check_optimize_result(\n",
      "/Users/danayt/anaconda3/envs/learn-env/lib/python3.9/site-packages/sklearn/preprocessing/_encoders.py:975: FutureWarning: `sparse` was renamed to `sparse_output` in version 1.2 and will be removed in 1.4. `sparse_output` is ignored unless you leave `sparse` to its default value.\n",
      "  warnings.warn(\n",
      "/Users/danayt/anaconda3/envs/learn-env/lib/python3.9/site-packages/sklearn/linear_model/_logistic.py:460: ConvergenceWarning: lbfgs failed to converge (status=1):\n",
      "STOP: TOTAL NO. of ITERATIONS REACHED LIMIT.\n",
      "\n",
      "Increase the number of iterations (max_iter) or scale the data as shown in:\n",
      "    https://scikit-learn.org/stable/modules/preprocessing.html\n",
      "Please also refer to the documentation for alternative solver options:\n",
      "    https://scikit-learn.org/stable/modules/linear_model.html#logistic-regression\n",
      "  n_iter_i = _check_optimize_result(\n"
     ]
    },
    {
     "data": {
      "text/plain": [
       "0.6581956900813342"
      ]
     },
     "execution_count": 188,
     "metadata": {},
     "output_type": "execute_result"
    }
   ],
   "source": [
    "lr1_logloss = -1*(cross_val_score(estimator=lr1, X=X_train, y=y_train, scoring=\"neg_log_loss\").mean())\n",
    "lr1_logloss"
   ]
  },
  {
   "cell_type": "code",
   "execution_count": 190,
   "id": "245f7c04-4dd1-43e3-92c4-71a7599b707e",
   "metadata": {},
   "outputs": [
    {
     "name": "stdout",
     "output_type": "stream",
     "text": [
      "Accuracy:\n",
      "Train Accuracy: 0.7298241805947471\n",
      "Test Accuracy: 0.7257336343115124\n",
      "\n",
      "Balanced Accuracy:\n",
      "Train Accuracy: 0.5082261808855584\n",
      "Test Accuracy: 0.5055801344470208\n"
     ]
    }
   ],
   "source": [
    "y_train_lr1 = lr1.predict(X_train)\n",
    "y_test_pred_lr1= lr1.predict(X_test)\n",
    "\n",
    "print(\"Accuracy:\")\n",
    "train_accuracy = accuracy_score(y_train, y_train_lr1)\n",
    "print(\"Train Accuracy:\", train_accuracy)\n",
    "\n",
    "test_accuracy = accuracy_score(y_test, y_test_pred_lr1)\n",
    "print(\"Test Accuracy:\", test_accuracy)\n",
    "\n",
    "print(\"\\nBalanced Accuracy:\")\n",
    "train_accuracy = balanced_accuracy_score(y_train, y_train_lr1)\n",
    "print(\"Train Accuracy:\", train_accuracy)\n",
    "\n",
    "test_accuracy = balanced_accuracy_score(y_test, y_test_pred_lr1)\n",
    "print(\"Test Accuracy:\", test_accuracy)"
   ]
  },
  {
   "cell_type": "code",
   "execution_count": 191,
   "id": "bbbc75e2-19d0-4006-a5f4-2bf00786a899",
   "metadata": {},
   "outputs": [
    {
     "name": "stdout",
     "output_type": "stream",
     "text": [
      "              precision    recall  f1-score   support\n",
      "\n",
      "           0       0.78      0.60      0.68      4426\n",
      "           1       0.55      0.01      0.03       791\n",
      "           2       0.70      0.90      0.79      6301\n",
      "\n",
      "    accuracy                           0.73     11518\n",
      "   macro avg       0.68      0.51      0.50     11518\n",
      "weighted avg       0.72      0.73      0.69     11518\n",
      "\n"
     ]
    },
    {
     "data": {
      "image/png": "[encoded data removed]",
      "text/plain": [
       "<Figure size 640x480 with 2 Axes>"
      ]
     },
     "metadata": {},
     "output_type": "display_data"
    }
   ],
   "source": [
    "print(classification_report(y_test, y_test_pred_lr1)) \n",
    "cm = confusion_matrix(y_test, y_test_pred_lr1)\n",
    "disp = ConfusionMatrixDisplay(confusion_matrix=cm)\n",
    "disp.plot()\n",
    "plt.show()"
   ]
  },
  {
   "cell_type": "code",
   "execution_count": 193,
   "id": "bddf6e1c-4266-4a9f-abc4-b6262f18a166",
   "metadata": {},
   "outputs": [],
   "source": [
    "results_2 = pd.DataFrame({       \n",
    "     \"Model\": ['LogisticRegression'],\n",
    "    \"val_score\": [0.73],\n",
    "      \"test_balanced_acc\": [0.508], \n",
    "       'train_balanced_acc' : [0.505],\n",
    "    'logloss':[0.658],\n",
    "               'info' : ['simple_lr'],\n",
    "    'param':['Random_state=42']\n",
    "})\n",
    "results = pd.concat([results, results_2], ignore_index =True)"
   ]
  },
  {
   "cell_type": "markdown",
   "id": "84a222d8-be83-4527-b33a-be18e27acf4a",
   "metadata": {},
   "source": [
    "# Model Tunining \n",
    ">- will first look into the available parameters we can change and use the most applicable to our case\n",
    ">- Creating another logistic regression with improved prameters\n",
    ">- Will be srating with 'classifier__class_weight', 'classifier__multi_class', 'classifier__solver'\n",
    ">- The results are lower for accuracy but we've balanced outcome with accuracy and balanced accuracy yielding similar results\n",
    ">>-Train Accuracy: 0.630518775775993\n",
    ">>-Test Accuracy: 0.6326619204723042\n",
    "\n",
    ">>-Train Accuracy: 0.6149925249972608\n",
    ">>-Test Accuracy: 0.6140623009408069\n",
    ">- But we've an increased log loss and we'll need to try grid searching for best params"
   ]
  },
  {
   "cell_type": "code",
   "execution_count": 195,
   "id": "8128fc05-7571-46ec-9579-b0b148f43f47",
   "metadata": {},
   "outputs": [
    {
     "data": {
      "text/plain": [
       "dict_keys(['memory', 'steps', 'verbose', 'ct', 'classifier', 'ct__n_jobs', 'ct__remainder', 'ct__sparse_threshold', 'ct__transformer_weights', 'ct__transformers', 'ct__verbose', 'ct__verbose_feature_names_out', 'ct__cat', 'ct__num', 'ct__cat__memory', 'ct__cat__steps', 'ct__cat__verbose', 'ct__cat__imputer', 'ct__cat__encoder', 'ct__cat__imputer__add_indicator', 'ct__cat__imputer__copy', 'ct__cat__imputer__fill_value', 'ct__cat__imputer__keep_empty_features', 'ct__cat__imputer__missing_values', 'ct__cat__imputer__strategy', 'ct__cat__encoder__categories', 'ct__cat__encoder__drop', 'ct__cat__encoder__dtype', 'ct__cat__encoder__feature_name_combiner', 'ct__cat__encoder__handle_unknown', 'ct__cat__encoder__max_categories', 'ct__cat__encoder__min_frequency', 'ct__cat__encoder__sparse', 'ct__cat__encoder__sparse_output', 'ct__num__memory', 'ct__num__steps', 'ct__num__verbose', 'ct__num__imputer', 'ct__num__scaler', 'ct__num__imputer__add_indicator', 'ct__num__imputer__copy', 'ct__num__imputer__fill_value', 'ct__num__imputer__keep_empty_features', 'ct__num__imputer__missing_values', 'ct__num__imputer__strategy', 'ct__num__scaler__copy', 'ct__num__scaler__with_mean', 'ct__num__scaler__with_std', 'classifier__C', 'classifier__class_weight', 'classifier__dual', 'classifier__fit_intercept', 'classifier__intercept_scaling', 'classifier__l1_ratio', 'classifier__max_iter', 'classifier__multi_class', 'classifier__n_jobs', 'classifier__penalty', 'classifier__random_state', 'classifier__solver', 'classifier__tol', 'classifier__verbose', 'classifier__warm_start'])"
      ]
     },
     "execution_count": 195,
     "metadata": {},
     "output_type": "execute_result"
    }
   ],
   "source": [
    "lr1.get_params().keys()"
   ]
  },
  {
   "cell_type": "code",
   "execution_count": 199,
   "id": "a13144dd-529e-48b7-848b-a4c346c5ce80",
   "metadata": {},
   "outputs": [],
   "source": [
    "lr2 = Pipeline(steps=[\n",
    "    ('ct', CT),\n",
    "    ('classifier', LogisticRegression(random_state =42, multi_class='multinomial', solver='saga', class_weight='balanced', n_jobs=-1))\n",
    "])"
   ]
  },
  {
   "cell_type": "code",
   "execution_count": 200,
   "id": "94b42811-b6f3-4f79-9d5d-d87c4efed854",
   "metadata": {},
   "outputs": [
    {
     "name": "stderr",
     "output_type": "stream",
     "text": [
      "/Users/danayt/anaconda3/envs/learn-env/lib/python3.9/site-packages/sklearn/preprocessing/_encoders.py:975: FutureWarning: `sparse` was renamed to `sparse_output` in version 1.2 and will be removed in 1.4. `sparse_output` is ignored unless you leave `sparse` to its default value.\n",
      "  warnings.warn(\n",
      "/Users/danayt/anaconda3/envs/learn-env/lib/python3.9/site-packages/sklearn/linear_model/_sag.py:350: ConvergenceWarning: The max_iter was reached which means the coef_ did not converge\n",
      "  warnings.warn(\n"
     ]
    },
    {
     "data": {
      "text/html": [
       "<style>#sk-container-id-5 {color: black;}#sk-container-id-5 pre{padding: 0;}#sk-container-id-5 div.sk-toggleable {background-color: white;}#sk-container-id-5 label.sk-toggleable__label {cursor: pointer;display: block;width: 100%;margin-bottom: 0;padding: 0.3em;box-sizing: border-box;text-align: center;}#sk-container-id-5 label.sk-toggleable__label-arrow:before {content: \"▸\";float: left;margin-right: 0.25em;color: #696969;}#sk-container-id-5 label.sk-toggleable__label-arrow:hover:before {color: black;}#sk-container-id-5 div.sk-estimator:hover label.sk-toggleable__label-arrow:before {color: black;}#sk-container-id-5 div.sk-toggleable__content {max-height: 0;max-width: 0;overflow: hidden;text-align: left;background-color: #f0f8ff;}#sk-container-id-5 div.sk-toggleable__content pre {margin: 0.2em;color: black;border-radius: 0.25em;background-color: #f0f8ff;}#sk-container-id-5 input.sk-toggleable__control:checked~div.sk-toggleable__content {max-height: 200px;max-width: 100%;overflow: auto;}#sk-container-id-5 input.sk-toggleable__control:checked~label.sk-toggleable__label-arrow:before {content: \"▾\";}#sk-container-id-5 div.sk-estimator input.sk-toggleable__control:checked~label.sk-toggleable__label {background-color: #d4ebff;}#sk-container-id-5 div.sk-label input.sk-toggleable__control:checked~label.sk-toggleable__label {background-color: #d4ebff;}#sk-container-id-5 input.sk-hidden--visually {border: 0;clip: rect(1px 1px 1px 1px);clip: rect(1px, 1px, 1px, 1px);height: 1px;margin: -1px;overflow: hidden;padding: 0;position: absolute;width: 1px;}#sk-container-id-5 div.sk-estimator {font-family: monospace;background-color: #f0f8ff;border: 1px dotted black;border-radius: 0.25em;box-sizing: border-box;margin-bottom: 0.5em;}#sk-container-id-5 div.sk-estimator:hover {background-color: #d4ebff;}#sk-container-id-5 div.sk-parallel-item::after {content: \"\";width: 100%;border-bottom: 1px solid gray;flex-grow: 1;}#sk-container-id-5 div.sk-label:hover label.sk-toggleable__label {background-color: #d4ebff;}#sk-container-id-5 div.sk-serial::before {content: \"\";position: absolute;border-left: 1px solid gray;box-sizing: border-box;top: 0;bottom: 0;left: 50%;z-index: 0;}#sk-container-id-5 div.sk-serial {display: flex;flex-direction: column;align-items: center;background-color: white;padding-right: 0.2em;padding-left: 0.2em;position: relative;}#sk-container-id-5 div.sk-item {position: relative;z-index: 1;}#sk-container-id-5 div.sk-parallel {display: flex;align-items: stretch;justify-content: center;background-color: white;position: relative;}#sk-container-id-5 div.sk-item::before, #sk-container-id-5 div.sk-parallel-item::before {content: \"\";position: absolute;border-left: 1px solid gray;box-sizing: border-box;top: 0;bottom: 0;left: 50%;z-index: -1;}#sk-container-id-5 div.sk-parallel-item {display: flex;flex-direction: column;z-index: 1;position: relative;background-color: white;}#sk-container-id-5 div.sk-parallel-item:first-child::after {align-self: flex-end;width: 50%;}#sk-container-id-5 div.sk-parallel-item:last-child::after {align-self: flex-start;width: 50%;}#sk-container-id-5 div.sk-parallel-item:only-child::after {width: 0;}#sk-container-id-5 div.sk-dashed-wrapped {border: 1px dashed gray;margin: 0 0.4em 0.5em 0.4em;box-sizing: border-box;padding-bottom: 0.4em;background-color: white;}#sk-container-id-5 div.sk-label label {font-family: monospace;font-weight: bold;display: inline-block;line-height: 1.2em;}#sk-container-id-5 div.sk-label-container {text-align: center;}#sk-container-id-5 div.sk-container {/* jupyter's `normalize.less` sets `[hidden] { display: none; }` but bootstrap.min.css set `[hidden] { display: none !important; }` so we also need the `!important` here to be able to override the default hidden behavior on the sphinx rendered scikit-learn.org. See: https://github.com/scikit-learn/scikit-learn/issues/21755 */display: inline-block !important;position: relative;}#sk-container-id-5 div.sk-text-repr-fallback {display: none;}</style><div id=\"sk-container-id-5\" class=\"sk-top-container\"><div class=\"sk-text-repr-fallback\"><pre>Pipeline(steps=[(&#x27;ct&#x27;,\n",
       "                 ColumnTransformer(remainder=&#x27;passthrough&#x27;,\n",
       "                                   transformers=[(&#x27;cat&#x27;,\n",
       "                                                  Pipeline(steps=[(&#x27;imputer&#x27;,\n",
       "                                                                   SimpleImputer(add_indicator=True,\n",
       "                                                                                 strategy=&#x27;most_frequent&#x27;)),\n",
       "                                                                  (&#x27;encoder&#x27;,\n",
       "                                                                   OneHotEncoder(handle_unknown=&#x27;ignore&#x27;,\n",
       "                                                                                 sparse=False))]),\n",
       "                                                  [&#x27;installer&#x27;, &#x27;funder&#x27;,\n",
       "                                                   &#x27;basin&#x27;, &#x27;management_group&#x27;,\n",
       "                                                   &#x27;extraction_type_class&#x27;,\n",
       "                                                   &#x27;payment&#x27;, &#x27;water_quality&#x27;,\n",
       "                                                   &#x27;quantity&#x27;, &#x27;s...\n",
       "                                                   &#x27;source_class&#x27;,\n",
       "                                                   &#x27;waterpoint_type_group&#x27;]),\n",
       "                                                 (&#x27;num&#x27;,\n",
       "                                                  Pipeline(steps=[(&#x27;imputer&#x27;,\n",
       "                                                                   SimpleImputer(add_indicator=True,\n",
       "                                                                                 strategy=&#x27;median&#x27;)),\n",
       "                                                                  (&#x27;scaler&#x27;,\n",
       "                                                                   StandardScaler())]),\n",
       "                                                  [&#x27;gps_height&#x27;, &#x27;population&#x27;,\n",
       "                                                   &#x27;age_of_well&#x27;, &#x27;permit&#x27;,\n",
       "                                                   &#x27;public_meeting&#x27;])])),\n",
       "                (&#x27;classifier&#x27;,\n",
       "                 LogisticRegression(class_weight=&#x27;balanced&#x27;,\n",
       "                                    multi_class=&#x27;multinomial&#x27;, n_jobs=-1,\n",
       "                                    random_state=42, solver=&#x27;saga&#x27;))])</pre><b>In a Jupyter environment, please rerun this cell to show the HTML representation or trust the notebook. <br />On GitHub, the HTML representation is unable to render, please try loading this page with nbviewer.org.</b></div><div class=\"sk-container\" hidden><div class=\"sk-item sk-dashed-wrapped\"><div class=\"sk-label-container\"><div class=\"sk-label sk-toggleable\"><input class=\"sk-toggleable__control sk-hidden--visually\" id=\"sk-estimator-id-45\" type=\"checkbox\" ><label for=\"sk-estimator-id-45\" class=\"sk-toggleable__label sk-toggleable__label-arrow\">Pipeline</label><div class=\"sk-toggleable__content\"><pre>Pipeline(steps=[(&#x27;ct&#x27;,\n",
       "                 ColumnTransformer(remainder=&#x27;passthrough&#x27;,\n",
       "                                   transformers=[(&#x27;cat&#x27;,\n",
       "                                                  Pipeline(steps=[(&#x27;imputer&#x27;,\n",
       "                                                                   SimpleImputer(add_indicator=True,\n",
       "                                                                                 strategy=&#x27;most_frequent&#x27;)),\n",
       "                                                                  (&#x27;encoder&#x27;,\n",
       "                                                                   OneHotEncoder(handle_unknown=&#x27;ignore&#x27;,\n",
       "                                                                                 sparse=False))]),\n",
       "                                                  [&#x27;installer&#x27;, &#x27;funder&#x27;,\n",
       "                                                   &#x27;basin&#x27;, &#x27;management_group&#x27;,\n",
       "                                                   &#x27;extraction_type_class&#x27;,\n",
       "                                                   &#x27;payment&#x27;, &#x27;water_quality&#x27;,\n",
       "                                                   &#x27;quantity&#x27;, &#x27;s...\n",
       "                                                   &#x27;source_class&#x27;,\n",
       "                                                   &#x27;waterpoint_type_group&#x27;]),\n",
       "                                                 (&#x27;num&#x27;,\n",
       "                                                  Pipeline(steps=[(&#x27;imputer&#x27;,\n",
       "                                                                   SimpleImputer(add_indicator=True,\n",
       "                                                                                 strategy=&#x27;median&#x27;)),\n",
       "                                                                  (&#x27;scaler&#x27;,\n",
       "                                                                   StandardScaler())]),\n",
       "                                                  [&#x27;gps_height&#x27;, &#x27;population&#x27;,\n",
       "                                                   &#x27;age_of_well&#x27;, &#x27;permit&#x27;,\n",
       "                                                   &#x27;public_meeting&#x27;])])),\n",
       "                (&#x27;classifier&#x27;,\n",
       "                 LogisticRegression(class_weight=&#x27;balanced&#x27;,\n",
       "                                    multi_class=&#x27;multinomial&#x27;, n_jobs=-1,\n",
       "                                    random_state=42, solver=&#x27;saga&#x27;))])</pre></div></div></div><div class=\"sk-serial\"><div class=\"sk-item sk-dashed-wrapped\"><div class=\"sk-label-container\"><div class=\"sk-label sk-toggleable\"><input class=\"sk-toggleable__control sk-hidden--visually\" id=\"sk-estimator-id-46\" type=\"checkbox\" ><label for=\"sk-estimator-id-46\" class=\"sk-toggleable__label sk-toggleable__label-arrow\">ct: ColumnTransformer</label><div class=\"sk-toggleable__content\"><pre>ColumnTransformer(remainder=&#x27;passthrough&#x27;,\n",
       "                  transformers=[(&#x27;cat&#x27;,\n",
       "                                 Pipeline(steps=[(&#x27;imputer&#x27;,\n",
       "                                                  SimpleImputer(add_indicator=True,\n",
       "                                                                strategy=&#x27;most_frequent&#x27;)),\n",
       "                                                 (&#x27;encoder&#x27;,\n",
       "                                                  OneHotEncoder(handle_unknown=&#x27;ignore&#x27;,\n",
       "                                                                sparse=False))]),\n",
       "                                 [&#x27;installer&#x27;, &#x27;funder&#x27;, &#x27;basin&#x27;,\n",
       "                                  &#x27;management_group&#x27;, &#x27;extraction_type_class&#x27;,\n",
       "                                  &#x27;payment&#x27;, &#x27;water_quality&#x27;, &#x27;quantity&#x27;,\n",
       "                                  &#x27;source&#x27;, &#x27;source_class&#x27;,\n",
       "                                  &#x27;waterpoint_type_group&#x27;]),\n",
       "                                (&#x27;num&#x27;,\n",
       "                                 Pipeline(steps=[(&#x27;imputer&#x27;,\n",
       "                                                  SimpleImputer(add_indicator=True,\n",
       "                                                                strategy=&#x27;median&#x27;)),\n",
       "                                                 (&#x27;scaler&#x27;, StandardScaler())]),\n",
       "                                 [&#x27;gps_height&#x27;, &#x27;population&#x27;, &#x27;age_of_well&#x27;,\n",
       "                                  &#x27;permit&#x27;, &#x27;public_meeting&#x27;])])</pre></div></div></div><div class=\"sk-parallel\"><div class=\"sk-parallel-item\"><div class=\"sk-item\"><div class=\"sk-label-container\"><div class=\"sk-label sk-toggleable\"><input class=\"sk-toggleable__control sk-hidden--visually\" id=\"sk-estimator-id-47\" type=\"checkbox\" ><label for=\"sk-estimator-id-47\" class=\"sk-toggleable__label sk-toggleable__label-arrow\">cat</label><div class=\"sk-toggleable__content\"><pre>[&#x27;installer&#x27;, &#x27;funder&#x27;, &#x27;basin&#x27;, &#x27;management_group&#x27;, &#x27;extraction_type_class&#x27;, &#x27;payment&#x27;, &#x27;water_quality&#x27;, &#x27;quantity&#x27;, &#x27;source&#x27;, &#x27;source_class&#x27;, &#x27;waterpoint_type_group&#x27;]</pre></div></div></div><div class=\"sk-serial\"><div class=\"sk-item\"><div class=\"sk-serial\"><div class=\"sk-item\"><div class=\"sk-estimator sk-toggleable\"><input class=\"sk-toggleable__control sk-hidden--visually\" id=\"sk-estimator-id-48\" type=\"checkbox\" ><label for=\"sk-estimator-id-48\" class=\"sk-toggleable__label sk-toggleable__label-arrow\">SimpleImputer</label><div class=\"sk-toggleable__content\"><pre>SimpleImputer(add_indicator=True, strategy=&#x27;most_frequent&#x27;)</pre></div></div></div><div class=\"sk-item\"><div class=\"sk-estimator sk-toggleable\"><input class=\"sk-toggleable__control sk-hidden--visually\" id=\"sk-estimator-id-49\" type=\"checkbox\" ><label for=\"sk-estimator-id-49\" class=\"sk-toggleable__label sk-toggleable__label-arrow\">OneHotEncoder</label><div class=\"sk-toggleable__content\"><pre>OneHotEncoder(handle_unknown=&#x27;ignore&#x27;, sparse=False)</pre></div></div></div></div></div></div></div></div><div class=\"sk-parallel-item\"><div class=\"sk-item\"><div class=\"sk-label-container\"><div class=\"sk-label sk-toggleable\"><input class=\"sk-toggleable__control sk-hidden--visually\" id=\"sk-estimator-id-50\" type=\"checkbox\" ><label for=\"sk-estimator-id-50\" class=\"sk-toggleable__label sk-toggleable__label-arrow\">num</label><div class=\"sk-toggleable__content\"><pre>[&#x27;gps_height&#x27;, &#x27;population&#x27;, &#x27;age_of_well&#x27;, &#x27;permit&#x27;, &#x27;public_meeting&#x27;]</pre></div></div></div><div class=\"sk-serial\"><div class=\"sk-item\"><div class=\"sk-serial\"><div class=\"sk-item\"><div class=\"sk-estimator sk-toggleable\"><input class=\"sk-toggleable__control sk-hidden--visually\" id=\"sk-estimator-id-51\" type=\"checkbox\" ><label for=\"sk-estimator-id-51\" class=\"sk-toggleable__label sk-toggleable__label-arrow\">SimpleImputer</label><div class=\"sk-toggleable__content\"><pre>SimpleImputer(add_indicator=True, strategy=&#x27;median&#x27;)</pre></div></div></div><div class=\"sk-item\"><div class=\"sk-estimator sk-toggleable\"><input class=\"sk-toggleable__control sk-hidden--visually\" id=\"sk-estimator-id-52\" type=\"checkbox\" ><label for=\"sk-estimator-id-52\" class=\"sk-toggleable__label sk-toggleable__label-arrow\">StandardScaler</label><div class=\"sk-toggleable__content\"><pre>StandardScaler()</pre></div></div></div></div></div></div></div></div><div class=\"sk-parallel-item\"><div class=\"sk-item\"><div class=\"sk-label-container\"><div class=\"sk-label sk-toggleable\"><input class=\"sk-toggleable__control sk-hidden--visually\" id=\"sk-estimator-id-53\" type=\"checkbox\" ><label for=\"sk-estimator-id-53\" class=\"sk-toggleable__label sk-toggleable__label-arrow\">remainder</label><div class=\"sk-toggleable__content\"><pre>[&#x27;longitude&#x27;, &#x27;latitude&#x27;]</pre></div></div></div><div class=\"sk-serial\"><div class=\"sk-item\"><div class=\"sk-estimator sk-toggleable\"><input class=\"sk-toggleable__control sk-hidden--visually\" id=\"sk-estimator-id-54\" type=\"checkbox\" ><label for=\"sk-estimator-id-54\" class=\"sk-toggleable__label sk-toggleable__label-arrow\">passthrough</label><div class=\"sk-toggleable__content\"><pre>passthrough</pre></div></div></div></div></div></div></div></div><div class=\"sk-item\"><div class=\"sk-estimator sk-toggleable\"><input class=\"sk-toggleable__control sk-hidden--visually\" id=\"sk-estimator-id-55\" type=\"checkbox\" ><label for=\"sk-estimator-id-55\" class=\"sk-toggleable__label sk-toggleable__label-arrow\">LogisticRegression</label><div class=\"sk-toggleable__content\"><pre>LogisticRegression(class_weight=&#x27;balanced&#x27;, multi_class=&#x27;multinomial&#x27;,\n",
       "                   n_jobs=-1, random_state=42, solver=&#x27;saga&#x27;)</pre></div></div></div></div></div></div></div>"
      ],
      "text/plain": [
       "Pipeline(steps=[('ct',\n",
       "                 ColumnTransformer(remainder='passthrough',\n",
       "                                   transformers=[('cat',\n",
       "                                                  Pipeline(steps=[('imputer',\n",
       "                                                                   SimpleImputer(add_indicator=True,\n",
       "                                                                                 strategy='most_frequent')),\n",
       "                                                                  ('encoder',\n",
       "                                                                   OneHotEncoder(handle_unknown='ignore',\n",
       "                                                                                 sparse=False))]),\n",
       "                                                  ['installer', 'funder',\n",
       "                                                   'basin', 'management_group',\n",
       "                                                   'extraction_type_class',\n",
       "                                                   'payment', 'water_quality',\n",
       "                                                   'quantity', 's...\n",
       "                                                   'source_class',\n",
       "                                                   'waterpoint_type_group']),\n",
       "                                                 ('num',\n",
       "                                                  Pipeline(steps=[('imputer',\n",
       "                                                                   SimpleImputer(add_indicator=True,\n",
       "                                                                                 strategy='median')),\n",
       "                                                                  ('scaler',\n",
       "                                                                   StandardScaler())]),\n",
       "                                                  ['gps_height', 'population',\n",
       "                                                   'age_of_well', 'permit',\n",
       "                                                   'public_meeting'])])),\n",
       "                ('classifier',\n",
       "                 LogisticRegression(class_weight='balanced',\n",
       "                                    multi_class='multinomial', n_jobs=-1,\n",
       "                                    random_state=42, solver='saga'))])"
      ]
     },
     "execution_count": 200,
     "metadata": {},
     "output_type": "execute_result"
    }
   ],
   "source": [
    "lr2.fit(X_train, y_train)"
   ]
  },
  {
   "cell_type": "code",
   "execution_count": 207,
   "id": "c191bb18-dc04-408e-893b-3a1b89c24058",
   "metadata": {},
   "outputs": [
    {
     "name": "stderr",
     "output_type": "stream",
     "text": [
      "/Users/danayt/anaconda3/envs/learn-env/lib/python3.9/site-packages/sklearn/preprocessing/_encoders.py:975: FutureWarning: `sparse` was renamed to `sparse_output` in version 1.2 and will be removed in 1.4. `sparse_output` is ignored unless you leave `sparse` to its default value.\n",
      "  warnings.warn(\n",
      "/Users/danayt/anaconda3/envs/learn-env/lib/python3.9/site-packages/sklearn/linear_model/_sag.py:350: ConvergenceWarning: The max_iter was reached which means the coef_ did not converge\n",
      "  warnings.warn(\n",
      "/Users/danayt/anaconda3/envs/learn-env/lib/python3.9/site-packages/sklearn/preprocessing/_encoders.py:975: FutureWarning: `sparse` was renamed to `sparse_output` in version 1.2 and will be removed in 1.4. `sparse_output` is ignored unless you leave `sparse` to its default value.\n",
      "  warnings.warn(\n",
      "/Users/danayt/anaconda3/envs/learn-env/lib/python3.9/site-packages/sklearn/linear_model/_sag.py:350: ConvergenceWarning: The max_iter was reached which means the coef_ did not converge\n",
      "  warnings.warn(\n",
      "/Users/danayt/anaconda3/envs/learn-env/lib/python3.9/site-packages/sklearn/preprocessing/_encoders.py:975: FutureWarning: `sparse` was renamed to `sparse_output` in version 1.2 and will be removed in 1.4. `sparse_output` is ignored unless you leave `sparse` to its default value.\n",
      "  warnings.warn(\n",
      "/Users/danayt/anaconda3/envs/learn-env/lib/python3.9/site-packages/sklearn/linear_model/_sag.py:350: ConvergenceWarning: The max_iter was reached which means the coef_ did not converge\n",
      "  warnings.warn(\n",
      "/Users/danayt/anaconda3/envs/learn-env/lib/python3.9/site-packages/sklearn/preprocessing/_encoders.py:975: FutureWarning: `sparse` was renamed to `sparse_output` in version 1.2 and will be removed in 1.4. `sparse_output` is ignored unless you leave `sparse` to its default value.\n",
      "  warnings.warn(\n",
      "/Users/danayt/anaconda3/envs/learn-env/lib/python3.9/site-packages/sklearn/linear_model/_sag.py:350: ConvergenceWarning: The max_iter was reached which means the coef_ did not converge\n",
      "  warnings.warn(\n",
      "/Users/danayt/anaconda3/envs/learn-env/lib/python3.9/site-packages/sklearn/preprocessing/_encoders.py:975: FutureWarning: `sparse` was renamed to `sparse_output` in version 1.2 and will be removed in 1.4. `sparse_output` is ignored unless you leave `sparse` to its default value.\n",
      "  warnings.warn(\n",
      "/Users/danayt/anaconda3/envs/learn-env/lib/python3.9/site-packages/sklearn/linear_model/_sag.py:350: ConvergenceWarning: The max_iter was reached which means the coef_ did not converge\n",
      "  warnings.warn(\n"
     ]
    },
    {
     "data": {
      "text/plain": [
       "array([0.63164749, 0.62719774, 0.62969394, 0.63294986, 0.62958541])"
      ]
     },
     "execution_count": 207,
     "metadata": {},
     "output_type": "execute_result"
    }
   ],
   "source": [
    "lr2_cv = cross_val_score(lr2, X_train, y_train, cv=5)\n",
    "lr2_cv"
   ]
  },
  {
   "cell_type": "code",
   "execution_count": 204,
   "id": "98fb1257-ac7e-4790-b10e-60fc4d19b9b0",
   "metadata": {},
   "outputs": [
    {
     "name": "stderr",
     "output_type": "stream",
     "text": [
      "/Users/danayt/anaconda3/envs/learn-env/lib/python3.9/site-packages/sklearn/preprocessing/_encoders.py:975: FutureWarning: `sparse` was renamed to `sparse_output` in version 1.2 and will be removed in 1.4. `sparse_output` is ignored unless you leave `sparse` to its default value.\n",
      "  warnings.warn(\n",
      "/Users/danayt/anaconda3/envs/learn-env/lib/python3.9/site-packages/sklearn/linear_model/_sag.py:350: ConvergenceWarning: The max_iter was reached which means the coef_ did not converge\n",
      "  warnings.warn(\n",
      "/Users/danayt/anaconda3/envs/learn-env/lib/python3.9/site-packages/sklearn/preprocessing/_encoders.py:975: FutureWarning: `sparse` was renamed to `sparse_output` in version 1.2 and will be removed in 1.4. `sparse_output` is ignored unless you leave `sparse` to its default value.\n",
      "  warnings.warn(\n",
      "/Users/danayt/anaconda3/envs/learn-env/lib/python3.9/site-packages/sklearn/linear_model/_sag.py:350: ConvergenceWarning: The max_iter was reached which means the coef_ did not converge\n",
      "  warnings.warn(\n",
      "/Users/danayt/anaconda3/envs/learn-env/lib/python3.9/site-packages/sklearn/preprocessing/_encoders.py:975: FutureWarning: `sparse` was renamed to `sparse_output` in version 1.2 and will be removed in 1.4. `sparse_output` is ignored unless you leave `sparse` to its default value.\n",
      "  warnings.warn(\n",
      "/Users/danayt/anaconda3/envs/learn-env/lib/python3.9/site-packages/sklearn/linear_model/_sag.py:350: ConvergenceWarning: The max_iter was reached which means the coef_ did not converge\n",
      "  warnings.warn(\n",
      "/Users/danayt/anaconda3/envs/learn-env/lib/python3.9/site-packages/sklearn/preprocessing/_encoders.py:975: FutureWarning: `sparse` was renamed to `sparse_output` in version 1.2 and will be removed in 1.4. `sparse_output` is ignored unless you leave `sparse` to its default value.\n",
      "  warnings.warn(\n",
      "/Users/danayt/anaconda3/envs/learn-env/lib/python3.9/site-packages/sklearn/linear_model/_sag.py:350: ConvergenceWarning: The max_iter was reached which means the coef_ did not converge\n",
      "  warnings.warn(\n",
      "/Users/danayt/anaconda3/envs/learn-env/lib/python3.9/site-packages/sklearn/preprocessing/_encoders.py:975: FutureWarning: `sparse` was renamed to `sparse_output` in version 1.2 and will be removed in 1.4. `sparse_output` is ignored unless you leave `sparse` to its default value.\n",
      "  warnings.warn(\n",
      "/Users/danayt/anaconda3/envs/learn-env/lib/python3.9/site-packages/sklearn/linear_model/_sag.py:350: ConvergenceWarning: The max_iter was reached which means the coef_ did not converge\n",
      "  warnings.warn(\n"
     ]
    },
    {
     "data": {
      "text/plain": [
       "0.8369706664454093"
      ]
     },
     "execution_count": 204,
     "metadata": {},
     "output_type": "execute_result"
    }
   ],
   "source": [
    "lr2_logloss = -1*(cross_val_score(lr2, X_train, y_train, scoring=\"neg_log_loss\").mean())\n",
    "lr2_logloss"
   ]
  },
  {
   "cell_type": "code",
   "execution_count": 205,
   "id": "5d823de5-607e-4acb-8ebc-9ec841968018",
   "metadata": {},
   "outputs": [
    {
     "name": "stdout",
     "output_type": "stream",
     "text": [
      "Accuracy:\n",
      "Train Accuracy: 0.630518775775993\n",
      "Test Accuracy: 0.6326619204723042\n",
      "\n",
      "Balanced Accuracy:\n",
      "Train Accuracy: 0.6149925249972608\n",
      "Test Accuracy: 0.6140623009408069\n"
     ]
    }
   ],
   "source": [
    "y_train_lr2 = lr2.predict(X_train)\n",
    "y_test_pred_lr2= lr2.predict(X_test)\n",
    "\n",
    "print(\"Accuracy:\")\n",
    "train_accuracy = accuracy_score(y_train, y_train_lr2)\n",
    "print(\"Train Accuracy:\", train_accuracy)\n",
    "\n",
    "test_accuracy = accuracy_score(y_test, y_test_pred_lr2)\n",
    "print(\"Test Accuracy:\", test_accuracy)\n",
    "\n",
    "print(\"\\nBalanced Accuracy:\")\n",
    "train_accuracy = balanced_accuracy_score(y_train, y_train_lr2)\n",
    "print(\"Train Accuracy:\", train_accuracy)\n",
    "\n",
    "test_accuracy = balanced_accuracy_score(y_test, y_test_pred_lr2)\n",
    "print(\"Test Accuracy:\", test_accuracy)"
   ]
  },
  {
   "cell_type": "code",
   "execution_count": 206,
   "id": "3dd6dc50-49c3-4f88-93af-c48a431acb13",
   "metadata": {},
   "outputs": [
    {
     "name": "stdout",
     "output_type": "stream",
     "text": [
      "              precision    recall  f1-score   support\n",
      "\n",
      "           0       0.78      0.60      0.68      4426\n",
      "           1       0.17      0.58      0.26       791\n",
      "           2       0.77      0.66      0.71      6301\n",
      "\n",
      "    accuracy                           0.63     11518\n",
      "   macro avg       0.57      0.61      0.55     11518\n",
      "weighted avg       0.73      0.63      0.67     11518\n",
      "\n"
     ]
    },
    {
     "data": {
      "image/png": "[encoded data removed]",
      "text/plain": [
       "<Figure size 640x480 with 2 Axes>"
      ]
     },
     "metadata": {},
     "output_type": "display_data"
    }
   ],
   "source": [
    "print(classification_report(y_test, y_test_pred_lr2)) \n",
    "cm = confusion_matrix(y_test, y_test_pred_lr2)\n",
    "disp = ConfusionMatrixDisplay(confusion_matrix=cm)\n",
    "disp.plot()\n",
    "plt.show()"
   ]
  },
  {
   "cell_type": "code",
   "execution_count": 211,
   "id": "9ee845f9-f719-430c-9598-b3b867bf754c",
   "metadata": {},
   "outputs": [],
   "source": [
    "results_3 = pd.DataFrame({       \n",
    "     \"Model\": ['LogisticRegression'],\n",
    "    \"val_score\": [0.63],\n",
    "      \"test_balanced_acc\": [0.615], \n",
    "       'train_balanced_acc' : [0.614],\n",
    "    'logloss':[0.836],\n",
    "               'info' : ['with_params'],\n",
    "    'param':['multi_class: multinomial,class_weight: balanced,solver:saga']\n",
    "})\n",
    "results = pd.concat([results, results_3], ignore_index =True)"
   ]
  },
  {
   "cell_type": "markdown",
   "id": "41cea709-100d-4e99-8157-91b59c9b5226",
   "metadata": {},
   "source": [
    "# Coefficifient"
   ]
  },
  {
   "cell_type": "code",
   "execution_count": 213,
   "id": "224ea21f-1580-4289-8f0d-e9bd71b23f67",
   "metadata": {},
   "outputs": [],
   "source": [
    "logreg = lr2.named_steps['classifier']"
   ]
  },
  {
   "cell_type": "code",
   "execution_count": 214,
   "id": "e6d75ae0-41b8-4f4b-a826-59c4a9288fd4",
   "metadata": {},
   "outputs": [],
   "source": [
    "logreg_coef = logreg.coef_"
   ]
  },
  {
   "cell_type": "code",
   "execution_count": 215,
   "id": "eda8ba6f-e1a9-4695-929e-ec74cbe8d24b",
   "metadata": {},
   "outputs": [],
   "source": [
    "column_names = lr2.named_steps['ct'].get_feature_names_out()"
   ]
  },
  {
   "cell_type": "code",
   "execution_count": 224,
   "id": "82468ec6-eaae-40ab-9651-1b72bf735a0d",
   "metadata": {},
   "outputs": [
    {
     "data": {
      "text/plain": [
       "{'cat__installer_Community': -0.605516500963481,\n",
       " 'cat__installer_DWE': 0.03235550624135693,\n",
       " 'cat__installer_Government': 0.20073648211599993,\n",
       " 'cat__installer_Others': 0.2830694601539163,\n",
       " 'cat__installer_RWE': 0.3004083443286926,\n",
       " 'cat__installer_unknown': -0.2788448510979396,\n",
       " 'cat__funder_Danida': -0.0515725114032116,\n",
       " 'cat__funder_Government Of Tanzania': 0.16071559920597212,\n",
       " 'cat__funder_Hesawa': -0.08842047105931082,\n",
       " 'cat__funder_Others': -0.10831321625053557,\n",
       " 'cat__funder_World Bank': 0.09905370437227741,\n",
       " 'cat__funder_unknown': -0.07925466408678145,\n",
       " 'cat__basin_Internal': -0.29837539058028933,\n",
       " 'cat__basin_Lake Nyasa': 0.08399809147866391,\n",
       " 'cat__basin_Lake Rukwa': 0.32232621179770543,\n",
       " 'cat__basin_Lake Tanganyika': -0.04262502244411458,\n",
       " 'cat__basin_Lake Victoria': -0.18586241007641152,\n",
       " 'cat__basin_Pangani': 0.001273340200097901,\n",
       " 'cat__basin_Rufiji': 0.1724609055215608,\n",
       " 'cat__basin_Ruvuma / Southern Coast': -0.035981468302530746,\n",
       " 'cat__basin_Wami / Ruvu': -0.085005816816414,\n",
       " 'cat__management_group_commercial': 0.2986648879576176,\n",
       " 'cat__management_group_other': -0.20317661881099316,\n",
       " 'cat__management_group_parastatal': 0.02897104087361811,\n",
       " 'cat__management_group_unknown': -0.3052927395298006,\n",
       " 'cat__management_group_user-group': 0.1130418702879847,\n",
       " 'cat__extraction_type_class_gravity': -0.3257074699066874,\n",
       " 'cat__extraction_type_class_handpump': -0.3292885457110131,\n",
       " 'cat__extraction_type_class_motorpump': 0.14765647811082888,\n",
       " 'cat__extraction_type_class_other': 0.6374352106176987,\n",
       " 'cat__extraction_type_class_rope pump': -0.14985735029659675,\n",
       " 'cat__extraction_type_class_submersible': -0.006685916896637567,\n",
       " 'cat__extraction_type_class_wind-powered': -0.04134396513926735,\n",
       " 'cat__payment_never pay': 0.33673444422328813,\n",
       " 'cat__payment_other': 0.08066958147451463,\n",
       " 'cat__payment_pay annually': -0.3209044912704471,\n",
       " 'cat__payment_pay monthly': -0.20162976222715628,\n",
       " 'cat__payment_pay per bucket': -0.2930144573608466,\n",
       " 'cat__payment_pay when scheme fails': -0.07577036776087713,\n",
       " 'cat__payment_unknown': 0.40612349369982786,\n",
       " 'cat__water_quality_colored': -0.2164543621069996,\n",
       " 'cat__water_quality_fluoride': -0.1216985412032057,\n",
       " 'cat__water_quality_good': 0.15599220241662212,\n",
       " 'cat__water_quality_milky': -0.2864881316456179,\n",
       " 'cat__water_quality_salty': 0.16457408986890618,\n",
       " 'cat__water_quality_unknown': 0.23628318344871937,\n",
       " 'cat__quantity_dry': 1.9827578745147545,\n",
       " 'cat__quantity_enough': -0.9150108666941584,\n",
       " 'cat__quantity_insufficient': -0.7474721691942042,\n",
       " 'cat__quantity_seasonal': -0.7276439514013757,\n",
       " 'cat__quantity_unknown': 0.3395775535540183,\n",
       " 'cat__source_dam': 0.5282787956971735,\n",
       " 'cat__source_hand dtw': 0.4874026046973853,\n",
       " 'cat__source_lake': 0.7235865961632946,\n",
       " 'cat__source_machine dbh': 0.02372948791495487,\n",
       " 'cat__source_other': -0.12490816281806706,\n",
       " 'cat__source_rainwater harvesting': -0.9537373416683752,\n",
       " 'cat__source_river': -0.3191715607114817,\n",
       " 'cat__source_shallow well': -0.09194636729547942,\n",
       " 'cat__source_spring': -0.44199225327291464,\n",
       " 'cat__source_unknown': 0.10096664207178152,\n",
       " 'cat__source_class_groundwater': -0.022806527955947696,\n",
       " 'cat__source_class_surface': -0.021043510519327444,\n",
       " 'cat__source_class_unknown': -0.023941520746289826,\n",
       " 'cat__waterpoint_type_group_cattle trough': 0.1161951033150109,\n",
       " 'cat__waterpoint_type_group_communal standpipe': -0.018811893650890543,\n",
       " 'cat__waterpoint_type_group_dam': 0.0020089193857028877,\n",
       " 'cat__waterpoint_type_group_hand pump': 0.020127018890946067,\n",
       " 'cat__waterpoint_type_group_improved spring': -0.6291368337369232,\n",
       " 'cat__waterpoint_type_group_other': 0.4418261265743817,\n",
       " 'num__gps_height': -0.08364394008348576,\n",
       " 'num__population': -0.050787347758765714,\n",
       " 'num__age_of_well': 0.1573921795695337,\n",
       " 'num__permit': -0.09315107595402353,\n",
       " 'num__public_meeting': -0.017766641446320598,\n",
       " 'remainder__longitude': 0.026995586967099635,\n",
       " 'remainder__latitude': 0.04478260443126232}"
      ]
     },
     "execution_count": 224,
     "metadata": {},
     "output_type": "execute_result"
    }
   ],
   "source": [
    "influential_columns = dict(zip(column_names, logreg_coef[0]))\n",
    "influential_columns"
   ]
  },
  {
   "cell_type": "code",
   "execution_count": 222,
   "id": "4fc22c24-129c-42f7-9403-e4a7a7651103",
   "metadata": {},
   "outputs": [],
   "source": [
    "sorted_columns = sorted(influential_columns.items(),\n",
    "                        key=lambda x:abs(x[1]), reverse=True)"
   ]
  },
  {
   "cell_type": "code",
   "execution_count": 223,
   "id": "71d4333e-616a-48c8-b3ca-0c4f71934522",
   "metadata": {},
   "outputs": [
    {
     "data": {
      "text/plain": [
       "[('cat__quantity_dry', 1.9827578745147545),\n",
       " ('cat__source_rainwater harvesting', -0.9537373416683752),\n",
       " ('cat__quantity_enough', -0.9150108666941584),\n",
       " ('cat__quantity_insufficient', -0.7474721691942042),\n",
       " ('cat__quantity_seasonal', -0.7276439514013757),\n",
       " ('cat__source_lake', 0.7235865961632946),\n",
       " ('cat__extraction_type_class_other', 0.6374352106176987),\n",
       " ('cat__waterpoint_type_group_improved spring', -0.6291368337369232),\n",
       " ('cat__installer_Community', -0.605516500963481),\n",
       " ('cat__source_dam', 0.5282787956971735),\n",
       " ('cat__source_hand dtw', 0.4874026046973853),\n",
       " ('cat__source_spring', -0.44199225327291464),\n",
       " ('cat__waterpoint_type_group_other', 0.4418261265743817),\n",
       " ('cat__payment_unknown', 0.40612349369982786),\n",
       " ('cat__quantity_unknown', 0.3395775535540183),\n",
       " ('cat__payment_never pay', 0.33673444422328813),\n",
       " ('cat__extraction_type_class_handpump', -0.3292885457110131),\n",
       " ('cat__extraction_type_class_gravity', -0.3257074699066874),\n",
       " ('cat__basin_Lake Rukwa', 0.32232621179770543),\n",
       " ('cat__payment_pay annually', -0.3209044912704471),\n",
       " ('cat__source_river', -0.3191715607114817),\n",
       " ('cat__management_group_unknown', -0.3052927395298006),\n",
       " ('cat__installer_RWE', 0.3004083443286926),\n",
       " ('cat__management_group_commercial', 0.2986648879576176),\n",
       " ('cat__basin_Internal', -0.29837539058028933),\n",
       " ('cat__payment_pay per bucket', -0.2930144573608466),\n",
       " ('cat__water_quality_milky', -0.2864881316456179),\n",
       " ('cat__installer_Others', 0.2830694601539163),\n",
       " ('cat__installer_unknown', -0.2788448510979396),\n",
       " ('cat__water_quality_unknown', 0.23628318344871937),\n",
       " ('cat__water_quality_colored', -0.2164543621069996),\n",
       " ('cat__management_group_other', -0.20317661881099316),\n",
       " ('cat__payment_pay monthly', -0.20162976222715628),\n",
       " ('cat__installer_Government', 0.20073648211599993),\n",
       " ('cat__basin_Lake Victoria', -0.18586241007641152),\n",
       " ('cat__basin_Rufiji', 0.1724609055215608),\n",
       " ('cat__water_quality_salty', 0.16457408986890618),\n",
       " ('cat__funder_Government Of Tanzania', 0.16071559920597212),\n",
       " ('num__age_of_well', 0.1573921795695337),\n",
       " ('cat__water_quality_good', 0.15599220241662212),\n",
       " ('cat__extraction_type_class_rope pump', -0.14985735029659675),\n",
       " ('cat__extraction_type_class_motorpump', 0.14765647811082888),\n",
       " ('cat__source_other', -0.12490816281806706),\n",
       " ('cat__water_quality_fluoride', -0.1216985412032057),\n",
       " ('cat__waterpoint_type_group_cattle trough', 0.1161951033150109),\n",
       " ('cat__management_group_user-group', 0.1130418702879847),\n",
       " ('cat__funder_Others', -0.10831321625053557),\n",
       " ('cat__source_unknown', 0.10096664207178152),\n",
       " ('cat__funder_World Bank', 0.09905370437227741),\n",
       " ('num__permit', -0.09315107595402353),\n",
       " ('cat__source_shallow well', -0.09194636729547942),\n",
       " ('cat__funder_Hesawa', -0.08842047105931082),\n",
       " ('cat__basin_Wami / Ruvu', -0.085005816816414),\n",
       " ('cat__basin_Lake Nyasa', 0.08399809147866391),\n",
       " ('num__gps_height', -0.08364394008348576),\n",
       " ('cat__payment_other', 0.08066958147451463),\n",
       " ('cat__funder_unknown', -0.07925466408678145),\n",
       " ('cat__payment_pay when scheme fails', -0.07577036776087713),\n",
       " ('cat__funder_Danida', -0.0515725114032116),\n",
       " ('num__population', -0.050787347758765714),\n",
       " ('remainder__latitude', 0.04478260443126232),\n",
       " ('cat__basin_Lake Tanganyika', -0.04262502244411458),\n",
       " ('cat__extraction_type_class_wind-powered', -0.04134396513926735),\n",
       " ('cat__basin_Ruvuma / Southern Coast', -0.035981468302530746),\n",
       " ('cat__installer_DWE', 0.03235550624135693),\n",
       " ('cat__management_group_parastatal', 0.02897104087361811),\n",
       " ('remainder__longitude', 0.026995586967099635),\n",
       " ('cat__source_class_unknown', -0.023941520746289826),\n",
       " ('cat__source_machine dbh', 0.02372948791495487),\n",
       " ('cat__source_class_groundwater', -0.022806527955947696),\n",
       " ('cat__source_class_surface', -0.021043510519327444),\n",
       " ('cat__waterpoint_type_group_hand pump', 0.020127018890946067),\n",
       " ('cat__waterpoint_type_group_communal standpipe', -0.018811893650890543),\n",
       " ('num__public_meeting', -0.017766641446320598),\n",
       " ('cat__extraction_type_class_submersible', -0.006685916896637567),\n",
       " ('cat__waterpoint_type_group_dam', 0.0020089193857028877),\n",
       " ('cat__basin_Pangani', 0.001273340200097901)]"
      ]
     },
     "execution_count": 223,
     "metadata": {},
     "output_type": "execute_result"
    }
   ],
   "source": [
    "sorted_columns"
   ]
  },
  {
   "cell_type": "code",
   "execution_count": null,
   "id": "9e5a5e80-ef87-46d6-8a70-c87bf49be6a8",
   "metadata": {},
   "outputs": [],
   "source": []
  }
 ],
 "metadata": {
  "kernelspec": {
   "display_name": "Python 3 (ipykernel)",
   "language": "python",
   "name": "python3"
  },
  "language_info": {
   "codemirror_mode": {
    "name": "ipython",
    "version": 3
   },
   "file_extension": ".py",
   "mimetype": "text/x-python",
   "name": "python",
   "nbconvert_exporter": "python",
   "pygments_lexer": "ipython3",
   "version": "3.9.16"
  }
 },
 "nbformat": 4,
 "nbformat_minor": 5
}
